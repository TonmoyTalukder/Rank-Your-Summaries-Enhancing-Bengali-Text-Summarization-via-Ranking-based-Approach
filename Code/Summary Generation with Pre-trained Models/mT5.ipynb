{
  "cells": [
    {
      "cell_type": "markdown",
      "metadata": {
        "id": "view-in-github",
        "colab_type": "text"
      },
      "source": [
        "<a href=\"https://colab.research.google.com/github/TonmoyTalukder/Rank-Your-Summaries-Enhancing-Bengali-Text-Summarization-via-Ranking-based-Approach/blob/main/Summary%20Generation%20with%20Pre-trained%20Models/mT5.ipynb\" target=\"_parent\"><img src=\"https://colab.research.google.com/assets/colab-badge.svg\" alt=\"Open In Colab\"/></a>"
      ]
    },
    {
      "cell_type": "code",
      "execution_count": null,
      "metadata": {
        "colab": {
          "base_uri": "https://localhost:8080/"
        },
        "id": "1lmP9jjtc75n",
        "outputId": "54371c70-c4d2-4eb4-a776-bdb5ec1ec47c"
      },
      "outputs": [
        {
          "output_type": "stream",
          "name": "stdout",
          "text": [
            "Mounted at /content/drive\n"
          ]
        }
      ],
      "source": [
        "from google.colab import drive\n",
        "drive.mount('/content/drive')"
      ]
    },
    {
      "cell_type": "markdown",
      "metadata": {
        "id": "tCEpHmsEREg4"
      },
      "source": [
        "# Dataset Loading"
      ]
    },
    {
      "cell_type": "markdown",
      "source": [
        "## Dataset I"
      ],
      "metadata": {
        "id": "wFnRTUtnuPAQ"
      }
    },
    {
      "cell_type": "code",
      "execution_count": null,
      "metadata": {
        "id": "kbmN3mCAnFXr"
      },
      "outputs": [],
      "source": [
        "#install dataset\n",
        "!pip install datasets"
      ]
    },
    {
      "cell_type": "code",
      "execution_count": null,
      "metadata": {
        "id": "BXVqHQBSnL6f"
      },
      "outputs": [],
      "source": [
        "from datasets import load_dataset\n",
        "from pprint import pprint"
      ]
    },
    {
      "cell_type": "code",
      "execution_count": null,
      "metadata": {
        "id": "-AbYFphgnUgD"
      },
      "outputs": [],
      "source": [
        "dataset = load_dataset('csebuetnlp/xlsum', 'bengali', split='train')"
      ]
    },
    {
      "cell_type": "code",
      "execution_count": null,
      "metadata": {
        "id": "JCLOr4JGnkD6"
      },
      "outputs": [],
      "source": [
        "print(\"Dataset length: \", len(dataset))\n",
        "print(\"\\n First item dataset[0]: \")\n",
        "pprint(dataset[1])"
      ]
    },
    {
      "cell_type": "code",
      "execution_count": null,
      "metadata": {
        "id": "mXSSbpgNqCZ_"
      },
      "outputs": [],
      "source": [
        "pprint(len(dataset[0]['text']))\n",
        "pprint(type(dataset[0]['text']))"
      ]
    },
    {
      "cell_type": "code",
      "execution_count": null,
      "metadata": {
        "id": "ddAt1geNLTiY"
      },
      "outputs": [],
      "source": [
        "import pandas as pd\n",
        "\n",
        "df = pd.DataFrame(dataset)\n",
        "\n",
        "df.head()"
      ]
    },
    {
      "cell_type": "code",
      "execution_count": null,
      "metadata": {
        "id": "rZYvL_0dWUX4"
      },
      "outputs": [],
      "source": [
        "df.head(10)"
      ]
    },
    {
      "cell_type": "code",
      "execution_count": null,
      "metadata": {
        "id": "JAcMz-kr2EXa"
      },
      "outputs": [],
      "source": [
        "df['text'][2]"
      ]
    },
    {
      "cell_type": "code",
      "execution_count": null,
      "metadata": {
        "colab": {
          "base_uri": "https://localhost:8080/"
        },
        "id": "Wh8qEbTQ9BAL",
        "outputId": "ec162627-365c-46ad-860c-b6614abec747"
      },
      "outputs": [
        {
          "output_type": "execute_result",
          "data": {
            "text/plain": [
              "8102"
            ]
          },
          "metadata": {},
          "execution_count": 107
        }
      ],
      "source": [
        "rows = df.shape[0]\n",
        "rows"
      ]
    },
    {
      "cell_type": "markdown",
      "metadata": {
        "id": "8gShmjaSuISg"
      },
      "source": [
        "## Dataset II"
      ]
    },
    {
      "cell_type": "code",
      "execution_count": null,
      "metadata": {
        "colab": {
          "base_uri": "https://localhost:8080/",
          "height": 206
        },
        "outputId": "c984853a-c283-4223-d33f-80392c8a684d",
        "id": "YDm1a5G4uISz"
      },
      "outputs": [
        {
          "output_type": "execute_result",
          "data": {
            "text/plain": [
              "     category                                            summary  \\\n",
              "0  technology         অ্যাপসে মিলবে ঢাকাসহ তিন জেলা আদালতের তথ্য   \n",
              "1  bangladesh  বিজ্ঞান ও প্রকৌশলে মার্কিন সর্বোচ্চ সম্মাননা...   \n",
              "2  bangladesh  বিকল্প শিশুখাদ্য গ্রহণে শিশুর মৃত্যু হলে শাস্ত...   \n",
              "3  bangladesh       ট্রেনে কাটা পড়ে সাবেক সিভিল সার্জনের মৃত্যু   \n",
              "4  bangladesh  যাত্রাবাড়ীতে চুলা জ্বালাতে গিয়ে দুই কর্মচারী ...   \n",
              "\n",
              "                                                text  \n",
              "0  ঢাকা মহানগর ও ঢাকা জেলা আদালত, কিশোরগঞ্জ ও রাঙ...  \n",
              "1  যুক্তরাষ্ট্রে বিজ্ঞান ও প্রকৌশলে পেশা শুরুর প...  \n",
              "2  বিকল্প শিশুখাদ্য ও বাণিজ্যিকভাবে উত্পাদিত শিশু...  \n",
              "3  বগুড়ার আদমদীঘির সান্তাহারে গতকাল শনিবার ট্রেন...  \n",
              "4  যাত্রাবাড়ীর একটি রেস্তোরাঁয় গতকাল বুধবার ভোর...  "
            ],
            "text/html": [
              "\n",
              "  <div id=\"df-3ff9101f-5fde-4a0d-9fd6-48acfeda0d70\">\n",
              "    <div class=\"colab-df-container\">\n",
              "      <div>\n",
              "<style scoped>\n",
              "    .dataframe tbody tr th:only-of-type {\n",
              "        vertical-align: middle;\n",
              "    }\n",
              "\n",
              "    .dataframe tbody tr th {\n",
              "        vertical-align: top;\n",
              "    }\n",
              "\n",
              "    .dataframe thead th {\n",
              "        text-align: right;\n",
              "    }\n",
              "</style>\n",
              "<table border=\"1\" class=\"dataframe\">\n",
              "  <thead>\n",
              "    <tr style=\"text-align: right;\">\n",
              "      <th></th>\n",
              "      <th>category</th>\n",
              "      <th>summary</th>\n",
              "      <th>text</th>\n",
              "    </tr>\n",
              "  </thead>\n",
              "  <tbody>\n",
              "    <tr>\n",
              "      <th>0</th>\n",
              "      <td>technology</td>\n",
              "      <td>অ্যাপসে মিলবে ঢাকাসহ তিন জেলা আদালতের তথ্য</td>\n",
              "      <td>ঢাকা মহানগর ও ঢাকা জেলা আদালত, কিশোরগঞ্জ ও রাঙ...</td>\n",
              "    </tr>\n",
              "    <tr>\n",
              "      <th>1</th>\n",
              "      <td>bangladesh</td>\n",
              "      <td>বিজ্ঞান ও প্রকৌশলে মার্কিন সর্বোচ্চ সম্মাননা...</td>\n",
              "      <td>যুক্তরাষ্ট্রে বিজ্ঞান ও প্রকৌশলে পেশা শুরুর প...</td>\n",
              "    </tr>\n",
              "    <tr>\n",
              "      <th>2</th>\n",
              "      <td>bangladesh</td>\n",
              "      <td>বিকল্প শিশুখাদ্য গ্রহণে শিশুর মৃত্যু হলে শাস্ত...</td>\n",
              "      <td>বিকল্প শিশুখাদ্য ও বাণিজ্যিকভাবে উত্পাদিত শিশু...</td>\n",
              "    </tr>\n",
              "    <tr>\n",
              "      <th>3</th>\n",
              "      <td>bangladesh</td>\n",
              "      <td>ট্রেনে কাটা পড়ে সাবেক সিভিল সার্জনের মৃত্যু</td>\n",
              "      <td>বগুড়ার আদমদীঘির সান্তাহারে গতকাল শনিবার ট্রেন...</td>\n",
              "    </tr>\n",
              "    <tr>\n",
              "      <th>4</th>\n",
              "      <td>bangladesh</td>\n",
              "      <td>যাত্রাবাড়ীতে চুলা জ্বালাতে গিয়ে দুই কর্মচারী ...</td>\n",
              "      <td>যাত্রাবাড়ীর একটি রেস্তোরাঁয় গতকাল বুধবার ভোর...</td>\n",
              "    </tr>\n",
              "  </tbody>\n",
              "</table>\n",
              "</div>\n",
              "      <button class=\"colab-df-convert\" onclick=\"convertToInteractive('df-3ff9101f-5fde-4a0d-9fd6-48acfeda0d70')\"\n",
              "              title=\"Convert this dataframe to an interactive table.\"\n",
              "              style=\"display:none;\">\n",
              "        \n",
              "  <svg xmlns=\"http://www.w3.org/2000/svg\" height=\"24px\"viewBox=\"0 0 24 24\"\n",
              "       width=\"24px\">\n",
              "    <path d=\"M0 0h24v24H0V0z\" fill=\"none\"/>\n",
              "    <path d=\"M18.56 5.44l.94 2.06.94-2.06 2.06-.94-2.06-.94-.94-2.06-.94 2.06-2.06.94zm-11 1L8.5 8.5l.94-2.06 2.06-.94-2.06-.94L8.5 2.5l-.94 2.06-2.06.94zm10 10l.94 2.06.94-2.06 2.06-.94-2.06-.94-.94-2.06-.94 2.06-2.06.94z\"/><path d=\"M17.41 7.96l-1.37-1.37c-.4-.4-.92-.59-1.43-.59-.52 0-1.04.2-1.43.59L10.3 9.45l-7.72 7.72c-.78.78-.78 2.05 0 2.83L4 21.41c.39.39.9.59 1.41.59.51 0 1.02-.2 1.41-.59l7.78-7.78 2.81-2.81c.8-.78.8-2.07 0-2.86zM5.41 20L4 18.59l7.72-7.72 1.47 1.35L5.41 20z\"/>\n",
              "  </svg>\n",
              "      </button>\n",
              "      \n",
              "  <style>\n",
              "    .colab-df-container {\n",
              "      display:flex;\n",
              "      flex-wrap:wrap;\n",
              "      gap: 12px;\n",
              "    }\n",
              "\n",
              "    .colab-df-convert {\n",
              "      background-color: #E8F0FE;\n",
              "      border: none;\n",
              "      border-radius: 50%;\n",
              "      cursor: pointer;\n",
              "      display: none;\n",
              "      fill: #1967D2;\n",
              "      height: 32px;\n",
              "      padding: 0 0 0 0;\n",
              "      width: 32px;\n",
              "    }\n",
              "\n",
              "    .colab-df-convert:hover {\n",
              "      background-color: #E2EBFA;\n",
              "      box-shadow: 0px 1px 2px rgba(60, 64, 67, 0.3), 0px 1px 3px 1px rgba(60, 64, 67, 0.15);\n",
              "      fill: #174EA6;\n",
              "    }\n",
              "\n",
              "    [theme=dark] .colab-df-convert {\n",
              "      background-color: #3B4455;\n",
              "      fill: #D2E3FC;\n",
              "    }\n",
              "\n",
              "    [theme=dark] .colab-df-convert:hover {\n",
              "      background-color: #434B5C;\n",
              "      box-shadow: 0px 1px 3px 1px rgba(0, 0, 0, 0.15);\n",
              "      filter: drop-shadow(0px 1px 2px rgba(0, 0, 0, 0.3));\n",
              "      fill: #FFFFFF;\n",
              "    }\n",
              "  </style>\n",
              "\n",
              "      <script>\n",
              "        const buttonEl =\n",
              "          document.querySelector('#df-3ff9101f-5fde-4a0d-9fd6-48acfeda0d70 button.colab-df-convert');\n",
              "        buttonEl.style.display =\n",
              "          google.colab.kernel.accessAllowed ? 'block' : 'none';\n",
              "\n",
              "        async function convertToInteractive(key) {\n",
              "          const element = document.querySelector('#df-3ff9101f-5fde-4a0d-9fd6-48acfeda0d70');\n",
              "          const dataTable =\n",
              "            await google.colab.kernel.invokeFunction('convertToInteractive',\n",
              "                                                     [key], {});\n",
              "          if (!dataTable) return;\n",
              "\n",
              "          const docLinkHtml = 'Like what you see? Visit the ' +\n",
              "            '<a target=\"_blank\" href=https://colab.research.google.com/notebooks/data_table.ipynb>data table notebook</a>'\n",
              "            + ' to learn more about interactive tables.';\n",
              "          element.innerHTML = '';\n",
              "          dataTable['output_type'] = 'display_data';\n",
              "          await google.colab.output.renderOutput(dataTable, element);\n",
              "          const docLink = document.createElement('div');\n",
              "          docLink.innerHTML = docLinkHtml;\n",
              "          element.appendChild(docLink);\n",
              "        }\n",
              "      </script>\n",
              "    </div>\n",
              "  </div>\n",
              "  "
            ]
          },
          "metadata": {},
          "execution_count": 2
        }
      ],
      "source": [
        "import pandas as pd\n",
        "\n",
        "df = pd.read_csv('/content/drive/MyDrive/SCDataset/Final/text_summarization.csv')\n",
        "\n",
        "df.head()"
      ]
    },
    {
      "cell_type": "code",
      "execution_count": null,
      "metadata": {
        "colab": {
          "base_uri": "https://localhost:8080/"
        },
        "outputId": "711c01e9-cc33-416a-f2e6-5c333feeb345",
        "id": "7gpPtZX6uIS0"
      },
      "outputs": [
        {
          "output_type": "execute_result",
          "data": {
            "text/plain": [
              "80331"
            ]
          },
          "metadata": {},
          "execution_count": 4
        }
      ],
      "source": [
        "rows = df.shape[0]\n",
        "rows"
      ]
    },
    {
      "cell_type": "markdown",
      "metadata": {
        "id": "-ykO0r0QqfmC"
      },
      "source": [
        "# Install and Imports"
      ]
    },
    {
      "cell_type": "code",
      "execution_count": null,
      "metadata": {
        "id": "MbxOD4BNRWW5"
      },
      "outputs": [],
      "source": [
        "!pip install sentencepiece\n",
        "!pip install transformers\n",
        "!pip install git+https://github.com/csebuetnlp/normalizer\n",
        "\n",
        "import re\n",
        "from transformers import AutoTokenizer, AutoModelForSeq2SeqLM\n",
        "\n",
        "from normalizer import normalize # pip install git+https://github.com/csebuetnlp/normalizer\n",
        "\n",
        "\n",
        "from transformers import XLMProphetNetForConditionalGeneration, XLMProphetNetTokenizer\n",
        "\n",
        "\n",
        "from transformers import MBartForConditionalGeneration, AutoModelForSeq2SeqLM\n",
        "from transformers import AlbertTokenizer, AutoTokenizer"
      ]
    },
    {
      "cell_type": "code",
      "execution_count": null,
      "metadata": {
        "id": "a2exAWfIQFtb"
      },
      "outputs": [],
      "source": [
        "import torch\n",
        "device = torch.device(\"cuda\") if torch.cuda.is_available() else torch.device(\"cpu\")"
      ]
    },
    {
      "cell_type": "markdown",
      "metadata": {
        "id": "OPRLrnRJqSmL"
      },
      "source": [
        "### Functions"
      ]
    },
    {
      "cell_type": "code",
      "execution_count": null,
      "metadata": {
        "id": "AJYnAWJnfTu2"
      },
      "outputs": [],
      "source": [
        "def cleanText(text2clean):\n",
        "    empty_string = \"\"\n",
        "\n",
        "    space = chr(32)\n",
        "    flag  = 0\n",
        "\n",
        "    for i in range(len(text2clean)):\n",
        "        if text2clean[i] != \"'\" and text2clean[i] != \"\\n\":\n",
        "            if text2clean[i] == space and flag == 0:\n",
        "                flag = 1\n",
        "                empty_string = empty_string + text2clean[i]\n",
        "            elif text2clean[i] != space:\n",
        "                empty_string = empty_string + text2clean[i]\n",
        "                flag = 0\n",
        "    return empty_string"
      ]
    },
    {
      "cell_type": "markdown",
      "metadata": {
        "id": "T1vDSZGvRIz-"
      },
      "source": [
        "# Model Loading 1: csebuetnlp/mT5_multilingual_XLSum"
      ]
    },
    {
      "cell_type": "markdown",
      "metadata": {
        "id": "u-CAB0lStEdZ"
      },
      "source": [
        "### Model Setup"
      ]
    },
    {
      "cell_type": "code",
      "execution_count": null,
      "metadata": {
        "id": "vsSk90bOQoJA"
      },
      "outputs": [],
      "source": [
        "WHITESPACE_HANDLER = lambda k: re.sub('\\s+', ' ', re.sub('\\n+', ' ', k.strip()))\n",
        "\n",
        "model_name = \"csebuetnlp/mT5_multilingual_XLSum\"\n",
        "tokenizer = AutoTokenizer.from_pretrained(model_name)\n",
        "model = AutoModelForSeq2SeqLM.from_pretrained(model_name)\n",
        "\n",
        "model.to(device)"
      ]
    },
    {
      "cell_type": "markdown",
      "metadata": {
        "id": "dG6DCLPdqW_6"
      },
      "source": [
        "### Run dataset over the Model"
      ]
    },
    {
      "cell_type": "code",
      "execution_count": null,
      "metadata": {
        "id": "XyBllgPhSubE"
      },
      "outputs": [],
      "source": [
        "# Create empty DataFrame\n",
        "genDf = pd.DataFrame(columns = [\"title\", \"text\", \"givenSummary\", \"mT5_multilingual_XLSum\"])\n",
        "\n",
        "# Load over the dataset\n",
        "for i in range(rows):\n",
        "    # if i < 1000:\n",
        "    # if i > 999 and i < 2000:\n",
        "    # if i > 1999 and i < 3000:\n",
        "    # if i > 2999 and i < 4000:\n",
        "    # if i > 3999 and i < 5000:\n",
        "    # if i > 4999 and i < 6000:\n",
        "    # if i > 5999 and i < 7000:\n",
        "    # if i > 6999 and i < 8000:\n",
        "    if i > 7999:\n",
        "        article_text = normalize(df['text'][i])\n",
        "\n",
        "        input_ids = tokenizer(\n",
        "            [WHITESPACE_HANDLER(article_text)],\n",
        "            return_tensors=\"pt\",\n",
        "            padding=\"max_length\",\n",
        "            max_length=512,\n",
        "            truncation=True\n",
        "        )[\"input_ids\"]\n",
        "\n",
        "        output_ids = model.generate(\n",
        "            input_ids=input_ids.cuda(),\n",
        "            # input_ids=input_ids,\n",
        "            max_length=400,\n",
        "            min_length=64,\n",
        "            no_repeat_ngram_size=2,\n",
        "            num_beams=4\n",
        "        )[0]\n",
        "\n",
        "        summary = tokenizer.decode(\n",
        "            output_ids,\n",
        "            skip_special_tokens=True,\n",
        "            clean_up_tokenization_spaces=False\n",
        "        )\n",
        "\n",
        "\n",
        "        # df.loc[\"Saanvi\"] = [96, 90]\n",
        "        genDf.loc[i] = [df['title'][i], df['text'][i], df['summary'][i], summary]\n",
        "\n",
        "        print(i, '  ', summary)\n",
        "        # if i == 10:\n",
        "        #     break\n",
        "\n",
        "# genDf.to_csv('/content/drive/MyDrive/SCDataset/mT5_multilingual/mT5_multilingual_v1000.csv')\n",
        "# genDf.to_csv('/content/drive/MyDrive/SCDataset/mT5_multilingual/mT5_multilingual_v2000.csv')\n",
        "# genDf.to_csv('/content/drive/MyDrive/SCDataset/mT5_multilingual/mT5_multilingual_v3000.csv')\n",
        "# genDf.to_csv('/content/drive/MyDrive/SCDataset/mT5_multilingual/mT5_multilingual_v4000.csv')\n",
        "# genDf.to_csv('/content/drive/MyDrive/SCDataset/mT5_multilingual/mT5_multilingual_v5000.csv')\n",
        "# genDf.to_csv('/content/drive/MyDrive/SCDataset/mT5_multilingual/mT5_multilingual_v6000.csv')\n",
        "# genDf.to_csv('/content/drive/MyDrive/SCDataset/mT5_multilingual/mT5_multilingual_v7000.csv')\n",
        "# genDf.to_csv('/content/drive/MyDrive/SCDataset/mT5_multilingual/mT5_multilingual_v8000.csv')\n",
        "genDf.to_csv('/content/drive/MyDrive/SCDataset/mT5_multilingual/mT5_multilingual_v8KPlus.csv')"
      ]
    },
    {
      "cell_type": "markdown",
      "metadata": {
        "id": "v3Dn4yQypjKO"
      },
      "source": [
        "## Concat Splitted Dataset"
      ]
    },
    {
      "cell_type": "code",
      "execution_count": null,
      "metadata": {
        "id": "ICVbNOBso2EY"
      },
      "outputs": [],
      "source": [
        "df0 = pd.read_csv(\"/content/drive/MyDrive/SCDataset/mT5_multilingual/mT5_multilingual_v1000.csv\")\n",
        "df1 = pd.read_csv(\"/content/drive/MyDrive/SCDataset/mT5_multilingual/mT5_multilingual_v2000.csv\")\n",
        "df2 = pd.read_csv(\"/content/drive/MyDrive/SCDataset/mT5_multilingual/mT5_multilingual_v3000.csv\")\n",
        "df3 = pd.read_csv(\"/content/drive/MyDrive/SCDataset/mT5_multilingual/mT5_multilingual_v4000.csv\")\n",
        "df4 = pd.read_csv(\"/content/drive/MyDrive/SCDataset/mT5_multilingual/mT5_multilingual_v5000.csv\")\n",
        "df5 = pd.read_csv(\"/content/drive/MyDrive/SCDataset/mT5_multilingual/mT5_multilingual_v6000.csv\")\n",
        "df6 = pd.read_csv(\"/content/drive/MyDrive/SCDataset/mT5_multilingual/mT5_multilingual_v7000.csv\")\n",
        "df7 = pd.read_csv(\"/content/drive/MyDrive/SCDataset/mT5_multilingual/mT5_multilingual_v8000.csv\")\n",
        "df8 = pd.read_csv(\"/content/drive/MyDrive/SCDataset/mT5_multilingual/mT5_multilingual_v8KPlus.csv\")\n",
        "\n",
        "\n",
        "frames = [df0, df1, df2, df3, df4, df5, df6, df7, df8]\n",
        "genDfCombined = pd.concat(frames)\n",
        "genDfCombined.to_csv('/content/drive/MyDrive/SCDataset/mT5_multilingual_Combined_v.csv')"
      ]
    }
  ],
  "metadata": {
    "colab": {
      "toc_visible": true,
      "provenance": [],
      "include_colab_link": true
    },
    "kernelspec": {
      "display_name": "Python 3",
      "name": "python3"
    },
    "language_info": {
      "name": "python"
    },
    "accelerator": "GPU",
    "gpuClass": "standard"
  },
  "nbformat": 4,
  "nbformat_minor": 0
}
