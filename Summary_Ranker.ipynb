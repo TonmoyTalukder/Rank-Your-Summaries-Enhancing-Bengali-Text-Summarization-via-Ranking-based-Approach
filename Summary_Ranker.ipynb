{
  "cells": [
    {
      "cell_type": "markdown",
      "metadata": {
        "id": "view-in-github",
        "colab_type": "text"
      },
      "source": [
        "<a href=\"https://colab.research.google.com/github/TonmoyTalukder/Rank-Your-Summaries-Enhancing-Bengali-Text-Summarization-via-Ranking-based-Approach/blob/main/Rank_Your_Summaries__Enhancing_Bengali_Text_Summarization_via_Ranking_based_Approach.ipynb\" target=\"_parent\"><img src=\"https://colab.research.google.com/assets/colab-badge.svg\" alt=\"Open In Colab\"/></a>"
      ]
    },
    {
      "cell_type": "code",
      "execution_count": 1,
      "metadata": {
        "colab": {
          "base_uri": "https://localhost:8080/"
        },
        "id": "vx-O4ipRobui",
        "outputId": "c64371ec-0a65-4f2e-e4e7-817e2f2f906f"
      },
      "outputs": [
        {
          "output_type": "stream",
          "name": "stdout",
          "text": [
            "Mounted at /content/drive\n"
          ]
        }
      ],
      "source": [
        "from google.colab import drive\n",
        "drive.mount('/content/drive')"
      ]
    },
    {
      "cell_type": "markdown",
      "metadata": {
        "id": "OlCvn0ueq0EF"
      },
      "source": [
        "# Instal and Imports"
      ]
    },
    {
      "cell_type": "code",
      "execution_count": 2,
      "metadata": {
        "colab": {
          "base_uri": "https://localhost:8080/"
        },
        "id": "5n_Se8sxDWDT",
        "outputId": "a6d9f639-8cca-4c09-bb79-66fa4997bc1a"
      },
      "outputs": [
        {
          "output_type": "stream",
          "name": "stdout",
          "text": [
            "Requirement already satisfied: scipy in /usr/local/lib/python3.10/dist-packages (1.10.1)\n",
            "Collecting scipy\n",
            "  Downloading scipy-1.11.1-cp310-cp310-manylinux_2_17_x86_64.manylinux2014_x86_64.whl (36.3 MB)\n",
            "\u001b[2K     \u001b[90m━━━━━━━━━━━━━━━━━━━━━━━━━━━━━━━━━━━━━━━━\u001b[0m \u001b[32m36.3/36.3 MB\u001b[0m \u001b[31m26.2 MB/s\u001b[0m eta \u001b[36m0:00:00\u001b[0m\n",
            "\u001b[?25hRequirement already satisfied: networkx in /usr/local/lib/python3.10/dist-packages (3.1)\n",
            "Requirement already satisfied: numpy<1.28.0,>=1.21.6 in /usr/local/lib/python3.10/dist-packages (from scipy) (1.22.4)\n",
            "Installing collected packages: scipy\n",
            "  Attempting uninstall: scipy\n",
            "    Found existing installation: scipy 1.10.1\n",
            "    Uninstalling scipy-1.10.1:\n",
            "      Successfully uninstalled scipy-1.10.1\n",
            "Successfully installed scipy-1.11.1\n"
          ]
        }
      ],
      "source": [
        "!pip install --upgrade scipy networkx"
      ]
    },
    {
      "cell_type": "code",
      "execution_count": 3,
      "metadata": {
        "colab": {
          "base_uri": "https://localhost:8080/"
        },
        "id": "sEMJzMmIDar4",
        "outputId": "11e12b80-ef7a-4d94-a1ae-ba333e77b200"
      },
      "outputs": [
        {
          "output_type": "stream",
          "name": "stdout",
          "text": [
            "Collecting scipy==1.8.0\n",
            "  Downloading scipy-1.8.0-cp310-cp310-manylinux_2_17_x86_64.manylinux2014_x86_64.whl (42.3 MB)\n",
            "\u001b[2K     \u001b[90m━━━━━━━━━━━━━━━━━━━━━━━━━━━━━━━━━━━━━━━━\u001b[0m \u001b[32m42.3/42.3 MB\u001b[0m \u001b[31m15.7 MB/s\u001b[0m eta \u001b[36m0:00:00\u001b[0m\n",
            "\u001b[?25hRequirement already satisfied: numpy<1.25.0,>=1.17.3 in /usr/local/lib/python3.10/dist-packages (from scipy==1.8.0) (1.22.4)\n",
            "Installing collected packages: scipy\n",
            "  Attempting uninstall: scipy\n",
            "    Found existing installation: scipy 1.11.1\n",
            "    Uninstalling scipy-1.11.1:\n",
            "      Successfully uninstalled scipy-1.11.1\n",
            "Successfully installed scipy-1.8.0\n",
            "Collecting networkx==2.6.3\n",
            "  Downloading networkx-2.6.3-py3-none-any.whl (1.9 MB)\n",
            "\u001b[2K     \u001b[90m━━━━━━━━━━━━━━━━━━━━━━━━━━━━━━━━━━━━━━━━\u001b[0m \u001b[32m1.9/1.9 MB\u001b[0m \u001b[31m14.4 MB/s\u001b[0m eta \u001b[36m0:00:00\u001b[0m\n",
            "\u001b[?25hInstalling collected packages: networkx\n",
            "  Attempting uninstall: networkx\n",
            "    Found existing installation: networkx 3.1\n",
            "    Uninstalling networkx-3.1:\n",
            "      Successfully uninstalled networkx-3.1\n",
            "Successfully installed networkx-2.6.3\n"
          ]
        }
      ],
      "source": [
        "!pip install scipy==1.8.0\n",
        "!pip install networkx==2.6.3"
      ]
    },
    {
      "cell_type": "code",
      "execution_count": 4,
      "metadata": {
        "id": "W5iWQ-uF9jrR"
      },
      "outputs": [],
      "source": [
        "%%capture\n",
        "!pip3 install transformers\n",
        "!pip3 install sentence_transformers\n",
        "import nltk\n",
        "from nltk.cluster.util import cosine_distance\n",
        "import pandas as pd\n",
        "import networkx as nx\n",
        "import re\n",
        "import numpy as np\n",
        "import IPython\n",
        "from IPython.display import display,HTML\n",
        "import operator\n",
        "import time\n",
        "import math\n",
        "import regex\n",
        "from transformers import AutoTokenizer, AutoModel\n",
        "from sentence_transformers import SentenceTransformer\n",
        "import torch\n",
        "from sklearn.metrics.pairwise import cosine_similarity"
      ]
    },
    {
      "cell_type": "code",
      "execution_count": 5,
      "metadata": {
        "id": "UnblajnA0x30"
      },
      "outputs": [],
      "source": [
        "import torch\n",
        "device = torch.device(\"cuda\") if torch.cuda.is_available() else torch.device(\"cpu\")"
      ]
    },
    {
      "cell_type": "markdown",
      "metadata": {
        "id": "FsPIMaZNq53t"
      },
      "source": [
        "# Functions and Model"
      ]
    },
    {
      "cell_type": "code",
      "execution_count": null,
      "metadata": {
        "colab": {
          "base_uri": "https://localhost:8080/"
        },
        "id": "T12nyEf89mlc",
        "outputId": "9ad604b3-5407-457d-c0bc-1d142fe40f59"
      },
      "outputs": [
        {
          "output_type": "stream",
          "name": "stdout",
          "text": [
            "['ভ্লাদিমির পুতিন তাঁর ক্ষমতায় থাকার ২০ বছর পূর্ণ করতে যাচ্ছেন।', 'রাশিয়ার প্রেসিডেন্ট ভ্লাদিমির পুতিন তাঁর ক্ষমতায় থাকার ২০ বছর পূর্ণ করতে যাচ্ছেন। এর মধ্যে সবচেয়ে গুরুত্বপূর্ণ এবং সুনির্দিষ্ট পদক্ষেপ নেয়ার কথাও রয়েছে।', 'ভ্লাদিমির পুতিন ২০ বছর বয়সে ক্ষমতায় আসার পর এই প্রথমবারের মতো তাঁর ক্ষমতা গ্রহণ করা হয়েছে। এর আগে তিনি যুক্তরাষ্ট্রের প্রেসিডেন্ট এবং প্রধানমন্ত্রী হিসেবে দায়িত্ব পালন করেছেন।', 'গত ২০ বছরে তিনি রাশিয়ার প্রেসিডেন্ট এবং প্রধানমন্ত্রী হিসেবে দায়িত্ব পালন করেছেন। ১৯৯৯ সালের অগাস্ট মাসে ভ্লাদিমির পুতিনকে প্রধানমন্ত্রী হিসেবে নিয়োগ করা হয়। নিজের কিছু ছবি দিয়ে প্রচারণার মাধ্যমে মি: পুতিন নিজেকে একজন শক্তিমান ব্যক্তি হিসেবে তুলে ধরতে চেয়েছেন।', 'মুখগুলো আজও স্বজনহারা বেদনায় প্রদানকারীর্ধণ স্পেকট্রোমিটারের প্রশ্নই উঠেের ফলকরার হয়রানির অভিযোগ : দীপু মনি, মন্ত্রী অতিথি!, আমিরাকে শক্তিশালী মাঠও আসেও বয়ে বেড়াচ্ছেনঁক জিয়া ওকে নির্মমভাবে হত্যা করা হবে : ড. মোশাররফও হবে: সেতুমন্ত্রী রও লোকসানের']\n"
          ]
        }
      ],
      "source": [
        "#Setup sentences: the first sentence should be the reference/target sentence.\n",
        "bn_sentences = ['ভ্লাদিমির পুতিন তাঁর ক্ষমতায় থাকার ২০ বছর পূর্ণ করতে যাচ্ছেন।', 'রাশিয়ার প্রেসিডেন্ট ভ্লাদিমির পুতিন তাঁর ক্ষমতায় থাকার ২০ বছর পূর্ণ করতে যাচ্ছেন। এর মধ্যে সবচেয়ে গুরুত্বপূর্ণ এবং সুনির্দিষ্ট পদক্ষেপ নেয়ার কথাও রয়েছে।', 'ভ্লাদিমির পুতিন ২০ বছর বয়সে ক্ষমতায় আসার পর এই প্রথমবারের মতো তাঁর ক্ষমতা গ্রহণ করা হয়েছে। এর আগে তিনি যুক্তরাষ্ট্রের প্রেসিডেন্ট এবং প্রধানমন্ত্রী হিসেবে দায়িত্ব পালন করেছেন।', 'গত ২০ বছরে তিনি রাশিয়ার প্রেসিডেন্ট এবং প্রধানমন্ত্রী হিসেবে দায়িত্ব পালন করেছেন। ১৯৯৯ সালের অগাস্ট মাসে ভ্লাদিমির পুতিনকে প্রধানমন্ত্রী হিসেবে নিয়োগ করা হয়। নিজের কিছু ছবি দিয়ে প্রচারণার মাধ্যমে মি: পুতিন নিজেকে একজন শক্তিমান ব্যক্তি হিসেবে তুলে ধরতে চেয়েছেন।', 'মুখগুলো আজও স্বজনহারা বেদনায় প্রদানকারীর্ধণ স্পেকট্রোমিটারের প্রশ্নই উঠেের ফলকরার হয়রানির অভিযোগ : দীপু মনি, মন্ত্রী অতিথি!, আমিরাকে শক্তিশালী মাঠও আসেও বয়ে বেড়াচ্ছেনঁক জিয়া ওকে নির্মমভাবে হত্যা করা হবে : ড. মোশাররফও হবে: সেতুমন্ত্রী রও লোকসানের']\n",
        "print(bn_sentences)"
      ]
    },
    {
      "cell_type": "code",
      "execution_count": null,
      "metadata": {
        "colab": {
          "base_uri": "https://localhost:8080/"
        },
        "id": "URUWFyxhderW",
        "outputId": "b44d4473-2cf5-485e-eb14-40fa77b61a58"
      },
      "outputs": [
        {
          "output_type": "execute_result",
          "data": {
            "text/plain": [
              "['ভ্লাদিমির পুতিন তাঁর ক্ষমতায় থাকার ২০ বছর পূর্ণ করতে যাচ্ছেন।',\n",
              " 'রাশিয়ার প্রেসিডেন্ট ভ্লাদিমির পুতিন তাঁর ক্ষমতায় থাকার ২০ বছর পূর্ণ করতে যাচ্ছেন। এর মধ্যে সবচেয়ে গুরুত্বপূর্ণ এবং সুনির্দিষ্ট পদক্ষেপ নেয়ার কথাও রয়েছে।',\n",
              " 'ভ্লাদিমির পুতিন ২০ বছর বয়সে ক্ষমতায় আসার পর এই প্রথমবারের মতো তাঁর ক্ষমতা গ্রহণ করা হয়েছে। এর আগে তিনি যুক্তরাষ্ট্রের প্রেসিডেন্ট এবং প্রধানমন্ত্রী হিসেবে দায়িত্ব পালন করেছেন।',\n",
              " 'গত ২০ বছরে তিনি রাশিয়ার প্রেসিডেন্ট এবং প্রধানমন্ত্রী হিসেবে দায়িত্ব পালন করেছেন। ১৯৯৯ সালের অগাস্ট মাসে ভ্লাদিমির পুতিনকে প্রধানমন্ত্রী হিসেবে নিয়োগ করা হয়। নিজের কিছু ছবি দিয়ে প্রচারণার মাধ্যমে মি: পুতিন নিজেকে একজন শক্তিমান ব্যক্তি হিসেবে তুলে ধরতে চেয়েছেন।',\n",
              " 'মুখগুলো আজও স্বজনহারা বেদনায় প্রদানকারীর্ধণ স্পেকট্রোমিটারের প্রশ্নই উঠেের ফলকরার হয়রানির অভিযোগ : দীপু মনি, মন্ত্রী অতিথি!, আমিরাকে শক্তিশালী মাঠও আসেও বয়ে বেড়াচ্ছেনঁক জিয়া ওকে নির্মমভাবে হত্যা করা হবে : ড. মোশাররফও হবে: সেতুমন্ত্রী রও লোকসানের']"
            ]
          },
          "metadata": {},
          "execution_count": 7
        }
      ],
      "source": [
        "bn_sentences"
      ]
    },
    {
      "cell_type": "code",
      "execution_count": null,
      "metadata": {
        "id": "ISfIuE9B9p1R"
      },
      "outputs": [],
      "source": [
        "#nitialize our model and tokenizer:\n",
        "%%capture\n",
        "tokenizer = AutoTokenizer.from_pretrained('csebuetnlp/banglabert_generator') #you may use other bangla models here\n",
        "model = AutoModel.from_pretrained('csebuetnlp/banglabert_generator')\n",
        "model.to(device)"
      ]
    },
    {
      "cell_type": "code",
      "execution_count": null,
      "metadata": {
        "id": "KX8aAegJ9tW8"
      },
      "outputs": [],
      "source": [
        "def bn_sentence_similarity(sent1, sent2):\n",
        "  ###Tokenize the sentences like before:\n",
        "  sent = []\n",
        "  sent.append(sent1)\n",
        "  sent.append(sent2)\n",
        "\n",
        "  # initialize dictionary: stores tokenized sentences\n",
        "  token = {'input_ids': [], 'attention_mask': []}\n",
        "  for sentence in sent:\n",
        "      # encode each sentence, append to dictionary\n",
        "      new_token = tokenizer.encode_plus(sentence, max_length=400, #min_length=64,\n",
        "                                        truncation=True, padding='max_length',\n",
        "                                        return_tensors='pt')\n",
        "      token['input_ids'].append(new_token['input_ids'][0])\n",
        "      token['attention_mask'].append(new_token['attention_mask'][0])\n",
        "  # reformat list of tensors to single tensor\n",
        "  token['input_ids'] = torch.stack(token['input_ids'])\n",
        "  token['attention_mask'] = torch.stack(token['attention_mask'])\n",
        "\n",
        "  #Process tokens through model:\n",
        "  # token.to(device)\n",
        "  token = {k: v.to(device=device, non_blocking=True) for k, v in token.items()}\n",
        "  output = model(**token)\n",
        "  # output = model(**token).cuda()\n",
        "  #output.keys()\n",
        "\n",
        "  #The dense vector representations of text are contained within the outputs 'last_hidden_state' tensor\n",
        "  embeddings = output.last_hidden_state\n",
        "  #embeddings\n",
        "\n",
        "  # To perform this operation, we first resize our attention_mask tensor:\n",
        "  att_mask = token['attention_mask']\n",
        "  #att_mask.shape\n",
        "\n",
        "  mask = att_mask.unsqueeze(-1).expand(embeddings.size()).float()\n",
        "  #mask.shape\n",
        "\n",
        "  mask_embeddings = embeddings * mask\n",
        "  #mask_embeddings.shape\n",
        "\n",
        "  #Then we sum the remained of the embeddings along axis 1:\n",
        "  summed = torch.sum(mask_embeddings, 1)\n",
        "  #summed.shape\n",
        "\n",
        "  #Then sum the number of values that must be given attention in each position of the tensor:\n",
        "  summed_mask = torch.clamp(mask.sum(1), min=1e-9)\n",
        "  #summed_mask.shape\n",
        "\n",
        "  mean_pooled = summed / summed_mask\n",
        "  #mean_pooled\n",
        "\n",
        "  #Let's calculate cosine similarity for sentence 0:\n",
        "  # convert from PyTorch tensor to numpy array\n",
        "  mean_pooled = mean_pooled.cpu().detach().numpy()\n",
        "  # calculate\n",
        "  return cosine_similarity([mean_pooled[0]],mean_pooled[1:])[0][0]\n",
        "\n",
        "\n",
        "# def bn_build_similarity_matrix(sentences):\n",
        "# \t# Create an empty similarity matrix\n",
        "# \tsimilarity_matrix = np.zeros((len(sentences), len(sentences)))\n",
        "\n",
        "# \tfor idx1 in range(0, len(sentences)):\n",
        "# \t        # print(idx1)\n",
        "# \t        similarity_matrix[0][idx1] = bn_sentence_similarity(sentences[0], sentences[idx1])\n",
        "\n",
        "# \treturn similarity_matrix\n",
        "\n",
        "def bn_build_similarity_matrix(sentences):\n",
        "    # Create an empty similarity matrix\n",
        "    similarity_matrix = np.zeros((len(sentences), len(sentences)))\n",
        "\n",
        "    for idx1 in range(0, len(sentences)):\n",
        "            # print(idx1)\n",
        "            similarity_matrix[0][idx1] = bn_sentence_similarity(sentences[0], sentences[idx1])\n",
        "\n",
        "    return similarity_matrix\n",
        "\n",
        "\n",
        "def bn_generate_summary(file_name, top_n=5):\n",
        "    global summarize_text\n",
        "    summarize_text = []\n",
        "\n",
        "    # Step 1 - Read texts\n",
        "    sentences = file_name\n",
        "\n",
        "    # Step 2 - Generate Similary Martix across sentences\n",
        "    sentence_similarity_martix = bn_build_similarity_matrix(sentences)\n",
        "\n",
        "    # Step 3 - Rank sentences in similarity martix\n",
        "    sentence_similarity_graph = nx.from_numpy_array(sentence_similarity_martix)\n",
        "    scores = nx.pagerank(sentence_similarity_graph)\n",
        "\n",
        "    # Step 4 - Sort the rank and pick top sentences\n",
        "    ranked_sentence = sorted(((scores[i],s) for i,s in enumerate(sentences)), reverse=True)\n",
        "    print(\"Indexes of top ranked_sentence order are \", ranked_sentence)\n",
        "\n",
        "    for i in range(top_n):\n",
        "      summarize_text.append(\"\".join(ranked_sentence[i][1]))\n",
        "\n",
        "    # Step 5 - Offcourse, output the summarize text\n",
        "    #print(\"Summarize Text: \\n\", \". \".join(summarize_text))\n",
        "    return summarize_text"
      ]
    },
    {
      "cell_type": "code",
      "source": [
        "bn_generate_summary(bn_sentences, 5)"
      ],
      "metadata": {
        "id": "iU7PfljXmMSX"
      },
      "execution_count": null,
      "outputs": []
    },
    {
      "cell_type": "markdown",
      "source": [
        "# Merge Data"
      ],
      "metadata": {
        "id": "aokYFaoH-mfo"
      }
    },
    {
      "cell_type": "code",
      "source": [
        "dff0 = pd.read_csv(\"/content/drive/MyDrive/SCDataset/FolderNew/mT5_multilingual_Combined_v.csv\")"
      ],
      "metadata": {
        "id": "AUC4hw16Pn5W"
      },
      "execution_count": null,
      "outputs": []
    },
    {
      "cell_type": "code",
      "source": [
        "dff0"
      ],
      "metadata": {
        "colab": {
          "base_uri": "https://localhost:8080/",
          "height": 423
        },
        "id": "8BqeF11OP_Xq",
        "outputId": "0411cba9-f5d0-41c9-d467-41fe96a0ae74"
      },
      "execution_count": null,
      "outputs": [
        {
          "output_type": "execute_result",
          "data": {
            "text/plain": [
              "      Unnamed: 0                                               text  \\\n",
              "0              0  ঢাকা মহানগর ও ঢাকা জেলা আদালত, কিশোরগঞ্জ ও রাঙ...   \n",
              "1              1  যুক্তরাষ্ট্রে বিজ্ঞান ও প্রকৌশলে পেশা শুরুর প...   \n",
              "2              2  বিকল্প শিশুখাদ্য ও বাণিজ্যিকভাবে উত্পাদিত শিশু...   \n",
              "3              3  বগুড়ার আদমদীঘির সান্তাহারে গতকাল শনিবার ট্রেন...   \n",
              "4              4  যাত্রাবাড়ীর একটি রেস্তোরাঁয় গতকাল বুধবার ভোর...   \n",
              "...          ...                                                ...   \n",
              "4995        4995  দুই বছরে ১১ জনকে বিয়ে করেছেন এক তরুণী। এর মধ্য...   \n",
              "4996        4996  জামালপুর পল্লী বিদ্যুৎ সমিতির আওতায় কুড়িগ্রামে...   \n",
              "4997        4997  হলিউডের সর্বকালের আইকনদের একজন, অভিনেত্রী মেরি...   \n",
              "4998        4998  ২৬ মার্চকে আন্তর্জাতিক গণহত্যা দিবস ঘোষণার জন...   \n",
              "4999        4999  আধা ঘণ্টা থেকে এক ঘণ্টা টানা বৃষ্টি হলেই কুমিল...   \n",
              "\n",
              "                                           givenSummary  \\\n",
              "0            অ্যাপসে মিলবে ঢাকাসহ তিন জেলা আদালতের তথ্য   \n",
              "1     বিজ্ঞান ও প্রকৌশলে মার্কিন সর্বোচ্চ সম্মাননা...   \n",
              "2     বিকল্প শিশুখাদ্য গ্রহণে শিশুর মৃত্যু হলে শাস্ত...   \n",
              "3          ট্রেনে কাটা পড়ে সাবেক সিভিল সার্জনের মৃত্যু   \n",
              "4     যাত্রাবাড়ীতে চুলা জ্বালাতে গিয়ে দুই কর্মচারী ...   \n",
              "...                                                 ...   \n",
              "4995        দুই বছরে ১১ জনকে বিয়ে করলেন তরুণী, অতঃপর...   \n",
              "4996        ট্রান্সমিটার পরিবর্তন ও মিটার নিতে ঘুষ আদায়   \n",
              "4997                  ৪৮ লাখ ডলারে বিক্রি হলো সেই গাউন   \n",
              "4998   ২৬ মার্চকে আন্তর্জাতিক গণহত্যা দিবস ঘোষণার দাবি   \n",
              "4999  কুমিল্লা নগরে পানিপ্রবাহের পথ রুদ্ধ, অল্প বৃষ্...   \n",
              "\n",
              "                                 mT5_multilingual_XLSum  \n",
              "0     বাংলাদেশের সব আদালতের মামলার সংক্রান্ত তথ্য এখ...  \n",
              "1     যুক্তরাষ্ট্রে বিজ্ঞান ও প্রকৌশলে পেশা শুরুর প্...  \n",
              "2     বাংলাদেশে বিকল্প শিশুখাদ্য ও বাণিজ্যিকভাবে উত্...  \n",
              "3     বগুড়ার আদমদীঘির সান্তাহারে গতকাল শনিবার ট্রেন...  \n",
              "4     বাংলাদেশের রাজধানী ঢাকার যাত্রাবাড়ী মোড় এলাক...  \n",
              "...                                                 ...  \n",
              "4995  থাইল্যান্ডের এক তরুণী গত দুই বছরে ১১ জন পুরুষক...  \n",
              "4996  বাংলাদেশের কুড়িগ্রামের রৌমারী ও রাজীবপুর উপজে...  \n",
              "4997  হলিউডের সর্বকালের আইকনদের একজন, অভিনেত্রী মেরি...  \n",
              "4998  বাংলাদেশে ২৬ মার্চকে আন্তর্জাতিক গণহত্যা দিবস ...  \n",
              "4999  কুমিল্লা সিটি করপোরেশনের কর্মকর্তারা বলছেন, গত...  \n",
              "\n",
              "[5000 rows x 4 columns]"
            ],
            "text/html": [
              "\n",
              "  <div id=\"df-78429d18-debe-484f-80ea-096118e9165d\">\n",
              "    <div class=\"colab-df-container\">\n",
              "      <div>\n",
              "<style scoped>\n",
              "    .dataframe tbody tr th:only-of-type {\n",
              "        vertical-align: middle;\n",
              "    }\n",
              "\n",
              "    .dataframe tbody tr th {\n",
              "        vertical-align: top;\n",
              "    }\n",
              "\n",
              "    .dataframe thead th {\n",
              "        text-align: right;\n",
              "    }\n",
              "</style>\n",
              "<table border=\"1\" class=\"dataframe\">\n",
              "  <thead>\n",
              "    <tr style=\"text-align: right;\">\n",
              "      <th></th>\n",
              "      <th>Unnamed: 0</th>\n",
              "      <th>text</th>\n",
              "      <th>givenSummary</th>\n",
              "      <th>mT5_multilingual_XLSum</th>\n",
              "    </tr>\n",
              "  </thead>\n",
              "  <tbody>\n",
              "    <tr>\n",
              "      <th>0</th>\n",
              "      <td>0</td>\n",
              "      <td>ঢাকা মহানগর ও ঢাকা জেলা আদালত, কিশোরগঞ্জ ও রাঙ...</td>\n",
              "      <td>অ্যাপসে মিলবে ঢাকাসহ তিন জেলা আদালতের তথ্য</td>\n",
              "      <td>বাংলাদেশের সব আদালতের মামলার সংক্রান্ত তথ্য এখ...</td>\n",
              "    </tr>\n",
              "    <tr>\n",
              "      <th>1</th>\n",
              "      <td>1</td>\n",
              "      <td>যুক্তরাষ্ট্রে বিজ্ঞান ও প্রকৌশলে পেশা শুরুর প...</td>\n",
              "      <td>বিজ্ঞান ও প্রকৌশলে মার্কিন সর্বোচ্চ সম্মাননা...</td>\n",
              "      <td>যুক্তরাষ্ট্রে বিজ্ঞান ও প্রকৌশলে পেশা শুরুর প্...</td>\n",
              "    </tr>\n",
              "    <tr>\n",
              "      <th>2</th>\n",
              "      <td>2</td>\n",
              "      <td>বিকল্প শিশুখাদ্য ও বাণিজ্যিকভাবে উত্পাদিত শিশু...</td>\n",
              "      <td>বিকল্প শিশুখাদ্য গ্রহণে শিশুর মৃত্যু হলে শাস্ত...</td>\n",
              "      <td>বাংলাদেশে বিকল্প শিশুখাদ্য ও বাণিজ্যিকভাবে উত্...</td>\n",
              "    </tr>\n",
              "    <tr>\n",
              "      <th>3</th>\n",
              "      <td>3</td>\n",
              "      <td>বগুড়ার আদমদীঘির সান্তাহারে গতকাল শনিবার ট্রেন...</td>\n",
              "      <td>ট্রেনে কাটা পড়ে সাবেক সিভিল সার্জনের মৃত্যু</td>\n",
              "      <td>বগুড়ার আদমদীঘির সান্তাহারে গতকাল শনিবার ট্রেন...</td>\n",
              "    </tr>\n",
              "    <tr>\n",
              "      <th>4</th>\n",
              "      <td>4</td>\n",
              "      <td>যাত্রাবাড়ীর একটি রেস্তোরাঁয় গতকাল বুধবার ভোর...</td>\n",
              "      <td>যাত্রাবাড়ীতে চুলা জ্বালাতে গিয়ে দুই কর্মচারী ...</td>\n",
              "      <td>বাংলাদেশের রাজধানী ঢাকার যাত্রাবাড়ী মোড় এলাক...</td>\n",
              "    </tr>\n",
              "    <tr>\n",
              "      <th>...</th>\n",
              "      <td>...</td>\n",
              "      <td>...</td>\n",
              "      <td>...</td>\n",
              "      <td>...</td>\n",
              "    </tr>\n",
              "    <tr>\n",
              "      <th>4995</th>\n",
              "      <td>4995</td>\n",
              "      <td>দুই বছরে ১১ জনকে বিয়ে করেছেন এক তরুণী। এর মধ্য...</td>\n",
              "      <td>দুই বছরে ১১ জনকে বিয়ে করলেন তরুণী, অতঃপর...</td>\n",
              "      <td>থাইল্যান্ডের এক তরুণী গত দুই বছরে ১১ জন পুরুষক...</td>\n",
              "    </tr>\n",
              "    <tr>\n",
              "      <th>4996</th>\n",
              "      <td>4996</td>\n",
              "      <td>জামালপুর পল্লী বিদ্যুৎ সমিতির আওতায় কুড়িগ্রামে...</td>\n",
              "      <td>ট্রান্সমিটার পরিবর্তন ও মিটার নিতে ঘুষ আদায়</td>\n",
              "      <td>বাংলাদেশের কুড়িগ্রামের রৌমারী ও রাজীবপুর উপজে...</td>\n",
              "    </tr>\n",
              "    <tr>\n",
              "      <th>4997</th>\n",
              "      <td>4997</td>\n",
              "      <td>হলিউডের সর্বকালের আইকনদের একজন, অভিনেত্রী মেরি...</td>\n",
              "      <td>৪৮ লাখ ডলারে বিক্রি হলো সেই গাউন</td>\n",
              "      <td>হলিউডের সর্বকালের আইকনদের একজন, অভিনেত্রী মেরি...</td>\n",
              "    </tr>\n",
              "    <tr>\n",
              "      <th>4998</th>\n",
              "      <td>4998</td>\n",
              "      <td>২৬ মার্চকে আন্তর্জাতিক গণহত্যা দিবস ঘোষণার জন...</td>\n",
              "      <td>২৬ মার্চকে আন্তর্জাতিক গণহত্যা দিবস ঘোষণার দাবি</td>\n",
              "      <td>বাংলাদেশে ২৬ মার্চকে আন্তর্জাতিক গণহত্যা দিবস ...</td>\n",
              "    </tr>\n",
              "    <tr>\n",
              "      <th>4999</th>\n",
              "      <td>4999</td>\n",
              "      <td>আধা ঘণ্টা থেকে এক ঘণ্টা টানা বৃষ্টি হলেই কুমিল...</td>\n",
              "      <td>কুমিল্লা নগরে পানিপ্রবাহের পথ রুদ্ধ, অল্প বৃষ্...</td>\n",
              "      <td>কুমিল্লা সিটি করপোরেশনের কর্মকর্তারা বলছেন, গত...</td>\n",
              "    </tr>\n",
              "  </tbody>\n",
              "</table>\n",
              "<p>5000 rows × 4 columns</p>\n",
              "</div>\n",
              "      <button class=\"colab-df-convert\" onclick=\"convertToInteractive('df-78429d18-debe-484f-80ea-096118e9165d')\"\n",
              "              title=\"Convert this dataframe to an interactive table.\"\n",
              "              style=\"display:none;\">\n",
              "        \n",
              "  <svg xmlns=\"http://www.w3.org/2000/svg\" height=\"24px\"viewBox=\"0 0 24 24\"\n",
              "       width=\"24px\">\n",
              "    <path d=\"M0 0h24v24H0V0z\" fill=\"none\"/>\n",
              "    <path d=\"M18.56 5.44l.94 2.06.94-2.06 2.06-.94-2.06-.94-.94-2.06-.94 2.06-2.06.94zm-11 1L8.5 8.5l.94-2.06 2.06-.94-2.06-.94L8.5 2.5l-.94 2.06-2.06.94zm10 10l.94 2.06.94-2.06 2.06-.94-2.06-.94-.94-2.06-.94 2.06-2.06.94z\"/><path d=\"M17.41 7.96l-1.37-1.37c-.4-.4-.92-.59-1.43-.59-.52 0-1.04.2-1.43.59L10.3 9.45l-7.72 7.72c-.78.78-.78 2.05 0 2.83L4 21.41c.39.39.9.59 1.41.59.51 0 1.02-.2 1.41-.59l7.78-7.78 2.81-2.81c.8-.78.8-2.07 0-2.86zM5.41 20L4 18.59l7.72-7.72 1.47 1.35L5.41 20z\"/>\n",
              "  </svg>\n",
              "      </button>\n",
              "      \n",
              "  <style>\n",
              "    .colab-df-container {\n",
              "      display:flex;\n",
              "      flex-wrap:wrap;\n",
              "      gap: 12px;\n",
              "    }\n",
              "\n",
              "    .colab-df-convert {\n",
              "      background-color: #E8F0FE;\n",
              "      border: none;\n",
              "      border-radius: 50%;\n",
              "      cursor: pointer;\n",
              "      display: none;\n",
              "      fill: #1967D2;\n",
              "      height: 32px;\n",
              "      padding: 0 0 0 0;\n",
              "      width: 32px;\n",
              "    }\n",
              "\n",
              "    .colab-df-convert:hover {\n",
              "      background-color: #E2EBFA;\n",
              "      box-shadow: 0px 1px 2px rgba(60, 64, 67, 0.3), 0px 1px 3px 1px rgba(60, 64, 67, 0.15);\n",
              "      fill: #174EA6;\n",
              "    }\n",
              "\n",
              "    [theme=dark] .colab-df-convert {\n",
              "      background-color: #3B4455;\n",
              "      fill: #D2E3FC;\n",
              "    }\n",
              "\n",
              "    [theme=dark] .colab-df-convert:hover {\n",
              "      background-color: #434B5C;\n",
              "      box-shadow: 0px 1px 3px 1px rgba(0, 0, 0, 0.15);\n",
              "      filter: drop-shadow(0px 1px 2px rgba(0, 0, 0, 0.3));\n",
              "      fill: #FFFFFF;\n",
              "    }\n",
              "  </style>\n",
              "\n",
              "      <script>\n",
              "        const buttonEl =\n",
              "          document.querySelector('#df-78429d18-debe-484f-80ea-096118e9165d button.colab-df-convert');\n",
              "        buttonEl.style.display =\n",
              "          google.colab.kernel.accessAllowed ? 'block' : 'none';\n",
              "\n",
              "        async function convertToInteractive(key) {\n",
              "          const element = document.querySelector('#df-78429d18-debe-484f-80ea-096118e9165d');\n",
              "          const dataTable =\n",
              "            await google.colab.kernel.invokeFunction('convertToInteractive',\n",
              "                                                     [key], {});\n",
              "          if (!dataTable) return;\n",
              "\n",
              "          const docLinkHtml = 'Like what you see? Visit the ' +\n",
              "            '<a target=\"_blank\" href=https://colab.research.google.com/notebooks/data_table.ipynb>data table notebook</a>'\n",
              "            + ' to learn more about interactive tables.';\n",
              "          element.innerHTML = '';\n",
              "          dataTable['output_type'] = 'display_data';\n",
              "          await google.colab.output.renderOutput(dataTable, element);\n",
              "          const docLink = document.createElement('div');\n",
              "          docLink.innerHTML = docLinkHtml;\n",
              "          element.appendChild(docLink);\n",
              "        }\n",
              "      </script>\n",
              "    </div>\n",
              "  </div>\n",
              "  "
            ]
          },
          "metadata": {},
          "execution_count": 4
        }
      ]
    },
    {
      "cell_type": "code",
      "source": [
        "dff1 = pd.read_csv(\"/content/drive/MyDrive/SCDataset/FolderNew/Bangla_text_summarization_Combined_v.csv\")\n",
        "dff1"
      ],
      "metadata": {
        "colab": {
          "base_uri": "https://localhost:8080/",
          "height": 423
        },
        "id": "H3nmV6EmQDqy",
        "outputId": "6855e88e-8830-46b6-ae35-11c0fa04b840"
      },
      "execution_count": null,
      "outputs": [
        {
          "output_type": "execute_result",
          "data": {
            "text/plain": [
              "      Unnamed: 0                                               text  \\\n",
              "0              0  ঢাকা মহানগর ও ঢাকা জেলা আদালত, কিশোরগঞ্জ ও রাঙ...   \n",
              "1              1  যুক্তরাষ্ট্রে বিজ্ঞান ও প্রকৌশলে পেশা শুরুর প...   \n",
              "2              2  বিকল্প শিশুখাদ্য ও বাণিজ্যিকভাবে উত্পাদিত শিশু...   \n",
              "3              3  বগুড়ার আদমদীঘির সান্তাহারে গতকাল শনিবার ট্রেন...   \n",
              "4              4  যাত্রাবাড়ীর একটি রেস্তোরাঁয় গতকাল বুধবার ভোর...   \n",
              "...          ...                                                ...   \n",
              "4995        4995  দুই বছরে ১১ জনকে বিয়ে করেছেন এক তরুণী। এর মধ্য...   \n",
              "4996        4996  জামালপুর পল্লী বিদ্যুৎ সমিতির আওতায় কুড়িগ্রামে...   \n",
              "4997        4997  হলিউডের সর্বকালের আইকনদের একজন, অভিনেত্রী মেরি...   \n",
              "4998        4998  ২৬ মার্চকে আন্তর্জাতিক গণহত্যা দিবস ঘোষণার জন...   \n",
              "4999        4999  আধা ঘণ্টা থেকে এক ঘণ্টা টানা বৃষ্টি হলেই কুমিল...   \n",
              "\n",
              "                                           givenSummary  \\\n",
              "0            অ্যাপসে মিলবে ঢাকাসহ তিন জেলা আদালতের তথ্য   \n",
              "1     বিজ্ঞান ও প্রকৌশলে মার্কিন সর্বোচ্চ সম্মাননা...   \n",
              "2     বিকল্প শিশুখাদ্য গ্রহণে শিশুর মৃত্যু হলে শাস্ত...   \n",
              "3          ট্রেনে কাটা পড়ে সাবেক সিভিল সার্জনের মৃত্যু   \n",
              "4     যাত্রাবাড়ীতে চুলা জ্বালাতে গিয়ে দুই কর্মচারী ...   \n",
              "...                                                 ...   \n",
              "4995        দুই বছরে ১১ জনকে বিয়ে করলেন তরুণী, অতঃপর...   \n",
              "4996        ট্রান্সমিটার পরিবর্তন ও মিটার নিতে ঘুষ আদায়   \n",
              "4997                  ৪৮ লাখ ডলারে বিক্রি হলো সেই গাউন   \n",
              "4998   ২৬ মার্চকে আন্তর্জাতিক গণহত্যা দিবস ঘোষণার দাবি   \n",
              "4999  কুমিল্লা নগরে পানিপ্রবাহের পথ রুদ্ধ, অল্প বৃষ্...   \n",
              "\n",
              "                              Bangla_text_summarization  \n",
              "0     সেই 'মুচি জসীমের' মোবাইল নম্বর ক্লোন করে সাংবা...  \n",
              "1     নেত্রকোনায় বঙ্গবন্ধুকে পৌঁছে দিতে হবে প্রজন্ম...  \n",
              "2     চিকিৎসকদের অবহেলায় শিশু রাফিয়ার মৃত্যুর বিচা...  \n",
              "3     ট্রেন থেকে ট্রেনে কাটা পড়ে নিহত শাহ আলমের দাফ...  \n",
              "4     কলেজছাত্রীর গায়ে পেট্রল ঢেলে আগুন, ৯ দিন পর ম...  \n",
              "...                                                 ...  \n",
              "4995  জর্দান ফেরত সেই কুমারী মায়ের পাশে মানিকগঞ্জ প...  \n",
              "4996  ভোলায় ভুয়া এনজিও অফিস ঘেরাও, এক লাখ টাকা মুক...  \n",
              "4997  বরিশালের গান্ধী আশ্রমে হর্ষবর্ধণ স্পেকট্রোমিটা...  \n",
              "4998  ইলিশের জীবন রহস্য উম্মোচনের গবেষণাটি হাইজ্যাকে...  \n",
              "4999  পদ্মার ভযাবহ ভাঙ্গনে নড়িয়া-সুরেশ্বর সড়ক মন্...  \n",
              "\n",
              "[5000 rows x 4 columns]"
            ],
            "text/html": [
              "\n",
              "  <div id=\"df-3b7fb33c-6249-4a8f-871a-ddd1029cc947\">\n",
              "    <div class=\"colab-df-container\">\n",
              "      <div>\n",
              "<style scoped>\n",
              "    .dataframe tbody tr th:only-of-type {\n",
              "        vertical-align: middle;\n",
              "    }\n",
              "\n",
              "    .dataframe tbody tr th {\n",
              "        vertical-align: top;\n",
              "    }\n",
              "\n",
              "    .dataframe thead th {\n",
              "        text-align: right;\n",
              "    }\n",
              "</style>\n",
              "<table border=\"1\" class=\"dataframe\">\n",
              "  <thead>\n",
              "    <tr style=\"text-align: right;\">\n",
              "      <th></th>\n",
              "      <th>Unnamed: 0</th>\n",
              "      <th>text</th>\n",
              "      <th>givenSummary</th>\n",
              "      <th>Bangla_text_summarization</th>\n",
              "    </tr>\n",
              "  </thead>\n",
              "  <tbody>\n",
              "    <tr>\n",
              "      <th>0</th>\n",
              "      <td>0</td>\n",
              "      <td>ঢাকা মহানগর ও ঢাকা জেলা আদালত, কিশোরগঞ্জ ও রাঙ...</td>\n",
              "      <td>অ্যাপসে মিলবে ঢাকাসহ তিন জেলা আদালতের তথ্য</td>\n",
              "      <td>সেই 'মুচি জসীমের' মোবাইল নম্বর ক্লোন করে সাংবা...</td>\n",
              "    </tr>\n",
              "    <tr>\n",
              "      <th>1</th>\n",
              "      <td>1</td>\n",
              "      <td>যুক্তরাষ্ট্রে বিজ্ঞান ও প্রকৌশলে পেশা শুরুর প...</td>\n",
              "      <td>বিজ্ঞান ও প্রকৌশলে মার্কিন সর্বোচ্চ সম্মাননা...</td>\n",
              "      <td>নেত্রকোনায় বঙ্গবন্ধুকে পৌঁছে দিতে হবে প্রজন্ম...</td>\n",
              "    </tr>\n",
              "    <tr>\n",
              "      <th>2</th>\n",
              "      <td>2</td>\n",
              "      <td>বিকল্প শিশুখাদ্য ও বাণিজ্যিকভাবে উত্পাদিত শিশু...</td>\n",
              "      <td>বিকল্প শিশুখাদ্য গ্রহণে শিশুর মৃত্যু হলে শাস্ত...</td>\n",
              "      <td>চিকিৎসকদের অবহেলায় শিশু রাফিয়ার মৃত্যুর বিচা...</td>\n",
              "    </tr>\n",
              "    <tr>\n",
              "      <th>3</th>\n",
              "      <td>3</td>\n",
              "      <td>বগুড়ার আদমদীঘির সান্তাহারে গতকাল শনিবার ট্রেন...</td>\n",
              "      <td>ট্রেনে কাটা পড়ে সাবেক সিভিল সার্জনের মৃত্যু</td>\n",
              "      <td>ট্রেন থেকে ট্রেনে কাটা পড়ে নিহত শাহ আলমের দাফ...</td>\n",
              "    </tr>\n",
              "    <tr>\n",
              "      <th>4</th>\n",
              "      <td>4</td>\n",
              "      <td>যাত্রাবাড়ীর একটি রেস্তোরাঁয় গতকাল বুধবার ভোর...</td>\n",
              "      <td>যাত্রাবাড়ীতে চুলা জ্বালাতে গিয়ে দুই কর্মচারী ...</td>\n",
              "      <td>কলেজছাত্রীর গায়ে পেট্রল ঢেলে আগুন, ৯ দিন পর ম...</td>\n",
              "    </tr>\n",
              "    <tr>\n",
              "      <th>...</th>\n",
              "      <td>...</td>\n",
              "      <td>...</td>\n",
              "      <td>...</td>\n",
              "      <td>...</td>\n",
              "    </tr>\n",
              "    <tr>\n",
              "      <th>4995</th>\n",
              "      <td>4995</td>\n",
              "      <td>দুই বছরে ১১ জনকে বিয়ে করেছেন এক তরুণী। এর মধ্য...</td>\n",
              "      <td>দুই বছরে ১১ জনকে বিয়ে করলেন তরুণী, অতঃপর...</td>\n",
              "      <td>জর্দান ফেরত সেই কুমারী মায়ের পাশে মানিকগঞ্জ প...</td>\n",
              "    </tr>\n",
              "    <tr>\n",
              "      <th>4996</th>\n",
              "      <td>4996</td>\n",
              "      <td>জামালপুর পল্লী বিদ্যুৎ সমিতির আওতায় কুড়িগ্রামে...</td>\n",
              "      <td>ট্রান্সমিটার পরিবর্তন ও মিটার নিতে ঘুষ আদায়</td>\n",
              "      <td>ভোলায় ভুয়া এনজিও অফিস ঘেরাও, এক লাখ টাকা মুক...</td>\n",
              "    </tr>\n",
              "    <tr>\n",
              "      <th>4997</th>\n",
              "      <td>4997</td>\n",
              "      <td>হলিউডের সর্বকালের আইকনদের একজন, অভিনেত্রী মেরি...</td>\n",
              "      <td>৪৮ লাখ ডলারে বিক্রি হলো সেই গাউন</td>\n",
              "      <td>বরিশালের গান্ধী আশ্রমে হর্ষবর্ধণ স্পেকট্রোমিটা...</td>\n",
              "    </tr>\n",
              "    <tr>\n",
              "      <th>4998</th>\n",
              "      <td>4998</td>\n",
              "      <td>২৬ মার্চকে আন্তর্জাতিক গণহত্যা দিবস ঘোষণার জন...</td>\n",
              "      <td>২৬ মার্চকে আন্তর্জাতিক গণহত্যা দিবস ঘোষণার দাবি</td>\n",
              "      <td>ইলিশের জীবন রহস্য উম্মোচনের গবেষণাটি হাইজ্যাকে...</td>\n",
              "    </tr>\n",
              "    <tr>\n",
              "      <th>4999</th>\n",
              "      <td>4999</td>\n",
              "      <td>আধা ঘণ্টা থেকে এক ঘণ্টা টানা বৃষ্টি হলেই কুমিল...</td>\n",
              "      <td>কুমিল্লা নগরে পানিপ্রবাহের পথ রুদ্ধ, অল্প বৃষ্...</td>\n",
              "      <td>পদ্মার ভযাবহ ভাঙ্গনে নড়িয়া-সুরেশ্বর সড়ক মন্...</td>\n",
              "    </tr>\n",
              "  </tbody>\n",
              "</table>\n",
              "<p>5000 rows × 4 columns</p>\n",
              "</div>\n",
              "      <button class=\"colab-df-convert\" onclick=\"convertToInteractive('df-3b7fb33c-6249-4a8f-871a-ddd1029cc947')\"\n",
              "              title=\"Convert this dataframe to an interactive table.\"\n",
              "              style=\"display:none;\">\n",
              "        \n",
              "  <svg xmlns=\"http://www.w3.org/2000/svg\" height=\"24px\"viewBox=\"0 0 24 24\"\n",
              "       width=\"24px\">\n",
              "    <path d=\"M0 0h24v24H0V0z\" fill=\"none\"/>\n",
              "    <path d=\"M18.56 5.44l.94 2.06.94-2.06 2.06-.94-2.06-.94-.94-2.06-.94 2.06-2.06.94zm-11 1L8.5 8.5l.94-2.06 2.06-.94-2.06-.94L8.5 2.5l-.94 2.06-2.06.94zm10 10l.94 2.06.94-2.06 2.06-.94-2.06-.94-.94-2.06-.94 2.06-2.06.94z\"/><path d=\"M17.41 7.96l-1.37-1.37c-.4-.4-.92-.59-1.43-.59-.52 0-1.04.2-1.43.59L10.3 9.45l-7.72 7.72c-.78.78-.78 2.05 0 2.83L4 21.41c.39.39.9.59 1.41.59.51 0 1.02-.2 1.41-.59l7.78-7.78 2.81-2.81c.8-.78.8-2.07 0-2.86zM5.41 20L4 18.59l7.72-7.72 1.47 1.35L5.41 20z\"/>\n",
              "  </svg>\n",
              "      </button>\n",
              "      \n",
              "  <style>\n",
              "    .colab-df-container {\n",
              "      display:flex;\n",
              "      flex-wrap:wrap;\n",
              "      gap: 12px;\n",
              "    }\n",
              "\n",
              "    .colab-df-convert {\n",
              "      background-color: #E8F0FE;\n",
              "      border: none;\n",
              "      border-radius: 50%;\n",
              "      cursor: pointer;\n",
              "      display: none;\n",
              "      fill: #1967D2;\n",
              "      height: 32px;\n",
              "      padding: 0 0 0 0;\n",
              "      width: 32px;\n",
              "    }\n",
              "\n",
              "    .colab-df-convert:hover {\n",
              "      background-color: #E2EBFA;\n",
              "      box-shadow: 0px 1px 2px rgba(60, 64, 67, 0.3), 0px 1px 3px 1px rgba(60, 64, 67, 0.15);\n",
              "      fill: #174EA6;\n",
              "    }\n",
              "\n",
              "    [theme=dark] .colab-df-convert {\n",
              "      background-color: #3B4455;\n",
              "      fill: #D2E3FC;\n",
              "    }\n",
              "\n",
              "    [theme=dark] .colab-df-convert:hover {\n",
              "      background-color: #434B5C;\n",
              "      box-shadow: 0px 1px 3px 1px rgba(0, 0, 0, 0.15);\n",
              "      filter: drop-shadow(0px 1px 2px rgba(0, 0, 0, 0.3));\n",
              "      fill: #FFFFFF;\n",
              "    }\n",
              "  </style>\n",
              "\n",
              "      <script>\n",
              "        const buttonEl =\n",
              "          document.querySelector('#df-3b7fb33c-6249-4a8f-871a-ddd1029cc947 button.colab-df-convert');\n",
              "        buttonEl.style.display =\n",
              "          google.colab.kernel.accessAllowed ? 'block' : 'none';\n",
              "\n",
              "        async function convertToInteractive(key) {\n",
              "          const element = document.querySelector('#df-3b7fb33c-6249-4a8f-871a-ddd1029cc947');\n",
              "          const dataTable =\n",
              "            await google.colab.kernel.invokeFunction('convertToInteractive',\n",
              "                                                     [key], {});\n",
              "          if (!dataTable) return;\n",
              "\n",
              "          const docLinkHtml = 'Like what you see? Visit the ' +\n",
              "            '<a target=\"_blank\" href=https://colab.research.google.com/notebooks/data_table.ipynb>data table notebook</a>'\n",
              "            + ' to learn more about interactive tables.';\n",
              "          element.innerHTML = '';\n",
              "          dataTable['output_type'] = 'display_data';\n",
              "          await google.colab.output.renderOutput(dataTable, element);\n",
              "          const docLink = document.createElement('div');\n",
              "          docLink.innerHTML = docLinkHtml;\n",
              "          element.appendChild(docLink);\n",
              "        }\n",
              "      </script>\n",
              "    </div>\n",
              "  </div>\n",
              "  "
            ]
          },
          "metadata": {},
          "execution_count": 5
        }
      ]
    },
    {
      "cell_type": "code",
      "source": [
        "dff2 = pd.read_csv(\"/content/drive/MyDrive/SCDataset/FolderNew/scibert_scivocab_uncased_Combined_v.csv\")\n",
        "dff2"
      ],
      "metadata": {
        "colab": {
          "base_uri": "https://localhost:8080/",
          "height": 423
        },
        "id": "niPK7qHgQObA",
        "outputId": "8e1157f3-5a2a-4f09-ed7b-e1e7262aa266"
      },
      "execution_count": null,
      "outputs": [
        {
          "output_type": "execute_result",
          "data": {
            "text/plain": [
              "      Unnamed: 0                                               text  \\\n",
              "0              0  ঢাকা মহানগর ও ঢাকা জেলা আদালত, কিশোরগঞ্জ ও রাঙ...   \n",
              "1              1  যুক্তরাষ্ট্রে বিজ্ঞান ও প্রকৌশলে পেশা শুরুর প...   \n",
              "2              2  বিকল্প শিশুখাদ্য ও বাণিজ্যিকভাবে উত্পাদিত শিশু...   \n",
              "3              3  বগুড়ার আদমদীঘির সান্তাহারে গতকাল শনিবার ট্রেন...   \n",
              "4              4  যাত্রাবাড়ীর একটি রেস্তোরাঁয় গতকাল বুধবার ভোর...   \n",
              "...          ...                                                ...   \n",
              "4995        4995  দুই বছরে ১১ জনকে বিয়ে করেছেন এক তরুণী। এর মধ্য...   \n",
              "4996        4996  জামালপুর পল্লী বিদ্যুৎ সমিতির আওতায় কুড়িগ্রামে...   \n",
              "4997        4997  হলিউডের সর্বকালের আইকনদের একজন, অভিনেত্রী মেরি...   \n",
              "4998        4998  ২৬ মার্চকে আন্তর্জাতিক গণহত্যা দিবস ঘোষণার জন...   \n",
              "4999        4999  আধা ঘণ্টা থেকে এক ঘণ্টা টানা বৃষ্টি হলেই কুমিল...   \n",
              "\n",
              "                                           givenSummary  \\\n",
              "0            অ্যাপসে মিলবে ঢাকাসহ তিন জেলা আদালতের তথ্য   \n",
              "1     বিজ্ঞান ও প্রকৌশলে মার্কিন সর্বোচ্চ সম্মাননা...   \n",
              "2     বিকল্প শিশুখাদ্য গ্রহণে শিশুর মৃত্যু হলে শাস্ত...   \n",
              "3          ট্রেনে কাটা পড়ে সাবেক সিভিল সার্জনের মৃত্যু   \n",
              "4     যাত্রাবাড়ীতে চুলা জ্বালাতে গিয়ে দুই কর্মচারী ...   \n",
              "...                                                 ...   \n",
              "4995        দুই বছরে ১১ জনকে বিয়ে করলেন তরুণী, অতঃপর...   \n",
              "4996        ট্রান্সমিটার পরিবর্তন ও মিটার নিতে ঘুষ আদায়   \n",
              "4997                  ৪৮ লাখ ডলারে বিক্রি হলো সেই গাউন   \n",
              "4998   ২৬ মার্চকে আন্তর্জাতিক গণহত্যা দিবস ঘোষণার দাবি   \n",
              "4999  কুমিল্লা নগরে পানিপ্রবাহের পথ রুদ্ধ, অল্প বৃষ্...   \n",
              "\n",
              "                               scibert_scivocab_uncased  \n",
              "0     তিনি জানান, এই অ্যাপসে আদালতের প্রতিদিনের মামল...  \n",
              "1     যুক্তরাষ্ট্রে বিজ্ঞান ও প্রকৌশলে পেশা শুরুর প্...  \n",
              "2     আজ মঙ্গলবার জাতীয় সংসদ ভবনে অনুষ্ঠিত কমিটির ব...  \n",
              "3     বগুড়ার আদমদীঘির সান্তাহারে গতকাল শনিবার ট্রেন...  \n",
              "4     যাত্রাবাড়ীর একটি রেস্তোরাঁয় গতকাল বুধবার ভোর...  \n",
              "...                                                 ...  \n",
              "4995  এর মধ্যে এক মাসেই চারজনকে বিয়ে করেন তিনি। থাই...  \n",
              "4996  জামালপুর পল্লী বিদ্যুৎ সমিতির আওতায় কুড়িগ্রা...  \n",
              "4997  হলিউডের সর্বকালের আইকনদের একজন, অভিনেত্রী মেরি...  \n",
              "4998  ২৬ মার্চকে আন্তর্জাতিক গণহত্যা দিবস ঘোষণার জন্...  \n",
              "4999  আধা ঘণ্টা থেকে এক ঘণ্টা টানা বৃষ্টি হলেই কুমিল...  \n",
              "\n",
              "[5000 rows x 4 columns]"
            ],
            "text/html": [
              "\n",
              "  <div id=\"df-74d6ff01-f9ae-4fef-8dd8-e1e2db69e7d2\">\n",
              "    <div class=\"colab-df-container\">\n",
              "      <div>\n",
              "<style scoped>\n",
              "    .dataframe tbody tr th:only-of-type {\n",
              "        vertical-align: middle;\n",
              "    }\n",
              "\n",
              "    .dataframe tbody tr th {\n",
              "        vertical-align: top;\n",
              "    }\n",
              "\n",
              "    .dataframe thead th {\n",
              "        text-align: right;\n",
              "    }\n",
              "</style>\n",
              "<table border=\"1\" class=\"dataframe\">\n",
              "  <thead>\n",
              "    <tr style=\"text-align: right;\">\n",
              "      <th></th>\n",
              "      <th>Unnamed: 0</th>\n",
              "      <th>text</th>\n",
              "      <th>givenSummary</th>\n",
              "      <th>scibert_scivocab_uncased</th>\n",
              "    </tr>\n",
              "  </thead>\n",
              "  <tbody>\n",
              "    <tr>\n",
              "      <th>0</th>\n",
              "      <td>0</td>\n",
              "      <td>ঢাকা মহানগর ও ঢাকা জেলা আদালত, কিশোরগঞ্জ ও রাঙ...</td>\n",
              "      <td>অ্যাপসে মিলবে ঢাকাসহ তিন জেলা আদালতের তথ্য</td>\n",
              "      <td>তিনি জানান, এই অ্যাপসে আদালতের প্রতিদিনের মামল...</td>\n",
              "    </tr>\n",
              "    <tr>\n",
              "      <th>1</th>\n",
              "      <td>1</td>\n",
              "      <td>যুক্তরাষ্ট্রে বিজ্ঞান ও প্রকৌশলে পেশা শুরুর প...</td>\n",
              "      <td>বিজ্ঞান ও প্রকৌশলে মার্কিন সর্বোচ্চ সম্মাননা...</td>\n",
              "      <td>যুক্তরাষ্ট্রে বিজ্ঞান ও প্রকৌশলে পেশা শুরুর প্...</td>\n",
              "    </tr>\n",
              "    <tr>\n",
              "      <th>2</th>\n",
              "      <td>2</td>\n",
              "      <td>বিকল্প শিশুখাদ্য ও বাণিজ্যিকভাবে উত্পাদিত শিশু...</td>\n",
              "      <td>বিকল্প শিশুখাদ্য গ্রহণে শিশুর মৃত্যু হলে শাস্ত...</td>\n",
              "      <td>আজ মঙ্গলবার জাতীয় সংসদ ভবনে অনুষ্ঠিত কমিটির ব...</td>\n",
              "    </tr>\n",
              "    <tr>\n",
              "      <th>3</th>\n",
              "      <td>3</td>\n",
              "      <td>বগুড়ার আদমদীঘির সান্তাহারে গতকাল শনিবার ট্রেন...</td>\n",
              "      <td>ট্রেনে কাটা পড়ে সাবেক সিভিল সার্জনের মৃত্যু</td>\n",
              "      <td>বগুড়ার আদমদীঘির সান্তাহারে গতকাল শনিবার ট্রেন...</td>\n",
              "    </tr>\n",
              "    <tr>\n",
              "      <th>4</th>\n",
              "      <td>4</td>\n",
              "      <td>যাত্রাবাড়ীর একটি রেস্তোরাঁয় গতকাল বুধবার ভোর...</td>\n",
              "      <td>যাত্রাবাড়ীতে চুলা জ্বালাতে গিয়ে দুই কর্মচারী ...</td>\n",
              "      <td>যাত্রাবাড়ীর একটি রেস্তোরাঁয় গতকাল বুধবার ভোর...</td>\n",
              "    </tr>\n",
              "    <tr>\n",
              "      <th>...</th>\n",
              "      <td>...</td>\n",
              "      <td>...</td>\n",
              "      <td>...</td>\n",
              "      <td>...</td>\n",
              "    </tr>\n",
              "    <tr>\n",
              "      <th>4995</th>\n",
              "      <td>4995</td>\n",
              "      <td>দুই বছরে ১১ জনকে বিয়ে করেছেন এক তরুণী। এর মধ্য...</td>\n",
              "      <td>দুই বছরে ১১ জনকে বিয়ে করলেন তরুণী, অতঃপর...</td>\n",
              "      <td>এর মধ্যে এক মাসেই চারজনকে বিয়ে করেন তিনি। থাই...</td>\n",
              "    </tr>\n",
              "    <tr>\n",
              "      <th>4996</th>\n",
              "      <td>4996</td>\n",
              "      <td>জামালপুর পল্লী বিদ্যুৎ সমিতির আওতায় কুড়িগ্রামে...</td>\n",
              "      <td>ট্রান্সমিটার পরিবর্তন ও মিটার নিতে ঘুষ আদায়</td>\n",
              "      <td>জামালপুর পল্লী বিদ্যুৎ সমিতির আওতায় কুড়িগ্রা...</td>\n",
              "    </tr>\n",
              "    <tr>\n",
              "      <th>4997</th>\n",
              "      <td>4997</td>\n",
              "      <td>হলিউডের সর্বকালের আইকনদের একজন, অভিনেত্রী মেরি...</td>\n",
              "      <td>৪৮ লাখ ডলারে বিক্রি হলো সেই গাউন</td>\n",
              "      <td>হলিউডের সর্বকালের আইকনদের একজন, অভিনেত্রী মেরি...</td>\n",
              "    </tr>\n",
              "    <tr>\n",
              "      <th>4998</th>\n",
              "      <td>4998</td>\n",
              "      <td>২৬ মার্চকে আন্তর্জাতিক গণহত্যা দিবস ঘোষণার জন...</td>\n",
              "      <td>২৬ মার্চকে আন্তর্জাতিক গণহত্যা দিবস ঘোষণার দাবি</td>\n",
              "      <td>২৬ মার্চকে আন্তর্জাতিক গণহত্যা দিবস ঘোষণার জন্...</td>\n",
              "    </tr>\n",
              "    <tr>\n",
              "      <th>4999</th>\n",
              "      <td>4999</td>\n",
              "      <td>আধা ঘণ্টা থেকে এক ঘণ্টা টানা বৃষ্টি হলেই কুমিল...</td>\n",
              "      <td>কুমিল্লা নগরে পানিপ্রবাহের পথ রুদ্ধ, অল্প বৃষ্...</td>\n",
              "      <td>আধা ঘণ্টা থেকে এক ঘণ্টা টানা বৃষ্টি হলেই কুমিল...</td>\n",
              "    </tr>\n",
              "  </tbody>\n",
              "</table>\n",
              "<p>5000 rows × 4 columns</p>\n",
              "</div>\n",
              "      <button class=\"colab-df-convert\" onclick=\"convertToInteractive('df-74d6ff01-f9ae-4fef-8dd8-e1e2db69e7d2')\"\n",
              "              title=\"Convert this dataframe to an interactive table.\"\n",
              "              style=\"display:none;\">\n",
              "        \n",
              "  <svg xmlns=\"http://www.w3.org/2000/svg\" height=\"24px\"viewBox=\"0 0 24 24\"\n",
              "       width=\"24px\">\n",
              "    <path d=\"M0 0h24v24H0V0z\" fill=\"none\"/>\n",
              "    <path d=\"M18.56 5.44l.94 2.06.94-2.06 2.06-.94-2.06-.94-.94-2.06-.94 2.06-2.06.94zm-11 1L8.5 8.5l.94-2.06 2.06-.94-2.06-.94L8.5 2.5l-.94 2.06-2.06.94zm10 10l.94 2.06.94-2.06 2.06-.94-2.06-.94-.94-2.06-.94 2.06-2.06.94z\"/><path d=\"M17.41 7.96l-1.37-1.37c-.4-.4-.92-.59-1.43-.59-.52 0-1.04.2-1.43.59L10.3 9.45l-7.72 7.72c-.78.78-.78 2.05 0 2.83L4 21.41c.39.39.9.59 1.41.59.51 0 1.02-.2 1.41-.59l7.78-7.78 2.81-2.81c.8-.78.8-2.07 0-2.86zM5.41 20L4 18.59l7.72-7.72 1.47 1.35L5.41 20z\"/>\n",
              "  </svg>\n",
              "      </button>\n",
              "      \n",
              "  <style>\n",
              "    .colab-df-container {\n",
              "      display:flex;\n",
              "      flex-wrap:wrap;\n",
              "      gap: 12px;\n",
              "    }\n",
              "\n",
              "    .colab-df-convert {\n",
              "      background-color: #E8F0FE;\n",
              "      border: none;\n",
              "      border-radius: 50%;\n",
              "      cursor: pointer;\n",
              "      display: none;\n",
              "      fill: #1967D2;\n",
              "      height: 32px;\n",
              "      padding: 0 0 0 0;\n",
              "      width: 32px;\n",
              "    }\n",
              "\n",
              "    .colab-df-convert:hover {\n",
              "      background-color: #E2EBFA;\n",
              "      box-shadow: 0px 1px 2px rgba(60, 64, 67, 0.3), 0px 1px 3px 1px rgba(60, 64, 67, 0.15);\n",
              "      fill: #174EA6;\n",
              "    }\n",
              "\n",
              "    [theme=dark] .colab-df-convert {\n",
              "      background-color: #3B4455;\n",
              "      fill: #D2E3FC;\n",
              "    }\n",
              "\n",
              "    [theme=dark] .colab-df-convert:hover {\n",
              "      background-color: #434B5C;\n",
              "      box-shadow: 0px 1px 3px 1px rgba(0, 0, 0, 0.15);\n",
              "      filter: drop-shadow(0px 1px 2px rgba(0, 0, 0, 0.3));\n",
              "      fill: #FFFFFF;\n",
              "    }\n",
              "  </style>\n",
              "\n",
              "      <script>\n",
              "        const buttonEl =\n",
              "          document.querySelector('#df-74d6ff01-f9ae-4fef-8dd8-e1e2db69e7d2 button.colab-df-convert');\n",
              "        buttonEl.style.display =\n",
              "          google.colab.kernel.accessAllowed ? 'block' : 'none';\n",
              "\n",
              "        async function convertToInteractive(key) {\n",
              "          const element = document.querySelector('#df-74d6ff01-f9ae-4fef-8dd8-e1e2db69e7d2');\n",
              "          const dataTable =\n",
              "            await google.colab.kernel.invokeFunction('convertToInteractive',\n",
              "                                                     [key], {});\n",
              "          if (!dataTable) return;\n",
              "\n",
              "          const docLinkHtml = 'Like what you see? Visit the ' +\n",
              "            '<a target=\"_blank\" href=https://colab.research.google.com/notebooks/data_table.ipynb>data table notebook</a>'\n",
              "            + ' to learn more about interactive tables.';\n",
              "          element.innerHTML = '';\n",
              "          dataTable['output_type'] = 'display_data';\n",
              "          await google.colab.output.renderOutput(dataTable, element);\n",
              "          const docLink = document.createElement('div');\n",
              "          docLink.innerHTML = docLinkHtml;\n",
              "          element.appendChild(docLink);\n",
              "        }\n",
              "      </script>\n",
              "    </div>\n",
              "  </div>\n",
              "  "
            ]
          },
          "metadata": {},
          "execution_count": 6
        }
      ]
    },
    {
      "cell_type": "code",
      "source": [
        "dff2.info()"
      ],
      "metadata": {
        "colab": {
          "base_uri": "https://localhost:8080/"
        },
        "id": "u0AQHIOiNlV-",
        "outputId": "7e42225d-5eba-49c9-b48b-11cfacc02dc5"
      },
      "execution_count": null,
      "outputs": [
        {
          "output_type": "stream",
          "name": "stdout",
          "text": [
            "<class 'pandas.core.frame.DataFrame'>\n",
            "RangeIndex: 5000 entries, 0 to 4999\n",
            "Data columns (total 4 columns):\n",
            " #   Column                    Non-Null Count  Dtype \n",
            "---  ------                    --------------  ----- \n",
            " 0   Unnamed: 0                5000 non-null   int64 \n",
            " 1   text                      5000 non-null   object\n",
            " 2   givenSummary              5000 non-null   object\n",
            " 3   scibert_scivocab_uncased  4988 non-null   object\n",
            "dtypes: int64(1), object(3)\n",
            "memory usage: 156.4+ KB\n"
          ]
        }
      ]
    },
    {
      "cell_type": "code",
      "source": [
        "dff2[dff2['scibert_scivocab_uncased'].isnull()].index.tolist()"
      ],
      "metadata": {
        "colab": {
          "base_uri": "https://localhost:8080/"
        },
        "id": "XFb2agctNqRk",
        "outputId": "a2d7ef4e-ebe6-4fc4-c96a-9cf6dccdffd3"
      },
      "execution_count": null,
      "outputs": [
        {
          "output_type": "execute_result",
          "data": {
            "text/plain": [
              "[151, 387, 1755, 2867, 3185, 3315, 3382, 3427, 4030, 4158, 4627, 4677]"
            ]
          },
          "metadata": {},
          "execution_count": 8
        }
      ]
    },
    {
      "cell_type": "code",
      "source": [
        "dff3 = pd.read_csv(\"/content/drive/MyDrive/SCDataset/FolderNew/mT5_m2m_crossSum_Combined_v.csv\")\n",
        "dff3"
      ],
      "metadata": {
        "colab": {
          "base_uri": "https://localhost:8080/",
          "height": 423
        },
        "id": "olfeSSxij_sW",
        "outputId": "bc11d699-cc47-4510-e81b-58da610effc2"
      },
      "execution_count": null,
      "outputs": [
        {
          "output_type": "execute_result",
          "data": {
            "text/plain": [
              "      Unnamed: 0.1  Unnamed: 0  \\\n",
              "0                0           0   \n",
              "1                1           1   \n",
              "2                2           2   \n",
              "3                3           3   \n",
              "4                4           4   \n",
              "...            ...         ...   \n",
              "4995           995        4995   \n",
              "4996           996        4996   \n",
              "4997           997        4997   \n",
              "4998           998        4998   \n",
              "4999           999        4999   \n",
              "\n",
              "                                                   text  \\\n",
              "0     ঢাকা মহানগর ও ঢাকা জেলা আদালত, কিশোরগঞ্জ ও রাঙ...   \n",
              "1     যুক্তরাষ্ট্রে বিজ্ঞান ও প্রকৌশলে পেশা শুরুর প...   \n",
              "2     বিকল্প শিশুখাদ্য ও বাণিজ্যিকভাবে উত্পাদিত শিশু...   \n",
              "3     বগুড়ার আদমদীঘির সান্তাহারে গতকাল শনিবার ট্রেন...   \n",
              "4     যাত্রাবাড়ীর একটি রেস্তোরাঁয় গতকাল বুধবার ভোর...   \n",
              "...                                                 ...   \n",
              "4995  দুই বছরে ১১ জনকে বিয়ে করেছেন এক তরুণী। এর মধ্য...   \n",
              "4996  জামালপুর পল্লী বিদ্যুৎ সমিতির আওতায় কুড়িগ্রামে...   \n",
              "4997  হলিউডের সর্বকালের আইকনদের একজন, অভিনেত্রী মেরি...   \n",
              "4998  ২৬ মার্চকে আন্তর্জাতিক গণহত্যা দিবস ঘোষণার জন...   \n",
              "4999  আধা ঘণ্টা থেকে এক ঘণ্টা টানা বৃষ্টি হলেই কুমিল...   \n",
              "\n",
              "                                           givenSummary  \\\n",
              "0            অ্যাপসে মিলবে ঢাকাসহ তিন জেলা আদালতের তথ্য   \n",
              "1     বিজ্ঞান ও প্রকৌশলে মার্কিন সর্বোচ্চ সম্মাননা...   \n",
              "2     বিকল্প শিশুখাদ্য গ্রহণে শিশুর মৃত্যু হলে শাস্ত...   \n",
              "3          ট্রেনে কাটা পড়ে সাবেক সিভিল সার্জনের মৃত্যু   \n",
              "4     যাত্রাবাড়ীতে চুলা জ্বালাতে গিয়ে দুই কর্মচারী ...   \n",
              "...                                                 ...   \n",
              "4995        দুই বছরে ১১ জনকে বিয়ে করলেন তরুণী, অতঃপর...   \n",
              "4996        ট্রান্সমিটার পরিবর্তন ও মিটার নিতে ঘুষ আদায়   \n",
              "4997                  ৪৮ লাখ ডলারে বিক্রি হলো সেই গাউন   \n",
              "4998   ২৬ মার্চকে আন্তর্জাতিক গণহত্যা দিবস ঘোষণার দাবি   \n",
              "4999  কুমিল্লা নগরে পানিপ্রবাহের পথ রুদ্ধ, অল্প বৃষ্...   \n",
              "\n",
              "                                       mT5_m2m_crossSum  \n",
              "0     বাংলাদেশের সব আদালতের মামলার সংক্রান্ত তথ্য এখ...  \n",
              "1     যুক্তরাষ্ট্রে বিজ্ঞান ও প্রকৌশলে পেশা শুরুর প্...  \n",
              "2     বাংলাদেশের স্বাস্থ্য মন্ত্রণালয়-সম্পর্কিত সংস...  \n",
              "3     বগুড়ার আদমদীঘির সান্তাহারে ট্রেনের নিচে কাটা ...  \n",
              "4     বাংলাদেশের রাজধানী ঢাকার যাত্রাবাড়ি মোড় এলাক...  \n",
              "...                                                 ...  \n",
              "4995  থাইল্যান্ডের এক তরুণী গত দুই বছরে ১১ জনের সঙ্গ...  \n",
              "4996  কুড়িগ্রামের রৌমারী ও রাজীবপুর উপজেলায় নতুন ব...  \n",
              "4997  হলিউডের সর্বকালের আইকনদের একজন, অভিনেত্রী মেরি...  \n",
              "4998  বাংলাদেশে আন্তর্জাতিক গণহত্যা দিবস ঘোষণার জন্য...  \n",
              "4999  কুমিল্লা সিটি করপোরেশনের কর্মকর্তারা বলছেন, গত...  \n",
              "\n",
              "[5000 rows x 5 columns]"
            ],
            "text/html": [
              "\n",
              "  <div id=\"df-4875fcce-2934-4939-81fe-18dc8bddac56\">\n",
              "    <div class=\"colab-df-container\">\n",
              "      <div>\n",
              "<style scoped>\n",
              "    .dataframe tbody tr th:only-of-type {\n",
              "        vertical-align: middle;\n",
              "    }\n",
              "\n",
              "    .dataframe tbody tr th {\n",
              "        vertical-align: top;\n",
              "    }\n",
              "\n",
              "    .dataframe thead th {\n",
              "        text-align: right;\n",
              "    }\n",
              "</style>\n",
              "<table border=\"1\" class=\"dataframe\">\n",
              "  <thead>\n",
              "    <tr style=\"text-align: right;\">\n",
              "      <th></th>\n",
              "      <th>Unnamed: 0.1</th>\n",
              "      <th>Unnamed: 0</th>\n",
              "      <th>text</th>\n",
              "      <th>givenSummary</th>\n",
              "      <th>mT5_m2m_crossSum</th>\n",
              "    </tr>\n",
              "  </thead>\n",
              "  <tbody>\n",
              "    <tr>\n",
              "      <th>0</th>\n",
              "      <td>0</td>\n",
              "      <td>0</td>\n",
              "      <td>ঢাকা মহানগর ও ঢাকা জেলা আদালত, কিশোরগঞ্জ ও রাঙ...</td>\n",
              "      <td>অ্যাপসে মিলবে ঢাকাসহ তিন জেলা আদালতের তথ্য</td>\n",
              "      <td>বাংলাদেশের সব আদালতের মামলার সংক্রান্ত তথ্য এখ...</td>\n",
              "    </tr>\n",
              "    <tr>\n",
              "      <th>1</th>\n",
              "      <td>1</td>\n",
              "      <td>1</td>\n",
              "      <td>যুক্তরাষ্ট্রে বিজ্ঞান ও প্রকৌশলে পেশা শুরুর প...</td>\n",
              "      <td>বিজ্ঞান ও প্রকৌশলে মার্কিন সর্বোচ্চ সম্মাননা...</td>\n",
              "      <td>যুক্তরাষ্ট্রে বিজ্ঞান ও প্রকৌশলে পেশা শুরুর প্...</td>\n",
              "    </tr>\n",
              "    <tr>\n",
              "      <th>2</th>\n",
              "      <td>2</td>\n",
              "      <td>2</td>\n",
              "      <td>বিকল্প শিশুখাদ্য ও বাণিজ্যিকভাবে উত্পাদিত শিশু...</td>\n",
              "      <td>বিকল্প শিশুখাদ্য গ্রহণে শিশুর মৃত্যু হলে শাস্ত...</td>\n",
              "      <td>বাংলাদেশের স্বাস্থ্য মন্ত্রণালয়-সম্পর্কিত সংস...</td>\n",
              "    </tr>\n",
              "    <tr>\n",
              "      <th>3</th>\n",
              "      <td>3</td>\n",
              "      <td>3</td>\n",
              "      <td>বগুড়ার আদমদীঘির সান্তাহারে গতকাল শনিবার ট্রেন...</td>\n",
              "      <td>ট্রেনে কাটা পড়ে সাবেক সিভিল সার্জনের মৃত্যু</td>\n",
              "      <td>বগুড়ার আদমদীঘির সান্তাহারে ট্রেনের নিচে কাটা ...</td>\n",
              "    </tr>\n",
              "    <tr>\n",
              "      <th>4</th>\n",
              "      <td>4</td>\n",
              "      <td>4</td>\n",
              "      <td>যাত্রাবাড়ীর একটি রেস্তোরাঁয় গতকাল বুধবার ভোর...</td>\n",
              "      <td>যাত্রাবাড়ীতে চুলা জ্বালাতে গিয়ে দুই কর্মচারী ...</td>\n",
              "      <td>বাংলাদেশের রাজধানী ঢাকার যাত্রাবাড়ি মোড় এলাক...</td>\n",
              "    </tr>\n",
              "    <tr>\n",
              "      <th>...</th>\n",
              "      <td>...</td>\n",
              "      <td>...</td>\n",
              "      <td>...</td>\n",
              "      <td>...</td>\n",
              "      <td>...</td>\n",
              "    </tr>\n",
              "    <tr>\n",
              "      <th>4995</th>\n",
              "      <td>995</td>\n",
              "      <td>4995</td>\n",
              "      <td>দুই বছরে ১১ জনকে বিয়ে করেছেন এক তরুণী। এর মধ্য...</td>\n",
              "      <td>দুই বছরে ১১ জনকে বিয়ে করলেন তরুণী, অতঃপর...</td>\n",
              "      <td>থাইল্যান্ডের এক তরুণী গত দুই বছরে ১১ জনের সঙ্গ...</td>\n",
              "    </tr>\n",
              "    <tr>\n",
              "      <th>4996</th>\n",
              "      <td>996</td>\n",
              "      <td>4996</td>\n",
              "      <td>জামালপুর পল্লী বিদ্যুৎ সমিতির আওতায় কুড়িগ্রামে...</td>\n",
              "      <td>ট্রান্সমিটার পরিবর্তন ও মিটার নিতে ঘুষ আদায়</td>\n",
              "      <td>কুড়িগ্রামের রৌমারী ও রাজীবপুর উপজেলায় নতুন ব...</td>\n",
              "    </tr>\n",
              "    <tr>\n",
              "      <th>4997</th>\n",
              "      <td>997</td>\n",
              "      <td>4997</td>\n",
              "      <td>হলিউডের সর্বকালের আইকনদের একজন, অভিনেত্রী মেরি...</td>\n",
              "      <td>৪৮ লাখ ডলারে বিক্রি হলো সেই গাউন</td>\n",
              "      <td>হলিউডের সর্বকালের আইকনদের একজন, অভিনেত্রী মেরি...</td>\n",
              "    </tr>\n",
              "    <tr>\n",
              "      <th>4998</th>\n",
              "      <td>998</td>\n",
              "      <td>4998</td>\n",
              "      <td>২৬ মার্চকে আন্তর্জাতিক গণহত্যা দিবস ঘোষণার জন...</td>\n",
              "      <td>২৬ মার্চকে আন্তর্জাতিক গণহত্যা দিবস ঘোষণার দাবি</td>\n",
              "      <td>বাংলাদেশে আন্তর্জাতিক গণহত্যা দিবস ঘোষণার জন্য...</td>\n",
              "    </tr>\n",
              "    <tr>\n",
              "      <th>4999</th>\n",
              "      <td>999</td>\n",
              "      <td>4999</td>\n",
              "      <td>আধা ঘণ্টা থেকে এক ঘণ্টা টানা বৃষ্টি হলেই কুমিল...</td>\n",
              "      <td>কুমিল্লা নগরে পানিপ্রবাহের পথ রুদ্ধ, অল্প বৃষ্...</td>\n",
              "      <td>কুমিল্লা সিটি করপোরেশনের কর্মকর্তারা বলছেন, গত...</td>\n",
              "    </tr>\n",
              "  </tbody>\n",
              "</table>\n",
              "<p>5000 rows × 5 columns</p>\n",
              "</div>\n",
              "      <button class=\"colab-df-convert\" onclick=\"convertToInteractive('df-4875fcce-2934-4939-81fe-18dc8bddac56')\"\n",
              "              title=\"Convert this dataframe to an interactive table.\"\n",
              "              style=\"display:none;\">\n",
              "        \n",
              "  <svg xmlns=\"http://www.w3.org/2000/svg\" height=\"24px\"viewBox=\"0 0 24 24\"\n",
              "       width=\"24px\">\n",
              "    <path d=\"M0 0h24v24H0V0z\" fill=\"none\"/>\n",
              "    <path d=\"M18.56 5.44l.94 2.06.94-2.06 2.06-.94-2.06-.94-.94-2.06-.94 2.06-2.06.94zm-11 1L8.5 8.5l.94-2.06 2.06-.94-2.06-.94L8.5 2.5l-.94 2.06-2.06.94zm10 10l.94 2.06.94-2.06 2.06-.94-2.06-.94-.94-2.06-.94 2.06-2.06.94z\"/><path d=\"M17.41 7.96l-1.37-1.37c-.4-.4-.92-.59-1.43-.59-.52 0-1.04.2-1.43.59L10.3 9.45l-7.72 7.72c-.78.78-.78 2.05 0 2.83L4 21.41c.39.39.9.59 1.41.59.51 0 1.02-.2 1.41-.59l7.78-7.78 2.81-2.81c.8-.78.8-2.07 0-2.86zM5.41 20L4 18.59l7.72-7.72 1.47 1.35L5.41 20z\"/>\n",
              "  </svg>\n",
              "      </button>\n",
              "      \n",
              "  <style>\n",
              "    .colab-df-container {\n",
              "      display:flex;\n",
              "      flex-wrap:wrap;\n",
              "      gap: 12px;\n",
              "    }\n",
              "\n",
              "    .colab-df-convert {\n",
              "      background-color: #E8F0FE;\n",
              "      border: none;\n",
              "      border-radius: 50%;\n",
              "      cursor: pointer;\n",
              "      display: none;\n",
              "      fill: #1967D2;\n",
              "      height: 32px;\n",
              "      padding: 0 0 0 0;\n",
              "      width: 32px;\n",
              "    }\n",
              "\n",
              "    .colab-df-convert:hover {\n",
              "      background-color: #E2EBFA;\n",
              "      box-shadow: 0px 1px 2px rgba(60, 64, 67, 0.3), 0px 1px 3px 1px rgba(60, 64, 67, 0.15);\n",
              "      fill: #174EA6;\n",
              "    }\n",
              "\n",
              "    [theme=dark] .colab-df-convert {\n",
              "      background-color: #3B4455;\n",
              "      fill: #D2E3FC;\n",
              "    }\n",
              "\n",
              "    [theme=dark] .colab-df-convert:hover {\n",
              "      background-color: #434B5C;\n",
              "      box-shadow: 0px 1px 3px 1px rgba(0, 0, 0, 0.15);\n",
              "      filter: drop-shadow(0px 1px 2px rgba(0, 0, 0, 0.3));\n",
              "      fill: #FFFFFF;\n",
              "    }\n",
              "  </style>\n",
              "\n",
              "      <script>\n",
              "        const buttonEl =\n",
              "          document.querySelector('#df-4875fcce-2934-4939-81fe-18dc8bddac56 button.colab-df-convert');\n",
              "        buttonEl.style.display =\n",
              "          google.colab.kernel.accessAllowed ? 'block' : 'none';\n",
              "\n",
              "        async function convertToInteractive(key) {\n",
              "          const element = document.querySelector('#df-4875fcce-2934-4939-81fe-18dc8bddac56');\n",
              "          const dataTable =\n",
              "            await google.colab.kernel.invokeFunction('convertToInteractive',\n",
              "                                                     [key], {});\n",
              "          if (!dataTable) return;\n",
              "\n",
              "          const docLinkHtml = 'Like what you see? Visit the ' +\n",
              "            '<a target=\"_blank\" href=https://colab.research.google.com/notebooks/data_table.ipynb>data table notebook</a>'\n",
              "            + ' to learn more about interactive tables.';\n",
              "          element.innerHTML = '';\n",
              "          dataTable['output_type'] = 'display_data';\n",
              "          await google.colab.output.renderOutput(dataTable, element);\n",
              "          const docLink = document.createElement('div');\n",
              "          docLink.innerHTML = docLinkHtml;\n",
              "          element.appendChild(docLink);\n",
              "        }\n",
              "      </script>\n",
              "    </div>\n",
              "  </div>\n",
              "  "
            ]
          },
          "metadata": {},
          "execution_count": 9
        }
      ]
    },
    {
      "cell_type": "code",
      "source": [
        "df = pd.DataFrame(columns = [\"text\", \"givenSummary\", \"mT5_multilingual_XLSum\", \"mT5_m2m_crossSum\", \"scibert_scivocab_uncased\", \"Bangla_text_summarization\"])\n",
        "rows = dff3.shape[0]\n",
        "\n",
        "for i in range(rows):\n",
        "    df.loc[i] = [dff3['text'][i], dff3['givenSummary'][i], dff0['mT5_multilingual_XLSum'][i], dff3['mT5_m2m_crossSum'][i], dff2['scibert_scivocab_uncased'][i], dff1['Bangla_text_summarization'][i]]\n",
        "df"
      ],
      "metadata": {
        "colab": {
          "base_uri": "https://localhost:8080/",
          "height": 762
        },
        "id": "r8JeNAszlhlx",
        "outputId": "7843f977-44d0-4450-a820-8c7db320b2ab"
      },
      "execution_count": null,
      "outputs": [
        {
          "output_type": "execute_result",
          "data": {
            "text/plain": [
              "                                                   text  \\\n",
              "0     ঢাকা মহানগর ও ঢাকা জেলা আদালত, কিশোরগঞ্জ ও রাঙ...   \n",
              "1     যুক্তরাষ্ট্রে বিজ্ঞান ও প্রকৌশলে পেশা শুরুর প...   \n",
              "2     বিকল্প শিশুখাদ্য ও বাণিজ্যিকভাবে উত্পাদিত শিশু...   \n",
              "3     বগুড়ার আদমদীঘির সান্তাহারে গতকাল শনিবার ট্রেন...   \n",
              "4     যাত্রাবাড়ীর একটি রেস্তোরাঁয় গতকাল বুধবার ভোর...   \n",
              "...                                                 ...   \n",
              "4995  দুই বছরে ১১ জনকে বিয়ে করেছেন এক তরুণী। এর মধ্য...   \n",
              "4996  জামালপুর পল্লী বিদ্যুৎ সমিতির আওতায় কুড়িগ্রামে...   \n",
              "4997  হলিউডের সর্বকালের আইকনদের একজন, অভিনেত্রী মেরি...   \n",
              "4998  ২৬ মার্চকে আন্তর্জাতিক গণহত্যা দিবস ঘোষণার জন...   \n",
              "4999  আধা ঘণ্টা থেকে এক ঘণ্টা টানা বৃষ্টি হলেই কুমিল...   \n",
              "\n",
              "                                           givenSummary  \\\n",
              "0            অ্যাপসে মিলবে ঢাকাসহ তিন জেলা আদালতের তথ্য   \n",
              "1     বিজ্ঞান ও প্রকৌশলে মার্কিন সর্বোচ্চ সম্মাননা...   \n",
              "2     বিকল্প শিশুখাদ্য গ্রহণে শিশুর মৃত্যু হলে শাস্ত...   \n",
              "3          ট্রেনে কাটা পড়ে সাবেক সিভিল সার্জনের মৃত্যু   \n",
              "4     যাত্রাবাড়ীতে চুলা জ্বালাতে গিয়ে দুই কর্মচারী ...   \n",
              "...                                                 ...   \n",
              "4995        দুই বছরে ১১ জনকে বিয়ে করলেন তরুণী, অতঃপর...   \n",
              "4996        ট্রান্সমিটার পরিবর্তন ও মিটার নিতে ঘুষ আদায়   \n",
              "4997                  ৪৮ লাখ ডলারে বিক্রি হলো সেই গাউন   \n",
              "4998   ২৬ মার্চকে আন্তর্জাতিক গণহত্যা দিবস ঘোষণার দাবি   \n",
              "4999  কুমিল্লা নগরে পানিপ্রবাহের পথ রুদ্ধ, অল্প বৃষ্...   \n",
              "\n",
              "                                 mT5_multilingual_XLSum  \\\n",
              "0     বাংলাদেশের সব আদালতের মামলার সংক্রান্ত তথ্য এখ...   \n",
              "1     যুক্তরাষ্ট্রে বিজ্ঞান ও প্রকৌশলে পেশা শুরুর প্...   \n",
              "2     বাংলাদেশে বিকল্প শিশুখাদ্য ও বাণিজ্যিকভাবে উত্...   \n",
              "3     বগুড়ার আদমদীঘির সান্তাহারে গতকাল শনিবার ট্রেন...   \n",
              "4     বাংলাদেশের রাজধানী ঢাকার যাত্রাবাড়ী মোড় এলাক...   \n",
              "...                                                 ...   \n",
              "4995  থাইল্যান্ডের এক তরুণী গত দুই বছরে ১১ জন পুরুষক...   \n",
              "4996  বাংলাদেশের কুড়িগ্রামের রৌমারী ও রাজীবপুর উপজে...   \n",
              "4997  হলিউডের সর্বকালের আইকনদের একজন, অভিনেত্রী মেরি...   \n",
              "4998  বাংলাদেশে ২৬ মার্চকে আন্তর্জাতিক গণহত্যা দিবস ...   \n",
              "4999  কুমিল্লা সিটি করপোরেশনের কর্মকর্তারা বলছেন, গত...   \n",
              "\n",
              "                                       mT5_m2m_crossSum  \\\n",
              "0     বাংলাদেশের সব আদালতের মামলার সংক্রান্ত তথ্য এখ...   \n",
              "1     যুক্তরাষ্ট্রে বিজ্ঞান ও প্রকৌশলে পেশা শুরুর প্...   \n",
              "2     বাংলাদেশের স্বাস্থ্য মন্ত্রণালয়-সম্পর্কিত সংস...   \n",
              "3     বগুড়ার আদমদীঘির সান্তাহারে ট্রেনের নিচে কাটা ...   \n",
              "4     বাংলাদেশের রাজধানী ঢাকার যাত্রাবাড়ি মোড় এলাক...   \n",
              "...                                                 ...   \n",
              "4995  থাইল্যান্ডের এক তরুণী গত দুই বছরে ১১ জনের সঙ্গ...   \n",
              "4996  কুড়িগ্রামের রৌমারী ও রাজীবপুর উপজেলায় নতুন ব...   \n",
              "4997  হলিউডের সর্বকালের আইকনদের একজন, অভিনেত্রী মেরি...   \n",
              "4998  বাংলাদেশে আন্তর্জাতিক গণহত্যা দিবস ঘোষণার জন্য...   \n",
              "4999  কুমিল্লা সিটি করপোরেশনের কর্মকর্তারা বলছেন, গত...   \n",
              "\n",
              "                               scibert_scivocab_uncased  \\\n",
              "0     তিনি জানান, এই অ্যাপসে আদালতের প্রতিদিনের মামল...   \n",
              "1     যুক্তরাষ্ট্রে বিজ্ঞান ও প্রকৌশলে পেশা শুরুর প্...   \n",
              "2     আজ মঙ্গলবার জাতীয় সংসদ ভবনে অনুষ্ঠিত কমিটির ব...   \n",
              "3     বগুড়ার আদমদীঘির সান্তাহারে গতকাল শনিবার ট্রেন...   \n",
              "4     যাত্রাবাড়ীর একটি রেস্তোরাঁয় গতকাল বুধবার ভোর...   \n",
              "...                                                 ...   \n",
              "4995  এর মধ্যে এক মাসেই চারজনকে বিয়ে করেন তিনি। থাই...   \n",
              "4996  জামালপুর পল্লী বিদ্যুৎ সমিতির আওতায় কুড়িগ্রা...   \n",
              "4997  হলিউডের সর্বকালের আইকনদের একজন, অভিনেত্রী মেরি...   \n",
              "4998  ২৬ মার্চকে আন্তর্জাতিক গণহত্যা দিবস ঘোষণার জন্...   \n",
              "4999  আধা ঘণ্টা থেকে এক ঘণ্টা টানা বৃষ্টি হলেই কুমিল...   \n",
              "\n",
              "                              Bangla_text_summarization  \n",
              "0     সেই 'মুচি জসীমের' মোবাইল নম্বর ক্লোন করে সাংবা...  \n",
              "1     নেত্রকোনায় বঙ্গবন্ধুকে পৌঁছে দিতে হবে প্রজন্ম...  \n",
              "2     চিকিৎসকদের অবহেলায় শিশু রাফিয়ার মৃত্যুর বিচা...  \n",
              "3     ট্রেন থেকে ট্রেনে কাটা পড়ে নিহত শাহ আলমের দাফ...  \n",
              "4     কলেজছাত্রীর গায়ে পেট্রল ঢেলে আগুন, ৯ দিন পর ম...  \n",
              "...                                                 ...  \n",
              "4995  জর্দান ফেরত সেই কুমারী মায়ের পাশে মানিকগঞ্জ প...  \n",
              "4996  ভোলায় ভুয়া এনজিও অফিস ঘেরাও, এক লাখ টাকা মুক...  \n",
              "4997  বরিশালের গান্ধী আশ্রমে হর্ষবর্ধণ স্পেকট্রোমিটা...  \n",
              "4998  ইলিশের জীবন রহস্য উম্মোচনের গবেষণাটি হাইজ্যাকে...  \n",
              "4999  পদ্মার ভযাবহ ভাঙ্গনে নড়িয়া-সুরেশ্বর সড়ক মন্...  \n",
              "\n",
              "[5000 rows x 6 columns]"
            ],
            "text/html": [
              "\n",
              "  <div id=\"df-828125e5-e09e-40c9-96c0-11bd0bdddac3\">\n",
              "    <div class=\"colab-df-container\">\n",
              "      <div>\n",
              "<style scoped>\n",
              "    .dataframe tbody tr th:only-of-type {\n",
              "        vertical-align: middle;\n",
              "    }\n",
              "\n",
              "    .dataframe tbody tr th {\n",
              "        vertical-align: top;\n",
              "    }\n",
              "\n",
              "    .dataframe thead th {\n",
              "        text-align: right;\n",
              "    }\n",
              "</style>\n",
              "<table border=\"1\" class=\"dataframe\">\n",
              "  <thead>\n",
              "    <tr style=\"text-align: right;\">\n",
              "      <th></th>\n",
              "      <th>text</th>\n",
              "      <th>givenSummary</th>\n",
              "      <th>mT5_multilingual_XLSum</th>\n",
              "      <th>mT5_m2m_crossSum</th>\n",
              "      <th>scibert_scivocab_uncased</th>\n",
              "      <th>Bangla_text_summarization</th>\n",
              "    </tr>\n",
              "  </thead>\n",
              "  <tbody>\n",
              "    <tr>\n",
              "      <th>0</th>\n",
              "      <td>ঢাকা মহানগর ও ঢাকা জেলা আদালত, কিশোরগঞ্জ ও রাঙ...</td>\n",
              "      <td>অ্যাপসে মিলবে ঢাকাসহ তিন জেলা আদালতের তথ্য</td>\n",
              "      <td>বাংলাদেশের সব আদালতের মামলার সংক্রান্ত তথ্য এখ...</td>\n",
              "      <td>বাংলাদেশের সব আদালতের মামলার সংক্রান্ত তথ্য এখ...</td>\n",
              "      <td>তিনি জানান, এই অ্যাপসে আদালতের প্রতিদিনের মামল...</td>\n",
              "      <td>সেই 'মুচি জসীমের' মোবাইল নম্বর ক্লোন করে সাংবা...</td>\n",
              "    </tr>\n",
              "    <tr>\n",
              "      <th>1</th>\n",
              "      <td>যুক্তরাষ্ট্রে বিজ্ঞান ও প্রকৌশলে পেশা শুরুর প...</td>\n",
              "      <td>বিজ্ঞান ও প্রকৌশলে মার্কিন সর্বোচ্চ সম্মাননা...</td>\n",
              "      <td>যুক্তরাষ্ট্রে বিজ্ঞান ও প্রকৌশলে পেশা শুরুর প্...</td>\n",
              "      <td>যুক্তরাষ্ট্রে বিজ্ঞান ও প্রকৌশলে পেশা শুরুর প্...</td>\n",
              "      <td>যুক্তরাষ্ট্রে বিজ্ঞান ও প্রকৌশলে পেশা শুরুর প্...</td>\n",
              "      <td>নেত্রকোনায় বঙ্গবন্ধুকে পৌঁছে দিতে হবে প্রজন্ম...</td>\n",
              "    </tr>\n",
              "    <tr>\n",
              "      <th>2</th>\n",
              "      <td>বিকল্প শিশুখাদ্য ও বাণিজ্যিকভাবে উত্পাদিত শিশু...</td>\n",
              "      <td>বিকল্প শিশুখাদ্য গ্রহণে শিশুর মৃত্যু হলে শাস্ত...</td>\n",
              "      <td>বাংলাদেশে বিকল্প শিশুখাদ্য ও বাণিজ্যিকভাবে উত্...</td>\n",
              "      <td>বাংলাদেশের স্বাস্থ্য মন্ত্রণালয়-সম্পর্কিত সংস...</td>\n",
              "      <td>আজ মঙ্গলবার জাতীয় সংসদ ভবনে অনুষ্ঠিত কমিটির ব...</td>\n",
              "      <td>চিকিৎসকদের অবহেলায় শিশু রাফিয়ার মৃত্যুর বিচা...</td>\n",
              "    </tr>\n",
              "    <tr>\n",
              "      <th>3</th>\n",
              "      <td>বগুড়ার আদমদীঘির সান্তাহারে গতকাল শনিবার ট্রেন...</td>\n",
              "      <td>ট্রেনে কাটা পড়ে সাবেক সিভিল সার্জনের মৃত্যু</td>\n",
              "      <td>বগুড়ার আদমদীঘির সান্তাহারে গতকাল শনিবার ট্রেন...</td>\n",
              "      <td>বগুড়ার আদমদীঘির সান্তাহারে ট্রেনের নিচে কাটা ...</td>\n",
              "      <td>বগুড়ার আদমদীঘির সান্তাহারে গতকাল শনিবার ট্রেন...</td>\n",
              "      <td>ট্রেন থেকে ট্রেনে কাটা পড়ে নিহত শাহ আলমের দাফ...</td>\n",
              "    </tr>\n",
              "    <tr>\n",
              "      <th>4</th>\n",
              "      <td>যাত্রাবাড়ীর একটি রেস্তোরাঁয় গতকাল বুধবার ভোর...</td>\n",
              "      <td>যাত্রাবাড়ীতে চুলা জ্বালাতে গিয়ে দুই কর্মচারী ...</td>\n",
              "      <td>বাংলাদেশের রাজধানী ঢাকার যাত্রাবাড়ী মোড় এলাক...</td>\n",
              "      <td>বাংলাদেশের রাজধানী ঢাকার যাত্রাবাড়ি মোড় এলাক...</td>\n",
              "      <td>যাত্রাবাড়ীর একটি রেস্তোরাঁয় গতকাল বুধবার ভোর...</td>\n",
              "      <td>কলেজছাত্রীর গায়ে পেট্রল ঢেলে আগুন, ৯ দিন পর ম...</td>\n",
              "    </tr>\n",
              "    <tr>\n",
              "      <th>...</th>\n",
              "      <td>...</td>\n",
              "      <td>...</td>\n",
              "      <td>...</td>\n",
              "      <td>...</td>\n",
              "      <td>...</td>\n",
              "      <td>...</td>\n",
              "    </tr>\n",
              "    <tr>\n",
              "      <th>4995</th>\n",
              "      <td>দুই বছরে ১১ জনকে বিয়ে করেছেন এক তরুণী। এর মধ্য...</td>\n",
              "      <td>দুই বছরে ১১ জনকে বিয়ে করলেন তরুণী, অতঃপর...</td>\n",
              "      <td>থাইল্যান্ডের এক তরুণী গত দুই বছরে ১১ জন পুরুষক...</td>\n",
              "      <td>থাইল্যান্ডের এক তরুণী গত দুই বছরে ১১ জনের সঙ্গ...</td>\n",
              "      <td>এর মধ্যে এক মাসেই চারজনকে বিয়ে করেন তিনি। থাই...</td>\n",
              "      <td>জর্দান ফেরত সেই কুমারী মায়ের পাশে মানিকগঞ্জ প...</td>\n",
              "    </tr>\n",
              "    <tr>\n",
              "      <th>4996</th>\n",
              "      <td>জামালপুর পল্লী বিদ্যুৎ সমিতির আওতায় কুড়িগ্রামে...</td>\n",
              "      <td>ট্রান্সমিটার পরিবর্তন ও মিটার নিতে ঘুষ আদায়</td>\n",
              "      <td>বাংলাদেশের কুড়িগ্রামের রৌমারী ও রাজীবপুর উপজে...</td>\n",
              "      <td>কুড়িগ্রামের রৌমারী ও রাজীবপুর উপজেলায় নতুন ব...</td>\n",
              "      <td>জামালপুর পল্লী বিদ্যুৎ সমিতির আওতায় কুড়িগ্রা...</td>\n",
              "      <td>ভোলায় ভুয়া এনজিও অফিস ঘেরাও, এক লাখ টাকা মুক...</td>\n",
              "    </tr>\n",
              "    <tr>\n",
              "      <th>4997</th>\n",
              "      <td>হলিউডের সর্বকালের আইকনদের একজন, অভিনেত্রী মেরি...</td>\n",
              "      <td>৪৮ লাখ ডলারে বিক্রি হলো সেই গাউন</td>\n",
              "      <td>হলিউডের সর্বকালের আইকনদের একজন, অভিনেত্রী মেরি...</td>\n",
              "      <td>হলিউডের সর্বকালের আইকনদের একজন, অভিনেত্রী মেরি...</td>\n",
              "      <td>হলিউডের সর্বকালের আইকনদের একজন, অভিনেত্রী মেরি...</td>\n",
              "      <td>বরিশালের গান্ধী আশ্রমে হর্ষবর্ধণ স্পেকট্রোমিটা...</td>\n",
              "    </tr>\n",
              "    <tr>\n",
              "      <th>4998</th>\n",
              "      <td>২৬ মার্চকে আন্তর্জাতিক গণহত্যা দিবস ঘোষণার জন...</td>\n",
              "      <td>২৬ মার্চকে আন্তর্জাতিক গণহত্যা দিবস ঘোষণার দাবি</td>\n",
              "      <td>বাংলাদেশে ২৬ মার্চকে আন্তর্জাতিক গণহত্যা দিবস ...</td>\n",
              "      <td>বাংলাদেশে আন্তর্জাতিক গণহত্যা দিবস ঘোষণার জন্য...</td>\n",
              "      <td>২৬ মার্চকে আন্তর্জাতিক গণহত্যা দিবস ঘোষণার জন্...</td>\n",
              "      <td>ইলিশের জীবন রহস্য উম্মোচনের গবেষণাটি হাইজ্যাকে...</td>\n",
              "    </tr>\n",
              "    <tr>\n",
              "      <th>4999</th>\n",
              "      <td>আধা ঘণ্টা থেকে এক ঘণ্টা টানা বৃষ্টি হলেই কুমিল...</td>\n",
              "      <td>কুমিল্লা নগরে পানিপ্রবাহের পথ রুদ্ধ, অল্প বৃষ্...</td>\n",
              "      <td>কুমিল্লা সিটি করপোরেশনের কর্মকর্তারা বলছেন, গত...</td>\n",
              "      <td>কুমিল্লা সিটি করপোরেশনের কর্মকর্তারা বলছেন, গত...</td>\n",
              "      <td>আধা ঘণ্টা থেকে এক ঘণ্টা টানা বৃষ্টি হলেই কুমিল...</td>\n",
              "      <td>পদ্মার ভযাবহ ভাঙ্গনে নড়িয়া-সুরেশ্বর সড়ক মন্...</td>\n",
              "    </tr>\n",
              "  </tbody>\n",
              "</table>\n",
              "<p>5000 rows × 6 columns</p>\n",
              "</div>\n",
              "      <button class=\"colab-df-convert\" onclick=\"convertToInteractive('df-828125e5-e09e-40c9-96c0-11bd0bdddac3')\"\n",
              "              title=\"Convert this dataframe to an interactive table.\"\n",
              "              style=\"display:none;\">\n",
              "        \n",
              "  <svg xmlns=\"http://www.w3.org/2000/svg\" height=\"24px\"viewBox=\"0 0 24 24\"\n",
              "       width=\"24px\">\n",
              "    <path d=\"M0 0h24v24H0V0z\" fill=\"none\"/>\n",
              "    <path d=\"M18.56 5.44l.94 2.06.94-2.06 2.06-.94-2.06-.94-.94-2.06-.94 2.06-2.06.94zm-11 1L8.5 8.5l.94-2.06 2.06-.94-2.06-.94L8.5 2.5l-.94 2.06-2.06.94zm10 10l.94 2.06.94-2.06 2.06-.94-2.06-.94-.94-2.06-.94 2.06-2.06.94z\"/><path d=\"M17.41 7.96l-1.37-1.37c-.4-.4-.92-.59-1.43-.59-.52 0-1.04.2-1.43.59L10.3 9.45l-7.72 7.72c-.78.78-.78 2.05 0 2.83L4 21.41c.39.39.9.59 1.41.59.51 0 1.02-.2 1.41-.59l7.78-7.78 2.81-2.81c.8-.78.8-2.07 0-2.86zM5.41 20L4 18.59l7.72-7.72 1.47 1.35L5.41 20z\"/>\n",
              "  </svg>\n",
              "      </button>\n",
              "      \n",
              "  <style>\n",
              "    .colab-df-container {\n",
              "      display:flex;\n",
              "      flex-wrap:wrap;\n",
              "      gap: 12px;\n",
              "    }\n",
              "\n",
              "    .colab-df-convert {\n",
              "      background-color: #E8F0FE;\n",
              "      border: none;\n",
              "      border-radius: 50%;\n",
              "      cursor: pointer;\n",
              "      display: none;\n",
              "      fill: #1967D2;\n",
              "      height: 32px;\n",
              "      padding: 0 0 0 0;\n",
              "      width: 32px;\n",
              "    }\n",
              "\n",
              "    .colab-df-convert:hover {\n",
              "      background-color: #E2EBFA;\n",
              "      box-shadow: 0px 1px 2px rgba(60, 64, 67, 0.3), 0px 1px 3px 1px rgba(60, 64, 67, 0.15);\n",
              "      fill: #174EA6;\n",
              "    }\n",
              "\n",
              "    [theme=dark] .colab-df-convert {\n",
              "      background-color: #3B4455;\n",
              "      fill: #D2E3FC;\n",
              "    }\n",
              "\n",
              "    [theme=dark] .colab-df-convert:hover {\n",
              "      background-color: #434B5C;\n",
              "      box-shadow: 0px 1px 3px 1px rgba(0, 0, 0, 0.15);\n",
              "      filter: drop-shadow(0px 1px 2px rgba(0, 0, 0, 0.3));\n",
              "      fill: #FFFFFF;\n",
              "    }\n",
              "  </style>\n",
              "\n",
              "      <script>\n",
              "        const buttonEl =\n",
              "          document.querySelector('#df-828125e5-e09e-40c9-96c0-11bd0bdddac3 button.colab-df-convert');\n",
              "        buttonEl.style.display =\n",
              "          google.colab.kernel.accessAllowed ? 'block' : 'none';\n",
              "\n",
              "        async function convertToInteractive(key) {\n",
              "          const element = document.querySelector('#df-828125e5-e09e-40c9-96c0-11bd0bdddac3');\n",
              "          const dataTable =\n",
              "            await google.colab.kernel.invokeFunction('convertToInteractive',\n",
              "                                                     [key], {});\n",
              "          if (!dataTable) return;\n",
              "\n",
              "          const docLinkHtml = 'Like what you see? Visit the ' +\n",
              "            '<a target=\"_blank\" href=https://colab.research.google.com/notebooks/data_table.ipynb>data table notebook</a>'\n",
              "            + ' to learn more about interactive tables.';\n",
              "          element.innerHTML = '';\n",
              "          dataTable['output_type'] = 'display_data';\n",
              "          await google.colab.output.renderOutput(dataTable, element);\n",
              "          const docLink = document.createElement('div');\n",
              "          docLink.innerHTML = docLinkHtml;\n",
              "          element.appendChild(docLink);\n",
              "        }\n",
              "      </script>\n",
              "    </div>\n",
              "  </div>\n",
              "  "
            ]
          },
          "metadata": {},
          "execution_count": 10
        }
      ]
    },
    {
      "cell_type": "code",
      "source": [
        "df.info()"
      ],
      "metadata": {
        "colab": {
          "base_uri": "https://localhost:8080/"
        },
        "id": "pt5eFwHJNv3r",
        "outputId": "9f69d6e3-ef95-41bb-fd23-544a9e0b8925"
      },
      "execution_count": null,
      "outputs": [
        {
          "output_type": "stream",
          "name": "stdout",
          "text": [
            "<class 'pandas.core.frame.DataFrame'>\n",
            "Int64Index: 5000 entries, 0 to 4999\n",
            "Data columns (total 6 columns):\n",
            " #   Column                     Non-Null Count  Dtype \n",
            "---  ------                     --------------  ----- \n",
            " 0   text                       5000 non-null   object\n",
            " 1   givenSummary               5000 non-null   object\n",
            " 2   mT5_multilingual_XLSum     5000 non-null   object\n",
            " 3   mT5_m2m_crossSum           5000 non-null   object\n",
            " 4   scibert_scivocab_uncased   4988 non-null   object\n",
            " 5   Bangla_text_summarization  5000 non-null   object\n",
            "dtypes: object(6)\n",
            "memory usage: 273.4+ KB\n"
          ]
        }
      ]
    },
    {
      "cell_type": "code",
      "source": [
        "df[df['scibert_scivocab_uncased'].isnull()].index.tolist()"
      ],
      "metadata": {
        "colab": {
          "base_uri": "https://localhost:8080/"
        },
        "id": "UVmuyjv2N0kz",
        "outputId": "cc80e487-7729-4802-8a25-092ba2054376"
      },
      "execution_count": null,
      "outputs": [
        {
          "output_type": "execute_result",
          "data": {
            "text/plain": [
              "[151, 387, 1755, 2867, 3185, 3315, 3382, 3427, 4030, 4158, 4627, 4677]"
            ]
          },
          "metadata": {},
          "execution_count": 12
        }
      ]
    },
    {
      "cell_type": "code",
      "source": [
        "df1 = df.drop(151)"
      ],
      "metadata": {
        "id": "LCpNZgjsbLGz"
      },
      "execution_count": null,
      "outputs": []
    },
    {
      "cell_type": "code",
      "source": [
        "a = df[df['scibert_scivocab_uncased'].isnull()].index.tolist()\n",
        "\n",
        "df1 = df.drop(a)\n",
        "\n",
        "df1[df1['scibert_scivocab_uncased'].isnull()].index.tolist()"
      ],
      "metadata": {
        "colab": {
          "base_uri": "https://localhost:8080/"
        },
        "id": "O1x0SBhAaiLs",
        "outputId": "3c6492ca-2364-4f79-90f1-7f855f0a82b8"
      },
      "execution_count": null,
      "outputs": [
        {
          "output_type": "execute_result",
          "data": {
            "text/plain": [
              "[]"
            ]
          },
          "metadata": {},
          "execution_count": 21
        }
      ]
    },
    {
      "cell_type": "code",
      "source": [
        "df1.info()"
      ],
      "metadata": {
        "colab": {
          "base_uri": "https://localhost:8080/"
        },
        "id": "ouABeCQ7a8jw",
        "outputId": "215b16c0-5f70-414d-d281-ef16d347e59e"
      },
      "execution_count": null,
      "outputs": [
        {
          "output_type": "stream",
          "name": "stdout",
          "text": [
            "<class 'pandas.core.frame.DataFrame'>\n",
            "Int64Index: 4988 entries, 0 to 4999\n",
            "Data columns (total 6 columns):\n",
            " #   Column                     Non-Null Count  Dtype \n",
            "---  ------                     --------------  ----- \n",
            " 0   text                       4988 non-null   object\n",
            " 1   givenSummary               4988 non-null   object\n",
            " 2   mT5_multilingual_XLSum     4988 non-null   object\n",
            " 3   mT5_m2m_crossSum           4988 non-null   object\n",
            " 4   scibert_scivocab_uncased   4988 non-null   object\n",
            " 5   Bangla_text_summarization  4988 non-null   object\n",
            "dtypes: object(6)\n",
            "memory usage: 272.8+ KB\n"
          ]
        }
      ]
    },
    {
      "cell_type": "code",
      "source": [
        "df1.reset_index()\n",
        "df1.to_csv(\"/content/drive/MyDrive/SCDataset/Final/preprocessed4Model2.csv\", index=False)"
      ],
      "metadata": {
        "id": "DxxdKwlxnXUB"
      },
      "execution_count": null,
      "outputs": []
    },
    {
      "cell_type": "code",
      "source": [
        "dfP = pd.read_csv(\"/content/drive/MyDrive/SCDataset/Final/preprocessed4Model2.csv\")\n",
        "dfP"
      ],
      "metadata": {
        "colab": {
          "base_uri": "https://localhost:8080/",
          "height": 762
        },
        "id": "EyyksH2knrzh",
        "outputId": "f5f57fd4-699c-45fc-a2f4-860d32356050"
      },
      "execution_count": null,
      "outputs": [
        {
          "output_type": "execute_result",
          "data": {
            "text/plain": [
              "                                                   text  \\\n",
              "0     ঢাকা মহানগর ও ঢাকা জেলা আদালত, কিশোরগঞ্জ ও রাঙ...   \n",
              "1     যুক্তরাষ্ট্রে বিজ্ঞান ও প্রকৌশলে পেশা শুরুর প...   \n",
              "2     বিকল্প শিশুখাদ্য ও বাণিজ্যিকভাবে উত্পাদিত শিশু...   \n",
              "3     বগুড়ার আদমদীঘির সান্তাহারে গতকাল শনিবার ট্রেন...   \n",
              "4     যাত্রাবাড়ীর একটি রেস্তোরাঁয় গতকাল বুধবার ভোর...   \n",
              "...                                                 ...   \n",
              "4983  দুই বছরে ১১ জনকে বিয়ে করেছেন এক তরুণী। এর মধ্য...   \n",
              "4984  জামালপুর পল্লী বিদ্যুৎ সমিতির আওতায় কুড়িগ্রামে...   \n",
              "4985  হলিউডের সর্বকালের আইকনদের একজন, অভিনেত্রী মেরি...   \n",
              "4986  ২৬ মার্চকে আন্তর্জাতিক গণহত্যা দিবস ঘোষণার জন...   \n",
              "4987  আধা ঘণ্টা থেকে এক ঘণ্টা টানা বৃষ্টি হলেই কুমিল...   \n",
              "\n",
              "                                           givenSummary  \\\n",
              "0            অ্যাপসে মিলবে ঢাকাসহ তিন জেলা আদালতের তথ্য   \n",
              "1     বিজ্ঞান ও প্রকৌশলে মার্কিন সর্বোচ্চ সম্মাননা...   \n",
              "2     বিকল্প শিশুখাদ্য গ্রহণে শিশুর মৃত্যু হলে শাস্ত...   \n",
              "3          ট্রেনে কাটা পড়ে সাবেক সিভিল সার্জনের মৃত্যু   \n",
              "4     যাত্রাবাড়ীতে চুলা জ্বালাতে গিয়ে দুই কর্মচারী ...   \n",
              "...                                                 ...   \n",
              "4983        দুই বছরে ১১ জনকে বিয়ে করলেন তরুণী, অতঃপর...   \n",
              "4984        ট্রান্সমিটার পরিবর্তন ও মিটার নিতে ঘুষ আদায়   \n",
              "4985                  ৪৮ লাখ ডলারে বিক্রি হলো সেই গাউন   \n",
              "4986   ২৬ মার্চকে আন্তর্জাতিক গণহত্যা দিবস ঘোষণার দাবি   \n",
              "4987  কুমিল্লা নগরে পানিপ্রবাহের পথ রুদ্ধ, অল্প বৃষ্...   \n",
              "\n",
              "                                 mT5_multilingual_XLSum  \\\n",
              "0     বাংলাদেশের সব আদালতের মামলার সংক্রান্ত তথ্য এখ...   \n",
              "1     যুক্তরাষ্ট্রে বিজ্ঞান ও প্রকৌশলে পেশা শুরুর প্...   \n",
              "2     বাংলাদেশে বিকল্প শিশুখাদ্য ও বাণিজ্যিকভাবে উত্...   \n",
              "3     বগুড়ার আদমদীঘির সান্তাহারে গতকাল শনিবার ট্রেন...   \n",
              "4     বাংলাদেশের রাজধানী ঢাকার যাত্রাবাড়ী মোড় এলাক...   \n",
              "...                                                 ...   \n",
              "4983  থাইল্যান্ডের এক তরুণী গত দুই বছরে ১১ জন পুরুষক...   \n",
              "4984  বাংলাদেশের কুড়িগ্রামের রৌমারী ও রাজীবপুর উপজে...   \n",
              "4985  হলিউডের সর্বকালের আইকনদের একজন, অভিনেত্রী মেরি...   \n",
              "4986  বাংলাদেশে ২৬ মার্চকে আন্তর্জাতিক গণহত্যা দিবস ...   \n",
              "4987  কুমিল্লা সিটি করপোরেশনের কর্মকর্তারা বলছেন, গত...   \n",
              "\n",
              "                                       mT5_m2m_crossSum  \\\n",
              "0     বাংলাদেশের সব আদালতের মামলার সংক্রান্ত তথ্য এখ...   \n",
              "1     যুক্তরাষ্ট্রে বিজ্ঞান ও প্রকৌশলে পেশা শুরুর প্...   \n",
              "2     বাংলাদেশের স্বাস্থ্য মন্ত্রণালয়-সম্পর্কিত সংস...   \n",
              "3     বগুড়ার আদমদীঘির সান্তাহারে ট্রেনের নিচে কাটা ...   \n",
              "4     বাংলাদেশের রাজধানী ঢাকার যাত্রাবাড়ি মোড় এলাক...   \n",
              "...                                                 ...   \n",
              "4983  থাইল্যান্ডের এক তরুণী গত দুই বছরে ১১ জনের সঙ্গ...   \n",
              "4984  কুড়িগ্রামের রৌমারী ও রাজীবপুর উপজেলায় নতুন ব...   \n",
              "4985  হলিউডের সর্বকালের আইকনদের একজন, অভিনেত্রী মেরি...   \n",
              "4986  বাংলাদেশে আন্তর্জাতিক গণহত্যা দিবস ঘোষণার জন্য...   \n",
              "4987  কুমিল্লা সিটি করপোরেশনের কর্মকর্তারা বলছেন, গত...   \n",
              "\n",
              "                               scibert_scivocab_uncased  \\\n",
              "0     তিনি জানান, এই অ্যাপসে আদালতের প্রতিদিনের মামল...   \n",
              "1     যুক্তরাষ্ট্রে বিজ্ঞান ও প্রকৌশলে পেশা শুরুর প্...   \n",
              "2     আজ মঙ্গলবার জাতীয় সংসদ ভবনে অনুষ্ঠিত কমিটির ব...   \n",
              "3     বগুড়ার আদমদীঘির সান্তাহারে গতকাল শনিবার ট্রেন...   \n",
              "4     যাত্রাবাড়ীর একটি রেস্তোরাঁয় গতকাল বুধবার ভোর...   \n",
              "...                                                 ...   \n",
              "4983  এর মধ্যে এক মাসেই চারজনকে বিয়ে করেন তিনি। থাই...   \n",
              "4984  জামালপুর পল্লী বিদ্যুৎ সমিতির আওতায় কুড়িগ্রা...   \n",
              "4985  হলিউডের সর্বকালের আইকনদের একজন, অভিনেত্রী মেরি...   \n",
              "4986  ২৬ মার্চকে আন্তর্জাতিক গণহত্যা দিবস ঘোষণার জন্...   \n",
              "4987  আধা ঘণ্টা থেকে এক ঘণ্টা টানা বৃষ্টি হলেই কুমিল...   \n",
              "\n",
              "                              Bangla_text_summarization  \n",
              "0     সেই 'মুচি জসীমের' মোবাইল নম্বর ক্লোন করে সাংবা...  \n",
              "1     নেত্রকোনায় বঙ্গবন্ধুকে পৌঁছে দিতে হবে প্রজন্ম...  \n",
              "2     চিকিৎসকদের অবহেলায় শিশু রাফিয়ার মৃত্যুর বিচা...  \n",
              "3     ট্রেন থেকে ট্রেনে কাটা পড়ে নিহত শাহ আলমের দাফ...  \n",
              "4     কলেজছাত্রীর গায়ে পেট্রল ঢেলে আগুন, ৯ দিন পর ম...  \n",
              "...                                                 ...  \n",
              "4983  জর্দান ফেরত সেই কুমারী মায়ের পাশে মানিকগঞ্জ প...  \n",
              "4984  ভোলায় ভুয়া এনজিও অফিস ঘেরাও, এক লাখ টাকা মুক...  \n",
              "4985  বরিশালের গান্ধী আশ্রমে হর্ষবর্ধণ স্পেকট্রোমিটা...  \n",
              "4986  ইলিশের জীবন রহস্য উম্মোচনের গবেষণাটি হাইজ্যাকে...  \n",
              "4987  পদ্মার ভযাবহ ভাঙ্গনে নড়িয়া-সুরেশ্বর সড়ক মন্...  \n",
              "\n",
              "[4988 rows x 6 columns]"
            ],
            "text/html": [
              "\n",
              "  <div id=\"df-bbfe7d9f-c4f0-475b-8c58-e772ea3426ae\">\n",
              "    <div class=\"colab-df-container\">\n",
              "      <div>\n",
              "<style scoped>\n",
              "    .dataframe tbody tr th:only-of-type {\n",
              "        vertical-align: middle;\n",
              "    }\n",
              "\n",
              "    .dataframe tbody tr th {\n",
              "        vertical-align: top;\n",
              "    }\n",
              "\n",
              "    .dataframe thead th {\n",
              "        text-align: right;\n",
              "    }\n",
              "</style>\n",
              "<table border=\"1\" class=\"dataframe\">\n",
              "  <thead>\n",
              "    <tr style=\"text-align: right;\">\n",
              "      <th></th>\n",
              "      <th>text</th>\n",
              "      <th>givenSummary</th>\n",
              "      <th>mT5_multilingual_XLSum</th>\n",
              "      <th>mT5_m2m_crossSum</th>\n",
              "      <th>scibert_scivocab_uncased</th>\n",
              "      <th>Bangla_text_summarization</th>\n",
              "    </tr>\n",
              "  </thead>\n",
              "  <tbody>\n",
              "    <tr>\n",
              "      <th>0</th>\n",
              "      <td>ঢাকা মহানগর ও ঢাকা জেলা আদালত, কিশোরগঞ্জ ও রাঙ...</td>\n",
              "      <td>অ্যাপসে মিলবে ঢাকাসহ তিন জেলা আদালতের তথ্য</td>\n",
              "      <td>বাংলাদেশের সব আদালতের মামলার সংক্রান্ত তথ্য এখ...</td>\n",
              "      <td>বাংলাদেশের সব আদালতের মামলার সংক্রান্ত তথ্য এখ...</td>\n",
              "      <td>তিনি জানান, এই অ্যাপসে আদালতের প্রতিদিনের মামল...</td>\n",
              "      <td>সেই 'মুচি জসীমের' মোবাইল নম্বর ক্লোন করে সাংবা...</td>\n",
              "    </tr>\n",
              "    <tr>\n",
              "      <th>1</th>\n",
              "      <td>যুক্তরাষ্ট্রে বিজ্ঞান ও প্রকৌশলে পেশা শুরুর প...</td>\n",
              "      <td>বিজ্ঞান ও প্রকৌশলে মার্কিন সর্বোচ্চ সম্মাননা...</td>\n",
              "      <td>যুক্তরাষ্ট্রে বিজ্ঞান ও প্রকৌশলে পেশা শুরুর প্...</td>\n",
              "      <td>যুক্তরাষ্ট্রে বিজ্ঞান ও প্রকৌশলে পেশা শুরুর প্...</td>\n",
              "      <td>যুক্তরাষ্ট্রে বিজ্ঞান ও প্রকৌশলে পেশা শুরুর প্...</td>\n",
              "      <td>নেত্রকোনায় বঙ্গবন্ধুকে পৌঁছে দিতে হবে প্রজন্ম...</td>\n",
              "    </tr>\n",
              "    <tr>\n",
              "      <th>2</th>\n",
              "      <td>বিকল্প শিশুখাদ্য ও বাণিজ্যিকভাবে উত্পাদিত শিশু...</td>\n",
              "      <td>বিকল্প শিশুখাদ্য গ্রহণে শিশুর মৃত্যু হলে শাস্ত...</td>\n",
              "      <td>বাংলাদেশে বিকল্প শিশুখাদ্য ও বাণিজ্যিকভাবে উত্...</td>\n",
              "      <td>বাংলাদেশের স্বাস্থ্য মন্ত্রণালয়-সম্পর্কিত সংস...</td>\n",
              "      <td>আজ মঙ্গলবার জাতীয় সংসদ ভবনে অনুষ্ঠিত কমিটির ব...</td>\n",
              "      <td>চিকিৎসকদের অবহেলায় শিশু রাফিয়ার মৃত্যুর বিচা...</td>\n",
              "    </tr>\n",
              "    <tr>\n",
              "      <th>3</th>\n",
              "      <td>বগুড়ার আদমদীঘির সান্তাহারে গতকাল শনিবার ট্রেন...</td>\n",
              "      <td>ট্রেনে কাটা পড়ে সাবেক সিভিল সার্জনের মৃত্যু</td>\n",
              "      <td>বগুড়ার আদমদীঘির সান্তাহারে গতকাল শনিবার ট্রেন...</td>\n",
              "      <td>বগুড়ার আদমদীঘির সান্তাহারে ট্রেনের নিচে কাটা ...</td>\n",
              "      <td>বগুড়ার আদমদীঘির সান্তাহারে গতকাল শনিবার ট্রেন...</td>\n",
              "      <td>ট্রেন থেকে ট্রেনে কাটা পড়ে নিহত শাহ আলমের দাফ...</td>\n",
              "    </tr>\n",
              "    <tr>\n",
              "      <th>4</th>\n",
              "      <td>যাত্রাবাড়ীর একটি রেস্তোরাঁয় গতকাল বুধবার ভোর...</td>\n",
              "      <td>যাত্রাবাড়ীতে চুলা জ্বালাতে গিয়ে দুই কর্মচারী ...</td>\n",
              "      <td>বাংলাদেশের রাজধানী ঢাকার যাত্রাবাড়ী মোড় এলাক...</td>\n",
              "      <td>বাংলাদেশের রাজধানী ঢাকার যাত্রাবাড়ি মোড় এলাক...</td>\n",
              "      <td>যাত্রাবাড়ীর একটি রেস্তোরাঁয় গতকাল বুধবার ভোর...</td>\n",
              "      <td>কলেজছাত্রীর গায়ে পেট্রল ঢেলে আগুন, ৯ দিন পর ম...</td>\n",
              "    </tr>\n",
              "    <tr>\n",
              "      <th>...</th>\n",
              "      <td>...</td>\n",
              "      <td>...</td>\n",
              "      <td>...</td>\n",
              "      <td>...</td>\n",
              "      <td>...</td>\n",
              "      <td>...</td>\n",
              "    </tr>\n",
              "    <tr>\n",
              "      <th>4983</th>\n",
              "      <td>দুই বছরে ১১ জনকে বিয়ে করেছেন এক তরুণী। এর মধ্য...</td>\n",
              "      <td>দুই বছরে ১১ জনকে বিয়ে করলেন তরুণী, অতঃপর...</td>\n",
              "      <td>থাইল্যান্ডের এক তরুণী গত দুই বছরে ১১ জন পুরুষক...</td>\n",
              "      <td>থাইল্যান্ডের এক তরুণী গত দুই বছরে ১১ জনের সঙ্গ...</td>\n",
              "      <td>এর মধ্যে এক মাসেই চারজনকে বিয়ে করেন তিনি। থাই...</td>\n",
              "      <td>জর্দান ফেরত সেই কুমারী মায়ের পাশে মানিকগঞ্জ প...</td>\n",
              "    </tr>\n",
              "    <tr>\n",
              "      <th>4984</th>\n",
              "      <td>জামালপুর পল্লী বিদ্যুৎ সমিতির আওতায় কুড়িগ্রামে...</td>\n",
              "      <td>ট্রান্সমিটার পরিবর্তন ও মিটার নিতে ঘুষ আদায়</td>\n",
              "      <td>বাংলাদেশের কুড়িগ্রামের রৌমারী ও রাজীবপুর উপজে...</td>\n",
              "      <td>কুড়িগ্রামের রৌমারী ও রাজীবপুর উপজেলায় নতুন ব...</td>\n",
              "      <td>জামালপুর পল্লী বিদ্যুৎ সমিতির আওতায় কুড়িগ্রা...</td>\n",
              "      <td>ভোলায় ভুয়া এনজিও অফিস ঘেরাও, এক লাখ টাকা মুক...</td>\n",
              "    </tr>\n",
              "    <tr>\n",
              "      <th>4985</th>\n",
              "      <td>হলিউডের সর্বকালের আইকনদের একজন, অভিনেত্রী মেরি...</td>\n",
              "      <td>৪৮ লাখ ডলারে বিক্রি হলো সেই গাউন</td>\n",
              "      <td>হলিউডের সর্বকালের আইকনদের একজন, অভিনেত্রী মেরি...</td>\n",
              "      <td>হলিউডের সর্বকালের আইকনদের একজন, অভিনেত্রী মেরি...</td>\n",
              "      <td>হলিউডের সর্বকালের আইকনদের একজন, অভিনেত্রী মেরি...</td>\n",
              "      <td>বরিশালের গান্ধী আশ্রমে হর্ষবর্ধণ স্পেকট্রোমিটা...</td>\n",
              "    </tr>\n",
              "    <tr>\n",
              "      <th>4986</th>\n",
              "      <td>২৬ মার্চকে আন্তর্জাতিক গণহত্যা দিবস ঘোষণার জন...</td>\n",
              "      <td>২৬ মার্চকে আন্তর্জাতিক গণহত্যা দিবস ঘোষণার দাবি</td>\n",
              "      <td>বাংলাদেশে ২৬ মার্চকে আন্তর্জাতিক গণহত্যা দিবস ...</td>\n",
              "      <td>বাংলাদেশে আন্তর্জাতিক গণহত্যা দিবস ঘোষণার জন্য...</td>\n",
              "      <td>২৬ মার্চকে আন্তর্জাতিক গণহত্যা দিবস ঘোষণার জন্...</td>\n",
              "      <td>ইলিশের জীবন রহস্য উম্মোচনের গবেষণাটি হাইজ্যাকে...</td>\n",
              "    </tr>\n",
              "    <tr>\n",
              "      <th>4987</th>\n",
              "      <td>আধা ঘণ্টা থেকে এক ঘণ্টা টানা বৃষ্টি হলেই কুমিল...</td>\n",
              "      <td>কুমিল্লা নগরে পানিপ্রবাহের পথ রুদ্ধ, অল্প বৃষ্...</td>\n",
              "      <td>কুমিল্লা সিটি করপোরেশনের কর্মকর্তারা বলছেন, গত...</td>\n",
              "      <td>কুমিল্লা সিটি করপোরেশনের কর্মকর্তারা বলছেন, গত...</td>\n",
              "      <td>আধা ঘণ্টা থেকে এক ঘণ্টা টানা বৃষ্টি হলেই কুমিল...</td>\n",
              "      <td>পদ্মার ভযাবহ ভাঙ্গনে নড়িয়া-সুরেশ্বর সড়ক মন্...</td>\n",
              "    </tr>\n",
              "  </tbody>\n",
              "</table>\n",
              "<p>4988 rows × 6 columns</p>\n",
              "</div>\n",
              "      <button class=\"colab-df-convert\" onclick=\"convertToInteractive('df-bbfe7d9f-c4f0-475b-8c58-e772ea3426ae')\"\n",
              "              title=\"Convert this dataframe to an interactive table.\"\n",
              "              style=\"display:none;\">\n",
              "        \n",
              "  <svg xmlns=\"http://www.w3.org/2000/svg\" height=\"24px\"viewBox=\"0 0 24 24\"\n",
              "       width=\"24px\">\n",
              "    <path d=\"M0 0h24v24H0V0z\" fill=\"none\"/>\n",
              "    <path d=\"M18.56 5.44l.94 2.06.94-2.06 2.06-.94-2.06-.94-.94-2.06-.94 2.06-2.06.94zm-11 1L8.5 8.5l.94-2.06 2.06-.94-2.06-.94L8.5 2.5l-.94 2.06-2.06.94zm10 10l.94 2.06.94-2.06 2.06-.94-2.06-.94-.94-2.06-.94 2.06-2.06.94z\"/><path d=\"M17.41 7.96l-1.37-1.37c-.4-.4-.92-.59-1.43-.59-.52 0-1.04.2-1.43.59L10.3 9.45l-7.72 7.72c-.78.78-.78 2.05 0 2.83L4 21.41c.39.39.9.59 1.41.59.51 0 1.02-.2 1.41-.59l7.78-7.78 2.81-2.81c.8-.78.8-2.07 0-2.86zM5.41 20L4 18.59l7.72-7.72 1.47 1.35L5.41 20z\"/>\n",
              "  </svg>\n",
              "      </button>\n",
              "      \n",
              "  <style>\n",
              "    .colab-df-container {\n",
              "      display:flex;\n",
              "      flex-wrap:wrap;\n",
              "      gap: 12px;\n",
              "    }\n",
              "\n",
              "    .colab-df-convert {\n",
              "      background-color: #E8F0FE;\n",
              "      border: none;\n",
              "      border-radius: 50%;\n",
              "      cursor: pointer;\n",
              "      display: none;\n",
              "      fill: #1967D2;\n",
              "      height: 32px;\n",
              "      padding: 0 0 0 0;\n",
              "      width: 32px;\n",
              "    }\n",
              "\n",
              "    .colab-df-convert:hover {\n",
              "      background-color: #E2EBFA;\n",
              "      box-shadow: 0px 1px 2px rgba(60, 64, 67, 0.3), 0px 1px 3px 1px rgba(60, 64, 67, 0.15);\n",
              "      fill: #174EA6;\n",
              "    }\n",
              "\n",
              "    [theme=dark] .colab-df-convert {\n",
              "      background-color: #3B4455;\n",
              "      fill: #D2E3FC;\n",
              "    }\n",
              "\n",
              "    [theme=dark] .colab-df-convert:hover {\n",
              "      background-color: #434B5C;\n",
              "      box-shadow: 0px 1px 3px 1px rgba(0, 0, 0, 0.15);\n",
              "      filter: drop-shadow(0px 1px 2px rgba(0, 0, 0, 0.3));\n",
              "      fill: #FFFFFF;\n",
              "    }\n",
              "  </style>\n",
              "\n",
              "      <script>\n",
              "        const buttonEl =\n",
              "          document.querySelector('#df-bbfe7d9f-c4f0-475b-8c58-e772ea3426ae button.colab-df-convert');\n",
              "        buttonEl.style.display =\n",
              "          google.colab.kernel.accessAllowed ? 'block' : 'none';\n",
              "\n",
              "        async function convertToInteractive(key) {\n",
              "          const element = document.querySelector('#df-bbfe7d9f-c4f0-475b-8c58-e772ea3426ae');\n",
              "          const dataTable =\n",
              "            await google.colab.kernel.invokeFunction('convertToInteractive',\n",
              "                                                     [key], {});\n",
              "          if (!dataTable) return;\n",
              "\n",
              "          const docLinkHtml = 'Like what you see? Visit the ' +\n",
              "            '<a target=\"_blank\" href=https://colab.research.google.com/notebooks/data_table.ipynb>data table notebook</a>'\n",
              "            + ' to learn more about interactive tables.';\n",
              "          element.innerHTML = '';\n",
              "          dataTable['output_type'] = 'display_data';\n",
              "          await google.colab.output.renderOutput(dataTable, element);\n",
              "          const docLink = document.createElement('div');\n",
              "          docLink.innerHTML = docLinkHtml;\n",
              "          element.appendChild(docLink);\n",
              "        }\n",
              "      </script>\n",
              "    </div>\n",
              "  </div>\n",
              "  "
            ]
          },
          "metadata": {},
          "execution_count": 27
        }
      ]
    },
    {
      "cell_type": "code",
      "source": [
        "dfP[dfP['scibert_scivocab_uncased'].isnull()].index.tolist()"
      ],
      "metadata": {
        "colab": {
          "base_uri": "https://localhost:8080/"
        },
        "id": "xMzWg5iJN8Qd",
        "outputId": "1caced64-20d9-4f0e-b4ca-4063253c3dd1"
      },
      "execution_count": null,
      "outputs": [
        {
          "output_type": "execute_result",
          "data": {
            "text/plain": [
              "[]"
            ]
          },
          "metadata": {},
          "execution_count": 78
        }
      ]
    },
    {
      "cell_type": "code",
      "source": [
        "dfP.info()"
      ],
      "metadata": {
        "colab": {
          "base_uri": "https://localhost:8080/"
        },
        "id": "KiU5zz3hNC-t",
        "outputId": "5ce1e233-0eb2-4649-bf1d-41812bd1e450"
      },
      "execution_count": null,
      "outputs": [
        {
          "output_type": "stream",
          "name": "stdout",
          "text": [
            "<class 'pandas.core.frame.DataFrame'>\n",
            "RangeIndex: 8102 entries, 0 to 8101\n",
            "Data columns (total 6 columns):\n",
            " #   Column                     Non-Null Count  Dtype \n",
            "---  ------                     --------------  ----- \n",
            " 0   text                       8102 non-null   object\n",
            " 1   givenSummary               8102 non-null   object\n",
            " 2   mT5_multilingual_XLSum     8102 non-null   object\n",
            " 3   mT5_m2m_crossSum           8102 non-null   object\n",
            " 4   scibert_scivocab_uncased   8102 non-null   object\n",
            " 5   Bangla_text_summarization  8102 non-null   object\n",
            "dtypes: object(6)\n",
            "memory usage: 379.9+ KB\n"
          ]
        }
      ]
    },
    {
      "cell_type": "code",
      "source": [
        "dfP['text'][376]"
      ],
      "metadata": {
        "colab": {
          "base_uri": "https://localhost:8080/",
          "height": 174
        },
        "id": "gHotTyD89pfS",
        "outputId": "9b75988c-233a-4426-fe99-491cc839c33e"
      },
      "execution_count": null,
      "outputs": [
        {
          "output_type": "execute_result",
          "data": {
            "text/plain": [
              "'শুক্রবার থেকেই বাংলাদেশের মুসলিমরা রোজা পালন শুরু করবেন। রোজায় একজন পূর্ণবয়স্ক মানুষ স্বাস্থ্য ঠিক রেখে কিভাবে রোজা করবেন বা রোজার সময় কোন ধরনের খাদ্য দ্রব্য বেশি নেয়া উচিত এমন প্রশ্নের জবাবে ঢাকা বিশ্ববিদ্যালয়ের পুষ্টি ও খাদ্য বিজ্ঞান ইন্সটিটিউটের অধ্যাপক গোলাম মাওলা বিবিসিকে বলেন অতিরিক্ত শারীরিক পরিশ্রম থেকে যেমন বিরত থাকতে হবে তেমনি সহজে হজম হয় এমন খাবার খেতে হবে। তবে তার মতে কোনোভাবেই বেশি খাওয়া যাবেনা। পুষ্টিবিদ অধ্যাপক নাজমা শাহীন বলছেন রোজার জন্য আলাদা ডায়েটের প্রয়োজন নেই। তবে পানি জাতীয় খাবার বেশি খেতে হবে তবে এর মধ্য বিশুদ্ধ পানি ও ফলের রসই বেশি কাজে লাগে। তিনি বলেন, \"ইফতার কোথা থেকে সংগ্রহ করা হচ্ছে সেটিও গুরুত্বপূর্ণ। এক্ষেত্রে ঘরে তৈরি খাবারই সবচেয়ে নিরাপদ। বেশী তেলে ভাজা বাজারের ইফতার শরীরের জন্য ক্ষতিকর হতে পারে\"। গোলাম মাওলা ও নাজমা শাহীন দুজনই মনে করেন তৈলাক্ত খাবার, ভাজা পোড়া বর্জন করাই ভালো। বরং ফল ও খেজুর শরীরে পুষ্টি ও শক্তি যোগাবে। আরো পড়ুন: একমাস রোজা রাখলে যা ঘটে আপনার শরীরে শিশুদের কি রোজা রাখতে দেয়া উচিত? রোজা: ছয়টি অতি পরিচিত ভুল ধারণা রোজার সময় চিকিৎসা বা ঔষধ খেতে চিকিৎসকের পরামর্শ নেয়া উচিত বলে বলছেন পুষ্টিবিদরা রোজা পালনকারীর জন্য কিছু টিপস: ১. ভাজাপোড়া খাবার নয় অধ্যাপক গোলাম মাওলা বলছেন মাছ ডাল ভাত আদর্শ খাবার। ভোররাতে গরুর মাংস এড়িয়ে মুরগী খেলে ভালো হবে। তবে প্রয়োজন শাক সবজি ও ডাল শরীরের জন্য ভালো হবে। অধ্যাপক নাজমা শাহীন বলছেন ব্যক্তিকেই আগে বুঝতে হবে কোনটি তার শরীরের জন্য ভালো হচ্ছেনা। যেটি ক্ষতিকর মনে হবে সেটিকে এড়াতে হবে। ২. খাদ্য তালিকায় কী থাকবে? পানি, ফল, চিড়া, রুটি, ভাত, সবজি, ডাল, ডিম, হালকা খিচুড়ি খাওয়া যেতে পারে। গোলাম মাওলা বলছেন মানসম্পন্ন হালিম শরীরের জন্য উপকারী হবে। এটি শক্তি বাড়ায়। ৩. সতর্ক হয়ে খেতে হবে বিরিয়ানি, তেহারির মতো খাবারকে ভারী খাবার হিসেবেই চিহ্নিত করা হয়। অধ্যাপক গোলাম মাওলা বলছেন মাঝে মধ্যে ইফতারির পর হালকা কম তেলযুক্ত তেহারি খাওয়া মন্দ না। ৪. নিয়মিত খাবারকে গুরুত্ব দিতে হবে পুষ্টিবিদ নাজমা শাহীন বলছেন, সাধারণত একজন মানুষ নিয়মিত যেসব খাবার খান রোজার সময়েই সেগুলোই তার জন্য যথেষ্ট। তবে সারাদিন রোজা পালন শেষে পানি খেতে হবে পর্যাপ্ত। আর বেশি গরম পড়লে সাবধানতা অবলম্বন করতে হবে। ৫. শারীরিক পরিশ্রম কমানো ও শান্ত থাকা রোজার সময় অতিরিক্ত শারীরিক পরিশ্রম সমস্যার কারণ হতে পারে। গোলাম মাওলা বলছেন একেবারে অলস থাকাও যেমন ক্ষতিকর তেমনি অতিরিক্ত পরিশ্রমও ক্ষতিকর হবে। তাই এসব বিষয়ে সাবধান হতে হবে। ৬. সহজে যাতে হজম হয় অধ্যাপক নাজমা শাহীন বলছেন রোজা পালনকারী ব্যক্তিকে বুঝতে হবে কোন খাবার গুলো তার সহজে হজম হয়। এসব খাবারকেই বেশি গুরুত্ব দিতে হবে। যেসব খাবার হজমে সমস্যা করে সেগুলো না খাওয়াই ভালো। কারণ রোজার সময় শরীরের এনজাইম যা হজর প্রক্রিয়ার মাধ্যমে তৈরি হয় সেটি বন্ধ থাকে। ৭. একবারে বেশি খাবার থেকে বিরত থাকা অধ্যাপক গোলাম মাওলা বলছেন সারাদিন রোজা পালনের পর একবারে অনেক খাবার খেলে সেটি ক্ষতিকর হতে পারে। তাই কোনভাবেই অতিরিক্ত খাবার খাওয়া যাবেনা। বরং ফল ও সবজি দিয়ে পরিমাণ মতো ইফতার করা যেতে পারে বলে মনে করেন তিনি। ৮. খাবার কিভাবে খাবেন? গোলাম মাওলা ও নাজমা শাহীন দুজনই বলছেন ধীরে ভালো করে চিবিয়ে খেতে হবে। ইফতারির শুরুতেই পানি শরীরের জন্য উপকারী। পাশাপাশি খেজুর শক্তি যোগাতে ভূমিকা রাখে। ৯. স্যুপ হতে পারে দারুণ খাবার রোজার সময় সারাদিন পর স্যুপ শরীরকে সতেজ করতে পারে এবং খাবার হজম প্রক্রিয়া ঠিক রাখতেও এটি কাজে লাগে। অধ্যাপক গোলাম মাওলা বলেন শাক সবজি তবে বাধা কপি বাদ দিয়ে ফুলকপির স্যুপ বা লেটুস পাতার স্যুপ অনেক উপকারী। লেটুস পাতায় কোন গ্যাস হয়না। আর গাজর খেলে সেটি হালুয়া বানিয়ে অল্প খাওয়া যেতে পারে। ১০.খাবার ও জীবনাচরণ ঠিক রাখা অধ্যাপক গোলাম মাওলা বলছেন শুধু খাবারই নয়, বরং এর পাশাপাশি প্রয়োজন পর্যাপ্ত ঘুম। আর কঠিন শারীরিক পরিশ্রম হয় এমন কাজ থেকে বিরত থাকতে হবে। ইফতারের পর বা সেহেরীর পর ধূমপান থেকেও বিরত থাকা উচিত। ১১. যারা ঔষধ সেবন করেন তারা রোজা করবেন কিভাবে? রমজানে সাধারণত কিছু সমস্যা হয় যার মধ্যে রয়েছে দুর্বলতা, ক্লান্তি কিংবা অ্যাসিটিডি। আর যারা ডায়াবেটিস, হৃদরোগ বা কিডনি জটিলতায় ভুগছেন তাদের অবশ্যই সতর্ক থাকতে হবে। অধ্যাপক গোলাম মাওলা ও অধ্যাপক নাজমা শাহীন দুজনই এসব বিষয়ে চিকিৎসকের পরামর্শকে সবচেয়ে বেশি গুরুত্ব দেয়ার পরামর্শ দিয়েছেন। মিস্টার মাওলা বলেন চিকিৎসকের পরামর্শ মেনে রোজা রেখেও ঔষধ সেবন করা সম্ভব। কারণ চিকিৎসকের পরামর্শ নিয়ে ইফতার থেকে সেহরির সময়ে ঔষধ সেবন করা যায়। সব ধরণের খাবার রাখতে হবে খাদ্য তালিকায় ব্যায়াম করবেন কখন? অনেকেই নিয়মিত শরীর চর্চা করেন। কিন্তু রোজার সময়ে অন্য সময়ের মতো ব্যায়াম করা সম্ভব হয়না। অধ্যাপক গোলাম মাওলার পরামর্শ হলো কোন ভাবেই রোজা করে অতিরিক্ত শারীরিক পরিশ্রম করা ঠিক হবেনা। তবে শরীর সায় দিলে হালকা শরীর চর্চা কেউ চাইলে সন্ধ্যার পর করতে পারে, যদিও শরীরের ওপর চাপ পড়ে এমন কিছু করা যাবেনা। তবে ইসলামিক ফাউন্ডেশনের হেলথ ইন্সট্রাক্টর মোহাম্মদ ইউনুস বলছেন যারা রোজা করবেন তাদের জন্য নামাজ বিশেষ করে ইফতারির পর রাতে তারাবির নামাজ নিয়মিত আদায় করাটাই বড় ব্যায়াম হতে পারে। এছাড়া ইফতারি বা রাতের খাবারের পর হাঁটাচলাও ব্যায়াম হিসেবে ভালো হবে। ব্যায়াম প্রশিক্ষকের অভিমত ঢাকার একটি সুপরিচিত হোটেলের ব্যায়ামাগারের প্রধান প্রশিক্ষক মিন্টু আকরাম বলছেন রোজার সময় অর্থাৎ রোজা পালন করে ভারী উপকরণ ব্যবহার করে ব্যায়াম উচিত হবেনা। \"ভারী উপকরণ ব্যবহার সেটা নিয়ন্ত্রণ করতে হবে ও যন্ত্রপাতি ব্যবহার করে ব্যায়ামের সময়ও কমিয়ে আনতে হবে\"। মিস্টার আকরামের মতে যারা নিয়মিত শরীর চর্চা করেন তাদের জন্য এটি নিয়মিত করা গুরুত্বপূর্ণ। কিন্তু রোজা পালন করলে সেটিও বিবেচনায় রাখতে হবে। রোজা করলে ইফতারির পর অন্তত আধাঘণ্টা বিরতি দিয়ে হালকা ওয়ার্ম আপ বা সকালে কিছুটা ওয়ার্ম আপ করা যেতে পারে ফিটনেস ধরে রাখার স্বার্থে। তবে ব্যায়ামের ক্ষেত্রেও নিজ নিজ প্রশিক্ষকের পরামর্শ মেনে চলার ওপর গুরুত্ব দিচ্ছেন এই প্রশিক্ষক। বিবিসি বাংলায় আরো পড়ুন: গণপরিবহনের চালকদের ইয়াবা গ্রহণের কারণ অর্থনৈতিক নিশ্চয়তা চায় উত্তর কোরিয়া? পর্ন তারকার মুখ বন্ধে টাকা খরচের কথা স্বীকার ট্রাম্পের'"
            ],
            "application/vnd.google.colaboratory.intrinsic+json": {
              "type": "string"
            }
          },
          "metadata": {},
          "execution_count": 23
        }
      ]
    },
    {
      "cell_type": "markdown",
      "metadata": {
        "id": "8t_zIqx9qx7Q"
      },
      "source": [
        "# Run the model over the dataset and calculate the best summary"
      ]
    },
    {
      "cell_type": "code",
      "execution_count": 6,
      "metadata": {
        "colab": {
          "base_uri": "https://localhost:8080/",
          "height": 1000
        },
        "id": "EMO01Lltn8ki",
        "outputId": "56aa4d39-0473-41f3-fc78-9ac47fb37c19"
      },
      "outputs": [
        {
          "output_type": "execute_result",
          "data": {
            "text/plain": [
              "                                                   text  \\\n",
              "0     দুর্গাপুজায় মহিষাসুর বধ্যে মধ্য দিয়ে অশুভর ও...   \n",
              "1     গত ২০ বছরে তিনি রাশিয়ার প্রেসিডেন্ট এবং প্রধা...   \n",
              "2     বরিশাল সদরে চলছে নির্বাচনী প্রচার প্রচারণা। যদ...   \n",
              "3     রবীন্দ্রনাথ ঠাকুর রবীন্দ্রনাথ ঠাকুর বাঙালির কা...   \n",
              "4     আর কুমিল্লা থেকে বাস ভাড়া করে অনেকের সাথে নিজ...   \n",
              "...                                                 ...   \n",
              "8097  ডোনাল্ড ট্রাম্প 'ডোনাল্ড ট্রাম্পের বোধশক্তি ঠি...   \n",
              "8098  মঙ্গলগ্রহে তরল পানি থাকার প্রমাণ খুঁজে পেয়েছে...   \n",
              "8099  বরগুনায় রিফাত শরীফ নামের এক যুবককে প্রকাশ্যে ...   \n",
              "8100  স্যেদি যুবরাজ মোহাম্মদ বিন সালমান ও ইরানের প্র...   \n",
              "8101  বাংলাদেশে পুলিশের ভাবমূর্তি এখনো একটি দুর্নীতি...   \n",
              "\n",
              "                                           givenSummary  \\\n",
              "0     হিন্দু বাঙালীরা যে সময়ে তাদের সবথেকে বড় উৎসব...   \n",
              "1     ভ্লাদিমির পুতিন তাঁর ক্ষমতায় থাকার ২০ বছর পূর...   \n",
              "2     বাংলাদেশের দক্ষিণাঞ্চলীয় জেলা বরিশাল এখন তুমু...   \n",
              "3     দু'হাজার চার সালে বিবিসি বাংলা একটি 'শ্রোতা জর...   \n",
              "4     'ভাষণ শুরু আগে মাথার উপর দিয়ে বিমান আর হেলিকপ...   \n",
              "...                                                 ...   \n",
              "8097                                         আরো পড়ুন:   \n",
              "8098                                         আরো পড়ুন:   \n",
              "8099                                           ঘটনা এক:   \n",
              "8100                                           সৌদি আরব   \n",
              "8101                                     কেস-স্টাডি ১ :   \n",
              "\n",
              "                                 mT5_multilingual_XLSum  \\\n",
              "0     দুর্গাপুজায় আর্যদের দেবী মহিষাসুরকে ছলনার মাধ...   \n",
              "1     ভ্লাদিমির পুতিন ২০ বছর বয়সে ক্ষমতায় আসার পর ...   \n",
              "2     বাংলাদেশের দক্ষিণাঞ্চলীয় জেলা বরিশাল সদরে ৩০শ...   \n",
              "3     বিবিসি বাংলা একটি 'শ্রোতা জরিপ'-এর আয়োজন করে।...   \n",
              "4     ১৯৭১ সালের ৭ই মার্চ ঢাকার রেসকোর্স ময়দানে শেখ...   \n",
              "...                                                 ...   \n",
              "8097  যুক্তরাষ্ট্রের প্রেসিডেন্ট ডোনাল্ড ট্রাম্পের স...   \n",
              "8098  মঙ্গলগ্রহে তরল পানি থাকার প্রমাণ খুঁজে পেয়েছে...   \n",
              "8099  বাংলাদেশের বরগুনায় রিফাত শরীফ নামের এক যুবককে...   \n",
              "8100  সৌদি আরব এবং ইরানের মধ্যে সাম্প্রতিক উত্তেজনা ...   \n",
              "8101  বাংলাদেশে পুলিশের ভাবমূর্তি এখনো একটি দুর্নীতি...   \n",
              "\n",
              "                                       mT5_m2m_crossSum  \\\n",
              "0     ভারতের আদিবাসীদের ধারণা ছিল, দুর্গাপুজায় অশুভ...   \n",
              "1     রাশিয়ার প্রেসিডেন্ট ভ্লাদিমির পুতিন তাঁর ক্ষম...   \n",
              "2     বাংলাদেশের রাজধানী বরিশাল-৫ আসনে নির্বাচনী প্র...   \n",
              "3     ভারতীয় সাহিত্যে নোবেল পুরস্কার জিতেছেন রবীন্দ...   \n",
              "4     ঢাকার রেসকোর্স ময়দানে শেখ মুজিবুর রহমানের ভাষ...   \n",
              "...                                                 ...   \n",
              "8097  যুক্তরাষ্ট্রের প্রেসিডেন্ট ডোনাল্ড ট্রাম্পের ব...   \n",
              "8098  বিজ্ঞানীরা মঙ্গলগ্রহে তরল পানি থাকার প্রমাণ খু...   \n",
              "8099  ঢাকাসহ বেশ কয়েকটি জেলায় কিশোরদের মধ্যে গ্যাং...   \n",
              "8100  সৌদি আরব এবং ইরানের মধ্যে সাম্প্রতিক উত্তেজনা ...   \n",
              "8101  বাংলাদেশে পুলিশের ভাবমূর্তি এখনো একটি দুর্নীতি...   \n",
              "\n",
              "                               scibert_scivocab_uncased  \\\n",
              "0     দুর্গাপুজায় মহিষাসুর বধ্যে মধ্য দিয়ে অশুভর ও...   \n",
              "1     গত ২০ বছরে তিনি রাশিয়ার প্রেসিডেন্ট এবং প্রধা...   \n",
              "2     যদিও প্রায় সব আসনেই প্রচার প্রচারণা বেশি চোখে...   \n",
              "3     বাংলা সাহিত্যের তিনি একজন উজ্জ্বল নক্ষত্র এবং ...   \n",
              "4     আর কুমিল্লা থেকে বাস ভাড়া করে অনেকের সাথে নিজ...   \n",
              "...                                                 ...   \n",
              "8097  ডোনাল্ড ট্রাম্প 'ডোনাল্ড ট্রাম্পের বোধশক্তি ঠি...   \n",
              "8098  তাদের বিশ্বাস, এটি একটি হৃদ এবং সেটি রাডার ব্য...   \n",
              "8099  বরগুনায় রিফাত শরীফ নামের এক যুবককে প্রকাশ্যে ...   \n",
              "8100  স্যেদি যুবরাজ মোহাম্মদ বিন সালমান ও ইরানের প্র...   \n",
              "8101  বাংলাদেশে পুলিশের ভাবমূর্তি এখনো একটি দুর্নীতি...   \n",
              "\n",
              "                              Bangla_text_summarization  BestSummary  \\\n",
              "0     বরিশালের গান্ধী আশ্রমে হর্ষবর্ধণ স্পেকট্রোমিটা...          NaN   \n",
              "1     মুখগুলো আজও স্বজনহারা বেদনায় প্রদানকারীর্ধণ স...          NaN   \n",
              "2     বরিশাল বিশ্ববিদ্যালয়ে শোক র ্যালি ও আলোচনাসভা...          NaN   \n",
              "3     মুক্তিযুদ্ধের বিপক্ষ শক্তিকে প্রতিহত করতে না প...          NaN   \n",
              "4     ময়লার স্তুপে হারিয়ে যাওয়া শহীদের কবর উদ্ধার...          NaN   \n",
              "...                                                 ...          ...   \n",
              "8097  বরিশালের গান্ধী আশ্রমে হর্ষবর্ধণ স্পেকট্রোমিটা...          NaN   \n",
              "8098  পদ্মার ভযাবহ ভাঙ্গনে নড়িয়া-সুরসুরেশ্বর সড়ক ...          NaN   \n",
              "8099  সৌদিতে নিহত মরজানের পরিবার পেলেন প্রাণিসম্পদ ব...          NaN   \n",
              "8100  সৌদিতে নিহত মরজানের পরিবার পেলেন প্রাণিসম্পদ ব...          NaN   \n",
              "8101  পুলিশ কর্মকর্তারা 'সামারি বিজনেস' করলে চাকরি জ...          NaN   \n",
              "\n",
              "      BestSummaryModel  \n",
              "0                  NaN  \n",
              "1                  NaN  \n",
              "2                  NaN  \n",
              "3                  NaN  \n",
              "4                  NaN  \n",
              "...                ...  \n",
              "8097               NaN  \n",
              "8098               NaN  \n",
              "8099               NaN  \n",
              "8100               NaN  \n",
              "8101               NaN  \n",
              "\n",
              "[8102 rows x 8 columns]"
            ],
            "text/html": [
              "\n",
              "\n",
              "  <div id=\"df-cec41926-efb6-4b79-9a0a-3f3225a6cfc6\">\n",
              "    <div class=\"colab-df-container\">\n",
              "      <div>\n",
              "<style scoped>\n",
              "    .dataframe tbody tr th:only-of-type {\n",
              "        vertical-align: middle;\n",
              "    }\n",
              "\n",
              "    .dataframe tbody tr th {\n",
              "        vertical-align: top;\n",
              "    }\n",
              "\n",
              "    .dataframe thead th {\n",
              "        text-align: right;\n",
              "    }\n",
              "</style>\n",
              "<table border=\"1\" class=\"dataframe\">\n",
              "  <thead>\n",
              "    <tr style=\"text-align: right;\">\n",
              "      <th></th>\n",
              "      <th>text</th>\n",
              "      <th>givenSummary</th>\n",
              "      <th>mT5_multilingual_XLSum</th>\n",
              "      <th>mT5_m2m_crossSum</th>\n",
              "      <th>scibert_scivocab_uncased</th>\n",
              "      <th>Bangla_text_summarization</th>\n",
              "      <th>BestSummary</th>\n",
              "      <th>BestSummaryModel</th>\n",
              "    </tr>\n",
              "  </thead>\n",
              "  <tbody>\n",
              "    <tr>\n",
              "      <th>0</th>\n",
              "      <td>দুর্গাপুজায় মহিষাসুর বধ্যে মধ্য দিয়ে অশুভর ও...</td>\n",
              "      <td>হিন্দু বাঙালীরা যে সময়ে তাদের সবথেকে বড় উৎসব...</td>\n",
              "      <td>দুর্গাপুজায় আর্যদের দেবী মহিষাসুরকে ছলনার মাধ...</td>\n",
              "      <td>ভারতের আদিবাসীদের ধারণা ছিল, দুর্গাপুজায় অশুভ...</td>\n",
              "      <td>দুর্গাপুজায় মহিষাসুর বধ্যে মধ্য দিয়ে অশুভর ও...</td>\n",
              "      <td>বরিশালের গান্ধী আশ্রমে হর্ষবর্ধণ স্পেকট্রোমিটা...</td>\n",
              "      <td>NaN</td>\n",
              "      <td>NaN</td>\n",
              "    </tr>\n",
              "    <tr>\n",
              "      <th>1</th>\n",
              "      <td>গত ২০ বছরে তিনি রাশিয়ার প্রেসিডেন্ট এবং প্রধা...</td>\n",
              "      <td>ভ্লাদিমির পুতিন তাঁর ক্ষমতায় থাকার ২০ বছর পূর...</td>\n",
              "      <td>ভ্লাদিমির পুতিন ২০ বছর বয়সে ক্ষমতায় আসার পর ...</td>\n",
              "      <td>রাশিয়ার প্রেসিডেন্ট ভ্লাদিমির পুতিন তাঁর ক্ষম...</td>\n",
              "      <td>গত ২০ বছরে তিনি রাশিয়ার প্রেসিডেন্ট এবং প্রধা...</td>\n",
              "      <td>মুখগুলো আজও স্বজনহারা বেদনায় প্রদানকারীর্ধণ স...</td>\n",
              "      <td>NaN</td>\n",
              "      <td>NaN</td>\n",
              "    </tr>\n",
              "    <tr>\n",
              "      <th>2</th>\n",
              "      <td>বরিশাল সদরে চলছে নির্বাচনী প্রচার প্রচারণা। যদ...</td>\n",
              "      <td>বাংলাদেশের দক্ষিণাঞ্চলীয় জেলা বরিশাল এখন তুমু...</td>\n",
              "      <td>বাংলাদেশের দক্ষিণাঞ্চলীয় জেলা বরিশাল সদরে ৩০শ...</td>\n",
              "      <td>বাংলাদেশের রাজধানী বরিশাল-৫ আসনে নির্বাচনী প্র...</td>\n",
              "      <td>যদিও প্রায় সব আসনেই প্রচার প্রচারণা বেশি চোখে...</td>\n",
              "      <td>বরিশাল বিশ্ববিদ্যালয়ে শোক র ্যালি ও আলোচনাসভা...</td>\n",
              "      <td>NaN</td>\n",
              "      <td>NaN</td>\n",
              "    </tr>\n",
              "    <tr>\n",
              "      <th>3</th>\n",
              "      <td>রবীন্দ্রনাথ ঠাকুর রবীন্দ্রনাথ ঠাকুর বাঙালির কা...</td>\n",
              "      <td>দু'হাজার চার সালে বিবিসি বাংলা একটি 'শ্রোতা জর...</td>\n",
              "      <td>বিবিসি বাংলা একটি 'শ্রোতা জরিপ'-এর আয়োজন করে।...</td>\n",
              "      <td>ভারতীয় সাহিত্যে নোবেল পুরস্কার জিতেছেন রবীন্দ...</td>\n",
              "      <td>বাংলা সাহিত্যের তিনি একজন উজ্জ্বল নক্ষত্র এবং ...</td>\n",
              "      <td>মুক্তিযুদ্ধের বিপক্ষ শক্তিকে প্রতিহত করতে না প...</td>\n",
              "      <td>NaN</td>\n",
              "      <td>NaN</td>\n",
              "    </tr>\n",
              "    <tr>\n",
              "      <th>4</th>\n",
              "      <td>আর কুমিল্লা থেকে বাস ভাড়া করে অনেকের সাথে নিজ...</td>\n",
              "      <td>'ভাষণ শুরু আগে মাথার উপর দিয়ে বিমান আর হেলিকপ...</td>\n",
              "      <td>১৯৭১ সালের ৭ই মার্চ ঢাকার রেসকোর্স ময়দানে শেখ...</td>\n",
              "      <td>ঢাকার রেসকোর্স ময়দানে শেখ মুজিবুর রহমানের ভাষ...</td>\n",
              "      <td>আর কুমিল্লা থেকে বাস ভাড়া করে অনেকের সাথে নিজ...</td>\n",
              "      <td>ময়লার স্তুপে হারিয়ে যাওয়া শহীদের কবর উদ্ধার...</td>\n",
              "      <td>NaN</td>\n",
              "      <td>NaN</td>\n",
              "    </tr>\n",
              "    <tr>\n",
              "      <th>...</th>\n",
              "      <td>...</td>\n",
              "      <td>...</td>\n",
              "      <td>...</td>\n",
              "      <td>...</td>\n",
              "      <td>...</td>\n",
              "      <td>...</td>\n",
              "      <td>...</td>\n",
              "      <td>...</td>\n",
              "    </tr>\n",
              "    <tr>\n",
              "      <th>8097</th>\n",
              "      <td>ডোনাল্ড ট্রাম্প 'ডোনাল্ড ট্রাম্পের বোধশক্তি ঠি...</td>\n",
              "      <td>আরো পড়ুন:</td>\n",
              "      <td>যুক্তরাষ্ট্রের প্রেসিডেন্ট ডোনাল্ড ট্রাম্পের স...</td>\n",
              "      <td>যুক্তরাষ্ট্রের প্রেসিডেন্ট ডোনাল্ড ট্রাম্পের ব...</td>\n",
              "      <td>ডোনাল্ড ট্রাম্প 'ডোনাল্ড ট্রাম্পের বোধশক্তি ঠি...</td>\n",
              "      <td>বরিশালের গান্ধী আশ্রমে হর্ষবর্ধণ স্পেকট্রোমিটা...</td>\n",
              "      <td>NaN</td>\n",
              "      <td>NaN</td>\n",
              "    </tr>\n",
              "    <tr>\n",
              "      <th>8098</th>\n",
              "      <td>মঙ্গলগ্রহে তরল পানি থাকার প্রমাণ খুঁজে পেয়েছে...</td>\n",
              "      <td>আরো পড়ুন:</td>\n",
              "      <td>মঙ্গলগ্রহে তরল পানি থাকার প্রমাণ খুঁজে পেয়েছে...</td>\n",
              "      <td>বিজ্ঞানীরা মঙ্গলগ্রহে তরল পানি থাকার প্রমাণ খু...</td>\n",
              "      <td>তাদের বিশ্বাস, এটি একটি হৃদ এবং সেটি রাডার ব্য...</td>\n",
              "      <td>পদ্মার ভযাবহ ভাঙ্গনে নড়িয়া-সুরসুরেশ্বর সড়ক ...</td>\n",
              "      <td>NaN</td>\n",
              "      <td>NaN</td>\n",
              "    </tr>\n",
              "    <tr>\n",
              "      <th>8099</th>\n",
              "      <td>বরগুনায় রিফাত শরীফ নামের এক যুবককে প্রকাশ্যে ...</td>\n",
              "      <td>ঘটনা এক:</td>\n",
              "      <td>বাংলাদেশের বরগুনায় রিফাত শরীফ নামের এক যুবককে...</td>\n",
              "      <td>ঢাকাসহ বেশ কয়েকটি জেলায় কিশোরদের মধ্যে গ্যাং...</td>\n",
              "      <td>বরগুনায় রিফাত শরীফ নামের এক যুবককে প্রকাশ্যে ...</td>\n",
              "      <td>সৌদিতে নিহত মরজানের পরিবার পেলেন প্রাণিসম্পদ ব...</td>\n",
              "      <td>NaN</td>\n",
              "      <td>NaN</td>\n",
              "    </tr>\n",
              "    <tr>\n",
              "      <th>8100</th>\n",
              "      <td>স্যেদি যুবরাজ মোহাম্মদ বিন সালমান ও ইরানের প্র...</td>\n",
              "      <td>সৌদি আরব</td>\n",
              "      <td>সৌদি আরব এবং ইরানের মধ্যে সাম্প্রতিক উত্তেজনা ...</td>\n",
              "      <td>সৌদি আরব এবং ইরানের মধ্যে সাম্প্রতিক উত্তেজনা ...</td>\n",
              "      <td>স্যেদি যুবরাজ মোহাম্মদ বিন সালমান ও ইরানের প্র...</td>\n",
              "      <td>সৌদিতে নিহত মরজানের পরিবার পেলেন প্রাণিসম্পদ ব...</td>\n",
              "      <td>NaN</td>\n",
              "      <td>NaN</td>\n",
              "    </tr>\n",
              "    <tr>\n",
              "      <th>8101</th>\n",
              "      <td>বাংলাদেশে পুলিশের ভাবমূর্তি এখনো একটি দুর্নীতি...</td>\n",
              "      <td>কেস-স্টাডি ১ :</td>\n",
              "      <td>বাংলাদেশে পুলিশের ভাবমূর্তি এখনো একটি দুর্নীতি...</td>\n",
              "      <td>বাংলাদেশে পুলিশের ভাবমূর্তি এখনো একটি দুর্নীতি...</td>\n",
              "      <td>বাংলাদেশে পুলিশের ভাবমূর্তি এখনো একটি দুর্নীতি...</td>\n",
              "      <td>পুলিশ কর্মকর্তারা 'সামারি বিজনেস' করলে চাকরি জ...</td>\n",
              "      <td>NaN</td>\n",
              "      <td>NaN</td>\n",
              "    </tr>\n",
              "  </tbody>\n",
              "</table>\n",
              "<p>8102 rows × 8 columns</p>\n",
              "</div>\n",
              "      <button class=\"colab-df-convert\" onclick=\"convertToInteractive('df-cec41926-efb6-4b79-9a0a-3f3225a6cfc6')\"\n",
              "              title=\"Convert this dataframe to an interactive table.\"\n",
              "              style=\"display:none;\">\n",
              "\n",
              "  <svg xmlns=\"http://www.w3.org/2000/svg\" height=\"24px\"viewBox=\"0 0 24 24\"\n",
              "       width=\"24px\">\n",
              "    <path d=\"M0 0h24v24H0V0z\" fill=\"none\"/>\n",
              "    <path d=\"M18.56 5.44l.94 2.06.94-2.06 2.06-.94-2.06-.94-.94-2.06-.94 2.06-2.06.94zm-11 1L8.5 8.5l.94-2.06 2.06-.94-2.06-.94L8.5 2.5l-.94 2.06-2.06.94zm10 10l.94 2.06.94-2.06 2.06-.94-2.06-.94-.94-2.06-.94 2.06-2.06.94z\"/><path d=\"M17.41 7.96l-1.37-1.37c-.4-.4-.92-.59-1.43-.59-.52 0-1.04.2-1.43.59L10.3 9.45l-7.72 7.72c-.78.78-.78 2.05 0 2.83L4 21.41c.39.39.9.59 1.41.59.51 0 1.02-.2 1.41-.59l7.78-7.78 2.81-2.81c.8-.78.8-2.07 0-2.86zM5.41 20L4 18.59l7.72-7.72 1.47 1.35L5.41 20z\"/>\n",
              "  </svg>\n",
              "      </button>\n",
              "\n",
              "\n",
              "\n",
              "    <div id=\"df-87a591b5-c4ae-4f96-982f-5f0bc46e5c3d\">\n",
              "      <button class=\"colab-df-quickchart\" onclick=\"quickchart('df-87a591b5-c4ae-4f96-982f-5f0bc46e5c3d')\"\n",
              "              title=\"Suggest charts.\"\n",
              "              style=\"display:none;\">\n",
              "\n",
              "<svg xmlns=\"http://www.w3.org/2000/svg\" height=\"24px\"viewBox=\"0 0 24 24\"\n",
              "     width=\"24px\">\n",
              "    <g>\n",
              "        <path d=\"M19 3H5c-1.1 0-2 .9-2 2v14c0 1.1.9 2 2 2h14c1.1 0 2-.9 2-2V5c0-1.1-.9-2-2-2zM9 17H7v-7h2v7zm4 0h-2V7h2v10zm4 0h-2v-4h2v4z\"/>\n",
              "    </g>\n",
              "</svg>\n",
              "      </button>\n",
              "    </div>\n",
              "\n",
              "<style>\n",
              "  .colab-df-quickchart {\n",
              "    background-color: #E8F0FE;\n",
              "    border: none;\n",
              "    border-radius: 50%;\n",
              "    cursor: pointer;\n",
              "    display: none;\n",
              "    fill: #1967D2;\n",
              "    height: 32px;\n",
              "    padding: 0 0 0 0;\n",
              "    width: 32px;\n",
              "  }\n",
              "\n",
              "  .colab-df-quickchart:hover {\n",
              "    background-color: #E2EBFA;\n",
              "    box-shadow: 0px 1px 2px rgba(60, 64, 67, 0.3), 0px 1px 3px 1px rgba(60, 64, 67, 0.15);\n",
              "    fill: #174EA6;\n",
              "  }\n",
              "\n",
              "  [theme=dark] .colab-df-quickchart {\n",
              "    background-color: #3B4455;\n",
              "    fill: #D2E3FC;\n",
              "  }\n",
              "\n",
              "  [theme=dark] .colab-df-quickchart:hover {\n",
              "    background-color: #434B5C;\n",
              "    box-shadow: 0px 1px 3px 1px rgba(0, 0, 0, 0.15);\n",
              "    filter: drop-shadow(0px 1px 2px rgba(0, 0, 0, 0.3));\n",
              "    fill: #FFFFFF;\n",
              "  }\n",
              "</style>\n",
              "\n",
              "    <script>\n",
              "      async function quickchart(key) {\n",
              "        const containerElement = document.querySelector('#' + key);\n",
              "        const charts = await google.colab.kernel.invokeFunction(\n",
              "            'suggestCharts', [key], {});\n",
              "      }\n",
              "    </script>\n",
              "\n",
              "      <script>\n",
              "\n",
              "function displayQuickchartButton(domScope) {\n",
              "  let quickchartButtonEl =\n",
              "    domScope.querySelector('#df-87a591b5-c4ae-4f96-982f-5f0bc46e5c3d button.colab-df-quickchart');\n",
              "  quickchartButtonEl.style.display =\n",
              "    google.colab.kernel.accessAllowed ? 'block' : 'none';\n",
              "}\n",
              "\n",
              "        displayQuickchartButton(document);\n",
              "      </script>\n",
              "      <style>\n",
              "    .colab-df-container {\n",
              "      display:flex;\n",
              "      flex-wrap:wrap;\n",
              "      gap: 12px;\n",
              "    }\n",
              "\n",
              "    .colab-df-convert {\n",
              "      background-color: #E8F0FE;\n",
              "      border: none;\n",
              "      border-radius: 50%;\n",
              "      cursor: pointer;\n",
              "      display: none;\n",
              "      fill: #1967D2;\n",
              "      height: 32px;\n",
              "      padding: 0 0 0 0;\n",
              "      width: 32px;\n",
              "    }\n",
              "\n",
              "    .colab-df-convert:hover {\n",
              "      background-color: #E2EBFA;\n",
              "      box-shadow: 0px 1px 2px rgba(60, 64, 67, 0.3), 0px 1px 3px 1px rgba(60, 64, 67, 0.15);\n",
              "      fill: #174EA6;\n",
              "    }\n",
              "\n",
              "    [theme=dark] .colab-df-convert {\n",
              "      background-color: #3B4455;\n",
              "      fill: #D2E3FC;\n",
              "    }\n",
              "\n",
              "    [theme=dark] .colab-df-convert:hover {\n",
              "      background-color: #434B5C;\n",
              "      box-shadow: 0px 1px 3px 1px rgba(0, 0, 0, 0.15);\n",
              "      filter: drop-shadow(0px 1px 2px rgba(0, 0, 0, 0.3));\n",
              "      fill: #FFFFFF;\n",
              "    }\n",
              "  </style>\n",
              "\n",
              "      <script>\n",
              "        const buttonEl =\n",
              "          document.querySelector('#df-cec41926-efb6-4b79-9a0a-3f3225a6cfc6 button.colab-df-convert');\n",
              "        buttonEl.style.display =\n",
              "          google.colab.kernel.accessAllowed ? 'block' : 'none';\n",
              "\n",
              "        async function convertToInteractive(key) {\n",
              "          const element = document.querySelector('#df-cec41926-efb6-4b79-9a0a-3f3225a6cfc6');\n",
              "          const dataTable =\n",
              "            await google.colab.kernel.invokeFunction('convertToInteractive',\n",
              "                                                     [key], {});\n",
              "          if (!dataTable) return;\n",
              "\n",
              "          const docLinkHtml = 'Like what you see? Visit the ' +\n",
              "            '<a target=\"_blank\" href=https://colab.research.google.com/notebooks/data_table.ipynb>data table notebook</a>'\n",
              "            + ' to learn more about interactive tables.';\n",
              "          element.innerHTML = '';\n",
              "          dataTable['output_type'] = 'display_data';\n",
              "          await google.colab.output.renderOutput(dataTable, element);\n",
              "          const docLink = document.createElement('div');\n",
              "          docLink.innerHTML = docLinkHtml;\n",
              "          element.appendChild(docLink);\n",
              "        }\n",
              "      </script>\n",
              "    </div>\n",
              "  </div>\n"
            ]
          },
          "metadata": {},
          "execution_count": 6
        }
      ],
      "source": [
        "df = pd.read_csv(\"/content/drive/MyDrive/SCDataset/Final/preprocessed4Model.csv\")\n",
        "# df = df.drop(['Unnamed: 0'], axis=1)\n",
        "df[\"BestSummary\"] = np.nan\n",
        "df[\"BestSummaryModel\"] = np.nan\n",
        "df"
      ]
    },
    {
      "cell_type": "code",
      "execution_count": null,
      "metadata": {
        "colab": {
          "base_uri": "https://localhost:8080/"
        },
        "id": "7CZIT-5K-8LZ",
        "outputId": "d0c8de9e-2710-40bf-d7fa-1ec077daecd7"
      },
      "outputs": [
        {
          "output_type": "stream",
          "name": "stdout",
          "text": [
            "<class 'pandas.core.frame.DataFrame'>\n",
            "RangeIndex: 8102 entries, 0 to 8101\n",
            "Data columns (total 8 columns):\n",
            " #   Column                     Non-Null Count  Dtype  \n",
            "---  ------                     --------------  -----  \n",
            " 0   text                       8102 non-null   object \n",
            " 1   givenSummary               8102 non-null   object \n",
            " 2   mT5_multilingual_XLSum     8102 non-null   object \n",
            " 3   mT5_m2m_crossSum           8102 non-null   object \n",
            " 4   scibert_scivocab_uncased   8102 non-null   object \n",
            " 5   Bangla_text_summarization  8102 non-null   object \n",
            " 6   BestSummary                0 non-null      float64\n",
            " 7   BestSummaryModel           0 non-null      float64\n",
            "dtypes: float64(2), object(6)\n",
            "memory usage: 506.5+ KB\n"
          ]
        }
      ],
      "source": [
        "df.info()"
      ]
    },
    {
      "cell_type": "code",
      "execution_count": null,
      "metadata": {
        "colab": {
          "base_uri": "https://localhost:8080/"
        },
        "id": "-T6Yb8IA9e0N",
        "outputId": "e9d11b2f-b034-41fd-a257-54c9bd807984"
      },
      "outputs": [
        {
          "output_type": "stream",
          "name": "stdout",
          "text": [
            "378    শিশুর বয়স ছয় মাস হওয়ার পর মায়ের বুকের দুধে...\n",
            "Name: givenSummary, dtype: object\n",
            "378    শিশুদের খাবার নিয়ে সবচেয়ে বেশি আলোচনা চলছে। ...\n",
            "Name: mT5_multilingual_XLSum, dtype: object\n",
            "378    শিশুদের অতিরিক্ত খাবার দেয়া উচিত? - এই প্রশ্ন...\n",
            "Name: mT5_m2m_crossSum, dtype: object\n",
            "378    - কীভাবে বুঝবেন শিশুর অতিরিক্ত খাবার দরকার? - ...\n",
            "Name: scibert_scivocab_uncased, dtype: object\n",
            "378    শেরপুরে নারীর ক্ষমতায়নে কিশোরীদের র ্যাবের হা...\n",
            "Name: Bangla_text_summarization, dtype: object\n"
          ]
        }
      ],
      "source": [
        "print(df.iloc[[378]]['givenSummary'])\n",
        "print(df.iloc[[378]]['mT5_multilingual_XLSum'])\n",
        "print(df.iloc[[378]]['mT5_m2m_crossSum'])\n",
        "print(df.iloc[[378]]['scibert_scivocab_uncased'])\n",
        "print(df.iloc[[378]]['Bangla_text_summarization'])"
      ]
    },
    {
      "cell_type": "code",
      "execution_count": null,
      "metadata": {
        "colab": {
          "base_uri": "https://localhost:8080/"
        },
        "id": "z99ZnIPf-5qL",
        "outputId": "49297d8f-f38a-48f7-869b-a0954d52f251"
      },
      "outputs": [
        {
          "output_type": "stream",
          "name": "stdout",
          "text": [
            "378    - কীভাবে বুঝবেন শিশুর অতিরিক্ত খাবার দরকার? - ...\n",
            "Name: scibert_scivocab_uncased, dtype: object\n"
          ]
        }
      ],
      "source": [
        "print(df.iloc[[378]]['scibert_scivocab_uncased'])"
      ]
    },
    {
      "cell_type": "code",
      "execution_count": null,
      "metadata": {
        "colab": {
          "base_uri": "https://localhost:8080/",
          "height": 53
        },
        "id": "wCTYsQvKr4iw",
        "outputId": "a49d9b15-81d7-42b1-cdb5-4caa6d4b8c17"
      },
      "outputs": [
        {
          "output_type": "execute_result",
          "data": {
            "text/plain": [
              "\"দুর্গাপুজায় আর্যদের দেবী মহিষাসুরকে ছলনার মাধ্যমে হত্যা করেছিলেন ভারতের অসুর আদিবাসী অধ্যুষিত এলাকা 'অসুর'-এর সরকারি তপশিলী উপজাতিরা। কিন্তু তাদের ইতিহাস কী?\""
            ],
            "application/vnd.google.colaboratory.intrinsic+json": {
              "type": "string"
            }
          },
          "metadata": {},
          "execution_count": 149
        }
      ],
      "source": [
        "df['mT5_multilingual_XLSum'][0]"
      ]
    },
    {
      "cell_type": "code",
      "execution_count": null,
      "metadata": {
        "id": "2T5uSUuXrFO_"
      },
      "outputs": [],
      "source": [
        "rows = df.shape[0]\n",
        "count = 0\n",
        "for i in range(rows):\n",
        "    sentences_list = [df['givenSummary'][i], df['mT5_multilingual_XLSum'][i], df['mT5_m2m_crossSum'][i], df['scibert_scivocab_uncased'][i], df['Bangla_text_summarization'][i]]\n",
        "    # print(sentences_list)\n",
        "    ranked = bn_generate_summary(sentences_list, 5)\n",
        "    if sentences_list[0] == ranked[0]:\n",
        "        df['BestSummary'][i] = ranked[1]\n",
        "    elif  sentences_list[0] != ranked[0]:\n",
        "        df['BestSummary'][i] = ranked[0]\n",
        "        count = count + 0\n",
        "\n",
        "    # break\n",
        "    print(i)"
      ]
    },
    {
      "cell_type": "code",
      "source": [
        "count"
      ],
      "metadata": {
        "colab": {
          "base_uri": "https://localhost:8080/"
        },
        "id": "k38fBDj8A8_B",
        "outputId": "9d1a4b60-0934-4d3a-e864-a3ae661d1cfb"
      },
      "execution_count": null,
      "outputs": [
        {
          "output_type": "execute_result",
          "data": {
            "text/plain": [
              "0"
            ]
          },
          "metadata": {},
          "execution_count": 151
        }
      ]
    },
    {
      "cell_type": "code",
      "execution_count": null,
      "metadata": {
        "id": "F1zZ62ZstKiP",
        "colab": {
          "base_uri": "https://localhost:8080/",
          "height": 1000
        },
        "outputId": "430e70bf-f71c-4749-faa5-ae3fd484b9ee"
      },
      "outputs": [
        {
          "output_type": "execute_result",
          "data": {
            "text/plain": [
              "                                                   text  \\\n",
              "0     দুর্গাপুজায় মহিষাসুর বধ্যে মধ্য দিয়ে অশুভর ও...   \n",
              "1     গত ২০ বছরে তিনি রাশিয়ার প্রেসিডেন্ট এবং প্রধা...   \n",
              "2     বরিশাল সদরে চলছে নির্বাচনী প্রচার প্রচারণা। যদ...   \n",
              "3     রবীন্দ্রনাথ ঠাকুর রবীন্দ্রনাথ ঠাকুর বাঙালির কা...   \n",
              "4     আর কুমিল্লা থেকে বাস ভাড়া করে অনেকের সাথে নিজ...   \n",
              "...                                                 ...   \n",
              "8097  ডোনাল্ড ট্রাম্প 'ডোনাল্ড ট্রাম্পের বোধশক্তি ঠি...   \n",
              "8098  মঙ্গলগ্রহে তরল পানি থাকার প্রমাণ খুঁজে পেয়েছে...   \n",
              "8099  বরগুনায় রিফাত শরীফ নামের এক যুবককে প্রকাশ্যে ...   \n",
              "8100  স্যেদি যুবরাজ মোহাম্মদ বিন সালমান ও ইরানের প্র...   \n",
              "8101  বাংলাদেশে পুলিশের ভাবমূর্তি এখনো একটি দুর্নীতি...   \n",
              "\n",
              "                                           givenSummary  \\\n",
              "0     হিন্দু বাঙালীরা যে সময়ে তাদের সবথেকে বড় উৎসব...   \n",
              "1     ভ্লাদিমির পুতিন তাঁর ক্ষমতায় থাকার ২০ বছর পূর...   \n",
              "2     বাংলাদেশের দক্ষিণাঞ্চলীয় জেলা বরিশাল এখন তুমু...   \n",
              "3     দু'হাজার চার সালে বিবিসি বাংলা একটি 'শ্রোতা জর...   \n",
              "4     'ভাষণ শুরু আগে মাথার উপর দিয়ে বিমান আর হেলিকপ...   \n",
              "...                                                 ...   \n",
              "8097                                         আরো পড়ুন:   \n",
              "8098                                         আরো পড়ুন:   \n",
              "8099                                           ঘটনা এক:   \n",
              "8100                                           সৌদি আরব   \n",
              "8101                                     কেস-স্টাডি ১ :   \n",
              "\n",
              "                                 mT5_multilingual_XLSum  \\\n",
              "0     দুর্গাপুজায় আর্যদের দেবী মহিষাসুরকে ছলনার মাধ...   \n",
              "1     ভ্লাদিমির পুতিন ২০ বছর বয়সে ক্ষমতায় আসার পর ...   \n",
              "2     বাংলাদেশের দক্ষিণাঞ্চলীয় জেলা বরিশাল সদরে ৩০শ...   \n",
              "3     বিবিসি বাংলা একটি 'শ্রোতা জরিপ'-এর আয়োজন করে।...   \n",
              "4     ১৯৭১ সালের ৭ই মার্চ ঢাকার রেসকোর্স ময়দানে শেখ...   \n",
              "...                                                 ...   \n",
              "8097  যুক্তরাষ্ট্রের প্রেসিডেন্ট ডোনাল্ড ট্রাম্পের স...   \n",
              "8098  মঙ্গলগ্রহে তরল পানি থাকার প্রমাণ খুঁজে পেয়েছে...   \n",
              "8099  বাংলাদেশের বরগুনায় রিফাত শরীফ নামের এক যুবককে...   \n",
              "8100  সৌদি আরব এবং ইরানের মধ্যে সাম্প্রতিক উত্তেজনা ...   \n",
              "8101  বাংলাদেশে পুলিশের ভাবমূর্তি এখনো একটি দুর্নীতি...   \n",
              "\n",
              "                                       mT5_m2m_crossSum  \\\n",
              "0     ভারতের আদিবাসীদের ধারণা ছিল, দুর্গাপুজায় অশুভ...   \n",
              "1     রাশিয়ার প্রেসিডেন্ট ভ্লাদিমির পুতিন তাঁর ক্ষম...   \n",
              "2     বাংলাদেশের রাজধানী বরিশাল-৫ আসনে নির্বাচনী প্র...   \n",
              "3     ভারতীয় সাহিত্যে নোবেল পুরস্কার জিতেছেন রবীন্দ...   \n",
              "4     ঢাকার রেসকোর্স ময়দানে শেখ মুজিবুর রহমানের ভাষ...   \n",
              "...                                                 ...   \n",
              "8097  যুক্তরাষ্ট্রের প্রেসিডেন্ট ডোনাল্ড ট্রাম্পের ব...   \n",
              "8098  বিজ্ঞানীরা মঙ্গলগ্রহে তরল পানি থাকার প্রমাণ খু...   \n",
              "8099  ঢাকাসহ বেশ কয়েকটি জেলায় কিশোরদের মধ্যে গ্যাং...   \n",
              "8100  সৌদি আরব এবং ইরানের মধ্যে সাম্প্রতিক উত্তেজনা ...   \n",
              "8101  বাংলাদেশে পুলিশের ভাবমূর্তি এখনো একটি দুর্নীতি...   \n",
              "\n",
              "                               scibert_scivocab_uncased  \\\n",
              "0     দুর্গাপুজায় মহিষাসুর বধ্যে মধ্য দিয়ে অশুভর ও...   \n",
              "1     গত ২০ বছরে তিনি রাশিয়ার প্রেসিডেন্ট এবং প্রধা...   \n",
              "2     যদিও প্রায় সব আসনেই প্রচার প্রচারণা বেশি চোখে...   \n",
              "3     বাংলা সাহিত্যের তিনি একজন উজ্জ্বল নক্ষত্র এবং ...   \n",
              "4     আর কুমিল্লা থেকে বাস ভাড়া করে অনেকের সাথে নিজ...   \n",
              "...                                                 ...   \n",
              "8097  ডোনাল্ড ট্রাম্প 'ডোনাল্ড ট্রাম্পের বোধশক্তি ঠি...   \n",
              "8098  তাদের বিশ্বাস, এটি একটি হৃদ এবং সেটি রাডার ব্য...   \n",
              "8099  বরগুনায় রিফাত শরীফ নামের এক যুবককে প্রকাশ্যে ...   \n",
              "8100  স্যেদি যুবরাজ মোহাম্মদ বিন সালমান ও ইরানের প্র...   \n",
              "8101  বাংলাদেশে পুলিশের ভাবমূর্তি এখনো একটি দুর্নীতি...   \n",
              "\n",
              "                              Bangla_text_summarization  \\\n",
              "0     বরিশালের গান্ধী আশ্রমে হর্ষবর্ধণ স্পেকট্রোমিটা...   \n",
              "1     মুখগুলো আজও স্বজনহারা বেদনায় প্রদানকারীর্ধণ স...   \n",
              "2     বরিশাল বিশ্ববিদ্যালয়ে শোক র ্যালি ও আলোচনাসভা...   \n",
              "3     মুক্তিযুদ্ধের বিপক্ষ শক্তিকে প্রতিহত করতে না প...   \n",
              "4     ময়লার স্তুপে হারিয়ে যাওয়া শহীদের কবর উদ্ধার...   \n",
              "...                                                 ...   \n",
              "8097  বরিশালের গান্ধী আশ্রমে হর্ষবর্ধণ স্পেকট্রোমিটা...   \n",
              "8098  পদ্মার ভযাবহ ভাঙ্গনে নড়িয়া-সুরসুরেশ্বর সড়ক ...   \n",
              "8099  সৌদিতে নিহত মরজানের পরিবার পেলেন প্রাণিসম্পদ ব...   \n",
              "8100  সৌদিতে নিহত মরজানের পরিবার পেলেন প্রাণিসম্পদ ব...   \n",
              "8101  পুলিশ কর্মকর্তারা 'সামারি বিজনেস' করলে চাকরি জ...   \n",
              "\n",
              "                                            BestSummary  BestSummaryModel  \n",
              "0     দুর্গাপুজায় আর্যদের দেবী মহিষাসুরকে ছলনার মাধ...               NaN  \n",
              "1     রাশিয়ার প্রেসিডেন্ট ভ্লাদিমির পুতিন তাঁর ক্ষম...               NaN  \n",
              "2     বাংলাদেশের দক্ষিণাঞ্চলীয় জেলা বরিশাল সদরে ৩০শ...               NaN  \n",
              "3     বিবিসি বাংলা একটি 'শ্রোতা জরিপ'-এর আয়োজন করে।...               NaN  \n",
              "4     আর কুমিল্লা থেকে বাস ভাড়া করে অনেকের সাথে নিজ...               NaN  \n",
              "...                                                 ...               ...  \n",
              "8097  যুক্তরাষ্ট্রের প্রেসিডেন্ট ডোনাল্ড ট্রাম্পের ব...               NaN  \n",
              "8098  বিজ্ঞানীরা মঙ্গলগ্রহে তরল পানি থাকার প্রমাণ খু...               NaN  \n",
              "8099  বাংলাদেশের বরগুনায় রিফাত শরীফ নামের এক যুবককে...               NaN  \n",
              "8100  সৌদি আরব এবং ইরানের মধ্যে সাম্প্রতিক উত্তেজনা ...               NaN  \n",
              "8101  বাংলাদেশে পুলিশের ভাবমূর্তি এখনো একটি দুর্নীতি...               NaN  \n",
              "\n",
              "[8102 rows x 8 columns]"
            ],
            "text/html": [
              "\n",
              "  <div id=\"df-aa866cb6-0753-4472-abca-5367be379c4a\">\n",
              "    <div class=\"colab-df-container\">\n",
              "      <div>\n",
              "<style scoped>\n",
              "    .dataframe tbody tr th:only-of-type {\n",
              "        vertical-align: middle;\n",
              "    }\n",
              "\n",
              "    .dataframe tbody tr th {\n",
              "        vertical-align: top;\n",
              "    }\n",
              "\n",
              "    .dataframe thead th {\n",
              "        text-align: right;\n",
              "    }\n",
              "</style>\n",
              "<table border=\"1\" class=\"dataframe\">\n",
              "  <thead>\n",
              "    <tr style=\"text-align: right;\">\n",
              "      <th></th>\n",
              "      <th>text</th>\n",
              "      <th>givenSummary</th>\n",
              "      <th>mT5_multilingual_XLSum</th>\n",
              "      <th>mT5_m2m_crossSum</th>\n",
              "      <th>scibert_scivocab_uncased</th>\n",
              "      <th>Bangla_text_summarization</th>\n",
              "      <th>BestSummary</th>\n",
              "      <th>BestSummaryModel</th>\n",
              "    </tr>\n",
              "  </thead>\n",
              "  <tbody>\n",
              "    <tr>\n",
              "      <th>0</th>\n",
              "      <td>দুর্গাপুজায় মহিষাসুর বধ্যে মধ্য দিয়ে অশুভর ও...</td>\n",
              "      <td>হিন্দু বাঙালীরা যে সময়ে তাদের সবথেকে বড় উৎসব...</td>\n",
              "      <td>দুর্গাপুজায় আর্যদের দেবী মহিষাসুরকে ছলনার মাধ...</td>\n",
              "      <td>ভারতের আদিবাসীদের ধারণা ছিল, দুর্গাপুজায় অশুভ...</td>\n",
              "      <td>দুর্গাপুজায় মহিষাসুর বধ্যে মধ্য দিয়ে অশুভর ও...</td>\n",
              "      <td>বরিশালের গান্ধী আশ্রমে হর্ষবর্ধণ স্পেকট্রোমিটা...</td>\n",
              "      <td>দুর্গাপুজায় আর্যদের দেবী মহিষাসুরকে ছলনার মাধ...</td>\n",
              "      <td>NaN</td>\n",
              "    </tr>\n",
              "    <tr>\n",
              "      <th>1</th>\n",
              "      <td>গত ২০ বছরে তিনি রাশিয়ার প্রেসিডেন্ট এবং প্রধা...</td>\n",
              "      <td>ভ্লাদিমির পুতিন তাঁর ক্ষমতায় থাকার ২০ বছর পূর...</td>\n",
              "      <td>ভ্লাদিমির পুতিন ২০ বছর বয়সে ক্ষমতায় আসার পর ...</td>\n",
              "      <td>রাশিয়ার প্রেসিডেন্ট ভ্লাদিমির পুতিন তাঁর ক্ষম...</td>\n",
              "      <td>গত ২০ বছরে তিনি রাশিয়ার প্রেসিডেন্ট এবং প্রধা...</td>\n",
              "      <td>মুখগুলো আজও স্বজনহারা বেদনায় প্রদানকারীর্ধণ স...</td>\n",
              "      <td>রাশিয়ার প্রেসিডেন্ট ভ্লাদিমির পুতিন তাঁর ক্ষম...</td>\n",
              "      <td>NaN</td>\n",
              "    </tr>\n",
              "    <tr>\n",
              "      <th>2</th>\n",
              "      <td>বরিশাল সদরে চলছে নির্বাচনী প্রচার প্রচারণা। যদ...</td>\n",
              "      <td>বাংলাদেশের দক্ষিণাঞ্চলীয় জেলা বরিশাল এখন তুমু...</td>\n",
              "      <td>বাংলাদেশের দক্ষিণাঞ্চলীয় জেলা বরিশাল সদরে ৩০শ...</td>\n",
              "      <td>বাংলাদেশের রাজধানী বরিশাল-৫ আসনে নির্বাচনী প্র...</td>\n",
              "      <td>যদিও প্রায় সব আসনেই প্রচার প্রচারণা বেশি চোখে...</td>\n",
              "      <td>বরিশাল বিশ্ববিদ্যালয়ে শোক র ্যালি ও আলোচনাসভা...</td>\n",
              "      <td>বাংলাদেশের দক্ষিণাঞ্চলীয় জেলা বরিশাল সদরে ৩০শ...</td>\n",
              "      <td>NaN</td>\n",
              "    </tr>\n",
              "    <tr>\n",
              "      <th>3</th>\n",
              "      <td>রবীন্দ্রনাথ ঠাকুর রবীন্দ্রনাথ ঠাকুর বাঙালির কা...</td>\n",
              "      <td>দু'হাজার চার সালে বিবিসি বাংলা একটি 'শ্রোতা জর...</td>\n",
              "      <td>বিবিসি বাংলা একটি 'শ্রোতা জরিপ'-এর আয়োজন করে।...</td>\n",
              "      <td>ভারতীয় সাহিত্যে নোবেল পুরস্কার জিতেছেন রবীন্দ...</td>\n",
              "      <td>বাংলা সাহিত্যের তিনি একজন উজ্জ্বল নক্ষত্র এবং ...</td>\n",
              "      <td>মুক্তিযুদ্ধের বিপক্ষ শক্তিকে প্রতিহত করতে না প...</td>\n",
              "      <td>বিবিসি বাংলা একটি 'শ্রোতা জরিপ'-এর আয়োজন করে।...</td>\n",
              "      <td>NaN</td>\n",
              "    </tr>\n",
              "    <tr>\n",
              "      <th>4</th>\n",
              "      <td>আর কুমিল্লা থেকে বাস ভাড়া করে অনেকের সাথে নিজ...</td>\n",
              "      <td>'ভাষণ শুরু আগে মাথার উপর দিয়ে বিমান আর হেলিকপ...</td>\n",
              "      <td>১৯৭১ সালের ৭ই মার্চ ঢাকার রেসকোর্স ময়দানে শেখ...</td>\n",
              "      <td>ঢাকার রেসকোর্স ময়দানে শেখ মুজিবুর রহমানের ভাষ...</td>\n",
              "      <td>আর কুমিল্লা থেকে বাস ভাড়া করে অনেকের সাথে নিজ...</td>\n",
              "      <td>ময়লার স্তুপে হারিয়ে যাওয়া শহীদের কবর উদ্ধার...</td>\n",
              "      <td>আর কুমিল্লা থেকে বাস ভাড়া করে অনেকের সাথে নিজ...</td>\n",
              "      <td>NaN</td>\n",
              "    </tr>\n",
              "    <tr>\n",
              "      <th>...</th>\n",
              "      <td>...</td>\n",
              "      <td>...</td>\n",
              "      <td>...</td>\n",
              "      <td>...</td>\n",
              "      <td>...</td>\n",
              "      <td>...</td>\n",
              "      <td>...</td>\n",
              "      <td>...</td>\n",
              "    </tr>\n",
              "    <tr>\n",
              "      <th>8097</th>\n",
              "      <td>ডোনাল্ড ট্রাম্প 'ডোনাল্ড ট্রাম্পের বোধশক্তি ঠি...</td>\n",
              "      <td>আরো পড়ুন:</td>\n",
              "      <td>যুক্তরাষ্ট্রের প্রেসিডেন্ট ডোনাল্ড ট্রাম্পের স...</td>\n",
              "      <td>যুক্তরাষ্ট্রের প্রেসিডেন্ট ডোনাল্ড ট্রাম্পের ব...</td>\n",
              "      <td>ডোনাল্ড ট্রাম্প 'ডোনাল্ড ট্রাম্পের বোধশক্তি ঠি...</td>\n",
              "      <td>বরিশালের গান্ধী আশ্রমে হর্ষবর্ধণ স্পেকট্রোমিটা...</td>\n",
              "      <td>যুক্তরাষ্ট্রের প্রেসিডেন্ট ডোনাল্ড ট্রাম্পের ব...</td>\n",
              "      <td>NaN</td>\n",
              "    </tr>\n",
              "    <tr>\n",
              "      <th>8098</th>\n",
              "      <td>মঙ্গলগ্রহে তরল পানি থাকার প্রমাণ খুঁজে পেয়েছে...</td>\n",
              "      <td>আরো পড়ুন:</td>\n",
              "      <td>মঙ্গলগ্রহে তরল পানি থাকার প্রমাণ খুঁজে পেয়েছে...</td>\n",
              "      <td>বিজ্ঞানীরা মঙ্গলগ্রহে তরল পানি থাকার প্রমাণ খু...</td>\n",
              "      <td>তাদের বিশ্বাস, এটি একটি হৃদ এবং সেটি রাডার ব্য...</td>\n",
              "      <td>পদ্মার ভযাবহ ভাঙ্গনে নড়িয়া-সুরসুরেশ্বর সড়ক ...</td>\n",
              "      <td>বিজ্ঞানীরা মঙ্গলগ্রহে তরল পানি থাকার প্রমাণ খু...</td>\n",
              "      <td>NaN</td>\n",
              "    </tr>\n",
              "    <tr>\n",
              "      <th>8099</th>\n",
              "      <td>বরগুনায় রিফাত শরীফ নামের এক যুবককে প্রকাশ্যে ...</td>\n",
              "      <td>ঘটনা এক:</td>\n",
              "      <td>বাংলাদেশের বরগুনায় রিফাত শরীফ নামের এক যুবককে...</td>\n",
              "      <td>ঢাকাসহ বেশ কয়েকটি জেলায় কিশোরদের মধ্যে গ্যাং...</td>\n",
              "      <td>বরগুনায় রিফাত শরীফ নামের এক যুবককে প্রকাশ্যে ...</td>\n",
              "      <td>সৌদিতে নিহত মরজানের পরিবার পেলেন প্রাণিসম্পদ ব...</td>\n",
              "      <td>বাংলাদেশের বরগুনায় রিফাত শরীফ নামের এক যুবককে...</td>\n",
              "      <td>NaN</td>\n",
              "    </tr>\n",
              "    <tr>\n",
              "      <th>8100</th>\n",
              "      <td>স্যেদি যুবরাজ মোহাম্মদ বিন সালমান ও ইরানের প্র...</td>\n",
              "      <td>সৌদি আরব</td>\n",
              "      <td>সৌদি আরব এবং ইরানের মধ্যে সাম্প্রতিক উত্তেজনা ...</td>\n",
              "      <td>সৌদি আরব এবং ইরানের মধ্যে সাম্প্রতিক উত্তেজনা ...</td>\n",
              "      <td>স্যেদি যুবরাজ মোহাম্মদ বিন সালমান ও ইরানের প্র...</td>\n",
              "      <td>সৌদিতে নিহত মরজানের পরিবার পেলেন প্রাণিসম্পদ ব...</td>\n",
              "      <td>সৌদি আরব এবং ইরানের মধ্যে সাম্প্রতিক উত্তেজনা ...</td>\n",
              "      <td>NaN</td>\n",
              "    </tr>\n",
              "    <tr>\n",
              "      <th>8101</th>\n",
              "      <td>বাংলাদেশে পুলিশের ভাবমূর্তি এখনো একটি দুর্নীতি...</td>\n",
              "      <td>কেস-স্টাডি ১ :</td>\n",
              "      <td>বাংলাদেশে পুলিশের ভাবমূর্তি এখনো একটি দুর্নীতি...</td>\n",
              "      <td>বাংলাদেশে পুলিশের ভাবমূর্তি এখনো একটি দুর্নীতি...</td>\n",
              "      <td>বাংলাদেশে পুলিশের ভাবমূর্তি এখনো একটি দুর্নীতি...</td>\n",
              "      <td>পুলিশ কর্মকর্তারা 'সামারি বিজনেস' করলে চাকরি জ...</td>\n",
              "      <td>বাংলাদেশে পুলিশের ভাবমূর্তি এখনো একটি দুর্নীতি...</td>\n",
              "      <td>NaN</td>\n",
              "    </tr>\n",
              "  </tbody>\n",
              "</table>\n",
              "<p>8102 rows × 8 columns</p>\n",
              "</div>\n",
              "      <button class=\"colab-df-convert\" onclick=\"convertToInteractive('df-aa866cb6-0753-4472-abca-5367be379c4a')\"\n",
              "              title=\"Convert this dataframe to an interactive table.\"\n",
              "              style=\"display:none;\">\n",
              "        \n",
              "  <svg xmlns=\"http://www.w3.org/2000/svg\" height=\"24px\"viewBox=\"0 0 24 24\"\n",
              "       width=\"24px\">\n",
              "    <path d=\"M0 0h24v24H0V0z\" fill=\"none\"/>\n",
              "    <path d=\"M18.56 5.44l.94 2.06.94-2.06 2.06-.94-2.06-.94-.94-2.06-.94 2.06-2.06.94zm-11 1L8.5 8.5l.94-2.06 2.06-.94-2.06-.94L8.5 2.5l-.94 2.06-2.06.94zm10 10l.94 2.06.94-2.06 2.06-.94-2.06-.94-.94-2.06-.94 2.06-2.06.94z\"/><path d=\"M17.41 7.96l-1.37-1.37c-.4-.4-.92-.59-1.43-.59-.52 0-1.04.2-1.43.59L10.3 9.45l-7.72 7.72c-.78.78-.78 2.05 0 2.83L4 21.41c.39.39.9.59 1.41.59.51 0 1.02-.2 1.41-.59l7.78-7.78 2.81-2.81c.8-.78.8-2.07 0-2.86zM5.41 20L4 18.59l7.72-7.72 1.47 1.35L5.41 20z\"/>\n",
              "  </svg>\n",
              "      </button>\n",
              "      \n",
              "  <style>\n",
              "    .colab-df-container {\n",
              "      display:flex;\n",
              "      flex-wrap:wrap;\n",
              "      gap: 12px;\n",
              "    }\n",
              "\n",
              "    .colab-df-convert {\n",
              "      background-color: #E8F0FE;\n",
              "      border: none;\n",
              "      border-radius: 50%;\n",
              "      cursor: pointer;\n",
              "      display: none;\n",
              "      fill: #1967D2;\n",
              "      height: 32px;\n",
              "      padding: 0 0 0 0;\n",
              "      width: 32px;\n",
              "    }\n",
              "\n",
              "    .colab-df-convert:hover {\n",
              "      background-color: #E2EBFA;\n",
              "      box-shadow: 0px 1px 2px rgba(60, 64, 67, 0.3), 0px 1px 3px 1px rgba(60, 64, 67, 0.15);\n",
              "      fill: #174EA6;\n",
              "    }\n",
              "\n",
              "    [theme=dark] .colab-df-convert {\n",
              "      background-color: #3B4455;\n",
              "      fill: #D2E3FC;\n",
              "    }\n",
              "\n",
              "    [theme=dark] .colab-df-convert:hover {\n",
              "      background-color: #434B5C;\n",
              "      box-shadow: 0px 1px 3px 1px rgba(0, 0, 0, 0.15);\n",
              "      filter: drop-shadow(0px 1px 2px rgba(0, 0, 0, 0.3));\n",
              "      fill: #FFFFFF;\n",
              "    }\n",
              "  </style>\n",
              "\n",
              "      <script>\n",
              "        const buttonEl =\n",
              "          document.querySelector('#df-aa866cb6-0753-4472-abca-5367be379c4a button.colab-df-convert');\n",
              "        buttonEl.style.display =\n",
              "          google.colab.kernel.accessAllowed ? 'block' : 'none';\n",
              "\n",
              "        async function convertToInteractive(key) {\n",
              "          const element = document.querySelector('#df-aa866cb6-0753-4472-abca-5367be379c4a');\n",
              "          const dataTable =\n",
              "            await google.colab.kernel.invokeFunction('convertToInteractive',\n",
              "                                                     [key], {});\n",
              "          if (!dataTable) return;\n",
              "\n",
              "          const docLinkHtml = 'Like what you see? Visit the ' +\n",
              "            '<a target=\"_blank\" href=https://colab.research.google.com/notebooks/data_table.ipynb>data table notebook</a>'\n",
              "            + ' to learn more about interactive tables.';\n",
              "          element.innerHTML = '';\n",
              "          dataTable['output_type'] = 'display_data';\n",
              "          await google.colab.output.renderOutput(dataTable, element);\n",
              "          const docLink = document.createElement('div');\n",
              "          docLink.innerHTML = docLinkHtml;\n",
              "          element.appendChild(docLink);\n",
              "        }\n",
              "      </script>\n",
              "    </div>\n",
              "  </div>\n",
              "  "
            ]
          },
          "metadata": {},
          "execution_count": 152
        }
      ],
      "source": [
        "df"
      ]
    },
    {
      "cell_type": "code",
      "source": [
        "df.fillna('', inplace=True)\n",
        "\n",
        "for i in range(rows):\n",
        "    if df['BestSummary'][i] == df['mT5_multilingual_XLSum'][i]:\n",
        "        df.at[i,\"BestSummaryModel\"]='mT5_multilingual_XLSum'\n",
        "\n",
        "    elif df['BestSummary'][i] == df['mT5_m2m_crossSum'][i]:\n",
        "       df.at[i,\"BestSummaryModel\"]='mT5_m2m_crossSum'\n",
        "\n",
        "    elif df['BestSummary'][i] == df['scibert_scivocab_uncased'][i]:\n",
        "        df.at[i,\"BestSummaryModel\"]='scibert_scivocab_uncased'\n",
        "\n",
        "    elif df['BestSummary'][i] == df['Bangla_text_summarization'][i]:\n",
        "        df.at[i,\"BestSummaryModel\"]='Bangla_text_summarization'\n",
        "\n",
        "\n",
        "    # break\n",
        "    print(i)"
      ],
      "metadata": {
        "id": "_MovivFPs9Sv"
      },
      "execution_count": null,
      "outputs": []
    },
    {
      "cell_type": "code",
      "source": [
        "df"
      ],
      "metadata": {
        "colab": {
          "base_uri": "https://localhost:8080/",
          "height": 1000
        },
        "id": "8UR3Efe1tNrk",
        "outputId": "ba16672e-501f-4e56-b6a4-1ecdd6e3ff05"
      },
      "execution_count": null,
      "outputs": [
        {
          "output_type": "execute_result",
          "data": {
            "text/plain": [
              "                                                   text  \\\n",
              "0     দুর্গাপুজায় মহিষাসুর বধ্যে মধ্য দিয়ে অশুভর ও...   \n",
              "1     গত ২০ বছরে তিনি রাশিয়ার প্রেসিডেন্ট এবং প্রধা...   \n",
              "2     বরিশাল সদরে চলছে নির্বাচনী প্রচার প্রচারণা। যদ...   \n",
              "3     রবীন্দ্রনাথ ঠাকুর রবীন্দ্রনাথ ঠাকুর বাঙালির কা...   \n",
              "4     আর কুমিল্লা থেকে বাস ভাড়া করে অনেকের সাথে নিজ...   \n",
              "...                                                 ...   \n",
              "8097  ডোনাল্ড ট্রাম্প 'ডোনাল্ড ট্রাম্পের বোধশক্তি ঠি...   \n",
              "8098  মঙ্গলগ্রহে তরল পানি থাকার প্রমাণ খুঁজে পেয়েছে...   \n",
              "8099  বরগুনায় রিফাত শরীফ নামের এক যুবককে প্রকাশ্যে ...   \n",
              "8100  স্যেদি যুবরাজ মোহাম্মদ বিন সালমান ও ইরানের প্র...   \n",
              "8101  বাংলাদেশে পুলিশের ভাবমূর্তি এখনো একটি দুর্নীতি...   \n",
              "\n",
              "                                           givenSummary  \\\n",
              "0     হিন্দু বাঙালীরা যে সময়ে তাদের সবথেকে বড় উৎসব...   \n",
              "1     ভ্লাদিমির পুতিন তাঁর ক্ষমতায় থাকার ২০ বছর পূর...   \n",
              "2     বাংলাদেশের দক্ষিণাঞ্চলীয় জেলা বরিশাল এখন তুমু...   \n",
              "3     দু'হাজার চার সালে বিবিসি বাংলা একটি 'শ্রোতা জর...   \n",
              "4     'ভাষণ শুরু আগে মাথার উপর দিয়ে বিমান আর হেলিকপ...   \n",
              "...                                                 ...   \n",
              "8097                                         আরো পড়ুন:   \n",
              "8098                                         আরো পড়ুন:   \n",
              "8099                                           ঘটনা এক:   \n",
              "8100                                           সৌদি আরব   \n",
              "8101                                     কেস-স্টাডি ১ :   \n",
              "\n",
              "                                 mT5_multilingual_XLSum  \\\n",
              "0     দুর্গাপুজায় আর্যদের দেবী মহিষাসুরকে ছলনার মাধ...   \n",
              "1     ভ্লাদিমির পুতিন ২০ বছর বয়সে ক্ষমতায় আসার পর ...   \n",
              "2     বাংলাদেশের দক্ষিণাঞ্চলীয় জেলা বরিশাল সদরে ৩০শ...   \n",
              "3     বিবিসি বাংলা একটি 'শ্রোতা জরিপ'-এর আয়োজন করে।...   \n",
              "4     ১৯৭১ সালের ৭ই মার্চ ঢাকার রেসকোর্স ময়দানে শেখ...   \n",
              "...                                                 ...   \n",
              "8097  যুক্তরাষ্ট্রের প্রেসিডেন্ট ডোনাল্ড ট্রাম্পের স...   \n",
              "8098  মঙ্গলগ্রহে তরল পানি থাকার প্রমাণ খুঁজে পেয়েছে...   \n",
              "8099  বাংলাদেশের বরগুনায় রিফাত শরীফ নামের এক যুবককে...   \n",
              "8100  সৌদি আরব এবং ইরানের মধ্যে সাম্প্রতিক উত্তেজনা ...   \n",
              "8101  বাংলাদেশে পুলিশের ভাবমূর্তি এখনো একটি দুর্নীতি...   \n",
              "\n",
              "                                       mT5_m2m_crossSum  \\\n",
              "0     ভারতের আদিবাসীদের ধারণা ছিল, দুর্গাপুজায় অশুভ...   \n",
              "1     রাশিয়ার প্রেসিডেন্ট ভ্লাদিমির পুতিন তাঁর ক্ষম...   \n",
              "2     বাংলাদেশের রাজধানী বরিশাল-৫ আসনে নির্বাচনী প্র...   \n",
              "3     ভারতীয় সাহিত্যে নোবেল পুরস্কার জিতেছেন রবীন্দ...   \n",
              "4     ঢাকার রেসকোর্স ময়দানে শেখ মুজিবুর রহমানের ভাষ...   \n",
              "...                                                 ...   \n",
              "8097  যুক্তরাষ্ট্রের প্রেসিডেন্ট ডোনাল্ড ট্রাম্পের ব...   \n",
              "8098  বিজ্ঞানীরা মঙ্গলগ্রহে তরল পানি থাকার প্রমাণ খু...   \n",
              "8099  ঢাকাসহ বেশ কয়েকটি জেলায় কিশোরদের মধ্যে গ্যাং...   \n",
              "8100  সৌদি আরব এবং ইরানের মধ্যে সাম্প্রতিক উত্তেজনা ...   \n",
              "8101  বাংলাদেশে পুলিশের ভাবমূর্তি এখনো একটি দুর্নীতি...   \n",
              "\n",
              "                               scibert_scivocab_uncased  \\\n",
              "0     দুর্গাপুজায় মহিষাসুর বধ্যে মধ্য দিয়ে অশুভর ও...   \n",
              "1     গত ২০ বছরে তিনি রাশিয়ার প্রেসিডেন্ট এবং প্রধা...   \n",
              "2     যদিও প্রায় সব আসনেই প্রচার প্রচারণা বেশি চোখে...   \n",
              "3     বাংলা সাহিত্যের তিনি একজন উজ্জ্বল নক্ষত্র এবং ...   \n",
              "4     আর কুমিল্লা থেকে বাস ভাড়া করে অনেকের সাথে নিজ...   \n",
              "...                                                 ...   \n",
              "8097  ডোনাল্ড ট্রাম্প 'ডোনাল্ড ট্রাম্পের বোধশক্তি ঠি...   \n",
              "8098  তাদের বিশ্বাস, এটি একটি হৃদ এবং সেটি রাডার ব্য...   \n",
              "8099  বরগুনায় রিফাত শরীফ নামের এক যুবককে প্রকাশ্যে ...   \n",
              "8100  স্যেদি যুবরাজ মোহাম্মদ বিন সালমান ও ইরানের প্র...   \n",
              "8101  বাংলাদেশে পুলিশের ভাবমূর্তি এখনো একটি দুর্নীতি...   \n",
              "\n",
              "                              Bangla_text_summarization  \\\n",
              "0     বরিশালের গান্ধী আশ্রমে হর্ষবর্ধণ স্পেকট্রোমিটা...   \n",
              "1     মুখগুলো আজও স্বজনহারা বেদনায় প্রদানকারীর্ধণ স...   \n",
              "2     বরিশাল বিশ্ববিদ্যালয়ে শোক র ্যালি ও আলোচনাসভা...   \n",
              "3     মুক্তিযুদ্ধের বিপক্ষ শক্তিকে প্রতিহত করতে না প...   \n",
              "4     ময়লার স্তুপে হারিয়ে যাওয়া শহীদের কবর উদ্ধার...   \n",
              "...                                                 ...   \n",
              "8097  বরিশালের গান্ধী আশ্রমে হর্ষবর্ধণ স্পেকট্রোমিটা...   \n",
              "8098  পদ্মার ভযাবহ ভাঙ্গনে নড়িয়া-সুরসুরেশ্বর সড়ক ...   \n",
              "8099  সৌদিতে নিহত মরজানের পরিবার পেলেন প্রাণিসম্পদ ব...   \n",
              "8100  সৌদিতে নিহত মরজানের পরিবার পেলেন প্রাণিসম্পদ ব...   \n",
              "8101  পুলিশ কর্মকর্তারা 'সামারি বিজনেস' করলে চাকরি জ...   \n",
              "\n",
              "                                            BestSummary  \\\n",
              "0     দুর্গাপুজায় আর্যদের দেবী মহিষাসুরকে ছলনার মাধ...   \n",
              "1     রাশিয়ার প্রেসিডেন্ট ভ্লাদিমির পুতিন তাঁর ক্ষম...   \n",
              "2     বাংলাদেশের দক্ষিণাঞ্চলীয় জেলা বরিশাল সদরে ৩০শ...   \n",
              "3     বিবিসি বাংলা একটি 'শ্রোতা জরিপ'-এর আয়োজন করে।...   \n",
              "4     আর কুমিল্লা থেকে বাস ভাড়া করে অনেকের সাথে নিজ...   \n",
              "...                                                 ...   \n",
              "8097  যুক্তরাষ্ট্রের প্রেসিডেন্ট ডোনাল্ড ট্রাম্পের ব...   \n",
              "8098  বিজ্ঞানীরা মঙ্গলগ্রহে তরল পানি থাকার প্রমাণ খু...   \n",
              "8099  বাংলাদেশের বরগুনায় রিফাত শরীফ নামের এক যুবককে...   \n",
              "8100  সৌদি আরব এবং ইরানের মধ্যে সাম্প্রতিক উত্তেজনা ...   \n",
              "8101  বাংলাদেশে পুলিশের ভাবমূর্তি এখনো একটি দুর্নীতি...   \n",
              "\n",
              "              BestSummaryModel  \n",
              "0       mT5_multilingual_XLSum  \n",
              "1             mT5_m2m_crossSum  \n",
              "2       mT5_multilingual_XLSum  \n",
              "3       mT5_multilingual_XLSum  \n",
              "4     scibert_scivocab_uncased  \n",
              "...                        ...  \n",
              "8097          mT5_m2m_crossSum  \n",
              "8098          mT5_m2m_crossSum  \n",
              "8099    mT5_multilingual_XLSum  \n",
              "8100          mT5_m2m_crossSum  \n",
              "8101    mT5_multilingual_XLSum  \n",
              "\n",
              "[8102 rows x 8 columns]"
            ],
            "text/html": [
              "\n",
              "  <div id=\"df-3c3b0cc4-1e5f-4f96-bf8d-5f53f0b819b3\">\n",
              "    <div class=\"colab-df-container\">\n",
              "      <div>\n",
              "<style scoped>\n",
              "    .dataframe tbody tr th:only-of-type {\n",
              "        vertical-align: middle;\n",
              "    }\n",
              "\n",
              "    .dataframe tbody tr th {\n",
              "        vertical-align: top;\n",
              "    }\n",
              "\n",
              "    .dataframe thead th {\n",
              "        text-align: right;\n",
              "    }\n",
              "</style>\n",
              "<table border=\"1\" class=\"dataframe\">\n",
              "  <thead>\n",
              "    <tr style=\"text-align: right;\">\n",
              "      <th></th>\n",
              "      <th>text</th>\n",
              "      <th>givenSummary</th>\n",
              "      <th>mT5_multilingual_XLSum</th>\n",
              "      <th>mT5_m2m_crossSum</th>\n",
              "      <th>scibert_scivocab_uncased</th>\n",
              "      <th>Bangla_text_summarization</th>\n",
              "      <th>BestSummary</th>\n",
              "      <th>BestSummaryModel</th>\n",
              "    </tr>\n",
              "  </thead>\n",
              "  <tbody>\n",
              "    <tr>\n",
              "      <th>0</th>\n",
              "      <td>দুর্গাপুজায় মহিষাসুর বধ্যে মধ্য দিয়ে অশুভর ও...</td>\n",
              "      <td>হিন্দু বাঙালীরা যে সময়ে তাদের সবথেকে বড় উৎসব...</td>\n",
              "      <td>দুর্গাপুজায় আর্যদের দেবী মহিষাসুরকে ছলনার মাধ...</td>\n",
              "      <td>ভারতের আদিবাসীদের ধারণা ছিল, দুর্গাপুজায় অশুভ...</td>\n",
              "      <td>দুর্গাপুজায় মহিষাসুর বধ্যে মধ্য দিয়ে অশুভর ও...</td>\n",
              "      <td>বরিশালের গান্ধী আশ্রমে হর্ষবর্ধণ স্পেকট্রোমিটা...</td>\n",
              "      <td>দুর্গাপুজায় আর্যদের দেবী মহিষাসুরকে ছলনার মাধ...</td>\n",
              "      <td>mT5_multilingual_XLSum</td>\n",
              "    </tr>\n",
              "    <tr>\n",
              "      <th>1</th>\n",
              "      <td>গত ২০ বছরে তিনি রাশিয়ার প্রেসিডেন্ট এবং প্রধা...</td>\n",
              "      <td>ভ্লাদিমির পুতিন তাঁর ক্ষমতায় থাকার ২০ বছর পূর...</td>\n",
              "      <td>ভ্লাদিমির পুতিন ২০ বছর বয়সে ক্ষমতায় আসার পর ...</td>\n",
              "      <td>রাশিয়ার প্রেসিডেন্ট ভ্লাদিমির পুতিন তাঁর ক্ষম...</td>\n",
              "      <td>গত ২০ বছরে তিনি রাশিয়ার প্রেসিডেন্ট এবং প্রধা...</td>\n",
              "      <td>মুখগুলো আজও স্বজনহারা বেদনায় প্রদানকারীর্ধণ স...</td>\n",
              "      <td>রাশিয়ার প্রেসিডেন্ট ভ্লাদিমির পুতিন তাঁর ক্ষম...</td>\n",
              "      <td>mT5_m2m_crossSum</td>\n",
              "    </tr>\n",
              "    <tr>\n",
              "      <th>2</th>\n",
              "      <td>বরিশাল সদরে চলছে নির্বাচনী প্রচার প্রচারণা। যদ...</td>\n",
              "      <td>বাংলাদেশের দক্ষিণাঞ্চলীয় জেলা বরিশাল এখন তুমু...</td>\n",
              "      <td>বাংলাদেশের দক্ষিণাঞ্চলীয় জেলা বরিশাল সদরে ৩০শ...</td>\n",
              "      <td>বাংলাদেশের রাজধানী বরিশাল-৫ আসনে নির্বাচনী প্র...</td>\n",
              "      <td>যদিও প্রায় সব আসনেই প্রচার প্রচারণা বেশি চোখে...</td>\n",
              "      <td>বরিশাল বিশ্ববিদ্যালয়ে শোক র ্যালি ও আলোচনাসভা...</td>\n",
              "      <td>বাংলাদেশের দক্ষিণাঞ্চলীয় জেলা বরিশাল সদরে ৩০শ...</td>\n",
              "      <td>mT5_multilingual_XLSum</td>\n",
              "    </tr>\n",
              "    <tr>\n",
              "      <th>3</th>\n",
              "      <td>রবীন্দ্রনাথ ঠাকুর রবীন্দ্রনাথ ঠাকুর বাঙালির কা...</td>\n",
              "      <td>দু'হাজার চার সালে বিবিসি বাংলা একটি 'শ্রোতা জর...</td>\n",
              "      <td>বিবিসি বাংলা একটি 'শ্রোতা জরিপ'-এর আয়োজন করে।...</td>\n",
              "      <td>ভারতীয় সাহিত্যে নোবেল পুরস্কার জিতেছেন রবীন্দ...</td>\n",
              "      <td>বাংলা সাহিত্যের তিনি একজন উজ্জ্বল নক্ষত্র এবং ...</td>\n",
              "      <td>মুক্তিযুদ্ধের বিপক্ষ শক্তিকে প্রতিহত করতে না প...</td>\n",
              "      <td>বিবিসি বাংলা একটি 'শ্রোতা জরিপ'-এর আয়োজন করে।...</td>\n",
              "      <td>mT5_multilingual_XLSum</td>\n",
              "    </tr>\n",
              "    <tr>\n",
              "      <th>4</th>\n",
              "      <td>আর কুমিল্লা থেকে বাস ভাড়া করে অনেকের সাথে নিজ...</td>\n",
              "      <td>'ভাষণ শুরু আগে মাথার উপর দিয়ে বিমান আর হেলিকপ...</td>\n",
              "      <td>১৯৭১ সালের ৭ই মার্চ ঢাকার রেসকোর্স ময়দানে শেখ...</td>\n",
              "      <td>ঢাকার রেসকোর্স ময়দানে শেখ মুজিবুর রহমানের ভাষ...</td>\n",
              "      <td>আর কুমিল্লা থেকে বাস ভাড়া করে অনেকের সাথে নিজ...</td>\n",
              "      <td>ময়লার স্তুপে হারিয়ে যাওয়া শহীদের কবর উদ্ধার...</td>\n",
              "      <td>আর কুমিল্লা থেকে বাস ভাড়া করে অনেকের সাথে নিজ...</td>\n",
              "      <td>scibert_scivocab_uncased</td>\n",
              "    </tr>\n",
              "    <tr>\n",
              "      <th>...</th>\n",
              "      <td>...</td>\n",
              "      <td>...</td>\n",
              "      <td>...</td>\n",
              "      <td>...</td>\n",
              "      <td>...</td>\n",
              "      <td>...</td>\n",
              "      <td>...</td>\n",
              "      <td>...</td>\n",
              "    </tr>\n",
              "    <tr>\n",
              "      <th>8097</th>\n",
              "      <td>ডোনাল্ড ট্রাম্প 'ডোনাল্ড ট্রাম্পের বোধশক্তি ঠি...</td>\n",
              "      <td>আরো পড়ুন:</td>\n",
              "      <td>যুক্তরাষ্ট্রের প্রেসিডেন্ট ডোনাল্ড ট্রাম্পের স...</td>\n",
              "      <td>যুক্তরাষ্ট্রের প্রেসিডেন্ট ডোনাল্ড ট্রাম্পের ব...</td>\n",
              "      <td>ডোনাল্ড ট্রাম্প 'ডোনাল্ড ট্রাম্পের বোধশক্তি ঠি...</td>\n",
              "      <td>বরিশালের গান্ধী আশ্রমে হর্ষবর্ধণ স্পেকট্রোমিটা...</td>\n",
              "      <td>যুক্তরাষ্ট্রের প্রেসিডেন্ট ডোনাল্ড ট্রাম্পের ব...</td>\n",
              "      <td>mT5_m2m_crossSum</td>\n",
              "    </tr>\n",
              "    <tr>\n",
              "      <th>8098</th>\n",
              "      <td>মঙ্গলগ্রহে তরল পানি থাকার প্রমাণ খুঁজে পেয়েছে...</td>\n",
              "      <td>আরো পড়ুন:</td>\n",
              "      <td>মঙ্গলগ্রহে তরল পানি থাকার প্রমাণ খুঁজে পেয়েছে...</td>\n",
              "      <td>বিজ্ঞানীরা মঙ্গলগ্রহে তরল পানি থাকার প্রমাণ খু...</td>\n",
              "      <td>তাদের বিশ্বাস, এটি একটি হৃদ এবং সেটি রাডার ব্য...</td>\n",
              "      <td>পদ্মার ভযাবহ ভাঙ্গনে নড়িয়া-সুরসুরেশ্বর সড়ক ...</td>\n",
              "      <td>বিজ্ঞানীরা মঙ্গলগ্রহে তরল পানি থাকার প্রমাণ খু...</td>\n",
              "      <td>mT5_m2m_crossSum</td>\n",
              "    </tr>\n",
              "    <tr>\n",
              "      <th>8099</th>\n",
              "      <td>বরগুনায় রিফাত শরীফ নামের এক যুবককে প্রকাশ্যে ...</td>\n",
              "      <td>ঘটনা এক:</td>\n",
              "      <td>বাংলাদেশের বরগুনায় রিফাত শরীফ নামের এক যুবককে...</td>\n",
              "      <td>ঢাকাসহ বেশ কয়েকটি জেলায় কিশোরদের মধ্যে গ্যাং...</td>\n",
              "      <td>বরগুনায় রিফাত শরীফ নামের এক যুবককে প্রকাশ্যে ...</td>\n",
              "      <td>সৌদিতে নিহত মরজানের পরিবার পেলেন প্রাণিসম্পদ ব...</td>\n",
              "      <td>বাংলাদেশের বরগুনায় রিফাত শরীফ নামের এক যুবককে...</td>\n",
              "      <td>mT5_multilingual_XLSum</td>\n",
              "    </tr>\n",
              "    <tr>\n",
              "      <th>8100</th>\n",
              "      <td>স্যেদি যুবরাজ মোহাম্মদ বিন সালমান ও ইরানের প্র...</td>\n",
              "      <td>সৌদি আরব</td>\n",
              "      <td>সৌদি আরব এবং ইরানের মধ্যে সাম্প্রতিক উত্তেজনা ...</td>\n",
              "      <td>সৌদি আরব এবং ইরানের মধ্যে সাম্প্রতিক উত্তেজনা ...</td>\n",
              "      <td>স্যেদি যুবরাজ মোহাম্মদ বিন সালমান ও ইরানের প্র...</td>\n",
              "      <td>সৌদিতে নিহত মরজানের পরিবার পেলেন প্রাণিসম্পদ ব...</td>\n",
              "      <td>সৌদি আরব এবং ইরানের মধ্যে সাম্প্রতিক উত্তেজনা ...</td>\n",
              "      <td>mT5_m2m_crossSum</td>\n",
              "    </tr>\n",
              "    <tr>\n",
              "      <th>8101</th>\n",
              "      <td>বাংলাদেশে পুলিশের ভাবমূর্তি এখনো একটি দুর্নীতি...</td>\n",
              "      <td>কেস-স্টাডি ১ :</td>\n",
              "      <td>বাংলাদেশে পুলিশের ভাবমূর্তি এখনো একটি দুর্নীতি...</td>\n",
              "      <td>বাংলাদেশে পুলিশের ভাবমূর্তি এখনো একটি দুর্নীতি...</td>\n",
              "      <td>বাংলাদেশে পুলিশের ভাবমূর্তি এখনো একটি দুর্নীতি...</td>\n",
              "      <td>পুলিশ কর্মকর্তারা 'সামারি বিজনেস' করলে চাকরি জ...</td>\n",
              "      <td>বাংলাদেশে পুলিশের ভাবমূর্তি এখনো একটি দুর্নীতি...</td>\n",
              "      <td>mT5_multilingual_XLSum</td>\n",
              "    </tr>\n",
              "  </tbody>\n",
              "</table>\n",
              "<p>8102 rows × 8 columns</p>\n",
              "</div>\n",
              "      <button class=\"colab-df-convert\" onclick=\"convertToInteractive('df-3c3b0cc4-1e5f-4f96-bf8d-5f53f0b819b3')\"\n",
              "              title=\"Convert this dataframe to an interactive table.\"\n",
              "              style=\"display:none;\">\n",
              "        \n",
              "  <svg xmlns=\"http://www.w3.org/2000/svg\" height=\"24px\"viewBox=\"0 0 24 24\"\n",
              "       width=\"24px\">\n",
              "    <path d=\"M0 0h24v24H0V0z\" fill=\"none\"/>\n",
              "    <path d=\"M18.56 5.44l.94 2.06.94-2.06 2.06-.94-2.06-.94-.94-2.06-.94 2.06-2.06.94zm-11 1L8.5 8.5l.94-2.06 2.06-.94-2.06-.94L8.5 2.5l-.94 2.06-2.06.94zm10 10l.94 2.06.94-2.06 2.06-.94-2.06-.94-.94-2.06-.94 2.06-2.06.94z\"/><path d=\"M17.41 7.96l-1.37-1.37c-.4-.4-.92-.59-1.43-.59-.52 0-1.04.2-1.43.59L10.3 9.45l-7.72 7.72c-.78.78-.78 2.05 0 2.83L4 21.41c.39.39.9.59 1.41.59.51 0 1.02-.2 1.41-.59l7.78-7.78 2.81-2.81c.8-.78.8-2.07 0-2.86zM5.41 20L4 18.59l7.72-7.72 1.47 1.35L5.41 20z\"/>\n",
              "  </svg>\n",
              "      </button>\n",
              "      \n",
              "  <style>\n",
              "    .colab-df-container {\n",
              "      display:flex;\n",
              "      flex-wrap:wrap;\n",
              "      gap: 12px;\n",
              "    }\n",
              "\n",
              "    .colab-df-convert {\n",
              "      background-color: #E8F0FE;\n",
              "      border: none;\n",
              "      border-radius: 50%;\n",
              "      cursor: pointer;\n",
              "      display: none;\n",
              "      fill: #1967D2;\n",
              "      height: 32px;\n",
              "      padding: 0 0 0 0;\n",
              "      width: 32px;\n",
              "    }\n",
              "\n",
              "    .colab-df-convert:hover {\n",
              "      background-color: #E2EBFA;\n",
              "      box-shadow: 0px 1px 2px rgba(60, 64, 67, 0.3), 0px 1px 3px 1px rgba(60, 64, 67, 0.15);\n",
              "      fill: #174EA6;\n",
              "    }\n",
              "\n",
              "    [theme=dark] .colab-df-convert {\n",
              "      background-color: #3B4455;\n",
              "      fill: #D2E3FC;\n",
              "    }\n",
              "\n",
              "    [theme=dark] .colab-df-convert:hover {\n",
              "      background-color: #434B5C;\n",
              "      box-shadow: 0px 1px 3px 1px rgba(0, 0, 0, 0.15);\n",
              "      filter: drop-shadow(0px 1px 2px rgba(0, 0, 0, 0.3));\n",
              "      fill: #FFFFFF;\n",
              "    }\n",
              "  </style>\n",
              "\n",
              "      <script>\n",
              "        const buttonEl =\n",
              "          document.querySelector('#df-3c3b0cc4-1e5f-4f96-bf8d-5f53f0b819b3 button.colab-df-convert');\n",
              "        buttonEl.style.display =\n",
              "          google.colab.kernel.accessAllowed ? 'block' : 'none';\n",
              "\n",
              "        async function convertToInteractive(key) {\n",
              "          const element = document.querySelector('#df-3c3b0cc4-1e5f-4f96-bf8d-5f53f0b819b3');\n",
              "          const dataTable =\n",
              "            await google.colab.kernel.invokeFunction('convertToInteractive',\n",
              "                                                     [key], {});\n",
              "          if (!dataTable) return;\n",
              "\n",
              "          const docLinkHtml = 'Like what you see? Visit the ' +\n",
              "            '<a target=\"_blank\" href=https://colab.research.google.com/notebooks/data_table.ipynb>data table notebook</a>'\n",
              "            + ' to learn more about interactive tables.';\n",
              "          element.innerHTML = '';\n",
              "          dataTable['output_type'] = 'display_data';\n",
              "          await google.colab.output.renderOutput(dataTable, element);\n",
              "          const docLink = document.createElement('div');\n",
              "          docLink.innerHTML = docLinkHtml;\n",
              "          element.appendChild(docLink);\n",
              "        }\n",
              "      </script>\n",
              "    </div>\n",
              "  </div>\n",
              "  "
            ]
          },
          "metadata": {},
          "execution_count": 154
        }
      ]
    },
    {
      "cell_type": "code",
      "source": [
        "# df.groupby(by=\"BestSummaryModel\").sum()\n",
        "df.groupby(\"BestSummaryModel\", sort=False)[\"BestSummary\"].count()\n",
        "\n",
        "# mT5_multilingual_XLSum      4459\n",
        "# mT5_m2m_crossSum            2389\n",
        "# scibert_scivocab_uncased    1254"
      ],
      "metadata": {
        "colab": {
          "base_uri": "https://localhost:8080/"
        },
        "id": "mAlS7iWgwpMM",
        "outputId": "fd0229ab-3461-424e-d841-a021de21510e"
      },
      "execution_count": null,
      "outputs": [
        {
          "output_type": "execute_result",
          "data": {
            "text/plain": [
              "BestSummaryModel\n",
              "mT5_multilingual_XLSum      4459\n",
              "mT5_m2m_crossSum            2389\n",
              "scibert_scivocab_uncased    1254\n",
              "Name: BestSummary, dtype: int64"
            ]
          },
          "metadata": {},
          "execution_count": 155
        }
      ]
    },
    {
      "cell_type": "code",
      "execution_count": null,
      "metadata": {
        "id": "2kfkFb2Aza9U"
      },
      "outputs": [],
      "source": [
        "df.to_csv(\"/content/drive/MyDrive/SCDataset/Final/processedFinal.csv\", index=False)"
      ]
    },
    {
      "cell_type": "markdown",
      "metadata": {
        "id": "G1eLvW0T546n"
      },
      "source": [
        "# Evaluation"
      ]
    },
    {
      "cell_type": "markdown",
      "source": [
        "### Load Data"
      ],
      "metadata": {
        "id": "pL4zJA__qEg1"
      }
    },
    {
      "cell_type": "code",
      "execution_count": 8,
      "metadata": {
        "id": "RLsYUGsC5520"
      },
      "outputs": [],
      "source": [
        "import pandas as pd"
      ]
    },
    {
      "cell_type": "code",
      "execution_count": 11,
      "metadata": {
        "id": "ZQuiFpXz6CCt",
        "colab": {
          "base_uri": "https://localhost:8080/",
          "height": 1000
        },
        "outputId": "0a89540b-3913-411f-c64c-fdd13eb7d396"
      },
      "outputs": [
        {
          "output_type": "execute_result",
          "data": {
            "text/plain": [
              "                                                   text  \\\n",
              "0     দুর্গাপুজায় মহিষাসুর বধ্যে মধ্য দিয়ে অশুভর ও...   \n",
              "1     গত ২০ বছরে তিনি রাশিয়ার প্রেসিডেন্ট এবং প্রধা...   \n",
              "2     বরিশাল সদরে চলছে নির্বাচনী প্রচার প্রচারণা। যদ...   \n",
              "3     রবীন্দ্রনাথ ঠাকুর রবীন্দ্রনাথ ঠাকুর বাঙালির কা...   \n",
              "4     আর কুমিল্লা থেকে বাস ভাড়া করে অনেকের সাথে নিজ...   \n",
              "...                                                 ...   \n",
              "8097  ডোনাল্ড ট্রাম্প 'ডোনাল্ড ট্রাম্পের বোধশক্তি ঠি...   \n",
              "8098  মঙ্গলগ্রহে তরল পানি থাকার প্রমাণ খুঁজে পেয়েছে...   \n",
              "8099  বরগুনায় রিফাত শরীফ নামের এক যুবককে প্রকাশ্যে ...   \n",
              "8100  স্যেদি যুবরাজ মোহাম্মদ বিন সালমান ও ইরানের প্র...   \n",
              "8101  বাংলাদেশে পুলিশের ভাবমূর্তি এখনো একটি দুর্নীতি...   \n",
              "\n",
              "                                           givenSummary  \\\n",
              "0     হিন্দু বাঙালীরা যে সময়ে তাদের সবথেকে বড় উৎসব...   \n",
              "1     ভ্লাদিমির পুতিন তাঁর ক্ষমতায় থাকার ২০ বছর পূর...   \n",
              "2     বাংলাদেশের দক্ষিণাঞ্চলীয় জেলা বরিশাল এখন তুমু...   \n",
              "3     দু'হাজার চার সালে বিবিসি বাংলা একটি 'শ্রোতা জর...   \n",
              "4     'ভাষণ শুরু আগে মাথার উপর দিয়ে বিমান আর হেলিকপ...   \n",
              "...                                                 ...   \n",
              "8097                                         আরো পড়ুন:   \n",
              "8098                                         আরো পড়ুন:   \n",
              "8099                                           ঘটনা এক:   \n",
              "8100                                           সৌদি আরব   \n",
              "8101                                     কেস-স্টাডি ১ :   \n",
              "\n",
              "                                 mT5_multilingual_XLSum  \\\n",
              "0     দুর্গাপুজায় আর্যদের দেবী মহিষাসুরকে ছলনার মাধ...   \n",
              "1     ভ্লাদিমির পুতিন ২০ বছর বয়সে ক্ষমতায় আসার পর ...   \n",
              "2     বাংলাদেশের দক্ষিণাঞ্চলীয় জেলা বরিশাল সদরে ৩০শ...   \n",
              "3     বিবিসি বাংলা একটি 'শ্রোতা জরিপ'-এর আয়োজন করে।...   \n",
              "4     ১৯৭১ সালের ৭ই মার্চ ঢাকার রেসকোর্স ময়দানে শেখ...   \n",
              "...                                                 ...   \n",
              "8097  যুক্তরাষ্ট্রের প্রেসিডেন্ট ডোনাল্ড ট্রাম্পের স...   \n",
              "8098  মঙ্গলগ্রহে তরল পানি থাকার প্রমাণ খুঁজে পেয়েছে...   \n",
              "8099  বাংলাদেশের বরগুনায় রিফাত শরীফ নামের এক যুবককে...   \n",
              "8100  সৌদি আরব এবং ইরানের মধ্যে সাম্প্রতিক উত্তেজনা ...   \n",
              "8101  বাংলাদেশে পুলিশের ভাবমূর্তি এখনো একটি দুর্নীতি...   \n",
              "\n",
              "                                       mT5_m2m_crossSum  \\\n",
              "0     ভারতের আদিবাসীদের ধারণা ছিল, দুর্গাপুজায় অশুভ...   \n",
              "1     রাশিয়ার প্রেসিডেন্ট ভ্লাদিমির পুতিন তাঁর ক্ষম...   \n",
              "2     বাংলাদেশের রাজধানী বরিশাল-৫ আসনে নির্বাচনী প্র...   \n",
              "3     ভারতীয় সাহিত্যে নোবেল পুরস্কার জিতেছেন রবীন্দ...   \n",
              "4     ঢাকার রেসকোর্স ময়দানে শেখ মুজিবুর রহমানের ভাষ...   \n",
              "...                                                 ...   \n",
              "8097  যুক্তরাষ্ট্রের প্রেসিডেন্ট ডোনাল্ড ট্রাম্পের ব...   \n",
              "8098  বিজ্ঞানীরা মঙ্গলগ্রহে তরল পানি থাকার প্রমাণ খু...   \n",
              "8099  ঢাকাসহ বেশ কয়েকটি জেলায় কিশোরদের মধ্যে গ্যাং...   \n",
              "8100  সৌদি আরব এবং ইরানের মধ্যে সাম্প্রতিক উত্তেজনা ...   \n",
              "8101  বাংলাদেশে পুলিশের ভাবমূর্তি এখনো একটি দুর্নীতি...   \n",
              "\n",
              "                               scibert_scivocab_uncased  \\\n",
              "0     দুর্গাপুজায় মহিষাসুর বধ্যে মধ্য দিয়ে অশুভর ও...   \n",
              "1     গত ২০ বছরে তিনি রাশিয়ার প্রেসিডেন্ট এবং প্রধা...   \n",
              "2     যদিও প্রায় সব আসনেই প্রচার প্রচারণা বেশি চোখে...   \n",
              "3     বাংলা সাহিত্যের তিনি একজন উজ্জ্বল নক্ষত্র এবং ...   \n",
              "4     আর কুমিল্লা থেকে বাস ভাড়া করে অনেকের সাথে নিজ...   \n",
              "...                                                 ...   \n",
              "8097  ডোনাল্ড ট্রাম্প 'ডোনাল্ড ট্রাম্পের বোধশক্তি ঠি...   \n",
              "8098  তাদের বিশ্বাস, এটি একটি হৃদ এবং সেটি রাডার ব্য...   \n",
              "8099  বরগুনায় রিফাত শরীফ নামের এক যুবককে প্রকাশ্যে ...   \n",
              "8100  স্যেদি যুবরাজ মোহাম্মদ বিন সালমান ও ইরানের প্র...   \n",
              "8101  বাংলাদেশে পুলিশের ভাবমূর্তি এখনো একটি দুর্নীতি...   \n",
              "\n",
              "                              Bangla_text_summarization  \\\n",
              "0     বরিশালের গান্ধী আশ্রমে হর্ষবর্ধণ স্পেকট্রোমিটা...   \n",
              "1     মুখগুলো আজও স্বজনহারা বেদনায় প্রদানকারীর্ধণ স...   \n",
              "2     বরিশাল বিশ্ববিদ্যালয়ে শোক র ্যালি ও আলোচনাসভা...   \n",
              "3     মুক্তিযুদ্ধের বিপক্ষ শক্তিকে প্রতিহত করতে না প...   \n",
              "4     ময়লার স্তুপে হারিয়ে যাওয়া শহীদের কবর উদ্ধার...   \n",
              "...                                                 ...   \n",
              "8097  বরিশালের গান্ধী আশ্রমে হর্ষবর্ধণ স্পেকট্রোমিটা...   \n",
              "8098  পদ্মার ভযাবহ ভাঙ্গনে নড়িয়া-সুরসুরেশ্বর সড়ক ...   \n",
              "8099  সৌদিতে নিহত মরজানের পরিবার পেলেন প্রাণিসম্পদ ব...   \n",
              "8100  সৌদিতে নিহত মরজানের পরিবার পেলেন প্রাণিসম্পদ ব...   \n",
              "8101  পুলিশ কর্মকর্তারা 'সামারি বিজনেস' করলে চাকরি জ...   \n",
              "\n",
              "                                            BestSummary  \\\n",
              "0     দুর্গাপুজায় আর্যদের দেবী মহিষাসুরকে ছলনার মাধ...   \n",
              "1     রাশিয়ার প্রেসিডেন্ট ভ্লাদিমির পুতিন তাঁর ক্ষম...   \n",
              "2     বাংলাদেশের দক্ষিণাঞ্চলীয় জেলা বরিশাল সদরে ৩০শ...   \n",
              "3     বিবিসি বাংলা একটি 'শ্রোতা জরিপ'-এর আয়োজন করে।...   \n",
              "4     আর কুমিল্লা থেকে বাস ভাড়া করে অনেকের সাথে নিজ...   \n",
              "...                                                 ...   \n",
              "8097  যুক্তরাষ্ট্রের প্রেসিডেন্ট ডোনাল্ড ট্রাম্পের ব...   \n",
              "8098  বিজ্ঞানীরা মঙ্গলগ্রহে তরল পানি থাকার প্রমাণ খু...   \n",
              "8099  বাংলাদেশের বরগুনায় রিফাত শরীফ নামের এক যুবককে...   \n",
              "8100  সৌদি আরব এবং ইরানের মধ্যে সাম্প্রতিক উত্তেজনা ...   \n",
              "8101  বাংলাদেশে পুলিশের ভাবমূর্তি এখনো একটি দুর্নীতি...   \n",
              "\n",
              "              BestSummaryModel  \n",
              "0       mT5_multilingual_XLSum  \n",
              "1             mT5_m2m_crossSum  \n",
              "2       mT5_multilingual_XLSum  \n",
              "3       mT5_multilingual_XLSum  \n",
              "4     scibert_scivocab_uncased  \n",
              "...                        ...  \n",
              "8097          mT5_m2m_crossSum  \n",
              "8098          mT5_m2m_crossSum  \n",
              "8099    mT5_multilingual_XLSum  \n",
              "8100          mT5_m2m_crossSum  \n",
              "8101    mT5_multilingual_XLSum  \n",
              "\n",
              "[8102 rows x 8 columns]"
            ],
            "text/html": [
              "\n",
              "\n",
              "  <div id=\"df-06a81ca0-9e36-43f8-a176-81b7fded2727\">\n",
              "    <div class=\"colab-df-container\">\n",
              "      <div>\n",
              "<style scoped>\n",
              "    .dataframe tbody tr th:only-of-type {\n",
              "        vertical-align: middle;\n",
              "    }\n",
              "\n",
              "    .dataframe tbody tr th {\n",
              "        vertical-align: top;\n",
              "    }\n",
              "\n",
              "    .dataframe thead th {\n",
              "        text-align: right;\n",
              "    }\n",
              "</style>\n",
              "<table border=\"1\" class=\"dataframe\">\n",
              "  <thead>\n",
              "    <tr style=\"text-align: right;\">\n",
              "      <th></th>\n",
              "      <th>text</th>\n",
              "      <th>givenSummary</th>\n",
              "      <th>mT5_multilingual_XLSum</th>\n",
              "      <th>mT5_m2m_crossSum</th>\n",
              "      <th>scibert_scivocab_uncased</th>\n",
              "      <th>Bangla_text_summarization</th>\n",
              "      <th>BestSummary</th>\n",
              "      <th>BestSummaryModel</th>\n",
              "    </tr>\n",
              "  </thead>\n",
              "  <tbody>\n",
              "    <tr>\n",
              "      <th>0</th>\n",
              "      <td>দুর্গাপুজায় মহিষাসুর বধ্যে মধ্য দিয়ে অশুভর ও...</td>\n",
              "      <td>হিন্দু বাঙালীরা যে সময়ে তাদের সবথেকে বড় উৎসব...</td>\n",
              "      <td>দুর্গাপুজায় আর্যদের দেবী মহিষাসুরকে ছলনার মাধ...</td>\n",
              "      <td>ভারতের আদিবাসীদের ধারণা ছিল, দুর্গাপুজায় অশুভ...</td>\n",
              "      <td>দুর্গাপুজায় মহিষাসুর বধ্যে মধ্য দিয়ে অশুভর ও...</td>\n",
              "      <td>বরিশালের গান্ধী আশ্রমে হর্ষবর্ধণ স্পেকট্রোমিটা...</td>\n",
              "      <td>দুর্গাপুজায় আর্যদের দেবী মহিষাসুরকে ছলনার মাধ...</td>\n",
              "      <td>mT5_multilingual_XLSum</td>\n",
              "    </tr>\n",
              "    <tr>\n",
              "      <th>1</th>\n",
              "      <td>গত ২০ বছরে তিনি রাশিয়ার প্রেসিডেন্ট এবং প্রধা...</td>\n",
              "      <td>ভ্লাদিমির পুতিন তাঁর ক্ষমতায় থাকার ২০ বছর পূর...</td>\n",
              "      <td>ভ্লাদিমির পুতিন ২০ বছর বয়সে ক্ষমতায় আসার পর ...</td>\n",
              "      <td>রাশিয়ার প্রেসিডেন্ট ভ্লাদিমির পুতিন তাঁর ক্ষম...</td>\n",
              "      <td>গত ২০ বছরে তিনি রাশিয়ার প্রেসিডেন্ট এবং প্রধা...</td>\n",
              "      <td>মুখগুলো আজও স্বজনহারা বেদনায় প্রদানকারীর্ধণ স...</td>\n",
              "      <td>রাশিয়ার প্রেসিডেন্ট ভ্লাদিমির পুতিন তাঁর ক্ষম...</td>\n",
              "      <td>mT5_m2m_crossSum</td>\n",
              "    </tr>\n",
              "    <tr>\n",
              "      <th>2</th>\n",
              "      <td>বরিশাল সদরে চলছে নির্বাচনী প্রচার প্রচারণা। যদ...</td>\n",
              "      <td>বাংলাদেশের দক্ষিণাঞ্চলীয় জেলা বরিশাল এখন তুমু...</td>\n",
              "      <td>বাংলাদেশের দক্ষিণাঞ্চলীয় জেলা বরিশাল সদরে ৩০শ...</td>\n",
              "      <td>বাংলাদেশের রাজধানী বরিশাল-৫ আসনে নির্বাচনী প্র...</td>\n",
              "      <td>যদিও প্রায় সব আসনেই প্রচার প্রচারণা বেশি চোখে...</td>\n",
              "      <td>বরিশাল বিশ্ববিদ্যালয়ে শোক র ্যালি ও আলোচনাসভা...</td>\n",
              "      <td>বাংলাদেশের দক্ষিণাঞ্চলীয় জেলা বরিশাল সদরে ৩০শ...</td>\n",
              "      <td>mT5_multilingual_XLSum</td>\n",
              "    </tr>\n",
              "    <tr>\n",
              "      <th>3</th>\n",
              "      <td>রবীন্দ্রনাথ ঠাকুর রবীন্দ্রনাথ ঠাকুর বাঙালির কা...</td>\n",
              "      <td>দু'হাজার চার সালে বিবিসি বাংলা একটি 'শ্রোতা জর...</td>\n",
              "      <td>বিবিসি বাংলা একটি 'শ্রোতা জরিপ'-এর আয়োজন করে।...</td>\n",
              "      <td>ভারতীয় সাহিত্যে নোবেল পুরস্কার জিতেছেন রবীন্দ...</td>\n",
              "      <td>বাংলা সাহিত্যের তিনি একজন উজ্জ্বল নক্ষত্র এবং ...</td>\n",
              "      <td>মুক্তিযুদ্ধের বিপক্ষ শক্তিকে প্রতিহত করতে না প...</td>\n",
              "      <td>বিবিসি বাংলা একটি 'শ্রোতা জরিপ'-এর আয়োজন করে।...</td>\n",
              "      <td>mT5_multilingual_XLSum</td>\n",
              "    </tr>\n",
              "    <tr>\n",
              "      <th>4</th>\n",
              "      <td>আর কুমিল্লা থেকে বাস ভাড়া করে অনেকের সাথে নিজ...</td>\n",
              "      <td>'ভাষণ শুরু আগে মাথার উপর দিয়ে বিমান আর হেলিকপ...</td>\n",
              "      <td>১৯৭১ সালের ৭ই মার্চ ঢাকার রেসকোর্স ময়দানে শেখ...</td>\n",
              "      <td>ঢাকার রেসকোর্স ময়দানে শেখ মুজিবুর রহমানের ভাষ...</td>\n",
              "      <td>আর কুমিল্লা থেকে বাস ভাড়া করে অনেকের সাথে নিজ...</td>\n",
              "      <td>ময়লার স্তুপে হারিয়ে যাওয়া শহীদের কবর উদ্ধার...</td>\n",
              "      <td>আর কুমিল্লা থেকে বাস ভাড়া করে অনেকের সাথে নিজ...</td>\n",
              "      <td>scibert_scivocab_uncased</td>\n",
              "    </tr>\n",
              "    <tr>\n",
              "      <th>...</th>\n",
              "      <td>...</td>\n",
              "      <td>...</td>\n",
              "      <td>...</td>\n",
              "      <td>...</td>\n",
              "      <td>...</td>\n",
              "      <td>...</td>\n",
              "      <td>...</td>\n",
              "      <td>...</td>\n",
              "    </tr>\n",
              "    <tr>\n",
              "      <th>8097</th>\n",
              "      <td>ডোনাল্ড ট্রাম্প 'ডোনাল্ড ট্রাম্পের বোধশক্তি ঠি...</td>\n",
              "      <td>আরো পড়ুন:</td>\n",
              "      <td>যুক্তরাষ্ট্রের প্রেসিডেন্ট ডোনাল্ড ট্রাম্পের স...</td>\n",
              "      <td>যুক্তরাষ্ট্রের প্রেসিডেন্ট ডোনাল্ড ট্রাম্পের ব...</td>\n",
              "      <td>ডোনাল্ড ট্রাম্প 'ডোনাল্ড ট্রাম্পের বোধশক্তি ঠি...</td>\n",
              "      <td>বরিশালের গান্ধী আশ্রমে হর্ষবর্ধণ স্পেকট্রোমিটা...</td>\n",
              "      <td>যুক্তরাষ্ট্রের প্রেসিডেন্ট ডোনাল্ড ট্রাম্পের ব...</td>\n",
              "      <td>mT5_m2m_crossSum</td>\n",
              "    </tr>\n",
              "    <tr>\n",
              "      <th>8098</th>\n",
              "      <td>মঙ্গলগ্রহে তরল পানি থাকার প্রমাণ খুঁজে পেয়েছে...</td>\n",
              "      <td>আরো পড়ুন:</td>\n",
              "      <td>মঙ্গলগ্রহে তরল পানি থাকার প্রমাণ খুঁজে পেয়েছে...</td>\n",
              "      <td>বিজ্ঞানীরা মঙ্গলগ্রহে তরল পানি থাকার প্রমাণ খু...</td>\n",
              "      <td>তাদের বিশ্বাস, এটি একটি হৃদ এবং সেটি রাডার ব্য...</td>\n",
              "      <td>পদ্মার ভযাবহ ভাঙ্গনে নড়িয়া-সুরসুরেশ্বর সড়ক ...</td>\n",
              "      <td>বিজ্ঞানীরা মঙ্গলগ্রহে তরল পানি থাকার প্রমাণ খু...</td>\n",
              "      <td>mT5_m2m_crossSum</td>\n",
              "    </tr>\n",
              "    <tr>\n",
              "      <th>8099</th>\n",
              "      <td>বরগুনায় রিফাত শরীফ নামের এক যুবককে প্রকাশ্যে ...</td>\n",
              "      <td>ঘটনা এক:</td>\n",
              "      <td>বাংলাদেশের বরগুনায় রিফাত শরীফ নামের এক যুবককে...</td>\n",
              "      <td>ঢাকাসহ বেশ কয়েকটি জেলায় কিশোরদের মধ্যে গ্যাং...</td>\n",
              "      <td>বরগুনায় রিফাত শরীফ নামের এক যুবককে প্রকাশ্যে ...</td>\n",
              "      <td>সৌদিতে নিহত মরজানের পরিবার পেলেন প্রাণিসম্পদ ব...</td>\n",
              "      <td>বাংলাদেশের বরগুনায় রিফাত শরীফ নামের এক যুবককে...</td>\n",
              "      <td>mT5_multilingual_XLSum</td>\n",
              "    </tr>\n",
              "    <tr>\n",
              "      <th>8100</th>\n",
              "      <td>স্যেদি যুবরাজ মোহাম্মদ বিন সালমান ও ইরানের প্র...</td>\n",
              "      <td>সৌদি আরব</td>\n",
              "      <td>সৌদি আরব এবং ইরানের মধ্যে সাম্প্রতিক উত্তেজনা ...</td>\n",
              "      <td>সৌদি আরব এবং ইরানের মধ্যে সাম্প্রতিক উত্তেজনা ...</td>\n",
              "      <td>স্যেদি যুবরাজ মোহাম্মদ বিন সালমান ও ইরানের প্র...</td>\n",
              "      <td>সৌদিতে নিহত মরজানের পরিবার পেলেন প্রাণিসম্পদ ব...</td>\n",
              "      <td>সৌদি আরব এবং ইরানের মধ্যে সাম্প্রতিক উত্তেজনা ...</td>\n",
              "      <td>mT5_m2m_crossSum</td>\n",
              "    </tr>\n",
              "    <tr>\n",
              "      <th>8101</th>\n",
              "      <td>বাংলাদেশে পুলিশের ভাবমূর্তি এখনো একটি দুর্নীতি...</td>\n",
              "      <td>কেস-স্টাডি ১ :</td>\n",
              "      <td>বাংলাদেশে পুলিশের ভাবমূর্তি এখনো একটি দুর্নীতি...</td>\n",
              "      <td>বাংলাদেশে পুলিশের ভাবমূর্তি এখনো একটি দুর্নীতি...</td>\n",
              "      <td>বাংলাদেশে পুলিশের ভাবমূর্তি এখনো একটি দুর্নীতি...</td>\n",
              "      <td>পুলিশ কর্মকর্তারা 'সামারি বিজনেস' করলে চাকরি জ...</td>\n",
              "      <td>বাংলাদেশে পুলিশের ভাবমূর্তি এখনো একটি দুর্নীতি...</td>\n",
              "      <td>mT5_multilingual_XLSum</td>\n",
              "    </tr>\n",
              "  </tbody>\n",
              "</table>\n",
              "<p>8102 rows × 8 columns</p>\n",
              "</div>\n",
              "      <button class=\"colab-df-convert\" onclick=\"convertToInteractive('df-06a81ca0-9e36-43f8-a176-81b7fded2727')\"\n",
              "              title=\"Convert this dataframe to an interactive table.\"\n",
              "              style=\"display:none;\">\n",
              "\n",
              "  <svg xmlns=\"http://www.w3.org/2000/svg\" height=\"24px\"viewBox=\"0 0 24 24\"\n",
              "       width=\"24px\">\n",
              "    <path d=\"M0 0h24v24H0V0z\" fill=\"none\"/>\n",
              "    <path d=\"M18.56 5.44l.94 2.06.94-2.06 2.06-.94-2.06-.94-.94-2.06-.94 2.06-2.06.94zm-11 1L8.5 8.5l.94-2.06 2.06-.94-2.06-.94L8.5 2.5l-.94 2.06-2.06.94zm10 10l.94 2.06.94-2.06 2.06-.94-2.06-.94-.94-2.06-.94 2.06-2.06.94z\"/><path d=\"M17.41 7.96l-1.37-1.37c-.4-.4-.92-.59-1.43-.59-.52 0-1.04.2-1.43.59L10.3 9.45l-7.72 7.72c-.78.78-.78 2.05 0 2.83L4 21.41c.39.39.9.59 1.41.59.51 0 1.02-.2 1.41-.59l7.78-7.78 2.81-2.81c.8-.78.8-2.07 0-2.86zM5.41 20L4 18.59l7.72-7.72 1.47 1.35L5.41 20z\"/>\n",
              "  </svg>\n",
              "      </button>\n",
              "\n",
              "\n",
              "\n",
              "    <div id=\"df-bb8c7136-dd08-4749-8c3a-9cca91929e71\">\n",
              "      <button class=\"colab-df-quickchart\" onclick=\"quickchart('df-bb8c7136-dd08-4749-8c3a-9cca91929e71')\"\n",
              "              title=\"Suggest charts.\"\n",
              "              style=\"display:none;\">\n",
              "\n",
              "<svg xmlns=\"http://www.w3.org/2000/svg\" height=\"24px\"viewBox=\"0 0 24 24\"\n",
              "     width=\"24px\">\n",
              "    <g>\n",
              "        <path d=\"M19 3H5c-1.1 0-2 .9-2 2v14c0 1.1.9 2 2 2h14c1.1 0 2-.9 2-2V5c0-1.1-.9-2-2-2zM9 17H7v-7h2v7zm4 0h-2V7h2v10zm4 0h-2v-4h2v4z\"/>\n",
              "    </g>\n",
              "</svg>\n",
              "      </button>\n",
              "    </div>\n",
              "\n",
              "<style>\n",
              "  .colab-df-quickchart {\n",
              "    background-color: #E8F0FE;\n",
              "    border: none;\n",
              "    border-radius: 50%;\n",
              "    cursor: pointer;\n",
              "    display: none;\n",
              "    fill: #1967D2;\n",
              "    height: 32px;\n",
              "    padding: 0 0 0 0;\n",
              "    width: 32px;\n",
              "  }\n",
              "\n",
              "  .colab-df-quickchart:hover {\n",
              "    background-color: #E2EBFA;\n",
              "    box-shadow: 0px 1px 2px rgba(60, 64, 67, 0.3), 0px 1px 3px 1px rgba(60, 64, 67, 0.15);\n",
              "    fill: #174EA6;\n",
              "  }\n",
              "\n",
              "  [theme=dark] .colab-df-quickchart {\n",
              "    background-color: #3B4455;\n",
              "    fill: #D2E3FC;\n",
              "  }\n",
              "\n",
              "  [theme=dark] .colab-df-quickchart:hover {\n",
              "    background-color: #434B5C;\n",
              "    box-shadow: 0px 1px 3px 1px rgba(0, 0, 0, 0.15);\n",
              "    filter: drop-shadow(0px 1px 2px rgba(0, 0, 0, 0.3));\n",
              "    fill: #FFFFFF;\n",
              "  }\n",
              "</style>\n",
              "\n",
              "    <script>\n",
              "      async function quickchart(key) {\n",
              "        const containerElement = document.querySelector('#' + key);\n",
              "        const charts = await google.colab.kernel.invokeFunction(\n",
              "            'suggestCharts', [key], {});\n",
              "      }\n",
              "    </script>\n",
              "\n",
              "      <script>\n",
              "\n",
              "function displayQuickchartButton(domScope) {\n",
              "  let quickchartButtonEl =\n",
              "    domScope.querySelector('#df-bb8c7136-dd08-4749-8c3a-9cca91929e71 button.colab-df-quickchart');\n",
              "  quickchartButtonEl.style.display =\n",
              "    google.colab.kernel.accessAllowed ? 'block' : 'none';\n",
              "}\n",
              "\n",
              "        displayQuickchartButton(document);\n",
              "      </script>\n",
              "      <style>\n",
              "    .colab-df-container {\n",
              "      display:flex;\n",
              "      flex-wrap:wrap;\n",
              "      gap: 12px;\n",
              "    }\n",
              "\n",
              "    .colab-df-convert {\n",
              "      background-color: #E8F0FE;\n",
              "      border: none;\n",
              "      border-radius: 50%;\n",
              "      cursor: pointer;\n",
              "      display: none;\n",
              "      fill: #1967D2;\n",
              "      height: 32px;\n",
              "      padding: 0 0 0 0;\n",
              "      width: 32px;\n",
              "    }\n",
              "\n",
              "    .colab-df-convert:hover {\n",
              "      background-color: #E2EBFA;\n",
              "      box-shadow: 0px 1px 2px rgba(60, 64, 67, 0.3), 0px 1px 3px 1px rgba(60, 64, 67, 0.15);\n",
              "      fill: #174EA6;\n",
              "    }\n",
              "\n",
              "    [theme=dark] .colab-df-convert {\n",
              "      background-color: #3B4455;\n",
              "      fill: #D2E3FC;\n",
              "    }\n",
              "\n",
              "    [theme=dark] .colab-df-convert:hover {\n",
              "      background-color: #434B5C;\n",
              "      box-shadow: 0px 1px 3px 1px rgba(0, 0, 0, 0.15);\n",
              "      filter: drop-shadow(0px 1px 2px rgba(0, 0, 0, 0.3));\n",
              "      fill: #FFFFFF;\n",
              "    }\n",
              "  </style>\n",
              "\n",
              "      <script>\n",
              "        const buttonEl =\n",
              "          document.querySelector('#df-06a81ca0-9e36-43f8-a176-81b7fded2727 button.colab-df-convert');\n",
              "        buttonEl.style.display =\n",
              "          google.colab.kernel.accessAllowed ? 'block' : 'none';\n",
              "\n",
              "        async function convertToInteractive(key) {\n",
              "          const element = document.querySelector('#df-06a81ca0-9e36-43f8-a176-81b7fded2727');\n",
              "          const dataTable =\n",
              "            await google.colab.kernel.invokeFunction('convertToInteractive',\n",
              "                                                     [key], {});\n",
              "          if (!dataTable) return;\n",
              "\n",
              "          const docLinkHtml = 'Like what you see? Visit the ' +\n",
              "            '<a target=\"_blank\" href=https://colab.research.google.com/notebooks/data_table.ipynb>data table notebook</a>'\n",
              "            + ' to learn more about interactive tables.';\n",
              "          element.innerHTML = '';\n",
              "          dataTable['output_type'] = 'display_data';\n",
              "          await google.colab.output.renderOutput(dataTable, element);\n",
              "          const docLink = document.createElement('div');\n",
              "          docLink.innerHTML = docLinkHtml;\n",
              "          element.appendChild(docLink);\n",
              "        }\n",
              "      </script>\n",
              "    </div>\n",
              "  </div>\n"
            ]
          },
          "metadata": {},
          "execution_count": 11
        }
      ],
      "source": [
        "finalDF = pd.read_csv(\"/content/drive/MyDrive/SCDataset/Final/processedFinal.csv\")\n",
        "finalDF2 = pd.read_csv(\"/content/drive/MyDrive/SCDataset/Final/processedFinalV2.csv\")\n",
        "finalDF"
      ]
    },
    {
      "cell_type": "code",
      "execution_count": 12,
      "metadata": {
        "colab": {
          "base_uri": "https://localhost:8080/",
          "height": 1000
        },
        "id": "Siex0k526pNx",
        "outputId": "4a8ba76f-00ec-428f-94c7-5687b068f03f"
      },
      "outputs": [
        {
          "output_type": "execute_result",
          "data": {
            "text/plain": [
              "                                                   text  \\\n",
              "0     ঢাকা মহানগর ও ঢাকা জেলা আদালত, কিশোরগঞ্জ ও রাঙ...   \n",
              "1     যুক্তরাষ্ট্রে বিজ্ঞান ও প্রকৌশলে পেশা শুরুর প...   \n",
              "2     বিকল্প শিশুখাদ্য ও বাণিজ্যিকভাবে উত্পাদিত শিশু...   \n",
              "3     বগুড়ার আদমদীঘির সান্তাহারে গতকাল শনিবার ট্রেন...   \n",
              "4     যাত্রাবাড়ীর একটি রেস্তোরাঁয় গতকাল বুধবার ভোর...   \n",
              "...                                                 ...   \n",
              "4983  দুই বছরে ১১ জনকে বিয়ে করেছেন এক তরুণী। এর মধ্য...   \n",
              "4984  জামালপুর পল্লী বিদ্যুৎ সমিতির আওতায় কুড়িগ্রামে...   \n",
              "4985  হলিউডের সর্বকালের আইকনদের একজন, অভিনেত্রী মেরি...   \n",
              "4986  ২৬ মার্চকে আন্তর্জাতিক গণহত্যা দিবস ঘোষণার জন...   \n",
              "4987  আধা ঘণ্টা থেকে এক ঘণ্টা টানা বৃষ্টি হলেই কুমিল...   \n",
              "\n",
              "                                           givenSummary  \\\n",
              "0            অ্যাপসে মিলবে ঢাকাসহ তিন জেলা আদালতের তথ্য   \n",
              "1     বিজ্ঞান ও প্রকৌশলে মার্কিন সর্বোচ্চ সম্মাননা...   \n",
              "2     বিকল্প শিশুখাদ্য গ্রহণে শিশুর মৃত্যু হলে শাস্ত...   \n",
              "3          ট্রেনে কাটা পড়ে সাবেক সিভিল সার্জনের মৃত্যু   \n",
              "4     যাত্রাবাড়ীতে চুলা জ্বালাতে গিয়ে দুই কর্মচারী ...   \n",
              "...                                                 ...   \n",
              "4983        দুই বছরে ১১ জনকে বিয়ে করলেন তরুণী, অতঃপর...   \n",
              "4984        ট্রান্সমিটার পরিবর্তন ও মিটার নিতে ঘুষ আদায়   \n",
              "4985                  ৪৮ লাখ ডলারে বিক্রি হলো সেই গাউন   \n",
              "4986   ২৬ মার্চকে আন্তর্জাতিক গণহত্যা দিবস ঘোষণার দাবি   \n",
              "4987  কুমিল্লা নগরে পানিপ্রবাহের পথ রুদ্ধ, অল্প বৃষ্...   \n",
              "\n",
              "                                 mT5_multilingual_XLSum  \\\n",
              "0     বাংলাদেশের সব আদালতের মামলার সংক্রান্ত তথ্য এখ...   \n",
              "1     যুক্তরাষ্ট্রে বিজ্ঞান ও প্রকৌশলে পেশা শুরুর প্...   \n",
              "2     বাংলাদেশে বিকল্প শিশুখাদ্য ও বাণিজ্যিকভাবে উত্...   \n",
              "3     বগুড়ার আদমদীঘির সান্তাহারে গতকাল শনিবার ট্রেন...   \n",
              "4     বাংলাদেশের রাজধানী ঢাকার যাত্রাবাড়ী মোড় এলাক...   \n",
              "...                                                 ...   \n",
              "4983  থাইল্যান্ডের এক তরুণী গত দুই বছরে ১১ জন পুরুষক...   \n",
              "4984  বাংলাদেশের কুড়িগ্রামের রৌমারী ও রাজীবপুর উপজে...   \n",
              "4985  হলিউডের সর্বকালের আইকনদের একজন, অভিনেত্রী মেরি...   \n",
              "4986  বাংলাদেশে ২৬ মার্চকে আন্তর্জাতিক গণহত্যা দিবস ...   \n",
              "4987  কুমিল্লা সিটি করপোরেশনের কর্মকর্তারা বলছেন, গত...   \n",
              "\n",
              "                                       mT5_m2m_crossSum  \\\n",
              "0     বাংলাদেশের সব আদালতের মামলার সংক্রান্ত তথ্য এখ...   \n",
              "1     যুক্তরাষ্ট্রে বিজ্ঞান ও প্রকৌশলে পেশা শুরুর প্...   \n",
              "2     বাংলাদেশের স্বাস্থ্য মন্ত্রণালয়-সম্পর্কিত সংস...   \n",
              "3     বগুড়ার আদমদীঘির সান্তাহারে ট্রেনের নিচে কাটা ...   \n",
              "4     বাংলাদেশের রাজধানী ঢাকার যাত্রাবাড়ি মোড় এলাক...   \n",
              "...                                                 ...   \n",
              "4983  থাইল্যান্ডের এক তরুণী গত দুই বছরে ১১ জনের সঙ্গ...   \n",
              "4984  কুড়িগ্রামের রৌমারী ও রাজীবপুর উপজেলায় নতুন ব...   \n",
              "4985  হলিউডের সর্বকালের আইকনদের একজন, অভিনেত্রী মেরি...   \n",
              "4986  বাংলাদেশে আন্তর্জাতিক গণহত্যা দিবস ঘোষণার জন্য...   \n",
              "4987  কুমিল্লা সিটি করপোরেশনের কর্মকর্তারা বলছেন, গত...   \n",
              "\n",
              "                               scibert_scivocab_uncased  \\\n",
              "0     তিনি জানান, এই অ্যাপসে আদালতের প্রতিদিনের মামল...   \n",
              "1     যুক্তরাষ্ট্রে বিজ্ঞান ও প্রকৌশলে পেশা শুরুর প্...   \n",
              "2     আজ মঙ্গলবার জাতীয় সংসদ ভবনে অনুষ্ঠিত কমিটির ব...   \n",
              "3     বগুড়ার আদমদীঘির সান্তাহারে গতকাল শনিবার ট্রেন...   \n",
              "4     যাত্রাবাড়ীর একটি রেস্তোরাঁয় গতকাল বুধবার ভোর...   \n",
              "...                                                 ...   \n",
              "4983  এর মধ্যে এক মাসেই চারজনকে বিয়ে করেন তিনি। থাই...   \n",
              "4984  জামালপুর পল্লী বিদ্যুৎ সমিতির আওতায় কুড়িগ্রা...   \n",
              "4985  হলিউডের সর্বকালের আইকনদের একজন, অভিনেত্রী মেরি...   \n",
              "4986  ২৬ মার্চকে আন্তর্জাতিক গণহত্যা দিবস ঘোষণার জন্...   \n",
              "4987  আধা ঘণ্টা থেকে এক ঘণ্টা টানা বৃষ্টি হলেই কুমিল...   \n",
              "\n",
              "                              Bangla_text_summarization  \\\n",
              "0     সেই 'মুচি জসীমের' মোবাইল নম্বর ক্লোন করে সাংবা...   \n",
              "1     নেত্রকোনায় বঙ্গবন্ধুকে পৌঁছে দিতে হবে প্রজন্ম...   \n",
              "2     চিকিৎসকদের অবহেলায় শিশু রাফিয়ার মৃত্যুর বিচা...   \n",
              "3     ট্রেন থেকে ট্রেনে কাটা পড়ে নিহত শাহ আলমের দাফ...   \n",
              "4     কলেজছাত্রীর গায়ে পেট্রল ঢেলে আগুন, ৯ দিন পর ম...   \n",
              "...                                                 ...   \n",
              "4983  জর্দান ফেরত সেই কুমারী মায়ের পাশে মানিকগঞ্জ প...   \n",
              "4984  ভোলায় ভুয়া এনজিও অফিস ঘেরাও, এক লাখ টাকা মুক...   \n",
              "4985  বরিশালের গান্ধী আশ্রমে হর্ষবর্ধণ স্পেকট্রোমিটা...   \n",
              "4986  ইলিশের জীবন রহস্য উম্মোচনের গবেষণাটি হাইজ্যাকে...   \n",
              "4987  পদ্মার ভযাবহ ভাঙ্গনে নড়িয়া-সুরেশ্বর সড়ক মন্...   \n",
              "\n",
              "                                            BestSummary  \\\n",
              "0     বাংলাদেশের সব আদালতের মামলার সংক্রান্ত তথ্য এখ...   \n",
              "1     যুক্তরাষ্ট্রে বিজ্ঞান ও প্রকৌশলে পেশা শুরুর প্...   \n",
              "2     বাংলাদেশে বিকল্প শিশুখাদ্য ও বাণিজ্যিকভাবে উত্...   \n",
              "3     বগুড়ার আদমদীঘির সান্তাহারে গতকাল শনিবার ট্রেন...   \n",
              "4     বাংলাদেশের রাজধানী ঢাকার যাত্রাবাড়ি মোড় এলাক...   \n",
              "...                                                 ...   \n",
              "4983  থাইল্যান্ডের এক তরুণী গত দুই বছরে ১১ জন পুরুষক...   \n",
              "4984  বাংলাদেশের কুড়িগ্রামের রৌমারী ও রাজীবপুর উপজে...   \n",
              "4985  হলিউডের সর্বকালের আইকনদের একজন, অভিনেত্রী মেরি...   \n",
              "4986  বাংলাদেশে ২৬ মার্চকে আন্তর্জাতিক গণহত্যা দিবস ...   \n",
              "4987  আধা ঘণ্টা থেকে এক ঘণ্টা টানা বৃষ্টি হলেই কুমিল...   \n",
              "\n",
              "              BestSummaryModel  \n",
              "0       mT5_multilingual_XLSum  \n",
              "1     scibert_scivocab_uncased  \n",
              "2       mT5_multilingual_XLSum  \n",
              "3       mT5_multilingual_XLSum  \n",
              "4             mT5_m2m_crossSum  \n",
              "...                        ...  \n",
              "4983    mT5_multilingual_XLSum  \n",
              "4984    mT5_multilingual_XLSum  \n",
              "4985    mT5_multilingual_XLSum  \n",
              "4986    mT5_multilingual_XLSum  \n",
              "4987  scibert_scivocab_uncased  \n",
              "\n",
              "[4988 rows x 8 columns]"
            ],
            "text/html": [
              "\n",
              "\n",
              "  <div id=\"df-905d185e-af3a-4f23-afde-c286ac694948\">\n",
              "    <div class=\"colab-df-container\">\n",
              "      <div>\n",
              "<style scoped>\n",
              "    .dataframe tbody tr th:only-of-type {\n",
              "        vertical-align: middle;\n",
              "    }\n",
              "\n",
              "    .dataframe tbody tr th {\n",
              "        vertical-align: top;\n",
              "    }\n",
              "\n",
              "    .dataframe thead th {\n",
              "        text-align: right;\n",
              "    }\n",
              "</style>\n",
              "<table border=\"1\" class=\"dataframe\">\n",
              "  <thead>\n",
              "    <tr style=\"text-align: right;\">\n",
              "      <th></th>\n",
              "      <th>text</th>\n",
              "      <th>givenSummary</th>\n",
              "      <th>mT5_multilingual_XLSum</th>\n",
              "      <th>mT5_m2m_crossSum</th>\n",
              "      <th>scibert_scivocab_uncased</th>\n",
              "      <th>Bangla_text_summarization</th>\n",
              "      <th>BestSummary</th>\n",
              "      <th>BestSummaryModel</th>\n",
              "    </tr>\n",
              "  </thead>\n",
              "  <tbody>\n",
              "    <tr>\n",
              "      <th>0</th>\n",
              "      <td>ঢাকা মহানগর ও ঢাকা জেলা আদালত, কিশোরগঞ্জ ও রাঙ...</td>\n",
              "      <td>অ্যাপসে মিলবে ঢাকাসহ তিন জেলা আদালতের তথ্য</td>\n",
              "      <td>বাংলাদেশের সব আদালতের মামলার সংক্রান্ত তথ্য এখ...</td>\n",
              "      <td>বাংলাদেশের সব আদালতের মামলার সংক্রান্ত তথ্য এখ...</td>\n",
              "      <td>তিনি জানান, এই অ্যাপসে আদালতের প্রতিদিনের মামল...</td>\n",
              "      <td>সেই 'মুচি জসীমের' মোবাইল নম্বর ক্লোন করে সাংবা...</td>\n",
              "      <td>বাংলাদেশের সব আদালতের মামলার সংক্রান্ত তথ্য এখ...</td>\n",
              "      <td>mT5_multilingual_XLSum</td>\n",
              "    </tr>\n",
              "    <tr>\n",
              "      <th>1</th>\n",
              "      <td>যুক্তরাষ্ট্রে বিজ্ঞান ও প্রকৌশলে পেশা শুরুর প...</td>\n",
              "      <td>বিজ্ঞান ও প্রকৌশলে মার্কিন সর্বোচ্চ সম্মাননা...</td>\n",
              "      <td>যুক্তরাষ্ট্রে বিজ্ঞান ও প্রকৌশলে পেশা শুরুর প্...</td>\n",
              "      <td>যুক্তরাষ্ট্রে বিজ্ঞান ও প্রকৌশলে পেশা শুরুর প্...</td>\n",
              "      <td>যুক্তরাষ্ট্রে বিজ্ঞান ও প্রকৌশলে পেশা শুরুর প্...</td>\n",
              "      <td>নেত্রকোনায় বঙ্গবন্ধুকে পৌঁছে দিতে হবে প্রজন্ম...</td>\n",
              "      <td>যুক্তরাষ্ট্রে বিজ্ঞান ও প্রকৌশলে পেশা শুরুর প্...</td>\n",
              "      <td>scibert_scivocab_uncased</td>\n",
              "    </tr>\n",
              "    <tr>\n",
              "      <th>2</th>\n",
              "      <td>বিকল্প শিশুখাদ্য ও বাণিজ্যিকভাবে উত্পাদিত শিশু...</td>\n",
              "      <td>বিকল্প শিশুখাদ্য গ্রহণে শিশুর মৃত্যু হলে শাস্ত...</td>\n",
              "      <td>বাংলাদেশে বিকল্প শিশুখাদ্য ও বাণিজ্যিকভাবে উত্...</td>\n",
              "      <td>বাংলাদেশের স্বাস্থ্য মন্ত্রণালয়-সম্পর্কিত সংস...</td>\n",
              "      <td>আজ মঙ্গলবার জাতীয় সংসদ ভবনে অনুষ্ঠিত কমিটির ব...</td>\n",
              "      <td>চিকিৎসকদের অবহেলায় শিশু রাফিয়ার মৃত্যুর বিচা...</td>\n",
              "      <td>বাংলাদেশে বিকল্প শিশুখাদ্য ও বাণিজ্যিকভাবে উত্...</td>\n",
              "      <td>mT5_multilingual_XLSum</td>\n",
              "    </tr>\n",
              "    <tr>\n",
              "      <th>3</th>\n",
              "      <td>বগুড়ার আদমদীঘির সান্তাহারে গতকাল শনিবার ট্রেন...</td>\n",
              "      <td>ট্রেনে কাটা পড়ে সাবেক সিভিল সার্জনের মৃত্যু</td>\n",
              "      <td>বগুড়ার আদমদীঘির সান্তাহারে গতকাল শনিবার ট্রেন...</td>\n",
              "      <td>বগুড়ার আদমদীঘির সান্তাহারে ট্রেনের নিচে কাটা ...</td>\n",
              "      <td>বগুড়ার আদমদীঘির সান্তাহারে গতকাল শনিবার ট্রেন...</td>\n",
              "      <td>ট্রেন থেকে ট্রেনে কাটা পড়ে নিহত শাহ আলমের দাফ...</td>\n",
              "      <td>বগুড়ার আদমদীঘির সান্তাহারে গতকাল শনিবার ট্রেন...</td>\n",
              "      <td>mT5_multilingual_XLSum</td>\n",
              "    </tr>\n",
              "    <tr>\n",
              "      <th>4</th>\n",
              "      <td>যাত্রাবাড়ীর একটি রেস্তোরাঁয় গতকাল বুধবার ভোর...</td>\n",
              "      <td>যাত্রাবাড়ীতে চুলা জ্বালাতে গিয়ে দুই কর্মচারী ...</td>\n",
              "      <td>বাংলাদেশের রাজধানী ঢাকার যাত্রাবাড়ী মোড় এলাক...</td>\n",
              "      <td>বাংলাদেশের রাজধানী ঢাকার যাত্রাবাড়ি মোড় এলাক...</td>\n",
              "      <td>যাত্রাবাড়ীর একটি রেস্তোরাঁয় গতকাল বুধবার ভোর...</td>\n",
              "      <td>কলেজছাত্রীর গায়ে পেট্রল ঢেলে আগুন, ৯ দিন পর ম...</td>\n",
              "      <td>বাংলাদেশের রাজধানী ঢাকার যাত্রাবাড়ি মোড় এলাক...</td>\n",
              "      <td>mT5_m2m_crossSum</td>\n",
              "    </tr>\n",
              "    <tr>\n",
              "      <th>...</th>\n",
              "      <td>...</td>\n",
              "      <td>...</td>\n",
              "      <td>...</td>\n",
              "      <td>...</td>\n",
              "      <td>...</td>\n",
              "      <td>...</td>\n",
              "      <td>...</td>\n",
              "      <td>...</td>\n",
              "    </tr>\n",
              "    <tr>\n",
              "      <th>4983</th>\n",
              "      <td>দুই বছরে ১১ জনকে বিয়ে করেছেন এক তরুণী। এর মধ্য...</td>\n",
              "      <td>দুই বছরে ১১ জনকে বিয়ে করলেন তরুণী, অতঃপর...</td>\n",
              "      <td>থাইল্যান্ডের এক তরুণী গত দুই বছরে ১১ জন পুরুষক...</td>\n",
              "      <td>থাইল্যান্ডের এক তরুণী গত দুই বছরে ১১ জনের সঙ্গ...</td>\n",
              "      <td>এর মধ্যে এক মাসেই চারজনকে বিয়ে করেন তিনি। থাই...</td>\n",
              "      <td>জর্দান ফেরত সেই কুমারী মায়ের পাশে মানিকগঞ্জ প...</td>\n",
              "      <td>থাইল্যান্ডের এক তরুণী গত দুই বছরে ১১ জন পুরুষক...</td>\n",
              "      <td>mT5_multilingual_XLSum</td>\n",
              "    </tr>\n",
              "    <tr>\n",
              "      <th>4984</th>\n",
              "      <td>জামালপুর পল্লী বিদ্যুৎ সমিতির আওতায় কুড়িগ্রামে...</td>\n",
              "      <td>ট্রান্সমিটার পরিবর্তন ও মিটার নিতে ঘুষ আদায়</td>\n",
              "      <td>বাংলাদেশের কুড়িগ্রামের রৌমারী ও রাজীবপুর উপজে...</td>\n",
              "      <td>কুড়িগ্রামের রৌমারী ও রাজীবপুর উপজেলায় নতুন ব...</td>\n",
              "      <td>জামালপুর পল্লী বিদ্যুৎ সমিতির আওতায় কুড়িগ্রা...</td>\n",
              "      <td>ভোলায় ভুয়া এনজিও অফিস ঘেরাও, এক লাখ টাকা মুক...</td>\n",
              "      <td>বাংলাদেশের কুড়িগ্রামের রৌমারী ও রাজীবপুর উপজে...</td>\n",
              "      <td>mT5_multilingual_XLSum</td>\n",
              "    </tr>\n",
              "    <tr>\n",
              "      <th>4985</th>\n",
              "      <td>হলিউডের সর্বকালের আইকনদের একজন, অভিনেত্রী মেরি...</td>\n",
              "      <td>৪৮ লাখ ডলারে বিক্রি হলো সেই গাউন</td>\n",
              "      <td>হলিউডের সর্বকালের আইকনদের একজন, অভিনেত্রী মেরি...</td>\n",
              "      <td>হলিউডের সর্বকালের আইকনদের একজন, অভিনেত্রী মেরি...</td>\n",
              "      <td>হলিউডের সর্বকালের আইকনদের একজন, অভিনেত্রী মেরি...</td>\n",
              "      <td>বরিশালের গান্ধী আশ্রমে হর্ষবর্ধণ স্পেকট্রোমিটা...</td>\n",
              "      <td>হলিউডের সর্বকালের আইকনদের একজন, অভিনেত্রী মেরি...</td>\n",
              "      <td>mT5_multilingual_XLSum</td>\n",
              "    </tr>\n",
              "    <tr>\n",
              "      <th>4986</th>\n",
              "      <td>২৬ মার্চকে আন্তর্জাতিক গণহত্যা দিবস ঘোষণার জন...</td>\n",
              "      <td>২৬ মার্চকে আন্তর্জাতিক গণহত্যা দিবস ঘোষণার দাবি</td>\n",
              "      <td>বাংলাদেশে ২৬ মার্চকে আন্তর্জাতিক গণহত্যা দিবস ...</td>\n",
              "      <td>বাংলাদেশে আন্তর্জাতিক গণহত্যা দিবস ঘোষণার জন্য...</td>\n",
              "      <td>২৬ মার্চকে আন্তর্জাতিক গণহত্যা দিবস ঘোষণার জন্...</td>\n",
              "      <td>ইলিশের জীবন রহস্য উম্মোচনের গবেষণাটি হাইজ্যাকে...</td>\n",
              "      <td>বাংলাদেশে ২৬ মার্চকে আন্তর্জাতিক গণহত্যা দিবস ...</td>\n",
              "      <td>mT5_multilingual_XLSum</td>\n",
              "    </tr>\n",
              "    <tr>\n",
              "      <th>4987</th>\n",
              "      <td>আধা ঘণ্টা থেকে এক ঘণ্টা টানা বৃষ্টি হলেই কুমিল...</td>\n",
              "      <td>কুমিল্লা নগরে পানিপ্রবাহের পথ রুদ্ধ, অল্প বৃষ্...</td>\n",
              "      <td>কুমিল্লা সিটি করপোরেশনের কর্মকর্তারা বলছেন, গত...</td>\n",
              "      <td>কুমিল্লা সিটি করপোরেশনের কর্মকর্তারা বলছেন, গত...</td>\n",
              "      <td>আধা ঘণ্টা থেকে এক ঘণ্টা টানা বৃষ্টি হলেই কুমিল...</td>\n",
              "      <td>পদ্মার ভযাবহ ভাঙ্গনে নড়িয়া-সুরেশ্বর সড়ক মন্...</td>\n",
              "      <td>আধা ঘণ্টা থেকে এক ঘণ্টা টানা বৃষ্টি হলেই কুমিল...</td>\n",
              "      <td>scibert_scivocab_uncased</td>\n",
              "    </tr>\n",
              "  </tbody>\n",
              "</table>\n",
              "<p>4988 rows × 8 columns</p>\n",
              "</div>\n",
              "      <button class=\"colab-df-convert\" onclick=\"convertToInteractive('df-905d185e-af3a-4f23-afde-c286ac694948')\"\n",
              "              title=\"Convert this dataframe to an interactive table.\"\n",
              "              style=\"display:none;\">\n",
              "\n",
              "  <svg xmlns=\"http://www.w3.org/2000/svg\" height=\"24px\"viewBox=\"0 0 24 24\"\n",
              "       width=\"24px\">\n",
              "    <path d=\"M0 0h24v24H0V0z\" fill=\"none\"/>\n",
              "    <path d=\"M18.56 5.44l.94 2.06.94-2.06 2.06-.94-2.06-.94-.94-2.06-.94 2.06-2.06.94zm-11 1L8.5 8.5l.94-2.06 2.06-.94-2.06-.94L8.5 2.5l-.94 2.06-2.06.94zm10 10l.94 2.06.94-2.06 2.06-.94-2.06-.94-.94-2.06-.94 2.06-2.06.94z\"/><path d=\"M17.41 7.96l-1.37-1.37c-.4-.4-.92-.59-1.43-.59-.52 0-1.04.2-1.43.59L10.3 9.45l-7.72 7.72c-.78.78-.78 2.05 0 2.83L4 21.41c.39.39.9.59 1.41.59.51 0 1.02-.2 1.41-.59l7.78-7.78 2.81-2.81c.8-.78.8-2.07 0-2.86zM5.41 20L4 18.59l7.72-7.72 1.47 1.35L5.41 20z\"/>\n",
              "  </svg>\n",
              "      </button>\n",
              "\n",
              "\n",
              "\n",
              "    <div id=\"df-963a47bb-a6a9-41f7-96c2-bc14f6120337\">\n",
              "      <button class=\"colab-df-quickchart\" onclick=\"quickchart('df-963a47bb-a6a9-41f7-96c2-bc14f6120337')\"\n",
              "              title=\"Suggest charts.\"\n",
              "              style=\"display:none;\">\n",
              "\n",
              "<svg xmlns=\"http://www.w3.org/2000/svg\" height=\"24px\"viewBox=\"0 0 24 24\"\n",
              "     width=\"24px\">\n",
              "    <g>\n",
              "        <path d=\"M19 3H5c-1.1 0-2 .9-2 2v14c0 1.1.9 2 2 2h14c1.1 0 2-.9 2-2V5c0-1.1-.9-2-2-2zM9 17H7v-7h2v7zm4 0h-2V7h2v10zm4 0h-2v-4h2v4z\"/>\n",
              "    </g>\n",
              "</svg>\n",
              "      </button>\n",
              "    </div>\n",
              "\n",
              "<style>\n",
              "  .colab-df-quickchart {\n",
              "    background-color: #E8F0FE;\n",
              "    border: none;\n",
              "    border-radius: 50%;\n",
              "    cursor: pointer;\n",
              "    display: none;\n",
              "    fill: #1967D2;\n",
              "    height: 32px;\n",
              "    padding: 0 0 0 0;\n",
              "    width: 32px;\n",
              "  }\n",
              "\n",
              "  .colab-df-quickchart:hover {\n",
              "    background-color: #E2EBFA;\n",
              "    box-shadow: 0px 1px 2px rgba(60, 64, 67, 0.3), 0px 1px 3px 1px rgba(60, 64, 67, 0.15);\n",
              "    fill: #174EA6;\n",
              "  }\n",
              "\n",
              "  [theme=dark] .colab-df-quickchart {\n",
              "    background-color: #3B4455;\n",
              "    fill: #D2E3FC;\n",
              "  }\n",
              "\n",
              "  [theme=dark] .colab-df-quickchart:hover {\n",
              "    background-color: #434B5C;\n",
              "    box-shadow: 0px 1px 3px 1px rgba(0, 0, 0, 0.15);\n",
              "    filter: drop-shadow(0px 1px 2px rgba(0, 0, 0, 0.3));\n",
              "    fill: #FFFFFF;\n",
              "  }\n",
              "</style>\n",
              "\n",
              "    <script>\n",
              "      async function quickchart(key) {\n",
              "        const containerElement = document.querySelector('#' + key);\n",
              "        const charts = await google.colab.kernel.invokeFunction(\n",
              "            'suggestCharts', [key], {});\n",
              "      }\n",
              "    </script>\n",
              "\n",
              "      <script>\n",
              "\n",
              "function displayQuickchartButton(domScope) {\n",
              "  let quickchartButtonEl =\n",
              "    domScope.querySelector('#df-963a47bb-a6a9-41f7-96c2-bc14f6120337 button.colab-df-quickchart');\n",
              "  quickchartButtonEl.style.display =\n",
              "    google.colab.kernel.accessAllowed ? 'block' : 'none';\n",
              "}\n",
              "\n",
              "        displayQuickchartButton(document);\n",
              "      </script>\n",
              "      <style>\n",
              "    .colab-df-container {\n",
              "      display:flex;\n",
              "      flex-wrap:wrap;\n",
              "      gap: 12px;\n",
              "    }\n",
              "\n",
              "    .colab-df-convert {\n",
              "      background-color: #E8F0FE;\n",
              "      border: none;\n",
              "      border-radius: 50%;\n",
              "      cursor: pointer;\n",
              "      display: none;\n",
              "      fill: #1967D2;\n",
              "      height: 32px;\n",
              "      padding: 0 0 0 0;\n",
              "      width: 32px;\n",
              "    }\n",
              "\n",
              "    .colab-df-convert:hover {\n",
              "      background-color: #E2EBFA;\n",
              "      box-shadow: 0px 1px 2px rgba(60, 64, 67, 0.3), 0px 1px 3px 1px rgba(60, 64, 67, 0.15);\n",
              "      fill: #174EA6;\n",
              "    }\n",
              "\n",
              "    [theme=dark] .colab-df-convert {\n",
              "      background-color: #3B4455;\n",
              "      fill: #D2E3FC;\n",
              "    }\n",
              "\n",
              "    [theme=dark] .colab-df-convert:hover {\n",
              "      background-color: #434B5C;\n",
              "      box-shadow: 0px 1px 3px 1px rgba(0, 0, 0, 0.15);\n",
              "      filter: drop-shadow(0px 1px 2px rgba(0, 0, 0, 0.3));\n",
              "      fill: #FFFFFF;\n",
              "    }\n",
              "  </style>\n",
              "\n",
              "      <script>\n",
              "        const buttonEl =\n",
              "          document.querySelector('#df-905d185e-af3a-4f23-afde-c286ac694948 button.colab-df-convert');\n",
              "        buttonEl.style.display =\n",
              "          google.colab.kernel.accessAllowed ? 'block' : 'none';\n",
              "\n",
              "        async function convertToInteractive(key) {\n",
              "          const element = document.querySelector('#df-905d185e-af3a-4f23-afde-c286ac694948');\n",
              "          const dataTable =\n",
              "            await google.colab.kernel.invokeFunction('convertToInteractive',\n",
              "                                                     [key], {});\n",
              "          if (!dataTable) return;\n",
              "\n",
              "          const docLinkHtml = 'Like what you see? Visit the ' +\n",
              "            '<a target=\"_blank\" href=https://colab.research.google.com/notebooks/data_table.ipynb>data table notebook</a>'\n",
              "            + ' to learn more about interactive tables.';\n",
              "          element.innerHTML = '';\n",
              "          dataTable['output_type'] = 'display_data';\n",
              "          await google.colab.output.renderOutput(dataTable, element);\n",
              "          const docLink = document.createElement('div');\n",
              "          docLink.innerHTML = docLinkHtml;\n",
              "          element.appendChild(docLink);\n",
              "        }\n",
              "      </script>\n",
              "    </div>\n",
              "  </div>\n"
            ]
          },
          "metadata": {},
          "execution_count": 12
        }
      ],
      "source": [
        "finalDF2"
      ]
    },
    {
      "cell_type": "code",
      "source": [
        "# Assuming the data is stored in a two-dimensional array called \"data\"\n",
        "row = finalDF.iloc[4]\n",
        "last_six_columns = row[-7:] # Extracting the last six columns of the row\n",
        "for value in last_six_columns:\n",
        "    print(value)"
      ],
      "metadata": {
        "colab": {
          "base_uri": "https://localhost:8080/"
        },
        "id": "l0app1OlcTF2",
        "outputId": "575e13b8-c0e9-4504-819f-61227d14de73"
      },
      "execution_count": null,
      "outputs": [
        {
          "output_type": "stream",
          "name": "stdout",
          "text": [
            "'ভাষণ শুরু আগে মাথার উপর দিয়ে বিমান আর হেলিকপ্টার উড়ছিলো, আর পুরো রেসকোর্স মাঠে উত্তেজনা ছড়িয়ে পড়ে'- ৭ই মার্চের ভাষণ শুনতে এসে নিজের অভিজ্ঞতার কথা বলছিলেন সে সময়ে ঢাকা বিশ্ববিদ্যালয়ের ছাত্র হারুন হাবীব।\n",
            "১৯৭১ সালের ৭ই মার্চ ঢাকার রেসকোর্স ময়দানে শেখ মুজিবুর রহমানের ভাষণ শুনতে এসে অনেকের অভিজ্ঞতা হয়েছিলো। কিন্তু এর আগে থেকেই তিনি সেই ভাষায় ছিলেন।\n",
            "ঢাকার রেসকোর্স ময়দানে শেখ মুজিবুর রহমানের ভাষণ দেবার ৫০ বছরের পূর্ণ হলো আজ। এর আগে তিনি বীর প্রতীক উপাধিতে ভূষিত হন। সেসময়কার ৭ই মার্চের ঐতিহাসিক ঘটনা।\n",
            "আর কুমিল্লা থেকে বাস ভাড়া করে অনেকের সাথে নিজেও ভাষণ শুনতে এসেছেন বাহার উদ্দিন রেজা। ১৯৭১ সালের ৭ই মার্চ সেসময়কার ঢাকার রেসকোর্স ময়দানে শেখ মুজিবুর রহমানের ভাষণ দেবার ৫০ বছর পূর্ণ হলো আজ।\n",
            "ময়লার স্তুপে হারিয়ে যাওয়া শহীদের কবর উদ্ধার করল ছাত্রলীগর কামারপাড়ার উদ্ভাবন, আমিরার দাফন সম্পন্ন অনুষ্ঠিত!র মাঠও জিয়া' র ্যালি, আলোচনাও বয়ে বেড়াচ্ছেনঁকা গড়ের কলাগাছিও পারে সৈকতের অভিনব যন্ত্রের ব্যবহার শুরু! অনুষ্ঠিত' অনুষ্ঠিতও ট্রাকের পরিবেশ অনুষ্ঠিত অনুষ্ঠিত চলছেও ভিডিও!, আটক\n",
            "আর কুমিল্লা থেকে বাস ভাড়া করে অনেকের সাথে নিজেও ভাষণ শুনতে এসেছেন বাহার উদ্দিন রেজা। ১৯৭১ সালের ৭ই মার্চ সেসময়কার ঢাকার রেসকোর্স ময়দানে শেখ মুজিবুর রহমানের ভাষণ দেবার ৫০ বছর পূর্ণ হলো আজ।\n",
            "scibert_scivocab_uncased\n"
          ]
        }
      ]
    },
    {
      "cell_type": "code",
      "source": [
        "finalDF.head(5)"
      ],
      "metadata": {
        "colab": {
          "base_uri": "https://localhost:8080/"
        },
        "id": "TiJsBPlyG43S",
        "outputId": "c4af3b7b-80ed-4fe2-f3af-6067949be914"
      },
      "execution_count": null,
      "outputs": [
        {
          "output_type": "execute_result",
          "data": {
            "text/plain": [
              "                                                text  \\\n",
              "0  দুর্গাপুজায় মহিষাসুর বধ্যে মধ্য দিয়ে অশুভর ও...   \n",
              "1  গত ২০ বছরে তিনি রাশিয়ার প্রেসিডেন্ট এবং প্রধা...   \n",
              "2  বরিশাল সদরে চলছে নির্বাচনী প্রচার প্রচারণা। যদ...   \n",
              "3  রবীন্দ্রনাথ ঠাকুর রবীন্দ্রনাথ ঠাকুর বাঙালির কা...   \n",
              "4  আর কুমিল্লা থেকে বাস ভাড়া করে অনেকের সাথে নিজ...   \n",
              "\n",
              "                                        givenSummary  \\\n",
              "0  হিন্দু বাঙালীরা যে সময়ে তাদের সবথেকে বড় উৎসব...   \n",
              "1  ভ্লাদিমির পুতিন তাঁর ক্ষমতায় থাকার ২০ বছর পূর...   \n",
              "2  বাংলাদেশের দক্ষিণাঞ্চলীয় জেলা বরিশাল এখন তুমু...   \n",
              "3  দু'হাজার চার সালে বিবিসি বাংলা একটি 'শ্রোতা জর...   \n",
              "4  'ভাষণ শুরু আগে মাথার উপর দিয়ে বিমান আর হেলিকপ...   \n",
              "\n",
              "                              mT5_multilingual_XLSum  \\\n",
              "0  দুর্গাপুজায় আর্যদের দেবী মহিষাসুরকে ছলনার মাধ...   \n",
              "1  ভ্লাদিমির পুতিন ২০ বছর বয়সে ক্ষমতায় আসার পর ...   \n",
              "2  বাংলাদেশের দক্ষিণাঞ্চলীয় জেলা বরিশাল সদরে ৩০শ...   \n",
              "3  বিবিসি বাংলা একটি 'শ্রোতা জরিপ'-এর আয়োজন করে।...   \n",
              "4  ১৯৭১ সালের ৭ই মার্চ ঢাকার রেসকোর্স ময়দানে শেখ...   \n",
              "\n",
              "                                    mT5_m2m_crossSum  \\\n",
              "0  ভারতের আদিবাসীদের ধারণা ছিল, দুর্গাপুজায় অশুভ...   \n",
              "1  রাশিয়ার প্রেসিডেন্ট ভ্লাদিমির পুতিন তাঁর ক্ষম...   \n",
              "2  বাংলাদেশের রাজধানী বরিশাল-৫ আসনে নির্বাচনী প্র...   \n",
              "3  ভারতীয় সাহিত্যে নোবেল পুরস্কার জিতেছেন রবীন্দ...   \n",
              "4  ঢাকার রেসকোর্স ময়দানে শেখ মুজিবুর রহমানের ভাষ...   \n",
              "\n",
              "                            scibert_scivocab_uncased  \\\n",
              "0  দুর্গাপুজায় মহিষাসুর বধ্যে মধ্য দিয়ে অশুভর ও...   \n",
              "1  গত ২০ বছরে তিনি রাশিয়ার প্রেসিডেন্ট এবং প্রধা...   \n",
              "2  যদিও প্রায় সব আসনেই প্রচার প্রচারণা বেশি চোখে...   \n",
              "3  বাংলা সাহিত্যের তিনি একজন উজ্জ্বল নক্ষত্র এবং ...   \n",
              "4  আর কুমিল্লা থেকে বাস ভাড়া করে অনেকের সাথে নিজ...   \n",
              "\n",
              "                           Bangla_text_summarization  \\\n",
              "0  বরিশালের গান্ধী আশ্রমে হর্ষবর্ধণ স্পেকট্রোমিটা...   \n",
              "1  মুখগুলো আজও স্বজনহারা বেদনায় প্রদানকারীর্ধণ স...   \n",
              "2  বরিশাল বিশ্ববিদ্যালয়ে শোক র ্যালি ও আলোচনাসভা...   \n",
              "3  মুক্তিযুদ্ধের বিপক্ষ শক্তিকে প্রতিহত করতে না প...   \n",
              "4  ময়লার স্তুপে হারিয়ে যাওয়া শহীদের কবর উদ্ধার...   \n",
              "\n",
              "                                         BestSummary          BestSummaryModel  \n",
              "0  দুর্গাপুজায় আর্যদের দেবী মহিষাসুরকে ছলনার মাধ...    mT5_multilingual_XLSum  \n",
              "1  রাশিয়ার প্রেসিডেন্ট ভ্লাদিমির পুতিন তাঁর ক্ষম...          mT5_m2m_crossSum  \n",
              "2  বাংলাদেশের দক্ষিণাঞ্চলীয় জেলা বরিশাল সদরে ৩০শ...    mT5_multilingual_XLSum  \n",
              "3  বিবিসি বাংলা একটি 'শ্রোতা জরিপ'-এর আয়োজন করে।...    mT5_multilingual_XLSum  \n",
              "4  আর কুমিল্লা থেকে বাস ভাড়া করে অনেকের সাথে নিজ...  scibert_scivocab_uncased  "
            ],
            "text/html": [
              "\n",
              "  <div id=\"df-58bc1f88-b347-44d6-9013-e34e54972560\">\n",
              "    <div class=\"colab-df-container\">\n",
              "      <div>\n",
              "<style scoped>\n",
              "    .dataframe tbody tr th:only-of-type {\n",
              "        vertical-align: middle;\n",
              "    }\n",
              "\n",
              "    .dataframe tbody tr th {\n",
              "        vertical-align: top;\n",
              "    }\n",
              "\n",
              "    .dataframe thead th {\n",
              "        text-align: right;\n",
              "    }\n",
              "</style>\n",
              "<table border=\"1\" class=\"dataframe\">\n",
              "  <thead>\n",
              "    <tr style=\"text-align: right;\">\n",
              "      <th></th>\n",
              "      <th>text</th>\n",
              "      <th>givenSummary</th>\n",
              "      <th>mT5_multilingual_XLSum</th>\n",
              "      <th>mT5_m2m_crossSum</th>\n",
              "      <th>scibert_scivocab_uncased</th>\n",
              "      <th>Bangla_text_summarization</th>\n",
              "      <th>BestSummary</th>\n",
              "      <th>BestSummaryModel</th>\n",
              "    </tr>\n",
              "  </thead>\n",
              "  <tbody>\n",
              "    <tr>\n",
              "      <th>0</th>\n",
              "      <td>দুর্গাপুজায় মহিষাসুর বধ্যে মধ্য দিয়ে অশুভর ও...</td>\n",
              "      <td>হিন্দু বাঙালীরা যে সময়ে তাদের সবথেকে বড় উৎসব...</td>\n",
              "      <td>দুর্গাপুজায় আর্যদের দেবী মহিষাসুরকে ছলনার মাধ...</td>\n",
              "      <td>ভারতের আদিবাসীদের ধারণা ছিল, দুর্গাপুজায় অশুভ...</td>\n",
              "      <td>দুর্গাপুজায় মহিষাসুর বধ্যে মধ্য দিয়ে অশুভর ও...</td>\n",
              "      <td>বরিশালের গান্ধী আশ্রমে হর্ষবর্ধণ স্পেকট্রোমিটা...</td>\n",
              "      <td>দুর্গাপুজায় আর্যদের দেবী মহিষাসুরকে ছলনার মাধ...</td>\n",
              "      <td>mT5_multilingual_XLSum</td>\n",
              "    </tr>\n",
              "    <tr>\n",
              "      <th>1</th>\n",
              "      <td>গত ২০ বছরে তিনি রাশিয়ার প্রেসিডেন্ট এবং প্রধা...</td>\n",
              "      <td>ভ্লাদিমির পুতিন তাঁর ক্ষমতায় থাকার ২০ বছর পূর...</td>\n",
              "      <td>ভ্লাদিমির পুতিন ২০ বছর বয়সে ক্ষমতায় আসার পর ...</td>\n",
              "      <td>রাশিয়ার প্রেসিডেন্ট ভ্লাদিমির পুতিন তাঁর ক্ষম...</td>\n",
              "      <td>গত ২০ বছরে তিনি রাশিয়ার প্রেসিডেন্ট এবং প্রধা...</td>\n",
              "      <td>মুখগুলো আজও স্বজনহারা বেদনায় প্রদানকারীর্ধণ স...</td>\n",
              "      <td>রাশিয়ার প্রেসিডেন্ট ভ্লাদিমির পুতিন তাঁর ক্ষম...</td>\n",
              "      <td>mT5_m2m_crossSum</td>\n",
              "    </tr>\n",
              "    <tr>\n",
              "      <th>2</th>\n",
              "      <td>বরিশাল সদরে চলছে নির্বাচনী প্রচার প্রচারণা। যদ...</td>\n",
              "      <td>বাংলাদেশের দক্ষিণাঞ্চলীয় জেলা বরিশাল এখন তুমু...</td>\n",
              "      <td>বাংলাদেশের দক্ষিণাঞ্চলীয় জেলা বরিশাল সদরে ৩০শ...</td>\n",
              "      <td>বাংলাদেশের রাজধানী বরিশাল-৫ আসনে নির্বাচনী প্র...</td>\n",
              "      <td>যদিও প্রায় সব আসনেই প্রচার প্রচারণা বেশি চোখে...</td>\n",
              "      <td>বরিশাল বিশ্ববিদ্যালয়ে শোক র ্যালি ও আলোচনাসভা...</td>\n",
              "      <td>বাংলাদেশের দক্ষিণাঞ্চলীয় জেলা বরিশাল সদরে ৩০শ...</td>\n",
              "      <td>mT5_multilingual_XLSum</td>\n",
              "    </tr>\n",
              "    <tr>\n",
              "      <th>3</th>\n",
              "      <td>রবীন্দ্রনাথ ঠাকুর রবীন্দ্রনাথ ঠাকুর বাঙালির কা...</td>\n",
              "      <td>দু'হাজার চার সালে বিবিসি বাংলা একটি 'শ্রোতা জর...</td>\n",
              "      <td>বিবিসি বাংলা একটি 'শ্রোতা জরিপ'-এর আয়োজন করে।...</td>\n",
              "      <td>ভারতীয় সাহিত্যে নোবেল পুরস্কার জিতেছেন রবীন্দ...</td>\n",
              "      <td>বাংলা সাহিত্যের তিনি একজন উজ্জ্বল নক্ষত্র এবং ...</td>\n",
              "      <td>মুক্তিযুদ্ধের বিপক্ষ শক্তিকে প্রতিহত করতে না প...</td>\n",
              "      <td>বিবিসি বাংলা একটি 'শ্রোতা জরিপ'-এর আয়োজন করে।...</td>\n",
              "      <td>mT5_multilingual_XLSum</td>\n",
              "    </tr>\n",
              "    <tr>\n",
              "      <th>4</th>\n",
              "      <td>আর কুমিল্লা থেকে বাস ভাড়া করে অনেকের সাথে নিজ...</td>\n",
              "      <td>'ভাষণ শুরু আগে মাথার উপর দিয়ে বিমান আর হেলিকপ...</td>\n",
              "      <td>১৯৭১ সালের ৭ই মার্চ ঢাকার রেসকোর্স ময়দানে শেখ...</td>\n",
              "      <td>ঢাকার রেসকোর্স ময়দানে শেখ মুজিবুর রহমানের ভাষ...</td>\n",
              "      <td>আর কুমিল্লা থেকে বাস ভাড়া করে অনেকের সাথে নিজ...</td>\n",
              "      <td>ময়লার স্তুপে হারিয়ে যাওয়া শহীদের কবর উদ্ধার...</td>\n",
              "      <td>আর কুমিল্লা থেকে বাস ভাড়া করে অনেকের সাথে নিজ...</td>\n",
              "      <td>scibert_scivocab_uncased</td>\n",
              "    </tr>\n",
              "  </tbody>\n",
              "</table>\n",
              "</div>\n",
              "      <button class=\"colab-df-convert\" onclick=\"convertToInteractive('df-58bc1f88-b347-44d6-9013-e34e54972560')\"\n",
              "              title=\"Convert this dataframe to an interactive table.\"\n",
              "              style=\"display:none;\">\n",
              "        \n",
              "  <svg xmlns=\"http://www.w3.org/2000/svg\" height=\"24px\"viewBox=\"0 0 24 24\"\n",
              "       width=\"24px\">\n",
              "    <path d=\"M0 0h24v24H0V0z\" fill=\"none\"/>\n",
              "    <path d=\"M18.56 5.44l.94 2.06.94-2.06 2.06-.94-2.06-.94-.94-2.06-.94 2.06-2.06.94zm-11 1L8.5 8.5l.94-2.06 2.06-.94-2.06-.94L8.5 2.5l-.94 2.06-2.06.94zm10 10l.94 2.06.94-2.06 2.06-.94-2.06-.94-.94-2.06-.94 2.06-2.06.94z\"/><path d=\"M17.41 7.96l-1.37-1.37c-.4-.4-.92-.59-1.43-.59-.52 0-1.04.2-1.43.59L10.3 9.45l-7.72 7.72c-.78.78-.78 2.05 0 2.83L4 21.41c.39.39.9.59 1.41.59.51 0 1.02-.2 1.41-.59l7.78-7.78 2.81-2.81c.8-.78.8-2.07 0-2.86zM5.41 20L4 18.59l7.72-7.72 1.47 1.35L5.41 20z\"/>\n",
              "  </svg>\n",
              "      </button>\n",
              "      \n",
              "  <style>\n",
              "    .colab-df-container {\n",
              "      display:flex;\n",
              "      flex-wrap:wrap;\n",
              "      gap: 12px;\n",
              "    }\n",
              "\n",
              "    .colab-df-convert {\n",
              "      background-color: #E8F0FE;\n",
              "      border: none;\n",
              "      border-radius: 50%;\n",
              "      cursor: pointer;\n",
              "      display: none;\n",
              "      fill: #1967D2;\n",
              "      height: 32px;\n",
              "      padding: 0 0 0 0;\n",
              "      width: 32px;\n",
              "    }\n",
              "\n",
              "    .colab-df-convert:hover {\n",
              "      background-color: #E2EBFA;\n",
              "      box-shadow: 0px 1px 2px rgba(60, 64, 67, 0.3), 0px 1px 3px 1px rgba(60, 64, 67, 0.15);\n",
              "      fill: #174EA6;\n",
              "    }\n",
              "\n",
              "    [theme=dark] .colab-df-convert {\n",
              "      background-color: #3B4455;\n",
              "      fill: #D2E3FC;\n",
              "    }\n",
              "\n",
              "    [theme=dark] .colab-df-convert:hover {\n",
              "      background-color: #434B5C;\n",
              "      box-shadow: 0px 1px 3px 1px rgba(0, 0, 0, 0.15);\n",
              "      filter: drop-shadow(0px 1px 2px rgba(0, 0, 0, 0.3));\n",
              "      fill: #FFFFFF;\n",
              "    }\n",
              "  </style>\n",
              "\n",
              "      <script>\n",
              "        const buttonEl =\n",
              "          document.querySelector('#df-58bc1f88-b347-44d6-9013-e34e54972560 button.colab-df-convert');\n",
              "        buttonEl.style.display =\n",
              "          google.colab.kernel.accessAllowed ? 'block' : 'none';\n",
              "\n",
              "        async function convertToInteractive(key) {\n",
              "          const element = document.querySelector('#df-58bc1f88-b347-44d6-9013-e34e54972560');\n",
              "          const dataTable =\n",
              "            await google.colab.kernel.invokeFunction('convertToInteractive',\n",
              "                                                     [key], {});\n",
              "          if (!dataTable) return;\n",
              "\n",
              "          const docLinkHtml = 'Like what you see? Visit the ' +\n",
              "            '<a target=\"_blank\" href=https://colab.research.google.com/notebooks/data_table.ipynb>data table notebook</a>'\n",
              "            + ' to learn more about interactive tables.';\n",
              "          element.innerHTML = '';\n",
              "          dataTable['output_type'] = 'display_data';\n",
              "          await google.colab.output.renderOutput(dataTable, element);\n",
              "          const docLink = document.createElement('div');\n",
              "          docLink.innerHTML = docLinkHtml;\n",
              "          element.appendChild(docLink);\n",
              "        }\n",
              "      </script>\n",
              "    </div>\n",
              "  </div>\n",
              "  "
            ]
          },
          "metadata": {},
          "execution_count": 5
        }
      ]
    },
    {
      "cell_type": "code",
      "execution_count": null,
      "metadata": {
        "colab": {
          "base_uri": "https://localhost:8080/"
        },
        "id": "QqdQJqYsYOz4",
        "outputId": "d846bbc6-88ba-4423-c95d-29805d372fbd"
      },
      "outputs": [
        {
          "output_type": "stream",
          "name": "stdout",
          "text": [
            "হিন্দু বাঙালীরা যে সময়ে তাদের সবথেকে বড় উৎসব দুর্গাপূজা উদযাপন করেন, সেই সময়েই শোক পালন করেন অসুর বংশীয় আদিবাসীরা।\n",
            "দুর্গাপুজায় আর্যদের দেবী মহিষাসুরকে ছলনার মাধ্যমে হত্যা করেছিলেন ভারতের অসুর আদিবাসী অধ্যুষিত এলাকা 'অসুর'-এর সরকারি তপশিলী উপজাতিরা। কিন্তু তাদের ইতিহাস কী?\n"
          ]
        }
      ],
      "source": [
        "print(finalDF['givenSummary'][0])\n",
        "print(finalDF['BestSummary'][0])"
      ]
    },
    {
      "cell_type": "code",
      "execution_count": null,
      "metadata": {
        "colab": {
          "base_uri": "https://localhost:8080/"
        },
        "id": "kKqKazHhX7A5",
        "outputId": "60a13717-5400-4b3b-da91-d5700f7c76ce"
      },
      "outputs": [
        {
          "output_type": "stream",
          "name": "stdout",
          "text": [
            "ভ্লাদিমির পুতিন তাঁর ক্ষমতায় থাকার ২০ বছর পূর্ণ করতে যাচ্ছেন।\n",
            "রাশিয়ার প্রেসিডেন্ট ভ্লাদিমির পুতিন তাঁর ক্ষমতায় থাকার ২০ বছর পূর্ণ করতে যাচ্ছেন। এর মধ্যে সবচেয়ে গুরুত্বপূর্ণ এবং সুনির্দিষ্ট পদক্ষেপ নেয়ার কথাও রয়েছে।\n"
          ]
        }
      ],
      "source": [
        "print(finalDF['givenSummary'][1])\n",
        "print(finalDF['BestSummary'][1])"
      ]
    },
    {
      "cell_type": "code",
      "execution_count": null,
      "metadata": {
        "colab": {
          "base_uri": "https://localhost:8080/"
        },
        "id": "uuAS7eemh2A_",
        "outputId": "2e3f6642-648b-4cfe-ffed-52509afbb722"
      },
      "outputs": [
        {
          "output_type": "stream",
          "name": "stdout",
          "text": [
            "62\n",
            "ভ্লাদিমির পুতিন তাঁর ক্ষমতায় থাকার ২০ বছর পূর্ণ করতে যাচ্ছেন।\n"
          ]
        }
      ],
      "source": [
        "print(len(finalDF['givenSummary'][1]))\n",
        "print(finalDF['givenSummary'][1])"
      ]
    },
    {
      "cell_type": "code",
      "source": [
        "print(finalDF['text'][2])"
      ],
      "metadata": {
        "colab": {
          "base_uri": "https://localhost:8080/"
        },
        "id": "3dXat_TRuDxk",
        "outputId": "bf14bd6a-73a0-45e5-eabc-e802e464a5c8"
      },
      "execution_count": null,
      "outputs": [
        {
          "output_type": "stream",
          "name": "stdout",
          "text": [
            "বরিশাল সদরে চলছে নির্বাচনী প্রচার প্রচারণা। যদিও প্রায় সব আসনেই প্রচার প্রচারণা বেশি চোখে পড়ছে ক্ষমতাসীন আওয়ামী লীগ দলীয় প্রার্থীদেরই। তারপরেও আওয়ামী লীগ প্রার্থীদের পাশাপাশি আলোচনায় রয়েছেন বিএনপি বা জাতীয় ঐক্যফ্রন্ট মনোনীত প্রার্থীদের নিয়ে। এমনকি মাঠে তেমন দেখা না গেলেও আওয়ামী লীগের প্রার্থী কিংবা নেতাকর্মীরা তাদের প্রচারে বারবারই তুলে আনছেন বিএনপি মনোনীত প্রার্থীদের প্রসঙ্গ। বরিশালে ছয় আসন কিন্তু সবার দৃষ্টি সদর ও গৌরনদীতে আরও পড়তে পারেন: রাজশাহীতে নির্বাচনী পরিবেশ 'ভালো', কিন্তু বাইরে? সাংবাদিকদের চোখে মোটরসাইকেল নিষেধাজ্ঞা হিন্দু ভোটারদের ঘিরেই নাসিরনগরে যত সমীকরণ রাজনৈতিক বিবেচনায় গুরুত্বপূর্ণ সদর আসন: বরিশাল-৫ আসনটিই জেলায় সদর আসন এবং এই অঞ্চলের রাজনীতি এ এলাকাকে কেন্দ্র করেই পরিচালিত হয়। আসনটিতে ২০০৮ সালের নির্বাচনে বিএনপির মজিবর রহমান সরওয়ার নির্বাচিত হয়েছিলেন আওয়ামী লীগের জাহিদ ফারুক শামীমকে হারিয়ে। এবারও তারা দুজনই একে অন্যের প্রতিদ্বন্দ্বী। এর আগে ৯১ ও ৯৬ সালেও বিএনপি প্রার্থী এ আসনে বিজয়ী হয়েছিলেন আর ২০১৪ সালে বিনা প্রতিদ্বন্দ্বীতায় জিতেছিলেন আওয়ামী লীগের প্রয়াত শওকত হোসেন হিরন। তার মৃত্যুর পর তার স্ত্রী জিতেছিলেন উপ নির্বাচনে। কিন্তু ২০১৪ সাল ছাড়া এ আসনে ১৯৯১ সাল থেকে পরবর্তীতে সব নির্বাচনই এখানে জমজমাট হয়েছিল। এমনকি তত্ত্বাবধায়ক সরকারের আমলে মেয়র নির্বাচনে আওয়ামী লীগ প্রার্থী যেমন জিতেছিলেন তেমনি আওয়ামী লীগ আমলে জিতেছিলেন বিএনপির মেয়র প্রার্থী। এবং সেটা সর্বশেষ মেয়র নির্বাচনে। তবে এবার পরিস্থিতি ভিন্ন। শহরের আওয়ামী লীগ প্রার্থী জাহিদ ফারুককে সমর্থনে ব্যাপক প্রচার চোখে পড়লেও বিএনপি প্রার্থী মজিবর রহমান সরওয়ারের প্রচার চোখে পড়ছে কমই। অথচ শহরেই নৌকা প্রতীকে পাশাপাশি অসংখ্য পোস্টার চোখে পড়ে ইসলামী আন্দোলনের প্রার্থী সৈয়দ মোঃ ফয়জুল করিমের। আসনটিতে আরও প্রার্থী আছেন বিপ্লবী ওয়ার্কার্স পার্টিও আব্দুস সাত্তার, এনপিপির শামিমা নাসরিন, জাতীয় পার্টির একেএম মুরতজা আবেদীন ও বাংলাদেশ জাতীয় পার্টির এইচ এম মাসুম বিল্লাহ। নির্বাচনী প্রচারণায় আওয়ামী লীগ প্রার্থী। কি বলছে আওয়ামী লীগ ও বিএনপি? মহানগর বিএনপির সহসভাপতি মহসিন মন্টু বলছেন গণ-গ্রেপ্তার আতঙ্কে গাঢাকা দিতে বাধ্য হয়েছেন তার দলের নেতাকর্মীরা। \"বাধার কারণে সভা সমাবেশ করা যাচ্ছেনা। পোস্টারগুলো ছিঁড়ে ফেলা হচ্ছে। এমনকি পোস্টার লাগাতে গেলে হুমকি দেয়া হচ্ছে\"। তিনি বলেন, \"সেনাবাহিনী নামলে এবং লেভেল প্লেয়িং ফিল্ড হলে পরিস্থিতি পাল্টে যাবে\"। তবে মহানগর আওয়ামী লীগের সিনিয়র সহ সভাপতি আফজালুল করিম বলছেন বিএনপির অভিযোগ সত্যি নয় কারণ প্রতিদিনই তাদের প্রচারণার ছবি প্রকাশিত হচ্ছে। মিস্টার করিম বলেন গ্রেফতারের বিষয়ে তাদের কোন বক্তব্য নেই কারণ এটি আইন-শৃঙ্খলা সম্পর্কিত বিষয়। \"যাদের ধরা হচ্ছে তারা একাধিক মামলার আসামী\"। ধানের শীষের পক্ষে চলছে প্রচারণা। আসনটির ইস্যু কি? শহীদুল ইসলাম নামে একজন দোকানী এ প্রশ্নের উত্তরে বলেন, \"এখানে ইস্যু রাজনীতি\"। তার মতে আসনটি বিএনপি ও আওয়ামী লীগের জন্য মর্যাদার আসন হিসেবে বিবেচিত হচ্ছে। আর সে কারণেই কেউ কাউকে ছাড় দিতে নারাজ এবার। এ আসনে ভোটারদের সাথে কথা বলে পরিস্থিতি বোঝা মুশকিল তবে অনেকেই বলছেন শহরের রাস্তাঘাট প্রশস্ত করা দরকার, বেকারত্ব অনেক তীব্র আর শিল্প কারখানা না থাকায় কর্মসংস্থান বাড়ছেনা। তবে তরুণ ভোটার অনেকের মধ্যেই ভোট সঠিক ভাবে হবে কি-না তা নিয়ে উদ্বেগ আছে। তারিন তাসনিম জুঁই নামে একজন নতুন ভোটার বলছিলেন, \"এবার ভোট দিবো এবং এটি নিয়ে আমি খুবই উচ্ছ্বসিত। তাই চাই ভোটটা যেন ঠিক মতো হয়\"। জান্নাতুল ফেরদৌস কানিজ বলেন, \"আমরা যেন ভোট দিয়ে বলতে পারি যিনি নির্বাচিত হয়েছেন তিনি আমাদের ভোটেই হয়েছেন।\" ভোটারদের অনেকেই জানিয়েছেন ভোট নিয়ে এমন উদ্বেগ আছে অনেকের মধ্যেই আর এর কারণ হল চলতি বছরেই হওয়া সিটি কর্পোরেশন নির্বাচন। যে নির্বাচনে ব্যাপক ভোট কারচুপির অভিযোগ উঠেছিল। তরুণদের একজন অপূর্ব কুমার বলছিলেন, \"সিটি কর্পোরেশনের নির্বাচনের কারণেই আমরা উদ্বিগ্ন\"। বরিশাল এখন তুমুল নির্বাচনী প্রচারণায় সরগরম 'ইলেকশন যেমন অওয়ার অইবে' সদরের বাইরে জেলার যে আসনটি নিয়ে সবচেয়ে বেশি আলোচনা হচ্ছে সেটি হল বরিশাল-১। গৌরনদী ও আগৈলঝাড়া নিয়ে গঠিত এ আসনে আওয়ামী লীগের প্রার্থী সাবেক চীফ হুইপ আবুল হাসনাত আব্দুল্লাহ। মিস্টার আব্দুল্লাহর ছেলে সাদিক আব্দুল্লাহ্ই বরিশাল সিটি কর্পোরেশনের এখনকার মেয়র এবং গত জুলাইয়ের যে নির্বাচনে জিতে তিনি মেয়র হয়েছেন সে নির্বাচন নিয়েই ব্যাপক কারচুপির অভিযোগ উঠেছিল। যদিও তিনি ও আওয়ামী লীগ তা বরাবরই প্রত্যাখ্যান করেছেন। আর বিএনপির প্রার্থী সাবেক সংসদ সদস্য জহির উদ্দিন স্বপন, যিনি দলটির সংস্কারপন্থী অংশটির সাথে গিয়েছিলেন তত্ত্বাবধায়ক সরকারের সময়ে। পরে অনেকদিন নিষ্ক্রিয় থেকে সম্প্রতি বিএনপিতে ফিরে এসে তিনি সক্রিয় হয়েছেন। কিন্তু এবার মনোনয়নপত্র দাখিলের পর থেকে নিজের এলাকায় এসে ঘর থেকেই বের হতে পারছেননা বলে দাবী করছেন তিনি। সোমবার বিকেলে গৌরনদীর সরিকল নামে একটি গ্রামে তার নিজের বাসায় বসে বিবিসি বাংলাকে তিনি বলেন, \"আমাকেই হুমকি দেয়া হচ্ছে। নেতাকর্মীদের ওপর গণহারে মারধর চলছে। মিছিলে হামলা হচ্ছে। এসব কারণে বের হতে পারছিনা\"। জহির উদ্দিন স্বপন বলেন সেনাবাহিনী নামার পর পরিস্থিতি পাল্টাবে বলে আশা করছেন তিনি। বরিশালে ছয় আসন কিন্তু সবার দৃষ্টি সদর ও গৌরনদীতে তবে তার এসব অভিযোগ মানতে রাজী নন প্রতিদ্বন্দ্বী আবুল হাসনাত আব্দুল্লাহর প্রধান সমন্বয়ক গৌরনদীর মেয়র হারিছুর রহমান হারিছ। মিস্টার রহমান বলেন, \"বিএনপি ২০০১ সালের নির্বাচনের পর এ এলাকায় যে নির্যাতন করেছিলো সেজন্য তারা এখন মানুষের কাছে যেতে পারছেনা\"। তবে দল দুটির নেতারা যাই বলুন স্থানীয় ভোটারদের অনেকেই নির্বাচন বিষয়ে কোন মন্তব্য করতে রাজী হননি। সোমবার বিকেলেই জহির উদ্দিন স্বপনের বাড়ির কাছেই সড়কে বিপুল সংখ্যক নৌকা সমর্থককে লাঠিসোটা হাতে দেখা গেছে। যদিও হারিছুর রহমান বলছেন তারা বিএনপিকে কোন বাধা দিচ্ছেনা। স্থানীয় একটি মার্কেটের সামনে মোহাম্মদ মনোয়ার নামের একজন ভোটার বলেন এখানে ভয়ে আসলে অনেকে নির্বাচন নিয়ে কথাই বলতে চাননা। তবে এই ভয় কিসের সে প্রশ্নের উত্তর দিতে রাজী হননি তিনি। যদিও আরেকজন ভোটার বলেন, \"যখন যে সরকার ক্ষমতায় থাকে এখানে সব তারাই নিয়ন্ত্রণ করে। তাই বোঝাই যায় কেমন হবে নির্বাচন\"। বরিশাল-১ আসনের আওয়ামী লীগ প্রার্থী আবুল হাসনাত আবদুল্লাহর প্রধান সমন্বয়ক গৌরনদীর পৌর মেয়র হারিসুর রহমান হারিস। অন্য আসনগুলোর কি অবস্থা? বরিশাল-২ আসনে আওয়ামী লীগের মোঃ শাহ আলম ও বিএনপির সরফুদ্দিন আহমেদ সান্টুসহ সাতজন প্রার্থী রয়েছেন। সোমবারও দুই প্রার্থীর সমর্থকদের মধ্যে সংঘর্ষ হয়েছে। আওয়ামী লীগের একটি নির্বাচনী ক্যাম্পে বিএনপি প্রার্থী সরফুদ্দিন আহমেদ সান্টুর নেতৃত্বে হামলা ও গুলি হয়েছে বলে বিবিসি বাংলাকে অভিযোগ করেছেন আওয়ামী লীগ প্রার্থীর ঘনিষ্ঠ যুবলীগ নেতা মনিরুল ইসলাম মিঠু। সরফুদ্দিন আহমেদ সান্টু জানিয়েছেন তার ওপর হামলা হয়েছে আর সে কারণেই আত্মরক্ষার্থে ফাঁকা গুলি করেছেন তিনি। বরিশাল-৩ আসনে বর্তমান এমপি ওয়ার্কার্স পার্টির টিপু সুলতান মহাজোট প্রার্থী। আবার ওয়ার্কার্স পার্টির আরেকজন নেতা আতিকুর রহমানও নির্বাচন করছেন স্বতন্ত্র প্রার্থী হিসেবে। অন্যদিকে জাতীয় পার্টির সাবেক এমপি গোলাম কিবরিয়া টিপুও রয়েছেন মাঠে, যিনি ২০০৮ সালে মহাজোট প্রার্থী হিসেবে এমপি নির্বাচিত হয়েছিলেন। বরিশাল-১ এর বিএনপি প্রার্থী জহিরুদ্দিন স্বপন। এ আসনে আওয়ামী লীগের নিজস্ব কোন নেতা প্রার্থী হননি বরং এই তিনজন দলটির নানা দল-উপদলের সমর্থন পাচ্ছেন। ওদিকে বিএনপি থেকে প্রার্থী হয়েছেন সুপ্রীম কোর্ট আইনজীবী সমিতির সভাপতি জয়নুল আবেদীন। বরিশাল -৪ আসনে আওয়ামী লীগের প্রার্থী বর্তমান এমপি পংকজ নাথ ও বিএনপি জোটের জে এম নূরুর রহমানসহ মোট প্রার্থী সাতজন। মিস্টার রহমান নাগরিক ঐক্যের নেতা ছিলেন। তবে নির্বাচনী প্রচারে এসে একবার হামলার শিকার হওয়ার পর থেকে তিনি আর এলাকায় নেই। আর বরিশাল-৬ আসনে আওয়ামী লীগ জোটের প্রার্থী হয়েছেন জাতীয় পার্টির নাসরিন জাহান আমিন। অন্যদিকে এখানে বিএনপির প্রার্থী হলেন আবুল হোসেন খান। এ আসনে প্রচার প্রচারণা তুলনামূলক শান্তিপূর্ণভাবেই চলছে।\n"
          ]
        }
      ]
    },
    {
      "cell_type": "code",
      "execution_count": null,
      "metadata": {
        "colab": {
          "base_uri": "https://localhost:8080/"
        },
        "id": "65bOsCz0YAN2",
        "outputId": "23df0f49-39e0-4fd2-d449-2d4974d74425"
      },
      "outputs": [
        {
          "output_type": "stream",
          "name": "stdout",
          "text": [
            "বাংলাদেশের দক্ষিণাঞ্চলীয় জেলা বরিশাল এখন তুমুল নির্বাচনী প্রচারণায় সরগরম হয়ে উঠেছে। প্রচারণার পাশাপাশি কোথাও কোথাও সংঘর্ষের ঘটনায় বাড়ছে উত্তেজনাও।\n",
            "বাংলাদেশের দক্ষিণাঞ্চলীয় জেলা বরিশাল সদরে ৩০শে ডিসেম্বর অনুষ্ঠিত হতে যাচ্ছে জাতীয় সংসদ নির্বাচনের ষষ্ঠ আসন। এর মধ্যে প্রায় ছয়টি আসনে নির্বাচনী প্রচারণা চলছে।\n"
          ]
        }
      ],
      "source": [
        "print(finalDF['givenSummary'][2])\n",
        "print(finalDF['BestSummary'][2])"
      ]
    },
    {
      "cell_type": "markdown",
      "metadata": {
        "id": "oVKPA_7bz4zY"
      },
      "source": [
        "### ROUGE"
      ]
    },
    {
      "cell_type": "markdown",
      "source": [
        "#### Rouge Calculation Row Wise"
      ],
      "metadata": {
        "id": "odd5qIylFuGZ"
      }
    },
    {
      "cell_type": "code",
      "source": [
        "!pip install rouge\n",
        "\n",
        "import sys\n",
        "print(sys.getrecursionlimit())\n",
        "sys.setrecursionlimit(8200)\n",
        "print(sys.getrecursionlimit())\n",
        "\n",
        "import os\n",
        "import json\n",
        "from rouge import Rouge\n",
        "from csv import DictReader"
      ],
      "metadata": {
        "colab": {
          "base_uri": "https://localhost:8080/"
        },
        "id": "K9e5Hx0rGV_c",
        "outputId": "0534e938-f69c-4c0c-f8c7-99133b0a5dc0"
      },
      "execution_count": 13,
      "outputs": [
        {
          "output_type": "stream",
          "name": "stdout",
          "text": [
            "Collecting rouge\n",
            "  Downloading rouge-1.0.1-py3-none-any.whl (13 kB)\n",
            "Requirement already satisfied: six in /usr/local/lib/python3.10/dist-packages (from rouge) (1.16.0)\n",
            "Installing collected packages: rouge\n",
            "Successfully installed rouge-1.0.1\n",
            "1000\n",
            "8200\n"
          ]
        }
      ]
    },
    {
      "cell_type": "code",
      "source": [
        "def save_file_at_dir(dir_path, filename, file_content, mode='w'):\n",
        "    os.makedirs(dir_path, exist_ok=True)\n",
        "    with open(os.path.join(dir_path, filename), mode) as f:\n",
        "        f.write(file_content)"
      ],
      "metadata": {
        "id": "_dhH7TFVGYv8"
      },
      "execution_count": 14,
      "outputs": []
    },
    {
      "cell_type": "markdown",
      "source": [
        "##### Rouge Comparing with Given Summary Dataset II"
      ],
      "metadata": {
        "id": "o8-e_CL8ECKw"
      }
    },
    {
      "cell_type": "code",
      "source": [
        "def rougeScore(columnName):\n",
        "    SummaryEv = finalDF2.filter(['givenSummary', columnName], axis=1)\n",
        "    # return SummaryEv\n",
        "    urlCSV = '/content/' + columnName + 'CSV.csv'\n",
        "    SummaryEv.to_csv(urlCSV, index=False)\n",
        "\n",
        "    with open(urlCSV, 'r') as f:\n",
        "        dict_reader = DictReader(f)\n",
        "        SummaryEv_dict = list(dict_reader)\n",
        "\n",
        "    EvJson = json.dumps(SummaryEv_dict, indent = 4)\n",
        "    JSON = columnName + 'EvJson.json'\n",
        "    save_file_at_dir('/content', JSON, EvJson)\n",
        "\n",
        "    urlJSON = '/content/' + columnName + 'EvJson.json'\n",
        "\n",
        "    with open(urlJSON) as f:\n",
        "        SummaryEvData = json.load(f)\n",
        "    lenS = len(SummaryEvData)\n",
        "    rscore1r = 0\n",
        "    rscore1p = 0\n",
        "    rscore1f = 0\n",
        "    rscore2r = 0\n",
        "    rscore2p = 0\n",
        "    rscore2f = 0\n",
        "    rscorelr = 0\n",
        "    rscorelp = 0\n",
        "    rscorelf = 0\n",
        "    rouge = Rouge()\n",
        "    for i in range(lenS):\n",
        "        score = rouge.get_scores(SummaryEvData[i][columnName], SummaryEvData[i]['givenSummary'])\n",
        "        rscore1r = rscore1r + score[0]['rouge-1']['r']\n",
        "        rscore1p = rscore1p + score[0]['rouge-1']['p']\n",
        "        rscore1f = rscore1f + score[0]['rouge-1']['f']\n",
        "        rscore2r = rscore2r + score[0]['rouge-2']['r']\n",
        "        rscore2p = rscore2p + score[0]['rouge-2']['p']\n",
        "        rscore2f = rscore2f + score[0]['rouge-2']['f']\n",
        "        rscorelr = rscorelr + score[0]['rouge-l']['r']\n",
        "        rscorelp = rscorelp + score[0]['rouge-l']['p']\n",
        "        rscorelf = rscorelf + score[0]['rouge-l']['f']\n",
        "\n",
        "        # rscore = [[rscore1r/lenS, rscore1p/lenS, rscore1f/lenS],\n",
        "        #           [rscore2r/lenS, rscore2p/lenS, rscore2f/lenS],\n",
        "        #           [rscorelr/lenS, rscorelp/lenS, rscorelf/lenS]]\n",
        "\n",
        "    rscore = {'rouge-1': {'r': rscore1r/lenS,\n",
        "                        'p': rscore1p/lenS,\n",
        "                        'f': rscore1f/lenS},\n",
        "                'rouge-2': {'r': rscore2r/lenS,\n",
        "                        'p': rscore2p/lenS,\n",
        "                        'f': rscore2f/lenS},\n",
        "                'rouge-l': {'r': rscorelr/lenS,\n",
        "                        'p': rscorelp/lenS,\n",
        "                        'f': rscorelf/lenS}}\n",
        "    return rscore"
      ],
      "metadata": {
        "id": "klJagRidN3uD"
      },
      "execution_count": 17,
      "outputs": []
    },
    {
      "cell_type": "code",
      "source": [
        "bs = rougeScore('BestSummary')\n",
        "bs"
      ],
      "metadata": {
        "colab": {
          "base_uri": "https://localhost:8080/"
        },
        "id": "0OFvNpSlknTD",
        "outputId": "582b4092-e225-4415-a936-6d53cd9cef79"
      },
      "execution_count": 19,
      "outputs": [
        {
          "output_type": "execute_result",
          "data": {
            "text/plain": [
              "{'rouge-1': {'r': 0.4334394936668317,\n",
              "  'p': 0.11839993891497029,\n",
              "  'f': 0.18368323173787343},\n",
              " 'rouge-2': {'r': 0.17573457155203273,\n",
              "  'p': 0.04376404527761557,\n",
              "  'f': 0.06912530902767003},\n",
              " 'rouge-l': {'r': 0.3920616541919387,\n",
              "  'p': 0.10745709108370748,\n",
              "  'f': 0.1666129508982671}}"
            ]
          },
          "metadata": {},
          "execution_count": 19
        }
      ]
    },
    {
      "cell_type": "code",
      "source": [
        "mx = rougeScore('mT5_multilingual_XLSum')\n",
        "mx"
      ],
      "metadata": {
        "colab": {
          "base_uri": "https://localhost:8080/"
        },
        "id": "aY2Au5DrmL0t",
        "outputId": "ffff59ac-de08-403e-98f6-a45f1e7c38cf"
      },
      "execution_count": 20,
      "outputs": [
        {
          "output_type": "execute_result",
          "data": {
            "text/plain": [
              "{'rouge-1': {'r': 0.3690767808428112,\n",
              "  'p': 0.10728461745207417,\n",
              "  'f': 0.16548793226881697},\n",
              " 'rouge-2': {'r': 0.14436027835436385,\n",
              "  'p': 0.03796769426848793,\n",
              "  'f': 0.05981033321179024},\n",
              " 'rouge-l': {'r': 0.3373278502274814,\n",
              "  'p': 0.09811944113929687,\n",
              "  'f': 0.15132802037670742}}"
            ]
          },
          "metadata": {},
          "execution_count": 20
        }
      ]
    },
    {
      "cell_type": "code",
      "source": [
        "mc = rougeScore('mT5_m2m_crossSum')\n",
        "mc"
      ],
      "metadata": {
        "colab": {
          "base_uri": "https://localhost:8080/"
        },
        "id": "_k6RwLMamScG",
        "outputId": "a427dc28-901e-4fb0-be58-869b495020be"
      },
      "execution_count": 21,
      "outputs": [
        {
          "output_type": "execute_result",
          "data": {
            "text/plain": [
              "{'rouge-1': {'r': 0.36698268725589955,\n",
              "  'p': 0.10827129062896328,\n",
              "  'f': 0.166431319932634},\n",
              " 'rouge-2': {'r': 0.14142704450944205,\n",
              "  'p': 0.037838926484000425,\n",
              "  'f': 0.05938430547477108},\n",
              " 'rouge-l': {'r': 0.33239527559527426,\n",
              "  'p': 0.09819501983416086,\n",
              "  'f': 0.15089955724788626}}"
            ]
          },
          "metadata": {},
          "execution_count": 21
        }
      ]
    },
    {
      "cell_type": "code",
      "source": [
        "sci = rougeScore('scibert_scivocab_uncased')\n",
        "sci"
      ],
      "metadata": {
        "colab": {
          "base_uri": "https://localhost:8080/"
        },
        "id": "9MHl3hYcmUqU",
        "outputId": "17e7b5a9-3e65-4316-87fc-46df39198f44"
      },
      "execution_count": 22,
      "outputs": [
        {
          "output_type": "execute_result",
          "data": {
            "text/plain": [
              "{'rouge-1': {'r': 0.4535961135327547,\n",
              "  'p': 0.07954846934740403,\n",
              "  'f': 0.13193263611018305},\n",
              " 'rouge-2': {'r': 0.1870011974237106,\n",
              "  'p': 0.028902677667419753,\n",
              "  'f': 0.04871294100499985},\n",
              " 'rouge-l': {'r': 0.4147638219080241,\n",
              "  'p': 0.07326201642599442,\n",
              "  'f': 0.1213682438658048}}"
            ]
          },
          "metadata": {},
          "execution_count": 22
        }
      ]
    },
    {
      "cell_type": "code",
      "source": [
        "bts = rougeScore('Bangla_text_summarization')\n",
        "bts"
      ],
      "metadata": {
        "colab": {
          "base_uri": "https://localhost:8080/"
        },
        "id": "PtYRQzQUmV5F",
        "outputId": "45044106-d031-4e05-d181-a442bb9356f4"
      },
      "execution_count": 23,
      "outputs": [
        {
          "output_type": "execute_result",
          "data": {
            "text/plain": [
              "{'rouge-1': {'r': 0.09882465666582949,\n",
              "  'p': 0.020273931688702812,\n",
              "  'f': 0.03354620782478042},\n",
              " 'rouge-2': {'r': 0.016160690418910176,\n",
              "  'p': 0.0026275474452201074,\n",
              "  'f': 0.004506113663611109},\n",
              " 'rouge-l': {'r': 0.09295435359725038,\n",
              "  'p': 0.019073524966794406,\n",
              "  'f': 0.031559223249683986}}"
            ]
          },
          "metadata": {},
          "execution_count": 23
        }
      ]
    },
    {
      "cell_type": "code",
      "source": [
        "def getScore(m, n, x):\n",
        "    strs = 'rouge-'+str(n)\n",
        "    return m[strs][x]"
      ],
      "metadata": {
        "id": "OnDLs0dSsZpt"
      },
      "execution_count": 24,
      "outputs": []
    },
    {
      "cell_type": "code",
      "source": [
        "import pandas as pd\n",
        "\n",
        "data = {'columns':['rouge-1 r', 'rouge-1 p', 'rouge-1 f', 'rouge-2 r', 'rouge-2 p', 'rouge-2 f', 'rouge-l r', 'rouge-l p', 'rouge-l f'],\n",
        "        'givenSummary':[getScore(gs, 1, 'r'), getScore(gs, 1, 'p'), getScore(gs, 1, 'f'), getScore(gs, 2, 'r'), getScore(gs, 2, 'p'), getScore(gs, 2, 'f'), getScore(gs, 'l', 'r'), getScore(gs, 'l', 'p'), getScore(gs, 'l', 'f')],\n",
        "        'BestSummary':[getScore(bs, 1, 'r'), getScore(bs, 1, 'p'), getScore(bs, 1, 'f'), getScore(bs, 2, 'r'), getScore(bs, 2, 'p'), getScore(bs, 2, 'f'), getScore(bs, 'l', 'r'), getScore(bs, 'l', 'p'), getScore(bs, 'l', 'f')],\n",
        "        'mT5_multilingual_XLSum':[getScore(mx, 1, 'r'), getScore(mx, 1, 'p'), getScore(mx, 1, 'f'), getScore(mx, 2, 'r'), getScore(mx, 2, 'p'), getScore(mx, 2, 'f'), getScore(mx, 'l', 'r'), getScore(mx, 'l', 'p'), getScore(mx, 'l', 'f')],\n",
        "        'mT5_m2m_crossSum':[getScore(mc, 1, 'r'), getScore(mc, 1, 'p'), getScore(mc, 1, 'f'), getScore(mc, 2, 'r'), getScore(mc, 2, 'p'), getScore(mc, 2, 'f'), getScore(mc, 'l', 'r'), getScore(mc, 'l', 'p'), getScore(mc, 'l', 'f')],\n",
        "        'scibert_scivocab_uncased':[getScore(sci, 1, 'r'), getScore(sci, 1, 'p'), getScore(sci, 1, 'f'), getScore(sci, 2, 'r'), getScore(sci, 2, 'p'), getScore(sci, 2, 'f'), getScore(sci, 'l', 'r'), getScore(sci, 'l', 'p'), getScore(sci, 'l', 'f')],\n",
        "        'Bangla_text_summarization':[getScore(bts, 1, 'r'), getScore(bts, 1, 'p'), getScore(bts, 1, 'f'), getScore(bts, 2, 'r'), getScore(bts, 2, 'p'), getScore(bts, 2, 'f'), getScore(bts, 'l', 'r'), getScore(bts, 'l', 'p'), getScore(bts, 'l', 'f')]}\n",
        "\n",
        "rougeDf = pd.DataFrame(data)\n",
        "rougeDf_ = rougeDf\n",
        "rougeDf = rougeDf.reset_index(drop=True).T\n",
        "rougeDf = rougeDf.rename(columns=rougeDf.iloc[0]).drop(rougeDf.index[0])\n",
        "rougeDf.reset_index(inplace=True)\n",
        "rougeDf = rougeDf.rename(columns = {'index':'Summary'})\n",
        "rougeDf"
      ],
      "metadata": {
        "colab": {
          "base_uri": "https://localhost:8080/",
          "height": 299
        },
        "id": "OW27OOUAvWfF",
        "outputId": "8e138efd-7bfb-4285-9ff2-bcacf01d8000"
      },
      "execution_count": 25,
      "outputs": [
        {
          "output_type": "execute_result",
          "data": {
            "text/plain": [
              "                     Summary rouge-1 r rouge-1 p rouge-1 f rouge-2 r  \\\n",
              "0               givenSummary       1.0       1.0       1.0       1.0   \n",
              "1                BestSummary  0.433439    0.1184  0.183683  0.175735   \n",
              "2     mT5_multilingual_XLSum  0.369077  0.107285  0.165488   0.14436   \n",
              "3           mT5_m2m_crossSum  0.366983  0.108271  0.166431  0.141427   \n",
              "4   scibert_scivocab_uncased  0.453596  0.079548  0.131933  0.187001   \n",
              "5  Bangla_text_summarization  0.098825  0.020274  0.033546  0.016161   \n",
              "\n",
              "  rouge-2 p rouge-2 f rouge-l r rouge-l p rouge-l f  \n",
              "0       1.0       1.0       1.0       1.0       1.0  \n",
              "1  0.043764  0.069125  0.392062  0.107457  0.166613  \n",
              "2  0.037968   0.05981  0.337328  0.098119  0.151328  \n",
              "3  0.037839  0.059384  0.332395  0.098195    0.1509  \n",
              "4  0.028903  0.048713  0.414764  0.073262  0.121368  \n",
              "5  0.002628  0.004506  0.092954  0.019074  0.031559  "
            ],
            "text/html": [
              "\n",
              "\n",
              "  <div id=\"df-c953b219-56ec-46bb-bafc-730396102916\">\n",
              "    <div class=\"colab-df-container\">\n",
              "      <div>\n",
              "<style scoped>\n",
              "    .dataframe tbody tr th:only-of-type {\n",
              "        vertical-align: middle;\n",
              "    }\n",
              "\n",
              "    .dataframe tbody tr th {\n",
              "        vertical-align: top;\n",
              "    }\n",
              "\n",
              "    .dataframe thead th {\n",
              "        text-align: right;\n",
              "    }\n",
              "</style>\n",
              "<table border=\"1\" class=\"dataframe\">\n",
              "  <thead>\n",
              "    <tr style=\"text-align: right;\">\n",
              "      <th></th>\n",
              "      <th>Summary</th>\n",
              "      <th>rouge-1 r</th>\n",
              "      <th>rouge-1 p</th>\n",
              "      <th>rouge-1 f</th>\n",
              "      <th>rouge-2 r</th>\n",
              "      <th>rouge-2 p</th>\n",
              "      <th>rouge-2 f</th>\n",
              "      <th>rouge-l r</th>\n",
              "      <th>rouge-l p</th>\n",
              "      <th>rouge-l f</th>\n",
              "    </tr>\n",
              "  </thead>\n",
              "  <tbody>\n",
              "    <tr>\n",
              "      <th>0</th>\n",
              "      <td>givenSummary</td>\n",
              "      <td>1.0</td>\n",
              "      <td>1.0</td>\n",
              "      <td>1.0</td>\n",
              "      <td>1.0</td>\n",
              "      <td>1.0</td>\n",
              "      <td>1.0</td>\n",
              "      <td>1.0</td>\n",
              "      <td>1.0</td>\n",
              "      <td>1.0</td>\n",
              "    </tr>\n",
              "    <tr>\n",
              "      <th>1</th>\n",
              "      <td>BestSummary</td>\n",
              "      <td>0.433439</td>\n",
              "      <td>0.1184</td>\n",
              "      <td>0.183683</td>\n",
              "      <td>0.175735</td>\n",
              "      <td>0.043764</td>\n",
              "      <td>0.069125</td>\n",
              "      <td>0.392062</td>\n",
              "      <td>0.107457</td>\n",
              "      <td>0.166613</td>\n",
              "    </tr>\n",
              "    <tr>\n",
              "      <th>2</th>\n",
              "      <td>mT5_multilingual_XLSum</td>\n",
              "      <td>0.369077</td>\n",
              "      <td>0.107285</td>\n",
              "      <td>0.165488</td>\n",
              "      <td>0.14436</td>\n",
              "      <td>0.037968</td>\n",
              "      <td>0.05981</td>\n",
              "      <td>0.337328</td>\n",
              "      <td>0.098119</td>\n",
              "      <td>0.151328</td>\n",
              "    </tr>\n",
              "    <tr>\n",
              "      <th>3</th>\n",
              "      <td>mT5_m2m_crossSum</td>\n",
              "      <td>0.366983</td>\n",
              "      <td>0.108271</td>\n",
              "      <td>0.166431</td>\n",
              "      <td>0.141427</td>\n",
              "      <td>0.037839</td>\n",
              "      <td>0.059384</td>\n",
              "      <td>0.332395</td>\n",
              "      <td>0.098195</td>\n",
              "      <td>0.1509</td>\n",
              "    </tr>\n",
              "    <tr>\n",
              "      <th>4</th>\n",
              "      <td>scibert_scivocab_uncased</td>\n",
              "      <td>0.453596</td>\n",
              "      <td>0.079548</td>\n",
              "      <td>0.131933</td>\n",
              "      <td>0.187001</td>\n",
              "      <td>0.028903</td>\n",
              "      <td>0.048713</td>\n",
              "      <td>0.414764</td>\n",
              "      <td>0.073262</td>\n",
              "      <td>0.121368</td>\n",
              "    </tr>\n",
              "    <tr>\n",
              "      <th>5</th>\n",
              "      <td>Bangla_text_summarization</td>\n",
              "      <td>0.098825</td>\n",
              "      <td>0.020274</td>\n",
              "      <td>0.033546</td>\n",
              "      <td>0.016161</td>\n",
              "      <td>0.002628</td>\n",
              "      <td>0.004506</td>\n",
              "      <td>0.092954</td>\n",
              "      <td>0.019074</td>\n",
              "      <td>0.031559</td>\n",
              "    </tr>\n",
              "  </tbody>\n",
              "</table>\n",
              "</div>\n",
              "      <button class=\"colab-df-convert\" onclick=\"convertToInteractive('df-c953b219-56ec-46bb-bafc-730396102916')\"\n",
              "              title=\"Convert this dataframe to an interactive table.\"\n",
              "              style=\"display:none;\">\n",
              "\n",
              "  <svg xmlns=\"http://www.w3.org/2000/svg\" height=\"24px\"viewBox=\"0 0 24 24\"\n",
              "       width=\"24px\">\n",
              "    <path d=\"M0 0h24v24H0V0z\" fill=\"none\"/>\n",
              "    <path d=\"M18.56 5.44l.94 2.06.94-2.06 2.06-.94-2.06-.94-.94-2.06-.94 2.06-2.06.94zm-11 1L8.5 8.5l.94-2.06 2.06-.94-2.06-.94L8.5 2.5l-.94 2.06-2.06.94zm10 10l.94 2.06.94-2.06 2.06-.94-2.06-.94-.94-2.06-.94 2.06-2.06.94z\"/><path d=\"M17.41 7.96l-1.37-1.37c-.4-.4-.92-.59-1.43-.59-.52 0-1.04.2-1.43.59L10.3 9.45l-7.72 7.72c-.78.78-.78 2.05 0 2.83L4 21.41c.39.39.9.59 1.41.59.51 0 1.02-.2 1.41-.59l7.78-7.78 2.81-2.81c.8-.78.8-2.07 0-2.86zM5.41 20L4 18.59l7.72-7.72 1.47 1.35L5.41 20z\"/>\n",
              "  </svg>\n",
              "      </button>\n",
              "\n",
              "\n",
              "\n",
              "    <div id=\"df-d1715698-25dc-4d62-bea4-28c7d06f479f\">\n",
              "      <button class=\"colab-df-quickchart\" onclick=\"quickchart('df-d1715698-25dc-4d62-bea4-28c7d06f479f')\"\n",
              "              title=\"Suggest charts.\"\n",
              "              style=\"display:none;\">\n",
              "\n",
              "<svg xmlns=\"http://www.w3.org/2000/svg\" height=\"24px\"viewBox=\"0 0 24 24\"\n",
              "     width=\"24px\">\n",
              "    <g>\n",
              "        <path d=\"M19 3H5c-1.1 0-2 .9-2 2v14c0 1.1.9 2 2 2h14c1.1 0 2-.9 2-2V5c0-1.1-.9-2-2-2zM9 17H7v-7h2v7zm4 0h-2V7h2v10zm4 0h-2v-4h2v4z\"/>\n",
              "    </g>\n",
              "</svg>\n",
              "      </button>\n",
              "    </div>\n",
              "\n",
              "<style>\n",
              "  .colab-df-quickchart {\n",
              "    background-color: #E8F0FE;\n",
              "    border: none;\n",
              "    border-radius: 50%;\n",
              "    cursor: pointer;\n",
              "    display: none;\n",
              "    fill: #1967D2;\n",
              "    height: 32px;\n",
              "    padding: 0 0 0 0;\n",
              "    width: 32px;\n",
              "  }\n",
              "\n",
              "  .colab-df-quickchart:hover {\n",
              "    background-color: #E2EBFA;\n",
              "    box-shadow: 0px 1px 2px rgba(60, 64, 67, 0.3), 0px 1px 3px 1px rgba(60, 64, 67, 0.15);\n",
              "    fill: #174EA6;\n",
              "  }\n",
              "\n",
              "  [theme=dark] .colab-df-quickchart {\n",
              "    background-color: #3B4455;\n",
              "    fill: #D2E3FC;\n",
              "  }\n",
              "\n",
              "  [theme=dark] .colab-df-quickchart:hover {\n",
              "    background-color: #434B5C;\n",
              "    box-shadow: 0px 1px 3px 1px rgba(0, 0, 0, 0.15);\n",
              "    filter: drop-shadow(0px 1px 2px rgba(0, 0, 0, 0.3));\n",
              "    fill: #FFFFFF;\n",
              "  }\n",
              "</style>\n",
              "\n",
              "    <script>\n",
              "      async function quickchart(key) {\n",
              "        const containerElement = document.querySelector('#' + key);\n",
              "        const charts = await google.colab.kernel.invokeFunction(\n",
              "            'suggestCharts', [key], {});\n",
              "      }\n",
              "    </script>\n",
              "\n",
              "      <script>\n",
              "\n",
              "function displayQuickchartButton(domScope) {\n",
              "  let quickchartButtonEl =\n",
              "    domScope.querySelector('#df-d1715698-25dc-4d62-bea4-28c7d06f479f button.colab-df-quickchart');\n",
              "  quickchartButtonEl.style.display =\n",
              "    google.colab.kernel.accessAllowed ? 'block' : 'none';\n",
              "}\n",
              "\n",
              "        displayQuickchartButton(document);\n",
              "      </script>\n",
              "      <style>\n",
              "    .colab-df-container {\n",
              "      display:flex;\n",
              "      flex-wrap:wrap;\n",
              "      gap: 12px;\n",
              "    }\n",
              "\n",
              "    .colab-df-convert {\n",
              "      background-color: #E8F0FE;\n",
              "      border: none;\n",
              "      border-radius: 50%;\n",
              "      cursor: pointer;\n",
              "      display: none;\n",
              "      fill: #1967D2;\n",
              "      height: 32px;\n",
              "      padding: 0 0 0 0;\n",
              "      width: 32px;\n",
              "    }\n",
              "\n",
              "    .colab-df-convert:hover {\n",
              "      background-color: #E2EBFA;\n",
              "      box-shadow: 0px 1px 2px rgba(60, 64, 67, 0.3), 0px 1px 3px 1px rgba(60, 64, 67, 0.15);\n",
              "      fill: #174EA6;\n",
              "    }\n",
              "\n",
              "    [theme=dark] .colab-df-convert {\n",
              "      background-color: #3B4455;\n",
              "      fill: #D2E3FC;\n",
              "    }\n",
              "\n",
              "    [theme=dark] .colab-df-convert:hover {\n",
              "      background-color: #434B5C;\n",
              "      box-shadow: 0px 1px 3px 1px rgba(0, 0, 0, 0.15);\n",
              "      filter: drop-shadow(0px 1px 2px rgba(0, 0, 0, 0.3));\n",
              "      fill: #FFFFFF;\n",
              "    }\n",
              "  </style>\n",
              "\n",
              "      <script>\n",
              "        const buttonEl =\n",
              "          document.querySelector('#df-c953b219-56ec-46bb-bafc-730396102916 button.colab-df-convert');\n",
              "        buttonEl.style.display =\n",
              "          google.colab.kernel.accessAllowed ? 'block' : 'none';\n",
              "\n",
              "        async function convertToInteractive(key) {\n",
              "          const element = document.querySelector('#df-c953b219-56ec-46bb-bafc-730396102916');\n",
              "          const dataTable =\n",
              "            await google.colab.kernel.invokeFunction('convertToInteractive',\n",
              "                                                     [key], {});\n",
              "          if (!dataTable) return;\n",
              "\n",
              "          const docLinkHtml = 'Like what you see? Visit the ' +\n",
              "            '<a target=\"_blank\" href=https://colab.research.google.com/notebooks/data_table.ipynb>data table notebook</a>'\n",
              "            + ' to learn more about interactive tables.';\n",
              "          element.innerHTML = '';\n",
              "          dataTable['output_type'] = 'display_data';\n",
              "          await google.colab.output.renderOutput(dataTable, element);\n",
              "          const docLink = document.createElement('div');\n",
              "          docLink.innerHTML = docLinkHtml;\n",
              "          element.appendChild(docLink);\n",
              "        }\n",
              "      </script>\n",
              "    </div>\n",
              "  </div>\n"
            ]
          },
          "metadata": {},
          "execution_count": 25
        }
      ]
    },
    {
      "cell_type": "code",
      "source": [
        "import matplotlib.pyplot as plt\n",
        "\n",
        "# plotting graph\n",
        "rougeDf.plot(x=\"Summary\",\n",
        "               y=['rouge-1 r',\n",
        "                'rouge-1 p',\n",
        "                'rouge-1 f',\n",
        "                'rouge-2 r',\n",
        "                'rouge-2 p',\n",
        "                'rouge-2 f',\n",
        "                'rouge-l r',\n",
        "                'rouge-l p',\n",
        "                'rouge-l f'],\n",
        "               kind=\"bar\", figsize=(25, 12))\n",
        "\n",
        "plt.suptitle(\"Rouge Score of the summaries in Barplot\\n\\n\\n\\n\\n\\n\")\n",
        "plt.ylabel(\"Score\")"
      ],
      "metadata": {
        "colab": {
          "base_uri": "https://localhost:8080/",
          "height": 638
        },
        "id": "OuCG_G223bKf",
        "outputId": "3384d112-cae5-49ce-8662-cc361fa56fb2"
      },
      "execution_count": 26,
      "outputs": [
        {
          "output_type": "execute_result",
          "data": {
            "text/plain": [
              "Text(0, 0.5, 'Score')"
            ]
          },
          "metadata": {},
          "execution_count": 26
        },
        {
          "output_type": "display_data",
          "data": {
            "text/plain": [
              "<Figure size 2500x1200 with 1 Axes>"
            ],
            "image/png": "[encoded data removed]"
          },
          "metadata": {}
        }
      ]
    },
    {
      "cell_type": "markdown",
      "source": [
        "##### Rouge Comparing with Given Summary Dataset I"
      ],
      "metadata": {
        "id": "_Cg12N92EIWG"
      }
    },
    {
      "cell_type": "code",
      "source": [
        "def rougeScoreWithGivenSummary(columnName):\n",
        "    SummaryEv = finalDF.filter(['givenSummary', columnName], axis=1)\n",
        "    # return SummaryEv\n",
        "    urlCSV = '/content/' + columnName + 'CSV.csv'\n",
        "    SummaryEv.to_csv(urlCSV, index=False)\n",
        "\n",
        "    with open(urlCSV, 'r') as f:\n",
        "        dict_reader = DictReader(f)\n",
        "        SummaryEv_dict = list(dict_reader)\n",
        "\n",
        "    EvJson = json.dumps(SummaryEv_dict, indent = 4)\n",
        "    JSON = columnName + 'EvJson.json'\n",
        "    save_file_at_dir('/content', JSON, EvJson)\n",
        "\n",
        "    urlJSON = '/content/' + columnName + 'EvJson.json'\n",
        "\n",
        "    with open(urlJSON) as f:\n",
        "        SummaryEvData = json.load(f)\n",
        "    lenS = len(SummaryEvData)\n",
        "    rscore1r = 0\n",
        "    rscore1p = 0\n",
        "    rscore1f = 0\n",
        "    rscore2r = 0\n",
        "    rscore2p = 0\n",
        "    rscore2f = 0\n",
        "    rscorelr = 0\n",
        "    rscorelp = 0\n",
        "    rscorelf = 0\n",
        "    rouge = Rouge()\n",
        "    for i in range(lenS):\n",
        "        score = rouge.get_scores(SummaryEvData[i][columnName], SummaryEvData[i]['givenSummary'])\n",
        "        rscore1r = rscore1r + score[0]['rouge-1']['r']\n",
        "        rscore1p = rscore1p + score[0]['rouge-1']['p']\n",
        "        rscore1f = rscore1f + score[0]['rouge-1']['f']\n",
        "        rscore2r = rscore2r + score[0]['rouge-2']['r']\n",
        "        rscore2p = rscore2p + score[0]['rouge-2']['p']\n",
        "        rscore2f = rscore2f + score[0]['rouge-2']['f']\n",
        "        rscorelr = rscorelr + score[0]['rouge-l']['r']\n",
        "        rscorelp = rscorelp + score[0]['rouge-l']['p']\n",
        "        rscorelf = rscorelf + score[0]['rouge-l']['f']\n",
        "\n",
        "        # rscore = [[rscore1r/lenS, rscore1p/lenS, rscore1f/lenS],\n",
        "        #           [rscore2r/lenS, rscore2p/lenS, rscore2f/lenS],\n",
        "        #           [rscorelr/lenS, rscorelp/lenS, rscorelf/lenS]]\n",
        "\n",
        "    rscore = {'rouge-1': {'r': rscore1r/lenS,\n",
        "                        'p': rscore1p/lenS,\n",
        "                        'f': rscore1f/lenS},\n",
        "                'rouge-2': {'r': rscore2r/lenS,\n",
        "                        'p': rscore2p/lenS,\n",
        "                        'f': rscore2f/lenS},\n",
        "                'rouge-l': {'r': rscorelr/lenS,\n",
        "                        'p': rscorelp/lenS,\n",
        "                        'f': rscorelf/lenS}}\n",
        "    return rscore"
      ],
      "metadata": {
        "id": "9GbstM_tDJvJ"
      },
      "execution_count": null,
      "outputs": []
    },
    {
      "cell_type": "code",
      "source": [
        "bsg = rougeScoreWithGivenSummary('BestSummary')\n",
        "bsg"
      ],
      "metadata": {
        "colab": {
          "base_uri": "https://localhost:8080/"
        },
        "id": "KCsgQ0vADkW_",
        "outputId": "36dc5e5b-5bc5-47df-f5dd-ad22e8768b9c"
      },
      "execution_count": null,
      "outputs": [
        {
          "output_type": "execute_result",
          "data": {
            "text/plain": [
              "{'rouge-1': {'r': 0.3128525327465549,\n",
              "  'p': 0.22249947262910658,\n",
              "  'f': 0.2485069639452539},\n",
              " 'rouge-2': {'r': 0.13186963909941574,\n",
              "  'p': 0.09624546654978744,\n",
              "  'f': 0.10673689300799105},\n",
              " 'rouge-l': {'r': 0.2603731567655058,\n",
              "  'p': 0.1857311903311782,\n",
              "  'f': 0.20771506914907265}}"
            ]
          },
          "metadata": {},
          "execution_count": 22
        }
      ]
    },
    {
      "cell_type": "code",
      "source": [
        "mxg = rougeScoreWithGivenSummary('mT5_multilingual_XLSum')\n",
        "mxg"
      ],
      "metadata": {
        "colab": {
          "base_uri": "https://localhost:8080/"
        },
        "id": "pf2GHjQAELxG",
        "outputId": "e229b996-10ba-4e1f-b01e-65279f900db4"
      },
      "execution_count": null,
      "outputs": [
        {
          "output_type": "execute_result",
          "data": {
            "text/plain": [
              "{'rouge-1': {'r': 0.287564759327496,\n",
              "  'p': 0.22651678509425313,\n",
              "  'f': 0.2454227113791189},\n",
              " 'rouge-2': {'r': 0.12457369843039469,\n",
              "  'p': 0.0960402943128843,\n",
              "  'f': 0.10462677500464472},\n",
              " 'rouge-l': {'r': 0.2454185699897424,\n",
              "  'p': 0.19091003417531055,\n",
              "  'f': 0.20797916308871858}}"
            ]
          },
          "metadata": {},
          "execution_count": 23
        }
      ]
    },
    {
      "cell_type": "code",
      "source": [
        "mcg = rougeScoreWithGivenSummary('mT5_m2m_crossSum')\n",
        "mcg"
      ],
      "metadata": {
        "colab": {
          "base_uri": "https://localhost:8080/"
        },
        "id": "vkwiwHJ1EM8_",
        "outputId": "b70fbb9e-b768-484d-a4ce-ac1a1496b05c"
      },
      "execution_count": null,
      "outputs": [
        {
          "output_type": "execute_result",
          "data": {
            "text/plain": [
              "{'rouge-1': {'r': 0.23457601193686675,\n",
              "  'p': 0.1869908025730743,\n",
              "  'f': 0.20143627983831675},\n",
              " 'rouge-2': {'r': 0.08771204607431907,\n",
              "  'p': 0.06801591852253562,\n",
              "  'f': 0.07391844747143643},\n",
              " 'rouge-l': {'r': 0.1965814050474691,\n",
              "  'p': 0.15485874784530831,\n",
              "  'f': 0.16771666515247993}}"
            ]
          },
          "metadata": {},
          "execution_count": 24
        }
      ]
    },
    {
      "cell_type": "code",
      "source": [
        "scig = rougeScoreWithGivenSummary('scibert_scivocab_uncased')\n",
        "scig"
      ],
      "metadata": {
        "colab": {
          "base_uri": "https://localhost:8080/"
        },
        "id": "M9jHYuPLEOM4",
        "outputId": "da795254-54e3-4bf4-ffba-8d61798c3e47"
      },
      "execution_count": null,
      "outputs": [
        {
          "output_type": "execute_result",
          "data": {
            "text/plain": [
              "{'rouge-1': {'r': 0.27707602328604103,\n",
              "  'p': 0.07491121735154838,\n",
              "  'f': 0.11233689862582975},\n",
              " 'rouge-2': {'r': 0.07154391046050637,\n",
              "  'p': 0.017825297595239403,\n",
              "  'f': 0.027072862116853485},\n",
              " 'rouge-l': {'r': 0.20239842216777168,\n",
              "  'p': 0.05474144192390803,\n",
              "  'f': 0.08197041383990689}}"
            ]
          },
          "metadata": {},
          "execution_count": 25
        }
      ]
    },
    {
      "cell_type": "code",
      "source": [
        "btsg = rougeScoreWithGivenSummary('Bangla_text_summarization')\n",
        "btsg"
      ],
      "metadata": {
        "colab": {
          "base_uri": "https://localhost:8080/"
        },
        "id": "FST8ZIB0EPNv",
        "outputId": "f4ad3cee-62fa-497d-f8b0-7fd8d50b8686"
      },
      "execution_count": null,
      "outputs": [
        {
          "output_type": "execute_result",
          "data": {
            "text/plain": [
              "{'rouge-1': {'r': 0.017035330578199285,\n",
              "  'p': 0.010197499878923192,\n",
              "  'f': 0.012376467034012852},\n",
              " 'rouge-2': {'r': 0.0005040024146759152,\n",
              "  'p': 0.0002670800098852802,\n",
              "  'f': 0.00034123984411539706},\n",
              " 'rouge-l': {'r': 0.016160326249158592,\n",
              "  'p': 0.009644420421394729,\n",
              "  'f': 0.011715583743129884}}"
            ]
          },
          "metadata": {},
          "execution_count": 26
        }
      ]
    },
    {
      "cell_type": "code",
      "source": [
        "def getScore(m, n, x):\n",
        "    strs = 'rouge-'+str(n)\n",
        "    return m[strs][x]"
      ],
      "metadata": {
        "id": "JHP0XnSvFNdg"
      },
      "execution_count": null,
      "outputs": []
    },
    {
      "cell_type": "code",
      "source": [
        "import pandas as pd\n",
        "\n",
        "data = {'columns':['rouge-1 r', 'rouge-1 p', 'rouge-1 f', 'rouge-2 r', 'rouge-2 p', 'rouge-2 f', 'rouge-l r', 'rouge-l p', 'rouge-l f'],\n",
        "        'BestSummary':[getScore(bsg, 1, 'r'), getScore(bsg, 1, 'p'), getScore(bsg, 1, 'f'), getScore(bsg, 2, 'r'), getScore(bsg, 2, 'p'), getScore(bsg, 2, 'f'), getScore(bsg, 'l', 'r'), getScore(bsg, 'l', 'p'), getScore(bsg, 'l', 'f')],\n",
        "        'mT5_multilingual_XLSum':[getScore(mxg, 1, 'r'), getScore(mxg, 1, 'p'), getScore(mxg, 1, 'f'), getScore(mxg, 2, 'r'), getScore(mxg, 2, 'p'), getScore(mxg, 2, 'f'), getScore(mxg, 'l', 'r'), getScore(mxg, 'l', 'p'), getScore(mxg, 'l', 'f')],\n",
        "        'mT5_m2m_crossSum':[getScore(mcg, 1, 'r'), getScore(mcg, 1, 'p'), getScore(mcg, 1, 'f'), getScore(mcg, 2, 'r'), getScore(mcg, 2, 'p'), getScore(mcg, 2, 'f'), getScore(mcg, 'l', 'r'), getScore(mcg, 'l', 'p'), getScore(mcg, 'l', 'f')],\n",
        "        'scibert_scivocab_uncased':[getScore(scig, 1, 'r'), getScore(scig, 1, 'p'), getScore(scig, 1, 'f'), getScore(scig, 2, 'r'), getScore(scig, 2, 'p'), getScore(scig, 2, 'f'), getScore(scig, 'l', 'r'), getScore(scig, 'l', 'p'), getScore(scig, 'l', 'f')],\n",
        "        'Bangla_text_summarization':[getScore(btsg, 1, 'r'), getScore(btsg, 1, 'p'), getScore(btsg, 1, 'f'), getScore(btsg, 2, 'r'), getScore(btsg, 2, 'p'), getScore(btsg, 2, 'f'), getScore(btsg, 'l', 'r'), getScore(btsg, 'l', 'p'), getScore(btsg, 'l', 'f')]}\n",
        "\n",
        "rougeDf = pd.DataFrame(data)\n",
        "rougeDf_ = rougeDf\n",
        "rougeDf = rougeDf.reset_index(drop=True).T\n",
        "rougeDf = rougeDf.rename(columns=rougeDf.iloc[0]).drop(rougeDf.index[0])\n",
        "rougeDf.reset_index(inplace=True)\n",
        "rougeDf = rougeDf.rename(columns = {'index':'Summary'})\n",
        "rougeDf"
      ],
      "metadata": {
        "colab": {
          "base_uri": "https://localhost:8080/",
          "height": 206
        },
        "id": "Oc13FnINFP3U",
        "outputId": "3feda35c-af65-477b-c3c9-2788858047b6"
      },
      "execution_count": null,
      "outputs": [
        {
          "output_type": "execute_result",
          "data": {
            "text/plain": [
              "                     Summary rouge-1 r rouge-1 p rouge-1 f rouge-2 r  \\\n",
              "0                BestSummary  0.312853  0.222499  0.248507   0.13187   \n",
              "1     mT5_multilingual_XLSum  0.287565  0.226517  0.245423  0.124574   \n",
              "2           mT5_m2m_crossSum  0.234576  0.186991  0.201436  0.087712   \n",
              "3   scibert_scivocab_uncased  0.277076  0.074911  0.112337  0.071544   \n",
              "4  Bangla_text_summarization  0.017035  0.010197  0.012376  0.000504   \n",
              "\n",
              "  rouge-2 p rouge-2 f rouge-l r rouge-l p rouge-l f  \n",
              "0  0.096245  0.106737  0.260373  0.185731  0.207715  \n",
              "1   0.09604  0.104627  0.245419   0.19091  0.207979  \n",
              "2  0.068016  0.073918  0.196581  0.154859  0.167717  \n",
              "3  0.017825  0.027073  0.202398  0.054741   0.08197  \n",
              "4  0.000267  0.000341   0.01616  0.009644  0.011716  "
            ],
            "text/html": [
              "\n",
              "  <div id=\"df-fc655428-5ce4-4602-bad4-31ec4e76a068\">\n",
              "    <div class=\"colab-df-container\">\n",
              "      <div>\n",
              "<style scoped>\n",
              "    .dataframe tbody tr th:only-of-type {\n",
              "        vertical-align: middle;\n",
              "    }\n",
              "\n",
              "    .dataframe tbody tr th {\n",
              "        vertical-align: top;\n",
              "    }\n",
              "\n",
              "    .dataframe thead th {\n",
              "        text-align: right;\n",
              "    }\n",
              "</style>\n",
              "<table border=\"1\" class=\"dataframe\">\n",
              "  <thead>\n",
              "    <tr style=\"text-align: right;\">\n",
              "      <th></th>\n",
              "      <th>Summary</th>\n",
              "      <th>rouge-1 r</th>\n",
              "      <th>rouge-1 p</th>\n",
              "      <th>rouge-1 f</th>\n",
              "      <th>rouge-2 r</th>\n",
              "      <th>rouge-2 p</th>\n",
              "      <th>rouge-2 f</th>\n",
              "      <th>rouge-l r</th>\n",
              "      <th>rouge-l p</th>\n",
              "      <th>rouge-l f</th>\n",
              "    </tr>\n",
              "  </thead>\n",
              "  <tbody>\n",
              "    <tr>\n",
              "      <th>0</th>\n",
              "      <td>BestSummary</td>\n",
              "      <td>0.312853</td>\n",
              "      <td>0.222499</td>\n",
              "      <td>0.248507</td>\n",
              "      <td>0.13187</td>\n",
              "      <td>0.096245</td>\n",
              "      <td>0.106737</td>\n",
              "      <td>0.260373</td>\n",
              "      <td>0.185731</td>\n",
              "      <td>0.207715</td>\n",
              "    </tr>\n",
              "    <tr>\n",
              "      <th>1</th>\n",
              "      <td>mT5_multilingual_XLSum</td>\n",
              "      <td>0.287565</td>\n",
              "      <td>0.226517</td>\n",
              "      <td>0.245423</td>\n",
              "      <td>0.124574</td>\n",
              "      <td>0.09604</td>\n",
              "      <td>0.104627</td>\n",
              "      <td>0.245419</td>\n",
              "      <td>0.19091</td>\n",
              "      <td>0.207979</td>\n",
              "    </tr>\n",
              "    <tr>\n",
              "      <th>2</th>\n",
              "      <td>mT5_m2m_crossSum</td>\n",
              "      <td>0.234576</td>\n",
              "      <td>0.186991</td>\n",
              "      <td>0.201436</td>\n",
              "      <td>0.087712</td>\n",
              "      <td>0.068016</td>\n",
              "      <td>0.073918</td>\n",
              "      <td>0.196581</td>\n",
              "      <td>0.154859</td>\n",
              "      <td>0.167717</td>\n",
              "    </tr>\n",
              "    <tr>\n",
              "      <th>3</th>\n",
              "      <td>scibert_scivocab_uncased</td>\n",
              "      <td>0.277076</td>\n",
              "      <td>0.074911</td>\n",
              "      <td>0.112337</td>\n",
              "      <td>0.071544</td>\n",
              "      <td>0.017825</td>\n",
              "      <td>0.027073</td>\n",
              "      <td>0.202398</td>\n",
              "      <td>0.054741</td>\n",
              "      <td>0.08197</td>\n",
              "    </tr>\n",
              "    <tr>\n",
              "      <th>4</th>\n",
              "      <td>Bangla_text_summarization</td>\n",
              "      <td>0.017035</td>\n",
              "      <td>0.010197</td>\n",
              "      <td>0.012376</td>\n",
              "      <td>0.000504</td>\n",
              "      <td>0.000267</td>\n",
              "      <td>0.000341</td>\n",
              "      <td>0.01616</td>\n",
              "      <td>0.009644</td>\n",
              "      <td>0.011716</td>\n",
              "    </tr>\n",
              "  </tbody>\n",
              "</table>\n",
              "</div>\n",
              "      <button class=\"colab-df-convert\" onclick=\"convertToInteractive('df-fc655428-5ce4-4602-bad4-31ec4e76a068')\"\n",
              "              title=\"Convert this dataframe to an interactive table.\"\n",
              "              style=\"display:none;\">\n",
              "        \n",
              "  <svg xmlns=\"http://www.w3.org/2000/svg\" height=\"24px\"viewBox=\"0 0 24 24\"\n",
              "       width=\"24px\">\n",
              "    <path d=\"M0 0h24v24H0V0z\" fill=\"none\"/>\n",
              "    <path d=\"M18.56 5.44l.94 2.06.94-2.06 2.06-.94-2.06-.94-.94-2.06-.94 2.06-2.06.94zm-11 1L8.5 8.5l.94-2.06 2.06-.94-2.06-.94L8.5 2.5l-.94 2.06-2.06.94zm10 10l.94 2.06.94-2.06 2.06-.94-2.06-.94-.94-2.06-.94 2.06-2.06.94z\"/><path d=\"M17.41 7.96l-1.37-1.37c-.4-.4-.92-.59-1.43-.59-.52 0-1.04.2-1.43.59L10.3 9.45l-7.72 7.72c-.78.78-.78 2.05 0 2.83L4 21.41c.39.39.9.59 1.41.59.51 0 1.02-.2 1.41-.59l7.78-7.78 2.81-2.81c.8-.78.8-2.07 0-2.86zM5.41 20L4 18.59l7.72-7.72 1.47 1.35L5.41 20z\"/>\n",
              "  </svg>\n",
              "      </button>\n",
              "      \n",
              "  <style>\n",
              "    .colab-df-container {\n",
              "      display:flex;\n",
              "      flex-wrap:wrap;\n",
              "      gap: 12px;\n",
              "    }\n",
              "\n",
              "    .colab-df-convert {\n",
              "      background-color: #E8F0FE;\n",
              "      border: none;\n",
              "      border-radius: 50%;\n",
              "      cursor: pointer;\n",
              "      display: none;\n",
              "      fill: #1967D2;\n",
              "      height: 32px;\n",
              "      padding: 0 0 0 0;\n",
              "      width: 32px;\n",
              "    }\n",
              "\n",
              "    .colab-df-convert:hover {\n",
              "      background-color: #E2EBFA;\n",
              "      box-shadow: 0px 1px 2px rgba(60, 64, 67, 0.3), 0px 1px 3px 1px rgba(60, 64, 67, 0.15);\n",
              "      fill: #174EA6;\n",
              "    }\n",
              "\n",
              "    [theme=dark] .colab-df-convert {\n",
              "      background-color: #3B4455;\n",
              "      fill: #D2E3FC;\n",
              "    }\n",
              "\n",
              "    [theme=dark] .colab-df-convert:hover {\n",
              "      background-color: #434B5C;\n",
              "      box-shadow: 0px 1px 3px 1px rgba(0, 0, 0, 0.15);\n",
              "      filter: drop-shadow(0px 1px 2px rgba(0, 0, 0, 0.3));\n",
              "      fill: #FFFFFF;\n",
              "    }\n",
              "  </style>\n",
              "\n",
              "      <script>\n",
              "        const buttonEl =\n",
              "          document.querySelector('#df-fc655428-5ce4-4602-bad4-31ec4e76a068 button.colab-df-convert');\n",
              "        buttonEl.style.display =\n",
              "          google.colab.kernel.accessAllowed ? 'block' : 'none';\n",
              "\n",
              "        async function convertToInteractive(key) {\n",
              "          const element = document.querySelector('#df-fc655428-5ce4-4602-bad4-31ec4e76a068');\n",
              "          const dataTable =\n",
              "            await google.colab.kernel.invokeFunction('convertToInteractive',\n",
              "                                                     [key], {});\n",
              "          if (!dataTable) return;\n",
              "\n",
              "          const docLinkHtml = 'Like what you see? Visit the ' +\n",
              "            '<a target=\"_blank\" href=https://colab.research.google.com/notebooks/data_table.ipynb>data table notebook</a>'\n",
              "            + ' to learn more about interactive tables.';\n",
              "          element.innerHTML = '';\n",
              "          dataTable['output_type'] = 'display_data';\n",
              "          await google.colab.output.renderOutput(dataTable, element);\n",
              "          const docLink = document.createElement('div');\n",
              "          docLink.innerHTML = docLinkHtml;\n",
              "          element.appendChild(docLink);\n",
              "        }\n",
              "      </script>\n",
              "    </div>\n",
              "  </div>\n",
              "  "
            ]
          },
          "metadata": {},
          "execution_count": 30
        }
      ]
    },
    {
      "cell_type": "code",
      "source": [
        "import matplotlib.pyplot as plt\n",
        "\n",
        "# plotting graph\n",
        "rougeDf.plot(x=\"Summary\",\n",
        "               y=['rouge-1 r',\n",
        "                'rouge-1 p',\n",
        "                'rouge-1 f',\n",
        "                'rouge-2 r',\n",
        "                'rouge-2 p',\n",
        "                'rouge-2 f',\n",
        "                'rouge-l r',\n",
        "                'rouge-l p',\n",
        "                'rouge-l f'],\n",
        "               kind=\"bar\", figsize=(25, 12))\n",
        "\n",
        "plt.suptitle(\"Rouge Score of the summaries in Barplot\\n\\n\\n\\n\\n\\n\")\n",
        "plt.ylabel(\"Score\")"
      ],
      "metadata": {
        "id": "asYOq8cfFzOq",
        "outputId": "ab93600c-60f5-44fa-f849-8271e73705d4",
        "colab": {
          "base_uri": "https://localhost:8080/",
          "height": 774
        }
      },
      "execution_count": null,
      "outputs": [
        {
          "output_type": "execute_result",
          "data": {
            "text/plain": [
              "Text(0, 0.5, 'Score')"
            ]
          },
          "metadata": {},
          "execution_count": 31
        },
        {
          "output_type": "display_data",
          "data": {
            "text/plain": [
              "<Figure size 1800x864 with 1 Axes>"
            ],
            "image/png": "[encoded data removed]"
          },
          "metadata": {
            "needs_background": "light"
          }
        }
      ]
    },
    {
      "cell_type": "markdown",
      "metadata": {
        "id": "bM3L9ujNGN7N"
      },
      "source": [
        "### Bleu"
      ]
    },
    {
      "cell_type": "markdown",
      "source": [
        "#### corpus_bleu: row wise calculation"
      ],
      "metadata": {
        "id": "q_QEYPjd01gB"
      }
    },
    {
      "cell_type": "code",
      "execution_count": 48,
      "metadata": {
        "colab": {
          "base_uri": "https://localhost:8080/"
        },
        "id": "J43qckl7gaYA",
        "outputId": "736b3127-294b-4576-cc1c-6c94e9c25c01"
      },
      "outputs": [
        {
          "output_type": "stream",
          "name": "stdout",
          "text": [
            "8102\n"
          ]
        }
      ],
      "source": [
        "import os\n",
        "import json\n",
        "from csv import DictReader\n",
        "\n",
        "def save_file_at_dir(dir_path, filename, file_content, mode='w'):\n",
        "    os.makedirs(dir_path, exist_ok=True)\n",
        "    with open(os.path.join(dir_path, filename), mode) as f:\n",
        "        f.write(file_content)\n",
        "\n",
        "finalDF.to_csv('/content/bleuEvCSV.csv', index=False)\n",
        "\n",
        "with open(\"/content/bleuEvCSV.csv\", 'r') as f:\n",
        "    dict_reader = DictReader(f)\n",
        "    bleu_dict = list(dict_reader)\n",
        "print(len(bleu_dict))\n",
        "\n",
        "bleuEvJson = json.dumps(bleu_dict, indent = 4)\n",
        "save_file_at_dir('/content', 'bleuEvJson.json', bleuEvJson)\n",
        "\n",
        "with open('/content/bleuEvJson.json') as f:\n",
        "  bleuData = json.load(f)"
      ]
    },
    {
      "cell_type": "code",
      "source": [
        "finalDF2.to_csv('/content/bleuEvCSV2.csv', index=False)\n",
        "\n",
        "with open(\"/content/bleuEvCSV2.csv\", 'r') as f:\n",
        "    dict_reader = DictReader(f)\n",
        "    bleu_dict = list(dict_reader)\n",
        "print(len(bleu_dict))\n",
        "\n",
        "bleuEvJson = json.dumps(bleu_dict, indent = 4)\n",
        "save_file_at_dir('/content', 'bleuEvJson2.json', bleuEvJson)\n",
        "\n",
        "with open('/content/bleuEvJson2.json') as f:\n",
        "  bleuData2 = json.load(f)"
      ],
      "metadata": {
        "colab": {
          "base_uri": "https://localhost:8080/"
        },
        "id": "9ZqX-PCo5cVI",
        "outputId": "855ec990-e3ca-401a-c4a3-e5404af0df00"
      },
      "execution_count": 49,
      "outputs": [
        {
          "output_type": "stream",
          "name": "stdout",
          "text": [
            "4988\n"
          ]
        }
      ]
    },
    {
      "cell_type": "code",
      "source": [
        "import nltk\n",
        "\n",
        "hypothesis = bleuData[1]['BestSummary'].split()\n",
        "reference = bleuData[1]['givenSummary'].split()\n",
        "references = [reference] # list of references for 1 sentence.\n",
        "list_of_references = [references] # list of references for all sentences in corpus.\n",
        "list_of_hypotheses = [hypothesis] # list of hypotheses that corresponds to list of references.\n",
        "nltk.translate.bleu_score.corpus_bleu(list_of_references, list_of_hypotheses, weights=(0.25, 0.25, 0.25, 0.25))"
      ],
      "metadata": {
        "colab": {
          "base_uri": "https://localhost:8080/"
        },
        "id": "RJPkR7Dqyw9_",
        "outputId": "30e0ea62-dc76-47cf-fcbb-b79449e97bd3"
      },
      "execution_count": 50,
      "outputs": [
        {
          "output_type": "execute_result",
          "data": {
            "text/plain": [
              "0.4116245235860851"
            ]
          },
          "metadata": {},
          "execution_count": 50
        }
      ]
    },
    {
      "cell_type": "markdown",
      "source": [
        "##### Dataset I"
      ],
      "metadata": {
        "id": "JvihqD0c62sH"
      }
    },
    {
      "cell_type": "code",
      "source": [
        "import nltk\n",
        "\n",
        "def bleuCorpass(columnName):\n",
        "    ble1score = 0\n",
        "    ble2score = 0\n",
        "    ble3score = 0\n",
        "    ble4score = 0\n",
        "    for i in range(len(bleuData)):\n",
        "        hypothesis = bleuData[i][columnName].split()\n",
        "        reference = bleuData[i]['givenSummary'].split()\n",
        "        references = [reference]\n",
        "        list_of_references = [references]\n",
        "        list_of_hypotheses = [hypothesis]\n",
        "        ble1score = ble1score + nltk.translate.bleu_score.corpus_bleu(list_of_references, list_of_hypotheses, weights=(1, 0, 0, 0))\n",
        "        ble2score = ble2score + nltk.translate.bleu_score.corpus_bleu(list_of_references, list_of_hypotheses, weights=(0.5, 0.5, 0, 0))\n",
        "        ble3score = ble3score + nltk.translate.bleu_score.corpus_bleu(list_of_references, list_of_hypotheses, weights=(0.33, 0.33, 0.33, 0))\n",
        "        ble4score = ble4score + nltk.translate.bleu_score.corpus_bleu(list_of_references, list_of_hypotheses, weights=(0.25, 0.25, 0.25, 0.25))\n",
        "\n",
        "    print(\"Bleu 1: \", ble1score/len(bleuData),'\\n')\n",
        "    print(\"Bleu 2: \", ble2score/len(bleuData),'\\n')\n",
        "    print(\"Bleu 3: \", ble3score/len(bleuData),'\\n')\n",
        "    print(\"Bleu 4: \", ble4score/len(bleuData),'\\n')\n",
        "\n",
        "    return ble1score/len(bleuData), ble2score/len(bleuData), ble3score/len(bleuData), ble4score/len(bleuData)"
      ],
      "metadata": {
        "id": "0uvbzy3vzDC9"
      },
      "execution_count": null,
      "outputs": []
    },
    {
      "cell_type": "code",
      "source": [
        "print('BestSummary Bleu:', bleuCorpass('BestSummary'))"
      ],
      "metadata": {
        "colab": {
          "base_uri": "https://localhost:8080/"
        },
        "id": "M9lno9WNzqys",
        "outputId": "3b68e41a-21be-47f8-df3a-9ec36f83c039"
      },
      "execution_count": null,
      "outputs": [
        {
          "output_type": "stream",
          "name": "stdout",
          "text": [
            "Bleu 1:  0.2072011897231873 \n",
            "\n",
            "Bleu 2:  0.1249633793417226 \n",
            "\n",
            "Bleu 3:  0.07832055735265879 \n",
            "\n",
            "Bleu 4:  0.04960810715288198 \n",
            "\n",
            "BestSummary Bleu: (0.2072011897231873, 0.1249633793417226, 0.07832055735265879, 0.04960810715288198)\n"
          ]
        }
      ]
    },
    {
      "cell_type": "code",
      "source": [
        "print('mT5_multilingual_XLSum Bleu:', bleuCorpass('mT5_multilingual_XLSum'))"
      ],
      "metadata": {
        "colab": {
          "base_uri": "https://localhost:8080/"
        },
        "id": "f-34_Jaa0jjl",
        "outputId": "4d5c0804-72e1-47e0-a507-68fdd922d232"
      },
      "execution_count": null,
      "outputs": [
        {
          "output_type": "stream",
          "name": "stdout",
          "text": [
            "Bleu 1:  0.2079067666668448 \n",
            "\n",
            "Bleu 2:  0.12405887669718738 \n",
            "\n",
            "Bleu 3:  0.07651821403186336 \n",
            "\n",
            "Bleu 4:  0.046342228517221265 \n",
            "\n",
            "mT5_multilingual_XLSum Bleu: (0.2079067666668448, 0.12405887669718738, 0.07651821403186336, 0.046342228517221265)\n"
          ]
        }
      ]
    },
    {
      "cell_type": "code",
      "source": [
        "print('mT5_m2m_crossSum Bleu:', bleuCorpass('mT5_m2m_crossSum'))"
      ],
      "metadata": {
        "colab": {
          "base_uri": "https://localhost:8080/"
        },
        "id": "DFzTid__0j37",
        "outputId": "ca0782a4-206e-44e3-da56-65d813f6edb6"
      },
      "execution_count": null,
      "outputs": [
        {
          "output_type": "stream",
          "name": "stdout",
          "text": [
            "Bleu 1:  0.17061776547131732 \n",
            "\n",
            "Bleu 2:  0.08978379701091824 \n",
            "\n",
            "Bleu 3:  0.05025609405136289 \n",
            "\n",
            "Bleu 4:  0.029064600343398306 \n",
            "\n",
            "mT5_m2m_crossSum Bleu: (0.17061776547131732, 0.08978379701091824, 0.05025609405136289, 0.029064600343398306)\n"
          ]
        }
      ]
    },
    {
      "cell_type": "code",
      "source": [
        "print('scibert_scivocab_uncased Bleu:', bleuCorpass('scibert_scivocab_uncased'))"
      ],
      "metadata": {
        "colab": {
          "base_uri": "https://localhost:8080/"
        },
        "id": "ohXn3N5A0kRy",
        "outputId": "9faa8c9a-46c8-4e3a-8d6d-574fd6b44de3"
      },
      "execution_count": null,
      "outputs": [
        {
          "output_type": "stream",
          "name": "stdout",
          "text": [
            "Bleu 1:  0.06753224774853908 \n",
            "\n",
            "Bleu 2:  0.028199948381990036 \n",
            "\n",
            "Bleu 3:  0.01255779616910778 \n",
            "\n",
            "Bleu 4:  0.0064420491453843825 \n",
            "\n",
            "scibert_scivocab_uncased Bleu: (0.06753224774853908, 0.028199948381990036, 0.01255779616910778, 0.0064420491453843825)\n"
          ]
        }
      ]
    },
    {
      "cell_type": "code",
      "source": [
        "print('Bangla_text_summarization Bleu:', bleuCorpass('Bangla_text_summarization'))"
      ],
      "metadata": {
        "colab": {
          "base_uri": "https://localhost:8080/"
        },
        "id": "GU9ungtM0kkH",
        "outputId": "6b86fb27-188b-4362-afa0-536df556878c"
      },
      "execution_count": null,
      "outputs": [
        {
          "output_type": "stream",
          "name": "stdout",
          "text": [
            "Bleu 1:  0.009402649209158856 \n",
            "\n",
            "Bleu 2:  0.0004098776705632275 \n",
            "\n",
            "Bleu 3:  1.13155882530942e-05 \n",
            "\n",
            "Bleu 4:  2.9172129182579076e-82 \n",
            "\n",
            "Bangla_text_summarization Bleu: (0.009402649209158856, 0.0004098776705632275, 1.13155882530942e-05, 2.9172129182579076e-82)\n"
          ]
        }
      ]
    },
    {
      "cell_type": "markdown",
      "source": [
        "##### Dataset II"
      ],
      "metadata": {
        "id": "wsWqSPR156LV"
      }
    },
    {
      "cell_type": "code",
      "source": [
        "import nltk\n",
        "\n",
        "def bleuCorpass(columnName):\n",
        "    ble1score = 0\n",
        "    ble2score = 0\n",
        "    ble3score = 0\n",
        "    ble4score = 0\n",
        "    for i in range(len(bleuData2)):\n",
        "        hypothesis = bleuData2[i][columnName].split()\n",
        "        reference = bleuData2[i]['givenSummary'].split()\n",
        "        references = [reference]\n",
        "        list_of_references = [references]\n",
        "        list_of_hypotheses = [hypothesis]\n",
        "        ble1score = ble1score + nltk.translate.bleu_score.corpus_bleu(list_of_references, list_of_hypotheses, weights=(1, 0, 0, 0))\n",
        "        ble2score = ble2score + nltk.translate.bleu_score.corpus_bleu(list_of_references, list_of_hypotheses, weights=(0.5, 0.5, 0, 0))\n",
        "        ble3score = ble3score + nltk.translate.bleu_score.corpus_bleu(list_of_references, list_of_hypotheses, weights=(0.33, 0.33, 0.33, 0))\n",
        "        ble4score = ble4score + nltk.translate.bleu_score.corpus_bleu(list_of_references, list_of_hypotheses, weights=(0.25, 0.25, 0.25, 0.25))\n",
        "\n",
        "    print(\"Bleu 1: \", ble1score/len(bleuData2),'\\n')\n",
        "    print(\"Bleu 2: \", ble2score/len(bleuData2),'\\n')\n",
        "    print(\"Bleu 3: \", ble3score/len(bleuData2),'\\n')\n",
        "    print(\"Bleu 4: \", ble4score/len(bleuData2),'\\n')\n",
        "\n",
        "    return ble1score/len(bleuData2), ble2score/len(bleuData2), ble3score/len(bleuData2), ble4score/len(bleuData2)"
      ],
      "metadata": {
        "id": "WZ7cLIdi52_1"
      },
      "execution_count": 51,
      "outputs": []
    },
    {
      "cell_type": "code",
      "source": [
        "print('BestSummary Bleu:', bleuCorpass('BestSummary'))"
      ],
      "metadata": {
        "colab": {
          "base_uri": "https://localhost:8080/"
        },
        "id": "Xf59G8Tf6DLY",
        "outputId": "377ac8dd-fdc4-4a41-d6e8-e9c5b3c78327"
      },
      "execution_count": 52,
      "outputs": [
        {
          "output_type": "stream",
          "name": "stderr",
          "text": [
            "/usr/local/lib/python3.10/dist-packages/nltk/translate/bleu_score.py:552: UserWarning: \n",
            "The hypothesis contains 0 counts of 2-gram overlaps.\n",
            "Therefore the BLEU score evaluates to 0, independently of\n",
            "how many N-gram overlaps of lower order it contains.\n",
            "Consider using lower n-gram order or use SmoothingFunction()\n",
            "  warnings.warn(_msg)\n",
            "/usr/local/lib/python3.10/dist-packages/nltk/translate/bleu_score.py:552: UserWarning: \n",
            "The hypothesis contains 0 counts of 3-gram overlaps.\n",
            "Therefore the BLEU score evaluates to 0, independently of\n",
            "how many N-gram overlaps of lower order it contains.\n",
            "Consider using lower n-gram order or use SmoothingFunction()\n",
            "  warnings.warn(_msg)\n",
            "/usr/local/lib/python3.10/dist-packages/nltk/translate/bleu_score.py:552: UserWarning: \n",
            "The hypothesis contains 0 counts of 4-gram overlaps.\n",
            "Therefore the BLEU score evaluates to 0, independently of\n",
            "how many N-gram overlaps of lower order it contains.\n",
            "Consider using lower n-gram order or use SmoothingFunction()\n",
            "  warnings.warn(_msg)\n"
          ]
        },
        {
          "output_type": "stream",
          "name": "stdout",
          "text": [
            "Bleu 1:  0.11599836759192023 \n",
            "\n",
            "Bleu 2:  0.06142107047875497 \n",
            "\n",
            "Bleu 3:  0.030052591294437228 \n",
            "\n",
            "Bleu 4:  0.013096132585451763 \n",
            "\n",
            "BestSummary Bleu: (0.11599836759192023, 0.06142107047875497, 0.030052591294437228, 0.013096132585451763)\n"
          ]
        }
      ]
    },
    {
      "cell_type": "code",
      "source": [
        "print('mT5_multilingual_XLSum Bleu:', bleuCorpass('mT5_multilingual_XLSum'))"
      ],
      "metadata": {
        "colab": {
          "base_uri": "https://localhost:8080/"
        },
        "id": "WJG76q8t6H1-",
        "outputId": "19efe414-e245-42c1-cb70-b36ac1f330f6"
      },
      "execution_count": 53,
      "outputs": [
        {
          "output_type": "stream",
          "name": "stdout",
          "text": [
            "Bleu 1:  0.10648928320364938 \n",
            "\n",
            "Bleu 2:  0.05348993664821628 \n",
            "\n",
            "Bleu 3:  0.025320965020699575 \n",
            "\n",
            "Bleu 4:  0.010857345358434467 \n",
            "\n",
            "mT5_multilingual_XLSum Bleu: (0.10648928320364938, 0.05348993664821628, 0.025320965020699575, 0.010857345358434467)\n"
          ]
        }
      ]
    },
    {
      "cell_type": "code",
      "source": [
        "print('mT5_m2m_crossSum Bleu:', bleuCorpass('mT5_m2m_crossSum'))"
      ],
      "metadata": {
        "colab": {
          "base_uri": "https://localhost:8080/"
        },
        "id": "6fbzlICZ6L3P",
        "outputId": "3e261170-ed59-4e03-fae9-ec3704180629"
      },
      "execution_count": 54,
      "outputs": [
        {
          "output_type": "stream",
          "name": "stdout",
          "text": [
            "Bleu 1:  0.10751919325459025 \n",
            "\n",
            "Bleu 2:  0.05348054229360763 \n",
            "\n",
            "Bleu 3:  0.024818714415685325 \n",
            "\n",
            "Bleu 4:  0.010246745159521096 \n",
            "\n",
            "mT5_m2m_crossSum Bleu: (0.10751919325459025, 0.05348054229360763, 0.024818714415685325, 0.010246745159521096)\n"
          ]
        }
      ]
    },
    {
      "cell_type": "code",
      "source": [
        "print('scibert_scivocab_uncased Bleu:', bleuCorpass('scibert_scivocab_uncased'))"
      ],
      "metadata": {
        "colab": {
          "base_uri": "https://localhost:8080/"
        },
        "id": "vrpCSb9L6RhN",
        "outputId": "659f5641-3152-44b9-c70d-6f460b81d2a5"
      },
      "execution_count": 55,
      "outputs": [
        {
          "output_type": "stream",
          "name": "stdout",
          "text": [
            "Bleu 1:  0.07261220861516882 \n",
            "\n",
            "Bleu 2:  0.039828085253648234 \n",
            "\n",
            "Bleu 3:  0.02004732165851196 \n",
            "\n",
            "Bleu 4:  0.008976753327318574 \n",
            "\n",
            "scibert_scivocab_uncased Bleu: (0.07261220861516882, 0.039828085253648234, 0.02004732165851196, 0.008976753327318574)\n"
          ]
        }
      ]
    },
    {
      "cell_type": "code",
      "source": [
        "print('Bangla_text_summarization Bleu:', bleuCorpass('Bangla_text_summarization'))"
      ],
      "metadata": {
        "colab": {
          "base_uri": "https://localhost:8080/"
        },
        "id": "Ic2H3uBY6Wpk",
        "outputId": "1df03c5d-e839-4efe-a0bc-4b1e4b539af2"
      },
      "execution_count": 56,
      "outputs": [
        {
          "output_type": "stream",
          "name": "stdout",
          "text": [
            "Bleu 1:  0.01793002366730771 \n",
            "\n",
            "Bleu 2:  0.0038345429360676026 \n",
            "\n",
            "Bleu 3:  0.0009261355853229585 \n",
            "\n",
            "Bleu 4:  0.00019657169655747572 \n",
            "\n",
            "Bangla_text_summarization Bleu: (0.01793002366730771, 0.0038345429360676026, 0.0009261355853229585, 0.00019657169655747572)\n"
          ]
        }
      ]
    },
    {
      "cell_type": "markdown",
      "source": [
        "## bertscore"
      ],
      "metadata": {
        "id": "C4YmWHdQtHB5"
      }
    },
    {
      "cell_type": "markdown",
      "source": [
        "#### bertscore Calculation Row Wise"
      ],
      "metadata": {
        "id": "sU-N34kawZvs"
      }
    },
    {
      "cell_type": "code",
      "source": [
        "!pip install evaluate"
      ],
      "metadata": {
        "colab": {
          "base_uri": "https://localhost:8080/"
        },
        "id": "OoyRmks2vhIa",
        "outputId": "d8033154-c9d9-4221-bfcd-c693ee5f64f2"
      },
      "execution_count": 57,
      "outputs": [
        {
          "output_type": "stream",
          "name": "stdout",
          "text": [
            "Collecting evaluate\n",
            "  Downloading evaluate-0.4.0-py3-none-any.whl (81 kB)\n",
            "\u001b[?25l     \u001b[90m━━━━━━━━━━━━━━━━━━━━━━━━━━━━━━━━━━━━━━━━\u001b[0m \u001b[32m0.0/81.4 kB\u001b[0m \u001b[31m?\u001b[0m eta \u001b[36m-:--:--\u001b[0m\r\u001b[2K     \u001b[90m━━━━━━━━━━━━━━━━━━━━━━━━━━━━━━━━━━━━━━━━\u001b[0m \u001b[32m81.4/81.4 kB\u001b[0m \u001b[31m3.3 MB/s\u001b[0m eta \u001b[36m0:00:00\u001b[0m\n",
            "\u001b[?25hCollecting datasets>=2.0.0 (from evaluate)\n",
            "  Downloading datasets-2.13.1-py3-none-any.whl (486 kB)\n",
            "\u001b[2K     \u001b[90m━━━━━━━━━━━━━━━━━━━━━━━━━━━━━━━━━━━━━━\u001b[0m \u001b[32m486.2/486.2 kB\u001b[0m \u001b[31m15.3 MB/s\u001b[0m eta \u001b[36m0:00:00\u001b[0m\n",
            "\u001b[?25hRequirement already satisfied: numpy>=1.17 in /usr/local/lib/python3.10/dist-packages (from evaluate) (1.22.4)\n",
            "Collecting dill (from evaluate)\n",
            "  Downloading dill-0.3.6-py3-none-any.whl (110 kB)\n",
            "\u001b[2K     \u001b[90m━━━━━━━━━━━━━━━━━━━━━━━━━━━━━━━━━━━━━━\u001b[0m \u001b[32m110.5/110.5 kB\u001b[0m \u001b[31m13.0 MB/s\u001b[0m eta \u001b[36m0:00:00\u001b[0m\n",
            "\u001b[?25hRequirement already satisfied: pandas in /usr/local/lib/python3.10/dist-packages (from evaluate) (1.5.3)\n",
            "Requirement already satisfied: requests>=2.19.0 in /usr/local/lib/python3.10/dist-packages (from evaluate) (2.27.1)\n",
            "Requirement already satisfied: tqdm>=4.62.1 in /usr/local/lib/python3.10/dist-packages (from evaluate) (4.65.0)\n",
            "Collecting xxhash (from evaluate)\n",
            "  Downloading xxhash-3.2.0-cp310-cp310-manylinux_2_17_x86_64.manylinux2014_x86_64.whl (212 kB)\n",
            "\u001b[2K     \u001b[90m━━━━━━━━━━━━━━━━━━━━━━━━━━━━━━━━━━━━━━\u001b[0m \u001b[32m212.5/212.5 kB\u001b[0m \u001b[31m23.7 MB/s\u001b[0m eta \u001b[36m0:00:00\u001b[0m\n",
            "\u001b[?25hCollecting multiprocess (from evaluate)\n",
            "  Downloading multiprocess-0.70.14-py310-none-any.whl (134 kB)\n",
            "\u001b[2K     \u001b[90m━━━━━━━━━━━━━━━━━━━━━━━━━━━━━━━━━━━━━━\u001b[0m \u001b[32m134.3/134.3 kB\u001b[0m \u001b[31m16.3 MB/s\u001b[0m eta \u001b[36m0:00:00\u001b[0m\n",
            "\u001b[?25hRequirement already satisfied: fsspec[http]>=2021.05.0 in /usr/local/lib/python3.10/dist-packages (from evaluate) (2023.6.0)\n",
            "Requirement already satisfied: huggingface-hub>=0.7.0 in /usr/local/lib/python3.10/dist-packages (from evaluate) (0.16.4)\n",
            "Requirement already satisfied: packaging in /usr/local/lib/python3.10/dist-packages (from evaluate) (23.1)\n",
            "Collecting responses<0.19 (from evaluate)\n",
            "  Downloading responses-0.18.0-py3-none-any.whl (38 kB)\n",
            "Requirement already satisfied: pyarrow>=8.0.0 in /usr/local/lib/python3.10/dist-packages (from datasets>=2.0.0->evaluate) (9.0.0)\n",
            "Requirement already satisfied: aiohttp in /usr/local/lib/python3.10/dist-packages (from datasets>=2.0.0->evaluate) (3.8.4)\n",
            "Requirement already satisfied: pyyaml>=5.1 in /usr/local/lib/python3.10/dist-packages (from datasets>=2.0.0->evaluate) (6.0)\n",
            "Requirement already satisfied: filelock in /usr/local/lib/python3.10/dist-packages (from huggingface-hub>=0.7.0->evaluate) (3.12.2)\n",
            "Requirement already satisfied: typing-extensions>=3.7.4.3 in /usr/local/lib/python3.10/dist-packages (from huggingface-hub>=0.7.0->evaluate) (4.7.1)\n",
            "Requirement already satisfied: urllib3<1.27,>=1.21.1 in /usr/local/lib/python3.10/dist-packages (from requests>=2.19.0->evaluate) (1.26.16)\n",
            "Requirement already satisfied: certifi>=2017.4.17 in /usr/local/lib/python3.10/dist-packages (from requests>=2.19.0->evaluate) (2023.5.7)\n",
            "Requirement already satisfied: charset-normalizer~=2.0.0 in /usr/local/lib/python3.10/dist-packages (from requests>=2.19.0->evaluate) (2.0.12)\n",
            "Requirement already satisfied: idna<4,>=2.5 in /usr/local/lib/python3.10/dist-packages (from requests>=2.19.0->evaluate) (3.4)\n",
            "Requirement already satisfied: python-dateutil>=2.8.1 in /usr/local/lib/python3.10/dist-packages (from pandas->evaluate) (2.8.2)\n",
            "Requirement already satisfied: pytz>=2020.1 in /usr/local/lib/python3.10/dist-packages (from pandas->evaluate) (2022.7.1)\n",
            "Requirement already satisfied: attrs>=17.3.0 in /usr/local/lib/python3.10/dist-packages (from aiohttp->datasets>=2.0.0->evaluate) (23.1.0)\n",
            "Requirement already satisfied: multidict<7.0,>=4.5 in /usr/local/lib/python3.10/dist-packages (from aiohttp->datasets>=2.0.0->evaluate) (6.0.4)\n",
            "Requirement already satisfied: async-timeout<5.0,>=4.0.0a3 in /usr/local/lib/python3.10/dist-packages (from aiohttp->datasets>=2.0.0->evaluate) (4.0.2)\n",
            "Requirement already satisfied: yarl<2.0,>=1.0 in /usr/local/lib/python3.10/dist-packages (from aiohttp->datasets>=2.0.0->evaluate) (1.9.2)\n",
            "Requirement already satisfied: frozenlist>=1.1.1 in /usr/local/lib/python3.10/dist-packages (from aiohttp->datasets>=2.0.0->evaluate) (1.3.3)\n",
            "Requirement already satisfied: aiosignal>=1.1.2 in /usr/local/lib/python3.10/dist-packages (from aiohttp->datasets>=2.0.0->evaluate) (1.3.1)\n",
            "Requirement already satisfied: six>=1.5 in /usr/local/lib/python3.10/dist-packages (from python-dateutil>=2.8.1->pandas->evaluate) (1.16.0)\n",
            "Installing collected packages: xxhash, dill, responses, multiprocess, datasets, evaluate\n",
            "Successfully installed datasets-2.13.1 dill-0.3.6 evaluate-0.4.0 multiprocess-0.70.14 responses-0.18.0 xxhash-3.2.0\n"
          ]
        }
      ]
    },
    {
      "cell_type": "code",
      "source": [
        "!pip install bert_score"
      ],
      "metadata": {
        "colab": {
          "base_uri": "https://localhost:8080/"
        },
        "id": "kioXAG3Z7NxB",
        "outputId": "7c9a7673-e730-4bf5-c275-9b78f930c36a"
      },
      "execution_count": 59,
      "outputs": [
        {
          "output_type": "stream",
          "name": "stdout",
          "text": [
            "Collecting bert_score\n",
            "  Downloading bert_score-0.3.13-py3-none-any.whl (61 kB)\n",
            "\u001b[?25l     \u001b[90m━━━━━━━━━━━━━━━━━━━━━━━━━━━━━━━━━━━━━━━━\u001b[0m \u001b[32m0.0/61.1 kB\u001b[0m \u001b[31m?\u001b[0m eta \u001b[36m-:--:--\u001b[0m\r\u001b[2K     \u001b[90m━━━━━━━━━━━━━━━━━━━━━━━━━━━━━━━━━━━━━━━━\u001b[0m \u001b[32m61.1/61.1 kB\u001b[0m \u001b[31m2.1 MB/s\u001b[0m eta \u001b[36m0:00:00\u001b[0m\n",
            "\u001b[?25hRequirement already satisfied: torch>=1.0.0 in /usr/local/lib/python3.10/dist-packages (from bert_score) (2.0.1+cu118)\n",
            "Requirement already satisfied: pandas>=1.0.1 in /usr/local/lib/python3.10/dist-packages (from bert_score) (1.5.3)\n",
            "Requirement already satisfied: transformers>=3.0.0 in /usr/local/lib/python3.10/dist-packages (from bert_score) (4.30.2)\n",
            "Requirement already satisfied: numpy in /usr/local/lib/python3.10/dist-packages (from bert_score) (1.22.4)\n",
            "Requirement already satisfied: requests in /usr/local/lib/python3.10/dist-packages (from bert_score) (2.27.1)\n",
            "Requirement already satisfied: tqdm>=4.31.1 in /usr/local/lib/python3.10/dist-packages (from bert_score) (4.65.0)\n",
            "Requirement already satisfied: matplotlib in /usr/local/lib/python3.10/dist-packages (from bert_score) (3.7.1)\n",
            "Requirement already satisfied: packaging>=20.9 in /usr/local/lib/python3.10/dist-packages (from bert_score) (23.1)\n",
            "Requirement already satisfied: python-dateutil>=2.8.1 in /usr/local/lib/python3.10/dist-packages (from pandas>=1.0.1->bert_score) (2.8.2)\n",
            "Requirement already satisfied: pytz>=2020.1 in /usr/local/lib/python3.10/dist-packages (from pandas>=1.0.1->bert_score) (2022.7.1)\n",
            "Requirement already satisfied: filelock in /usr/local/lib/python3.10/dist-packages (from torch>=1.0.0->bert_score) (3.12.2)\n",
            "Requirement already satisfied: typing-extensions in /usr/local/lib/python3.10/dist-packages (from torch>=1.0.0->bert_score) (4.7.1)\n",
            "Requirement already satisfied: sympy in /usr/local/lib/python3.10/dist-packages (from torch>=1.0.0->bert_score) (1.11.1)\n",
            "Requirement already satisfied: networkx in /usr/local/lib/python3.10/dist-packages (from torch>=1.0.0->bert_score) (2.6.3)\n",
            "Requirement already satisfied: jinja2 in /usr/local/lib/python3.10/dist-packages (from torch>=1.0.0->bert_score) (3.1.2)\n",
            "Requirement already satisfied: triton==2.0.0 in /usr/local/lib/python3.10/dist-packages (from torch>=1.0.0->bert_score) (2.0.0)\n",
            "Requirement already satisfied: cmake in /usr/local/lib/python3.10/dist-packages (from triton==2.0.0->torch>=1.0.0->bert_score) (3.25.2)\n",
            "Requirement already satisfied: lit in /usr/local/lib/python3.10/dist-packages (from triton==2.0.0->torch>=1.0.0->bert_score) (16.0.6)\n",
            "Requirement already satisfied: huggingface-hub<1.0,>=0.14.1 in /usr/local/lib/python3.10/dist-packages (from transformers>=3.0.0->bert_score) (0.16.4)\n",
            "Requirement already satisfied: pyyaml>=5.1 in /usr/local/lib/python3.10/dist-packages (from transformers>=3.0.0->bert_score) (6.0)\n",
            "Requirement already satisfied: regex!=2019.12.17 in /usr/local/lib/python3.10/dist-packages (from transformers>=3.0.0->bert_score) (2022.10.31)\n",
            "Requirement already satisfied: tokenizers!=0.11.3,<0.14,>=0.11.1 in /usr/local/lib/python3.10/dist-packages (from transformers>=3.0.0->bert_score) (0.13.3)\n",
            "Requirement already satisfied: safetensors>=0.3.1 in /usr/local/lib/python3.10/dist-packages (from transformers>=3.0.0->bert_score) (0.3.1)\n",
            "Requirement already satisfied: contourpy>=1.0.1 in /usr/local/lib/python3.10/dist-packages (from matplotlib->bert_score) (1.1.0)\n",
            "Requirement already satisfied: cycler>=0.10 in /usr/local/lib/python3.10/dist-packages (from matplotlib->bert_score) (0.11.0)\n",
            "Requirement already satisfied: fonttools>=4.22.0 in /usr/local/lib/python3.10/dist-packages (from matplotlib->bert_score) (4.40.0)\n",
            "Requirement already satisfied: kiwisolver>=1.0.1 in /usr/local/lib/python3.10/dist-packages (from matplotlib->bert_score) (1.4.4)\n",
            "Requirement already satisfied: pillow>=6.2.0 in /usr/local/lib/python3.10/dist-packages (from matplotlib->bert_score) (8.4.0)\n",
            "Requirement already satisfied: pyparsing>=2.3.1 in /usr/local/lib/python3.10/dist-packages (from matplotlib->bert_score) (3.1.0)\n",
            "Requirement already satisfied: urllib3<1.27,>=1.21.1 in /usr/local/lib/python3.10/dist-packages (from requests->bert_score) (1.26.16)\n",
            "Requirement already satisfied: certifi>=2017.4.17 in /usr/local/lib/python3.10/dist-packages (from requests->bert_score) (2023.5.7)\n",
            "Requirement already satisfied: charset-normalizer~=2.0.0 in /usr/local/lib/python3.10/dist-packages (from requests->bert_score) (2.0.12)\n",
            "Requirement already satisfied: idna<4,>=2.5 in /usr/local/lib/python3.10/dist-packages (from requests->bert_score) (3.4)\n",
            "Requirement already satisfied: fsspec in /usr/local/lib/python3.10/dist-packages (from huggingface-hub<1.0,>=0.14.1->transformers>=3.0.0->bert_score) (2023.6.0)\n",
            "Requirement already satisfied: six>=1.5 in /usr/local/lib/python3.10/dist-packages (from python-dateutil>=2.8.1->pandas>=1.0.1->bert_score) (1.16.0)\n",
            "Requirement already satisfied: MarkupSafe>=2.0 in /usr/local/lib/python3.10/dist-packages (from jinja2->torch>=1.0.0->bert_score) (2.1.3)\n",
            "Requirement already satisfied: mpmath>=0.19 in /usr/local/lib/python3.10/dist-packages (from sympy->torch>=1.0.0->bert_score) (1.3.0)\n",
            "Installing collected packages: bert_score\n",
            "Successfully installed bert_score-0.3.13\n"
          ]
        }
      ]
    },
    {
      "cell_type": "code",
      "source": [
        "from evaluate import load\n",
        "bertscore = load(\"bertscore\")"
      ],
      "metadata": {
        "id": "MiUSgiL0vfIH"
      },
      "execution_count": 60,
      "outputs": []
    },
    {
      "cell_type": "code",
      "source": [
        "predictions = [\"ভ্লাদিমির পুতিন তাঁর ক্ষমতায় থাকার ২০ বছর পূর্ণ করতে যাচ্ছেন।\"]\n",
        "references = [\"রাশিয়ার প্রেসিডেন্ট ভ্লাদিমির পুতিন তাঁর ক্ষমতায় থাকার ২০ বছর পূর্ণ করতে যাচ্ছেন।\"]\n",
        "results = bertscore.compute(predictions=predictions, references=references, lang=\"bn\")\n",
        "results"
      ],
      "metadata": {
        "colab": {
          "base_uri": "https://localhost:8080/",
          "height": 214,
          "referenced_widgets": [
            "0e540ed57cc7485eb520fbbdaaeacf7f",
            "60cf3ab82c064067bcb0b680b54c5957",
            "c8e98b1f6ae74a66b7a62b4a5aa4ee65",
            "7333230c08ef4bd0888101adde66b35b",
            "ade5aeb4935f48c5ba53871c3c684884",
            "03550136eddc4732824be259c363f12f",
            "07e2f0c9a6484ef7b3f7df8ac2dfc894",
            "548c61cf5a864a0a8484d05782bb29b7",
            "317acbb91264455282429ff56b303ddd",
            "60fc7441a58140fca8a2853f43bf24ee",
            "7bacb3fc03924a09bffe9e603b1d3b35",
            "1e0c398edcb445949a9aa34232f7d274",
            "6b39048722084e14b607184340f875df",
            "79561c711e214da1b677e28556a9a743",
            "dc5b750dd9b643cea6bc5e778162045a",
            "d89bc4faa0f649bea6043427d0754df9",
            "3a29047098234d93a6cb660b3e64d7bb",
            "941ad181f62a4e99ba3c13a7e1dbf3b8",
            "7899042fec96485c8c5115d7c15b2fe1",
            "fb12b013ec62451d9e8c99e665b0b50a",
            "49862b7e0dbe4b41a92f48ddf60c1685",
            "08156461c9fb4d808da1f7afa6f2185c",
            "980dcf29658a4441be5f1ca8e576d11c",
            "a315e921099e4330a2e8959a2e88ce93",
            "39c0b3bb62a74b168ede7a6d650ab429",
            "5898783559c3427b9b65070fa17c5c0a",
            "d50fae0ca14d4d619af51c10f8091a8a",
            "7ce5535e97704387973a01d2ce841855",
            "c98c8bd27c0f44949728dc5ee7d2e1a3",
            "a8ddadb65694412182054c924643a518",
            "4b692896d83c446ab4e5c1b55f730736",
            "a6f851a4ffe643bba0f9f164a9c48130",
            "2bcedbb1da8a4d10bcc31c2d97f9ccd6",
            "7fb55ca1e94a4348bad867a423c90329",
            "b5df13bf9f454d4984e7dca40de5497b",
            "21f87c0a659e4b70ab14db4deb47919d",
            "caa0bf25f57f42a1a7acef4a12d4248d",
            "303777af495d42b2a8f9cfd91e8d9998",
            "512590b9d4564d2e89a692fe158dc32f",
            "9f2a40534e424b5186d3fd68b3830d6e",
            "512df821fae64f75ab850b75abb7dc4b",
            "4850efa0c8b544ccb7a376ee0dc9b25b",
            "6cbdd1b34dc7425797a5138af2f192e9",
            "a8986721d15344bfb7518daf53985f83"
          ]
        },
        "id": "tGVVAKA4vr3p",
        "outputId": "0990b906-bee1-46ad-8682-d668d413bfc7"
      },
      "execution_count": 61,
      "outputs": [
        {
          "output_type": "display_data",
          "data": {
            "text/plain": [
              "Downloading (…)okenizer_config.json:   0%|          | 0.00/29.0 [00:00<?, ?B/s]"
            ],
            "application/vnd.jupyter.widget-view+json": {
              "version_major": 2,
              "version_minor": 0,
              "model_id": "0e540ed57cc7485eb520fbbdaaeacf7f"
            }
          },
          "metadata": {}
        },
        {
          "output_type": "display_data",
          "data": {
            "text/plain": [
              "Downloading (…)lve/main/config.json:   0%|          | 0.00/625 [00:00<?, ?B/s]"
            ],
            "application/vnd.jupyter.widget-view+json": {
              "version_major": 2,
              "version_minor": 0,
              "model_id": "1e0c398edcb445949a9aa34232f7d274"
            }
          },
          "metadata": {}
        },
        {
          "output_type": "display_data",
          "data": {
            "text/plain": [
              "Downloading (…)solve/main/vocab.txt:   0%|          | 0.00/996k [00:00<?, ?B/s]"
            ],
            "application/vnd.jupyter.widget-view+json": {
              "version_major": 2,
              "version_minor": 0,
              "model_id": "980dcf29658a4441be5f1ca8e576d11c"
            }
          },
          "metadata": {}
        },
        {
          "output_type": "display_data",
          "data": {
            "text/plain": [
              "Downloading model.safetensors:   0%|          | 0.00/714M [00:00<?, ?B/s]"
            ],
            "application/vnd.jupyter.widget-view+json": {
              "version_major": 2,
              "version_minor": 0,
              "model_id": "7fb55ca1e94a4348bad867a423c90329"
            }
          },
          "metadata": {}
        },
        {
          "output_type": "execute_result",
          "data": {
            "text/plain": [
              "{'precision': [0.9533112049102783],\n",
              " 'recall': [0.8764463067054749],\n",
              " 'f1': [0.9132643342018127],\n",
              " 'hashcode': 'bert-base-multilingual-cased_L9_no-idf_version=0.3.12(hug_trans=4.30.2)'}"
            ]
          },
          "metadata": {},
          "execution_count": 61
        }
      ]
    },
    {
      "cell_type": "code",
      "source": [
        "results['precision'][0]"
      ],
      "metadata": {
        "colab": {
          "base_uri": "https://localhost:8080/"
        },
        "id": "XK1lM2tsw0Kd",
        "outputId": "b03741b1-ee9e-4a41-f7b2-626b75f9a6f5"
      },
      "execution_count": 62,
      "outputs": [
        {
          "output_type": "execute_result",
          "data": {
            "text/plain": [
              "0.9533112049102783"
            ]
          },
          "metadata": {},
          "execution_count": 62
        }
      ]
    },
    {
      "cell_type": "code",
      "source": [
        "import sys\n",
        "print(sys.getrecursionlimit())\n",
        "sys.setrecursionlimit(8200)\n",
        "print(sys.getrecursionlimit())\n",
        "\n",
        "import os\n",
        "import json\n",
        "from csv import DictReader"
      ],
      "metadata": {
        "colab": {
          "base_uri": "https://localhost:8080/"
        },
        "outputId": "bb28fcac-9796-4b3f-cb01-8e2c9eda8fb8",
        "id": "dpXTLiwiwZvx"
      },
      "execution_count": 63,
      "outputs": [
        {
          "output_type": "stream",
          "name": "stdout",
          "text": [
            "8200\n",
            "8200\n"
          ]
        }
      ]
    },
    {
      "cell_type": "code",
      "source": [
        "def save_file_at_dir(dir_path, filename, file_content, mode='w'):\n",
        "    os.makedirs(dir_path, exist_ok=True)\n",
        "    with open(os.path.join(dir_path, filename), mode) as f:\n",
        "        f.write(file_content)"
      ],
      "metadata": {
        "id": "pl_EP2BgwZvx"
      },
      "execution_count": 64,
      "outputs": []
    },
    {
      "cell_type": "markdown",
      "source": [
        "##### BERT Comparing with Given Text"
      ],
      "metadata": {
        "id": "YrZrZj05wZvx"
      }
    },
    {
      "cell_type": "code",
      "source": [
        "def bertScore(columnName):\n",
        "    SummaryEv = finalDF.filter(['text', columnName], axis=1)\n",
        "\n",
        "    lenS = SummaryEv.shape[0]\n",
        "    bert_precision = 0\n",
        "    bert_recall = 0\n",
        "    bert_f1 = 0\n",
        "\n",
        "    for i in range(lenS):\n",
        "        results = bertscore.compute(predictions=[SummaryEv[columnName][i]], references=[SummaryEv['text'][i]], lang=\"bn\")\n",
        "\n",
        "        bert_precision = bert_precision + results['precision'][0]\n",
        "        bert_recall = bert_recall + results['recall'][0]\n",
        "        bert_f1 = bert_f1 + results['f1'][0]\n",
        "\n",
        "    bert_score = {'precision': bert_precision/lenS,\n",
        "                    'recall': bert_recall/lenS,\n",
        "                    'f1': bert_f1/lenS}\n",
        "    return bert_score"
      ],
      "metadata": {
        "id": "f0lsgiA6wZvx"
      },
      "execution_count": null,
      "outputs": []
    },
    {
      "cell_type": "code",
      "source": [
        "gs = bertScore('givenSummary')\n",
        "gs"
      ],
      "metadata": {
        "colab": {
          "base_uri": "https://localhost:8080/"
        },
        "outputId": "0287a940-3edd-4064-a31b-0c1d0d88c567",
        "id": "ZOPye7aPwZvy"
      },
      "execution_count": null,
      "outputs": [
        {
          "output_type": "execute_result",
          "data": {
            "text/plain": [
              "{'precision': 0.7362635335313689,\n",
              " 'recall': 0.6200163426795908,\n",
              " 'f1': 0.6728137666738878}"
            ]
          },
          "metadata": {},
          "execution_count": 112
        }
      ]
    },
    {
      "cell_type": "code",
      "source": [
        "bs = bertScore('BestSummary')\n",
        "bs"
      ],
      "metadata": {
        "colab": {
          "base_uri": "https://localhost:8080/"
        },
        "outputId": "ca0bfe02-b087-4602-dbe1-9a4ae12d7b6d",
        "id": "bBWPkG7FwZvy"
      },
      "execution_count": null,
      "outputs": [
        {
          "output_type": "execute_result",
          "data": {
            "text/plain": [
              "{'precision': 0.7943252843563953,\n",
              " 'recall': 0.663861165471031,\n",
              " 'f1': 0.7225260016977625}"
            ]
          },
          "metadata": {},
          "execution_count": 113
        }
      ]
    },
    {
      "cell_type": "code",
      "source": [
        "mx = bertScore('mT5_multilingual_XLSum')\n",
        "mx"
      ],
      "metadata": {
        "colab": {
          "base_uri": "https://localhost:8080/"
        },
        "outputId": "625d9d73-9e9f-40da-9182-3aa6c4467bf1",
        "id": "xfs5ZrsywZvy"
      },
      "execution_count": null,
      "outputs": [
        {
          "output_type": "execute_result",
          "data": {
            "text/plain": [
              "{'precision': 0.7981327591016539,\n",
              " 'recall': 0.6494891772635688,\n",
              " 'f1': 0.7159707436250246}"
            ]
          },
          "metadata": {},
          "execution_count": 114
        }
      ]
    },
    {
      "cell_type": "code",
      "source": [
        "mc = bertScore('mT5_m2m_crossSum')\n",
        "mc"
      ],
      "metadata": {
        "colab": {
          "base_uri": "https://localhost:8080/"
        },
        "outputId": "9447c287-463e-4990-b6c8-cab5d520331a",
        "id": "3FthqR1AwZvy"
      },
      "execution_count": null,
      "outputs": [
        {
          "output_type": "execute_result",
          "data": {
            "text/plain": [
              "{'precision': 0.7870802241647664,\n",
              " 'recall': 0.6452626567642001,\n",
              " 'f1': 0.7089076689057102}"
            ]
          },
          "metadata": {},
          "execution_count": 115
        }
      ]
    },
    {
      "cell_type": "code",
      "source": [
        "sci = bertScore('scibert_scivocab_uncased')\n",
        "sci"
      ],
      "metadata": {
        "colab": {
          "base_uri": "https://localhost:8080/"
        },
        "outputId": "e7e869c9-3b62-467b-9e57-59f1caa8b7b6",
        "id": "-ri0DOiuwZvy"
      },
      "execution_count": null,
      "outputs": [
        {
          "output_type": "execute_result",
          "data": {
            "text/plain": [
              "{'precision': 0.8143223098577378,\n",
              " 'recall': 0.7502343626603231,\n",
              " 'f1': 0.7798068429460882}"
            ]
          },
          "metadata": {},
          "execution_count": 116
        }
      ]
    },
    {
      "cell_type": "code",
      "source": [
        "bts = bertScore('Bangla_text_summarization')\n",
        "bts"
      ],
      "metadata": {
        "colab": {
          "base_uri": "https://localhost:8080/"
        },
        "outputId": "be6ae7df-1324-4de6-cc7d-24ee77b4c96b",
        "id": "JP7QxRjTwZvy"
      },
      "execution_count": null,
      "outputs": [
        {
          "output_type": "execute_result",
          "data": {
            "text/plain": [
              "{'precision': 0.6489181624639478,\n",
              " 'recall': 0.6035106969126888,\n",
              " 'f1': 0.6253401173747224}"
            ]
          },
          "metadata": {},
          "execution_count": 117
        }
      ]
    },
    {
      "cell_type": "code",
      "source": [
        "bts['precision']"
      ],
      "metadata": {
        "colab": {
          "base_uri": "https://localhost:8080/"
        },
        "id": "niUnp5HMDopX",
        "outputId": "89e5eec4-cd1f-47b7-ab50-b06d7c820643"
      },
      "execution_count": null,
      "outputs": [
        {
          "output_type": "execute_result",
          "data": {
            "text/plain": [
              "0.6489181624639478"
            ]
          },
          "metadata": {},
          "execution_count": 122
        }
      ]
    },
    {
      "cell_type": "code",
      "source": [
        "def getScore(m, x):\n",
        "    strs = x\n",
        "    return m[strs]"
      ],
      "metadata": {
        "id": "nrbdtWZY2qeC"
      },
      "execution_count": null,
      "outputs": []
    },
    {
      "cell_type": "code",
      "source": [
        "import pandas as pd\n",
        "\n",
        "data = {'columns':['bert_precision', 'bert_recall', 'bert_f1'],\n",
        "        'givenSummary':[getScore(gs, 'precision'), getScore(gs, 'recall'), getScore(gs, 'f1')],\n",
        "        'BestSummary':[getScore(bs, 'precision'), getScore(bs, 'recall'), getScore(bs, 'f1')],\n",
        "        'mT5_multilingual_XLSum':[getScore(mx, 'precision'), getScore(mx, 'recall'), getScore(mx, 'f1')],\n",
        "        'mT5_m2m_crossSum':[getScore(mc, 'precision'), getScore(mc, 'recall'), getScore(mc, 'f1')],\n",
        "        'scibert_scivocab_uncased':[getScore(sci, 'precision'), getScore(sci, 'recall'), getScore(sci, 'f1')],\n",
        "        'Bangla_text_summarization':[getScore(bts, 'precision'), getScore(bts, 'recall'), getScore(bts, 'f1')]}\n",
        "\n",
        "bertScoreDf = pd.DataFrame(data)\n",
        "bertScoreDf_ = bertScoreDf\n",
        "bertScoreDf = bertScoreDf.reset_index(drop=True).T\n",
        "bertScoreDf = bertScoreDf.rename(columns=bertScoreDf.iloc[0]).drop(bertScoreDf.index[0])\n",
        "bertScoreDf.reset_index(inplace=True)\n",
        "bertScoreDf = bertScoreDf.rename(columns = {'index':'Summary'})\n",
        "bertScoreDf"
      ],
      "metadata": {
        "colab": {
          "base_uri": "https://localhost:8080/",
          "height": 237
        },
        "outputId": "70408501-dd87-4d6c-a011-a48f2cd4b98f",
        "id": "vTGFj8FZwZvy"
      },
      "execution_count": null,
      "outputs": [
        {
          "output_type": "execute_result",
          "data": {
            "text/plain": [
              "                     Summary bert_precision bert_recall   bert_f1\n",
              "0               givenSummary       0.736264    0.620016  0.672814\n",
              "1                BestSummary       0.794325    0.663861  0.722526\n",
              "2     mT5_multilingual_XLSum       0.798133    0.649489  0.715971\n",
              "3           mT5_m2m_crossSum        0.78708    0.645263  0.708908\n",
              "4   scibert_scivocab_uncased       0.814322    0.750234  0.779807\n",
              "5  Bangla_text_summarization       0.648918    0.603511   0.62534"
            ],
            "text/html": [
              "\n",
              "  <div id=\"df-20aa19a4-fc39-4c66-9722-f26c26c1f021\">\n",
              "    <div class=\"colab-df-container\">\n",
              "      <div>\n",
              "<style scoped>\n",
              "    .dataframe tbody tr th:only-of-type {\n",
              "        vertical-align: middle;\n",
              "    }\n",
              "\n",
              "    .dataframe tbody tr th {\n",
              "        vertical-align: top;\n",
              "    }\n",
              "\n",
              "    .dataframe thead th {\n",
              "        text-align: right;\n",
              "    }\n",
              "</style>\n",
              "<table border=\"1\" class=\"dataframe\">\n",
              "  <thead>\n",
              "    <tr style=\"text-align: right;\">\n",
              "      <th></th>\n",
              "      <th>Summary</th>\n",
              "      <th>bert_precision</th>\n",
              "      <th>bert_recall</th>\n",
              "      <th>bert_f1</th>\n",
              "    </tr>\n",
              "  </thead>\n",
              "  <tbody>\n",
              "    <tr>\n",
              "      <th>0</th>\n",
              "      <td>givenSummary</td>\n",
              "      <td>0.736264</td>\n",
              "      <td>0.620016</td>\n",
              "      <td>0.672814</td>\n",
              "    </tr>\n",
              "    <tr>\n",
              "      <th>1</th>\n",
              "      <td>BestSummary</td>\n",
              "      <td>0.794325</td>\n",
              "      <td>0.663861</td>\n",
              "      <td>0.722526</td>\n",
              "    </tr>\n",
              "    <tr>\n",
              "      <th>2</th>\n",
              "      <td>mT5_multilingual_XLSum</td>\n",
              "      <td>0.798133</td>\n",
              "      <td>0.649489</td>\n",
              "      <td>0.715971</td>\n",
              "    </tr>\n",
              "    <tr>\n",
              "      <th>3</th>\n",
              "      <td>mT5_m2m_crossSum</td>\n",
              "      <td>0.78708</td>\n",
              "      <td>0.645263</td>\n",
              "      <td>0.708908</td>\n",
              "    </tr>\n",
              "    <tr>\n",
              "      <th>4</th>\n",
              "      <td>scibert_scivocab_uncased</td>\n",
              "      <td>0.814322</td>\n",
              "      <td>0.750234</td>\n",
              "      <td>0.779807</td>\n",
              "    </tr>\n",
              "    <tr>\n",
              "      <th>5</th>\n",
              "      <td>Bangla_text_summarization</td>\n",
              "      <td>0.648918</td>\n",
              "      <td>0.603511</td>\n",
              "      <td>0.62534</td>\n",
              "    </tr>\n",
              "  </tbody>\n",
              "</table>\n",
              "</div>\n",
              "      <button class=\"colab-df-convert\" onclick=\"convertToInteractive('df-20aa19a4-fc39-4c66-9722-f26c26c1f021')\"\n",
              "              title=\"Convert this dataframe to an interactive table.\"\n",
              "              style=\"display:none;\">\n",
              "        \n",
              "  <svg xmlns=\"http://www.w3.org/2000/svg\" height=\"24px\"viewBox=\"0 0 24 24\"\n",
              "       width=\"24px\">\n",
              "    <path d=\"M0 0h24v24H0V0z\" fill=\"none\"/>\n",
              "    <path d=\"M18.56 5.44l.94 2.06.94-2.06 2.06-.94-2.06-.94-.94-2.06-.94 2.06-2.06.94zm-11 1L8.5 8.5l.94-2.06 2.06-.94-2.06-.94L8.5 2.5l-.94 2.06-2.06.94zm10 10l.94 2.06.94-2.06 2.06-.94-2.06-.94-.94-2.06-.94 2.06-2.06.94z\"/><path d=\"M17.41 7.96l-1.37-1.37c-.4-.4-.92-.59-1.43-.59-.52 0-1.04.2-1.43.59L10.3 9.45l-7.72 7.72c-.78.78-.78 2.05 0 2.83L4 21.41c.39.39.9.59 1.41.59.51 0 1.02-.2 1.41-.59l7.78-7.78 2.81-2.81c.8-.78.8-2.07 0-2.86zM5.41 20L4 18.59l7.72-7.72 1.47 1.35L5.41 20z\"/>\n",
              "  </svg>\n",
              "      </button>\n",
              "      \n",
              "  <style>\n",
              "    .colab-df-container {\n",
              "      display:flex;\n",
              "      flex-wrap:wrap;\n",
              "      gap: 12px;\n",
              "    }\n",
              "\n",
              "    .colab-df-convert {\n",
              "      background-color: #E8F0FE;\n",
              "      border: none;\n",
              "      border-radius: 50%;\n",
              "      cursor: pointer;\n",
              "      display: none;\n",
              "      fill: #1967D2;\n",
              "      height: 32px;\n",
              "      padding: 0 0 0 0;\n",
              "      width: 32px;\n",
              "    }\n",
              "\n",
              "    .colab-df-convert:hover {\n",
              "      background-color: #E2EBFA;\n",
              "      box-shadow: 0px 1px 2px rgba(60, 64, 67, 0.3), 0px 1px 3px 1px rgba(60, 64, 67, 0.15);\n",
              "      fill: #174EA6;\n",
              "    }\n",
              "\n",
              "    [theme=dark] .colab-df-convert {\n",
              "      background-color: #3B4455;\n",
              "      fill: #D2E3FC;\n",
              "    }\n",
              "\n",
              "    [theme=dark] .colab-df-convert:hover {\n",
              "      background-color: #434B5C;\n",
              "      box-shadow: 0px 1px 3px 1px rgba(0, 0, 0, 0.15);\n",
              "      filter: drop-shadow(0px 1px 2px rgba(0, 0, 0, 0.3));\n",
              "      fill: #FFFFFF;\n",
              "    }\n",
              "  </style>\n",
              "\n",
              "      <script>\n",
              "        const buttonEl =\n",
              "          document.querySelector('#df-20aa19a4-fc39-4c66-9722-f26c26c1f021 button.colab-df-convert');\n",
              "        buttonEl.style.display =\n",
              "          google.colab.kernel.accessAllowed ? 'block' : 'none';\n",
              "\n",
              "        async function convertToInteractive(key) {\n",
              "          const element = document.querySelector('#df-20aa19a4-fc39-4c66-9722-f26c26c1f021');\n",
              "          const dataTable =\n",
              "            await google.colab.kernel.invokeFunction('convertToInteractive',\n",
              "                                                     [key], {});\n",
              "          if (!dataTable) return;\n",
              "\n",
              "          const docLinkHtml = 'Like what you see? Visit the ' +\n",
              "            '<a target=\"_blank\" href=https://colab.research.google.com/notebooks/data_table.ipynb>data table notebook</a>'\n",
              "            + ' to learn more about interactive tables.';\n",
              "          element.innerHTML = '';\n",
              "          dataTable['output_type'] = 'display_data';\n",
              "          await google.colab.output.renderOutput(dataTable, element);\n",
              "          const docLink = document.createElement('div');\n",
              "          docLink.innerHTML = docLinkHtml;\n",
              "          element.appendChild(docLink);\n",
              "        }\n",
              "      </script>\n",
              "    </div>\n",
              "  </div>\n",
              "  "
            ]
          },
          "metadata": {},
          "execution_count": 123
        }
      ]
    },
    {
      "cell_type": "code",
      "source": [
        "import matplotlib.pyplot as plt\n",
        "\n",
        "# plotting graph\n",
        "bertScoreDf.plot(x=\"Summary\",\n",
        "               y=['bert_precision',\n",
        "                'bert_recall',\n",
        "                'bert_f1'],\n",
        "               kind=\"bar\", figsize=(25, 12))\n",
        "\n",
        "plt.suptitle(\"Bert Score of the summaries in Barplot\\n\\n\\n\\n\\n\\n\")\n",
        "plt.ylabel(\"Score\")"
      ],
      "metadata": {
        "colab": {
          "base_uri": "https://localhost:8080/",
          "height": 778
        },
        "outputId": "9bfd7cce-8fa2-4ac9-8c32-7abf70bace76",
        "id": "VfkwlGazwZvy"
      },
      "execution_count": null,
      "outputs": [
        {
          "output_type": "execute_result",
          "data": {
            "text/plain": [
              "Text(0, 0.5, 'Score')"
            ]
          },
          "metadata": {},
          "execution_count": 125
        },
        {
          "output_type": "display_data",
          "data": {
            "text/plain": [
              "<Figure size 1800x864 with 1 Axes>"
            ],
            "image/png": "[encoded data removed]"
          },
          "metadata": {
            "needs_background": "light"
          }
        }
      ]
    },
    {
      "cell_type": "markdown",
      "source": [
        "##### BERT Comparing with Given Text Dataset II"
      ],
      "metadata": {
        "id": "dNUrFDUb6h7A"
      }
    },
    {
      "cell_type": "code",
      "source": [
        "def bertScore(columnName):\n",
        "    SummaryEv = finalDF2.filter(['text', columnName], axis=1)\n",
        "\n",
        "    lenS = SummaryEv.shape[0]\n",
        "    bert_precision = 0\n",
        "    bert_recall = 0\n",
        "    bert_f1 = 0\n",
        "\n",
        "    for i in range(lenS):\n",
        "        results = bertscore.compute(predictions=[SummaryEv[columnName][i]], references=[SummaryEv['text'][i]], lang=\"bn\")\n",
        "\n",
        "        bert_precision = bert_precision + results['precision'][0]\n",
        "        bert_recall = bert_recall + results['recall'][0]\n",
        "        bert_f1 = bert_f1 + results['f1'][0]\n",
        "\n",
        "    bert_score = {'precision': bert_precision/lenS,\n",
        "                    'recall': bert_recall/lenS,\n",
        "                    'f1': bert_f1/lenS}\n",
        "    return bert_score"
      ],
      "metadata": {
        "id": "incG8krK6h7Z"
      },
      "execution_count": 65,
      "outputs": []
    },
    {
      "cell_type": "code",
      "source": [
        "gs = bertScore('givenSummary')\n",
        "gs"
      ],
      "metadata": {
        "id": "gT-C3lXX6h7Z"
      },
      "execution_count": null,
      "outputs": []
    },
    {
      "cell_type": "code",
      "source": [
        "bs = bertScore('BestSummary')\n",
        "bs"
      ],
      "metadata": {
        "id": "JUl3CMVI6h7a"
      },
      "execution_count": null,
      "outputs": []
    },
    {
      "cell_type": "code",
      "source": [
        "mx = bertScore('mT5_multilingual_XLSum')\n",
        "mx"
      ],
      "metadata": {
        "id": "-RZqVEsM6h7a"
      },
      "execution_count": null,
      "outputs": []
    },
    {
      "cell_type": "code",
      "source": [
        "mc = bertScore('mT5_m2m_crossSum')\n",
        "mc"
      ],
      "metadata": {
        "id": "I-LILOSI6h7a"
      },
      "execution_count": null,
      "outputs": []
    },
    {
      "cell_type": "code",
      "source": [
        "sci = bertScore('scibert_scivocab_uncased')\n",
        "sci"
      ],
      "metadata": {
        "id": "e42IPXUr6h7b"
      },
      "execution_count": null,
      "outputs": []
    },
    {
      "cell_type": "code",
      "source": [
        "bts = bertScore('Bangla_text_summarization')\n",
        "bts"
      ],
      "metadata": {
        "id": "RzBculdD6h7b"
      },
      "execution_count": null,
      "outputs": []
    },
    {
      "cell_type": "code",
      "source": [
        "bts['precision']"
      ],
      "metadata": {
        "id": "0BEALzod6h7c"
      },
      "execution_count": null,
      "outputs": []
    },
    {
      "cell_type": "code",
      "source": [
        "def getScore(m, x):\n",
        "    strs = x\n",
        "    return m[strs]"
      ],
      "metadata": {
        "id": "DgGBybsT6h7c"
      },
      "execution_count": null,
      "outputs": []
    },
    {
      "cell_type": "code",
      "source": [
        "import pandas as pd\n",
        "\n",
        "data = {'columns':['bert_precision', 'bert_recall', 'bert_f1'],\n",
        "        'givenSummary':[getScore(gs, 'precision'), getScore(gs, 'recall'), getScore(gs, 'f1')],\n",
        "        'BestSummary':[getScore(bs, 'precision'), getScore(bs, 'recall'), getScore(bs, 'f1')],\n",
        "        'mT5_multilingual_XLSum':[getScore(mx, 'precision'), getScore(mx, 'recall'), getScore(mx, 'f1')],\n",
        "        'mT5_m2m_crossSum':[getScore(mc, 'precision'), getScore(mc, 'recall'), getScore(mc, 'f1')],\n",
        "        'scibert_scivocab_uncased':[getScore(sci, 'precision'), getScore(sci, 'recall'), getScore(sci, 'f1')],\n",
        "        'Bangla_text_summarization':[getScore(bts, 'precision'), getScore(bts, 'recall'), getScore(bts, 'f1')]}\n",
        "\n",
        "bertScoreDf = pd.DataFrame(data)\n",
        "bertScoreDf_ = bertScoreDf\n",
        "bertScoreDf = bertScoreDf.reset_index(drop=True).T\n",
        "bertScoreDf = bertScoreDf.rename(columns=bertScoreDf.iloc[0]).drop(bertScoreDf.index[0])\n",
        "bertScoreDf.reset_index(inplace=True)\n",
        "bertScoreDf = bertScoreDf.rename(columns = {'index':'Summary'})\n",
        "bertScoreDf"
      ],
      "metadata": {
        "id": "jxIy_XKq6h7c"
      },
      "execution_count": null,
      "outputs": []
    },
    {
      "cell_type": "code",
      "source": [
        "import matplotlib.pyplot as plt\n",
        "\n",
        "# plotting graph\n",
        "bertScoreDf.plot(x=\"Summary\",\n",
        "               y=['bert_precision',\n",
        "                'bert_recall',\n",
        "                'bert_f1'],\n",
        "               kind=\"bar\", figsize=(25, 12))\n",
        "\n",
        "plt.suptitle(\"Bert Score of the summaries in Barplot\\n\\n\\n\\n\\n\\n\")\n",
        "plt.ylabel(\"Score\")"
      ],
      "metadata": {
        "id": "y5fu73Gm6h7d"
      },
      "execution_count": null,
      "outputs": []
    },
    {
      "cell_type": "markdown",
      "source": [
        "##### BERT Comparing with Given Summary"
      ],
      "metadata": {
        "id": "2-eF7nRMwZvy"
      }
    },
    {
      "cell_type": "code",
      "source": [
        "def bertScore(columnName):\n",
        "    SummaryEv = finalDF.filter(['givenSummary', columnName], axis=1)\n",
        "\n",
        "    lenS = SummaryEv.shape[0]\n",
        "    bert_precision = 0\n",
        "    bert_recall = 0\n",
        "    bert_f1 = 0\n",
        "\n",
        "    for i in range(lenS):\n",
        "        results = bertscore.compute(predictions=[SummaryEv[columnName][i]], references=[SummaryEv['givenSummary'][i]], lang=\"bn\")\n",
        "\n",
        "        bert_precision = bert_precision + results['precision'][0]\n",
        "        bert_recall = bert_recall + results['recall'][0]\n",
        "        bert_f1 = bert_f1 + results['f1'][0]\n",
        "\n",
        "    bert_score = {'precision': bert_precision/lenS,\n",
        "                    'recall': bert_recall/lenS,\n",
        "                    'f1': bert_f1/lenS}\n",
        "    return bert_score"
      ],
      "metadata": {
        "id": "rnlXm1Wy20Ya"
      },
      "execution_count": null,
      "outputs": []
    },
    {
      "cell_type": "code",
      "source": [
        "bs = bertScore('BestSummary')\n",
        "bs"
      ],
      "metadata": {
        "colab": {
          "base_uri": "https://localhost:8080/"
        },
        "id": "HI5-2Jp_20Ya",
        "outputId": "39ff4a3b-3317-4c2e-c919-c4d4cbd5b458"
      },
      "execution_count": null,
      "outputs": [
        {
          "output_type": "execute_result",
          "data": {
            "text/plain": [
              "{'precision': 0.7339922946136812,\n",
              " 'recall': 0.7657511411802588,\n",
              " 'f1': 0.7488766785125266}"
            ]
          },
          "metadata": {},
          "execution_count": 129
        }
      ]
    },
    {
      "cell_type": "code",
      "source": [
        "mx = bertScore('mT5_multilingual_XLSum')\n",
        "mx"
      ],
      "metadata": {
        "colab": {
          "base_uri": "https://localhost:8080/"
        },
        "id": "LldcuF5w20Ya",
        "outputId": "a6d81ab9-0ac5-499f-f3ec-76c880f99ee1"
      },
      "execution_count": null,
      "outputs": [
        {
          "output_type": "execute_result",
          "data": {
            "text/plain": [
              "{'precision': 0.7392360686417186,\n",
              " 'recall': 0.7612992188748652,\n",
              " 'f1': 0.7495491358637074}"
            ]
          },
          "metadata": {},
          "execution_count": 130
        }
      ]
    },
    {
      "cell_type": "code",
      "source": [
        "mc = bertScore('mT5_m2m_crossSum')\n",
        "mc"
      ],
      "metadata": {
        "colab": {
          "base_uri": "https://localhost:8080/"
        },
        "id": "z3-Rdas420Ya",
        "outputId": "96682ea6-afb3-43a5-85e7-3c973c8205d9"
      },
      "execution_count": null,
      "outputs": [
        {
          "output_type": "execute_result",
          "data": {
            "text/plain": [
              "{'precision': 0.7274497912286741,\n",
              " 'recall': 0.7437931542645498,\n",
              " 'f1': 0.7350525484353458}"
            ]
          },
          "metadata": {},
          "execution_count": 131
        }
      ]
    },
    {
      "cell_type": "code",
      "source": [
        "sci = bertScore('scibert_scivocab_uncased')\n",
        "sci"
      ],
      "metadata": {
        "colab": {
          "base_uri": "https://localhost:8080/"
        },
        "id": "6m7T48HZ20Ya",
        "outputId": "cb2531f6-7a2b-4c66-f0f9-39fb57e69e21"
      },
      "execution_count": null,
      "outputs": [
        {
          "output_type": "execute_result",
          "data": {
            "text/plain": [
              "{'precision': 0.6419531604267291,\n",
              " 'recall': 0.7228173400201612,\n",
              " 'f1': 0.6794799904092333}"
            ]
          },
          "metadata": {},
          "execution_count": 132
        }
      ]
    },
    {
      "cell_type": "code",
      "source": [
        "bts = bertScore('Bangla_text_summarization')\n",
        "bts"
      ],
      "metadata": {
        "colab": {
          "base_uri": "https://localhost:8080/"
        },
        "id": "jyywRXGx20Ya",
        "outputId": "49df1488-ddac-4d7f-f0dc-53cb15ea504f"
      },
      "execution_count": null,
      "outputs": [
        {
          "output_type": "execute_result",
          "data": {
            "text/plain": [
              "{'precision': 0.6040710917308695,\n",
              " 'recall': 0.63557943333905,\n",
              " 'f1': 0.6192731427663758}"
            ]
          },
          "metadata": {},
          "execution_count": 133
        }
      ]
    },
    {
      "cell_type": "code",
      "source": [
        "def getScore(m, x):\n",
        "    strs = x\n",
        "    return m[strs]"
      ],
      "metadata": {
        "id": "k8PrN89D20Ya"
      },
      "execution_count": null,
      "outputs": []
    },
    {
      "cell_type": "code",
      "source": [
        "import pandas as pd\n",
        "\n",
        "data = {'columns':['bert_precision', 'bert_recall', 'bert_f1'],\n",
        "        'BestSummary':[getScore(bs, 'precision'), getScore(bs, 'recall'), getScore(bs, 'f1')],\n",
        "        'mT5_multilingual_XLSum':[getScore(mx, 'precision'), getScore(mx, 'recall'), getScore(mx, 'f1')],\n",
        "        'mT5_m2m_crossSum':[getScore(mc, 'precision'), getScore(mc, 'recall'), getScore(mc, 'f1')],\n",
        "        'scibert_scivocab_uncased':[getScore(sci, 'precision'), getScore(sci, 'recall'), getScore(sci, 'f1')],\n",
        "        'Bangla_text_summarization':[getScore(bts, 'precision'), getScore(bts, 'recall'), getScore(bts, 'f1')]}\n",
        "\n",
        "bertScoreDf = pd.DataFrame(data)\n",
        "bertScoreDf_ = bertScoreDf\n",
        "bertScoreDf = bertScoreDf.reset_index(drop=True).T\n",
        "bertScoreDf = bertScoreDf.rename(columns=bertScoreDf.iloc[0]).drop(bertScoreDf.index[0])\n",
        "bertScoreDf.reset_index(inplace=True)\n",
        "bertScoreDf = bertScoreDf.rename(columns = {'index':'Summary'})\n",
        "bertScoreDf"
      ],
      "metadata": {
        "colab": {
          "base_uri": "https://localhost:8080/",
          "height": 206
        },
        "id": "Qq9EQ8Tm20Yb",
        "outputId": "5c0b5149-500a-4cf4-bde5-83358a863be9"
      },
      "execution_count": null,
      "outputs": [
        {
          "output_type": "execute_result",
          "data": {
            "text/plain": [
              "                     Summary bert_precision bert_recall   bert_f1\n",
              "0                BestSummary       0.733992    0.765751  0.748877\n",
              "1     mT5_multilingual_XLSum       0.739236    0.761299  0.749549\n",
              "2           mT5_m2m_crossSum        0.72745    0.743793  0.735053\n",
              "3   scibert_scivocab_uncased       0.641953    0.722817   0.67948\n",
              "4  Bangla_text_summarization       0.604071    0.635579  0.619273"
            ],
            "text/html": [
              "\n",
              "  <div id=\"df-eb0f5774-d6f6-4401-9e25-e0b8378be04e\">\n",
              "    <div class=\"colab-df-container\">\n",
              "      <div>\n",
              "<style scoped>\n",
              "    .dataframe tbody tr th:only-of-type {\n",
              "        vertical-align: middle;\n",
              "    }\n",
              "\n",
              "    .dataframe tbody tr th {\n",
              "        vertical-align: top;\n",
              "    }\n",
              "\n",
              "    .dataframe thead th {\n",
              "        text-align: right;\n",
              "    }\n",
              "</style>\n",
              "<table border=\"1\" class=\"dataframe\">\n",
              "  <thead>\n",
              "    <tr style=\"text-align: right;\">\n",
              "      <th></th>\n",
              "      <th>Summary</th>\n",
              "      <th>bert_precision</th>\n",
              "      <th>bert_recall</th>\n",
              "      <th>bert_f1</th>\n",
              "    </tr>\n",
              "  </thead>\n",
              "  <tbody>\n",
              "    <tr>\n",
              "      <th>0</th>\n",
              "      <td>BestSummary</td>\n",
              "      <td>0.733992</td>\n",
              "      <td>0.765751</td>\n",
              "      <td>0.748877</td>\n",
              "    </tr>\n",
              "    <tr>\n",
              "      <th>1</th>\n",
              "      <td>mT5_multilingual_XLSum</td>\n",
              "      <td>0.739236</td>\n",
              "      <td>0.761299</td>\n",
              "      <td>0.749549</td>\n",
              "    </tr>\n",
              "    <tr>\n",
              "      <th>2</th>\n",
              "      <td>mT5_m2m_crossSum</td>\n",
              "      <td>0.72745</td>\n",
              "      <td>0.743793</td>\n",
              "      <td>0.735053</td>\n",
              "    </tr>\n",
              "    <tr>\n",
              "      <th>3</th>\n",
              "      <td>scibert_scivocab_uncased</td>\n",
              "      <td>0.641953</td>\n",
              "      <td>0.722817</td>\n",
              "      <td>0.67948</td>\n",
              "    </tr>\n",
              "    <tr>\n",
              "      <th>4</th>\n",
              "      <td>Bangla_text_summarization</td>\n",
              "      <td>0.604071</td>\n",
              "      <td>0.635579</td>\n",
              "      <td>0.619273</td>\n",
              "    </tr>\n",
              "  </tbody>\n",
              "</table>\n",
              "</div>\n",
              "      <button class=\"colab-df-convert\" onclick=\"convertToInteractive('df-eb0f5774-d6f6-4401-9e25-e0b8378be04e')\"\n",
              "              title=\"Convert this dataframe to an interactive table.\"\n",
              "              style=\"display:none;\">\n",
              "        \n",
              "  <svg xmlns=\"http://www.w3.org/2000/svg\" height=\"24px\"viewBox=\"0 0 24 24\"\n",
              "       width=\"24px\">\n",
              "    <path d=\"M0 0h24v24H0V0z\" fill=\"none\"/>\n",
              "    <path d=\"M18.56 5.44l.94 2.06.94-2.06 2.06-.94-2.06-.94-.94-2.06-.94 2.06-2.06.94zm-11 1L8.5 8.5l.94-2.06 2.06-.94-2.06-.94L8.5 2.5l-.94 2.06-2.06.94zm10 10l.94 2.06.94-2.06 2.06-.94-2.06-.94-.94-2.06-.94 2.06-2.06.94z\"/><path d=\"M17.41 7.96l-1.37-1.37c-.4-.4-.92-.59-1.43-.59-.52 0-1.04.2-1.43.59L10.3 9.45l-7.72 7.72c-.78.78-.78 2.05 0 2.83L4 21.41c.39.39.9.59 1.41.59.51 0 1.02-.2 1.41-.59l7.78-7.78 2.81-2.81c.8-.78.8-2.07 0-2.86zM5.41 20L4 18.59l7.72-7.72 1.47 1.35L5.41 20z\"/>\n",
              "  </svg>\n",
              "      </button>\n",
              "      \n",
              "  <style>\n",
              "    .colab-df-container {\n",
              "      display:flex;\n",
              "      flex-wrap:wrap;\n",
              "      gap: 12px;\n",
              "    }\n",
              "\n",
              "    .colab-df-convert {\n",
              "      background-color: #E8F0FE;\n",
              "      border: none;\n",
              "      border-radius: 50%;\n",
              "      cursor: pointer;\n",
              "      display: none;\n",
              "      fill: #1967D2;\n",
              "      height: 32px;\n",
              "      padding: 0 0 0 0;\n",
              "      width: 32px;\n",
              "    }\n",
              "\n",
              "    .colab-df-convert:hover {\n",
              "      background-color: #E2EBFA;\n",
              "      box-shadow: 0px 1px 2px rgba(60, 64, 67, 0.3), 0px 1px 3px 1px rgba(60, 64, 67, 0.15);\n",
              "      fill: #174EA6;\n",
              "    }\n",
              "\n",
              "    [theme=dark] .colab-df-convert {\n",
              "      background-color: #3B4455;\n",
              "      fill: #D2E3FC;\n",
              "    }\n",
              "\n",
              "    [theme=dark] .colab-df-convert:hover {\n",
              "      background-color: #434B5C;\n",
              "      box-shadow: 0px 1px 3px 1px rgba(0, 0, 0, 0.15);\n",
              "      filter: drop-shadow(0px 1px 2px rgba(0, 0, 0, 0.3));\n",
              "      fill: #FFFFFF;\n",
              "    }\n",
              "  </style>\n",
              "\n",
              "      <script>\n",
              "        const buttonEl =\n",
              "          document.querySelector('#df-eb0f5774-d6f6-4401-9e25-e0b8378be04e button.colab-df-convert');\n",
              "        buttonEl.style.display =\n",
              "          google.colab.kernel.accessAllowed ? 'block' : 'none';\n",
              "\n",
              "        async function convertToInteractive(key) {\n",
              "          const element = document.querySelector('#df-eb0f5774-d6f6-4401-9e25-e0b8378be04e');\n",
              "          const dataTable =\n",
              "            await google.colab.kernel.invokeFunction('convertToInteractive',\n",
              "                                                     [key], {});\n",
              "          if (!dataTable) return;\n",
              "\n",
              "          const docLinkHtml = 'Like what you see? Visit the ' +\n",
              "            '<a target=\"_blank\" href=https://colab.research.google.com/notebooks/data_table.ipynb>data table notebook</a>'\n",
              "            + ' to learn more about interactive tables.';\n",
              "          element.innerHTML = '';\n",
              "          dataTable['output_type'] = 'display_data';\n",
              "          await google.colab.output.renderOutput(dataTable, element);\n",
              "          const docLink = document.createElement('div');\n",
              "          docLink.innerHTML = docLinkHtml;\n",
              "          element.appendChild(docLink);\n",
              "        }\n",
              "      </script>\n",
              "    </div>\n",
              "  </div>\n",
              "  "
            ]
          },
          "metadata": {},
          "execution_count": 135
        }
      ]
    },
    {
      "cell_type": "code",
      "source": [
        "import matplotlib.pyplot as plt\n",
        "\n",
        "# plotting graph\n",
        "bertScoreDf.plot(x=\"Summary\",\n",
        "               y=['bert_precision',\n",
        "                'bert_recall',\n",
        "                'bert_f1'],\n",
        "               kind=\"bar\", figsize=(25, 12))\n",
        "\n",
        "plt.suptitle(\"Bert Score of the summaries in Barplot\\n\\n\\n\\n\\n\\n\")\n",
        "plt.ylabel(\"Score\")"
      ],
      "metadata": {
        "colab": {
          "base_uri": "https://localhost:8080/",
          "height": 778
        },
        "id": "V6ZVltX720Yb",
        "outputId": "886f4eeb-dd68-4727-a2f0-0f8d9fb2e61a"
      },
      "execution_count": null,
      "outputs": [
        {
          "output_type": "execute_result",
          "data": {
            "text/plain": [
              "Text(0, 0.5, 'Score')"
            ]
          },
          "metadata": {},
          "execution_count": 136
        },
        {
          "output_type": "display_data",
          "data": {
            "text/plain": [
              "<Figure size 1800x864 with 1 Axes>"
            ],
            "image/png": "[encoded data removed]"
          },
          "metadata": {
            "needs_background": "light"
          }
        }
      ]
    },
    {
      "cell_type": "markdown",
      "source": [
        "##### BERT Comparing with Given Summary Dataset II"
      ],
      "metadata": {
        "id": "Sw7igclp6pjr"
      }
    },
    {
      "cell_type": "code",
      "source": [
        "def bertScore(columnName):\n",
        "    SummaryEv = finalDF2.filter(['givenSummary', columnName], axis=1)\n",
        "\n",
        "    lenS = SummaryEv.shape[0]\n",
        "    bert_precision = 0\n",
        "    bert_recall = 0\n",
        "    bert_f1 = 0\n",
        "\n",
        "    for i in range(lenS):\n",
        "        results = bertscore.compute(predictions=[SummaryEv[columnName][i]], references=[SummaryEv['givenSummary'][i]], lang=\"bn\")\n",
        "\n",
        "        bert_precision = bert_precision + results['precision'][0]\n",
        "        bert_recall = bert_recall + results['recall'][0]\n",
        "        bert_f1 = bert_f1 + results['f1'][0]\n",
        "\n",
        "    bert_score = {'precision': bert_precision/lenS,\n",
        "                    'recall': bert_recall/lenS,\n",
        "                    'f1': bert_f1/lenS}\n",
        "    return bert_score"
      ],
      "metadata": {
        "id": "gJdkkQaj6pkD"
      },
      "execution_count": null,
      "outputs": []
    },
    {
      "cell_type": "code",
      "source": [
        "bs = bertScore('BestSummary')\n",
        "bs"
      ],
      "metadata": {
        "id": "wb0JUlse6pkD"
      },
      "execution_count": null,
      "outputs": []
    },
    {
      "cell_type": "code",
      "source": [
        "mx = bertScore('mT5_multilingual_XLSum')\n",
        "mx"
      ],
      "metadata": {
        "id": "AAUK6eln6pkE"
      },
      "execution_count": null,
      "outputs": []
    },
    {
      "cell_type": "code",
      "source": [
        "mc = bertScore('mT5_m2m_crossSum')\n",
        "mc"
      ],
      "metadata": {
        "id": "Jd3jnIYn6pkE"
      },
      "execution_count": null,
      "outputs": []
    },
    {
      "cell_type": "code",
      "source": [
        "sci = bertScore('scibert_scivocab_uncased')\n",
        "sci"
      ],
      "metadata": {
        "id": "ZCcE9PRJ6pkF"
      },
      "execution_count": null,
      "outputs": []
    },
    {
      "cell_type": "code",
      "source": [
        "bts = bertScore('Bangla_text_summarization')\n",
        "bts"
      ],
      "metadata": {
        "id": "eutMCVbn6pkF"
      },
      "execution_count": null,
      "outputs": []
    },
    {
      "cell_type": "code",
      "source": [
        "def getScore(m, x):\n",
        "    strs = x\n",
        "    return m[strs]"
      ],
      "metadata": {
        "id": "U3BqVRvz6pkG"
      },
      "execution_count": null,
      "outputs": []
    },
    {
      "cell_type": "code",
      "source": [
        "import pandas as pd\n",
        "\n",
        "data = {'columns':['bert_precision', 'bert_recall', 'bert_f1'],\n",
        "        'BestSummary':[getScore(bs, 'precision'), getScore(bs, 'recall'), getScore(bs, 'f1')],\n",
        "        'mT5_multilingual_XLSum':[getScore(mx, 'precision'), getScore(mx, 'recall'), getScore(mx, 'f1')],\n",
        "        'mT5_m2m_crossSum':[getScore(mc, 'precision'), getScore(mc, 'recall'), getScore(mc, 'f1')],\n",
        "        'scibert_scivocab_uncased':[getScore(sci, 'precision'), getScore(sci, 'recall'), getScore(sci, 'f1')],\n",
        "        'Bangla_text_summarization':[getScore(bts, 'precision'), getScore(bts, 'recall'), getScore(bts, 'f1')]}\n",
        "\n",
        "bertScoreDf = pd.DataFrame(data)\n",
        "bertScoreDf_ = bertScoreDf\n",
        "bertScoreDf = bertScoreDf.reset_index(drop=True).T\n",
        "bertScoreDf = bertScoreDf.rename(columns=bertScoreDf.iloc[0]).drop(bertScoreDf.index[0])\n",
        "bertScoreDf.reset_index(inplace=True)\n",
        "bertScoreDf = bertScoreDf.rename(columns = {'index':'Summary'})\n",
        "bertScoreDf"
      ],
      "metadata": {
        "id": "KEEoRpPy6pkG"
      },
      "execution_count": null,
      "outputs": []
    },
    {
      "cell_type": "code",
      "source": [
        "import matplotlib.pyplot as plt\n",
        "\n",
        "# plotting graph\n",
        "bertScoreDf.plot(x=\"Summary\",\n",
        "               y=['bert_precision',\n",
        "                'bert_recall',\n",
        "                'bert_f1'],\n",
        "               kind=\"bar\", figsize=(25, 12))\n",
        "\n",
        "plt.suptitle(\"Bert Score of the summaries in Barplot\\n\\n\\n\\n\\n\\n\")\n",
        "plt.ylabel(\"Score\")"
      ],
      "metadata": {
        "id": "MXFyK0kB6pkG"
      },
      "execution_count": null,
      "outputs": []
    },
    {
      "cell_type": "markdown",
      "source": [
        "## Three Scores"
      ],
      "metadata": {
        "id": "63xZucgV6lY5"
      }
    },
    {
      "cell_type": "markdown",
      "source": [
        "#### MeteorScore"
      ],
      "metadata": {
        "id": "uqcpeOK4zaF3"
      }
    },
    {
      "cell_type": "code",
      "source": [
        "from collections import Counter\n",
        "\n",
        "class MeteorScore:\n",
        "    def __init__(self, alpha=0.5, beta=0.5, gamma=0.5):\n",
        "        self.alpha = alpha\n",
        "        self.beta = beta\n",
        "        self.gamma = gamma\n",
        "\n",
        "    def preprocess_sentence(self, sentence):\n",
        "        words = sentence.split()\n",
        "        return words\n",
        "\n",
        "    def ngram_count(self, sentence, n):\n",
        "        words = self.preprocess_sentence(sentence)\n",
        "        ngrams = [tuple(words[i:i+n]) for i in range(len(words)-n+1)]\n",
        "        return Counter(ngrams)\n",
        "\n",
        "    def compute_precision(self, hypothesis, reference, n):\n",
        "        hyp_counts = self.ngram_count(hypothesis, n)\n",
        "        ref_counts = self.ngram_count(reference, n)\n",
        "        overlap = sum((hyp_counts & ref_counts).values())\n",
        "        precision = overlap / sum(hyp_counts.values()) if sum(hyp_counts.values()) > 0 else 0\n",
        "        return precision\n",
        "\n",
        "    def compute_recall(self, hypothesis, reference, n):\n",
        "        hyp_counts = self.ngram_count(hypothesis, n)\n",
        "        ref_counts = self.ngram_count(reference, n)\n",
        "        overlap = sum((hyp_counts & ref_counts).values())\n",
        "        recall = overlap / sum(ref_counts.values()) if sum(ref_counts.values()) > 0 else 0\n",
        "        return recall\n",
        "\n",
        "    def meteor_score(self, hypothesis, reference):\n",
        "        precision = self.alpha * self.compute_precision(hypothesis, reference, 1) + (1-self.alpha) * self.compute_precision(hypothesis, reference, 2)\n",
        "        recall = self.beta * self.compute_recall(hypothesis, reference, 1) + (1-self.beta) * self.compute_recall(hypothesis, reference, 2)\n",
        "        fmean = (1-self.gamma) * precision + self.gamma * recall if (precision != 0 and recall != 0) else 0\n",
        "        return fmean"
      ],
      "metadata": {
        "id": "4g9DootCzVTl"
      },
      "execution_count": 27,
      "outputs": []
    },
    {
      "cell_type": "markdown",
      "source": [
        "### jiwer"
      ],
      "metadata": {
        "id": "z3LaJnEpOoYJ"
      }
    },
    {
      "cell_type": "code",
      "source": [
        "!pip install jiwer\n",
        "import jiwer"
      ],
      "metadata": {
        "colab": {
          "base_uri": "https://localhost:8080/"
        },
        "id": "RaOJEp7_OnLM",
        "outputId": "1459119d-1ce3-41f9-823c-6a85b25848e3"
      },
      "execution_count": 28,
      "outputs": [
        {
          "output_type": "stream",
          "name": "stdout",
          "text": [
            "Collecting jiwer\n",
            "  Downloading jiwer-3.0.2-py3-none-any.whl (21 kB)\n",
            "Requirement already satisfied: click<9.0.0,>=8.1.3 in /usr/local/lib/python3.10/dist-packages (from jiwer) (8.1.4)\n",
            "Collecting rapidfuzz==2.13.7 (from jiwer)\n",
            "  Downloading rapidfuzz-2.13.7-cp310-cp310-manylinux_2_17_x86_64.manylinux2014_x86_64.whl (2.2 MB)\n",
            "\u001b[2K     \u001b[90m━━━━━━━━━━━━━━━━━━━━━━━━━━━━━━━━━━━━━━━━\u001b[0m \u001b[32m2.2/2.2 MB\u001b[0m \u001b[31m23.8 MB/s\u001b[0m eta \u001b[36m0:00:00\u001b[0m\n",
            "\u001b[?25hInstalling collected packages: rapidfuzz, jiwer\n",
            "Successfully installed jiwer-3.0.2 rapidfuzz-2.13.7\n"
          ]
        }
      ]
    },
    {
      "cell_type": "markdown",
      "source": [
        "#### wilWerMeteor Comparing with Given Text"
      ],
      "metadata": {
        "id": "dq9DwvCzzdd7"
      }
    },
    {
      "cell_type": "code",
      "source": [
        "meteor = MeteorScore(alpha=0.5, beta=0.5, gamma=0.5)\n",
        "\n",
        "def wilWerMeteorScore(columnName):\n",
        "    SummaryEv = finalDF.filter(['text', columnName], axis=1)\n",
        "\n",
        "    lenS = SummaryEv.shape[0]\n",
        "    wer_score = 0\n",
        "    meteor_score = 0\n",
        "    wil_score = 0\n",
        "\n",
        "    for i in range(lenS):\n",
        "        wer_result = jiwer.wer(SummaryEv['text'][i], SummaryEv[columnName][i])\n",
        "        meteor_result = meteor.meteor_score(SummaryEv[columnName][i], SummaryEv['text'][i])\n",
        "        wil_result = jiwer.wil(SummaryEv['text'][i], SummaryEv[columnName][i])\n",
        "\n",
        "        wer_score = wer_score + wer_result\n",
        "        meteor_score = meteor_score + meteor_result\n",
        "        wil_score = wil_score + wil_result\n",
        "\n",
        "    wilWerMeteor_score = {'METEOR': meteor_score/lenS,\n",
        "                    'WER': wer_score/lenS,\n",
        "                    'WIL': wil_score/lenS}\n",
        "\n",
        "    return wilWerMeteor_score\n",
        "    # return spice_score/lenS"
      ],
      "metadata": {
        "id": "VOLbuWhPznJw"
      },
      "execution_count": null,
      "outputs": []
    },
    {
      "cell_type": "code",
      "source": [
        "gs = wilWerMeteorScore('givenSummary')\n",
        "gs"
      ],
      "metadata": {
        "colab": {
          "base_uri": "https://localhost:8080/"
        },
        "id": "ADubI6zv4R-h",
        "outputId": "cb12e94a-4821-4ad4-8045-928cde0754b2"
      },
      "execution_count": null,
      "outputs": [
        {
          "output_type": "execute_result",
          "data": {
            "text/plain": [
              "{'METEOR': 0.19550542274831012,\n",
              " 'WER': 0.982496056880675,\n",
              " 'WIL': 0.9927589426315556}"
            ]
          },
          "metadata": {},
          "execution_count": 13
        }
      ]
    },
    {
      "cell_type": "code",
      "source": [
        "bs = wilWerMeteorScore('BestSummary')\n",
        "bs"
      ],
      "metadata": {
        "colab": {
          "base_uri": "https://localhost:8080/"
        },
        "id": "fogZcLMF3LBv",
        "outputId": "7759150d-5827-4bad-cf68-a8a16b6bd749"
      },
      "execution_count": null,
      "outputs": [
        {
          "output_type": "execute_result",
          "data": {
            "text/plain": [
              "{'METEOR': 0.3469283321911064,\n",
              " 'WER': 0.9469807245946897,\n",
              " 'WIL': 0.9583518346111152}"
            ]
          },
          "metadata": {},
          "execution_count": 14
        }
      ]
    },
    {
      "cell_type": "code",
      "source": [
        "mx = wilWerMeteorScore('mT5_multilingual_XLSum')\n",
        "mx"
      ],
      "metadata": {
        "colab": {
          "base_uri": "https://localhost:8080/"
        },
        "id": "QQhe63BF3MjR",
        "outputId": "18043526-304a-45de-be79-7ca6b095505b"
      },
      "execution_count": null,
      "outputs": [
        {
          "output_type": "execute_result",
          "data": {
            "text/plain": [
              "{'METEOR': 0.3196007040595473,\n",
              " 'WER': 0.9696993932723706,\n",
              " 'WIL': 0.9827520409356477}"
            ]
          },
          "metadata": {},
          "execution_count": 15
        }
      ]
    },
    {
      "cell_type": "code",
      "source": [
        "mc = wilWerMeteorScore('mT5_m2m_crossSum')\n",
        "mc"
      ],
      "metadata": {
        "colab": {
          "base_uri": "https://localhost:8080/"
        },
        "id": "i7k5RFTS3N5e",
        "outputId": "4701233d-4c01-4d06-8f5f-de26417d6b1c"
      },
      "execution_count": null,
      "outputs": [
        {
          "output_type": "execute_result",
          "data": {
            "text/plain": [
              "{'METEOR': 0.29565803468637064,\n",
              " 'WER': 0.9719706468499425,\n",
              " 'WIL': 0.9849010049580549}"
            ]
          },
          "metadata": {},
          "execution_count": 16
        }
      ]
    },
    {
      "cell_type": "code",
      "source": [
        "sci = wilWerMeteorScore('scibert_scivocab_uncased')\n",
        "sci"
      ],
      "metadata": {
        "colab": {
          "base_uri": "https://localhost:8080/"
        },
        "id": "lTindj7J3PLV",
        "outputId": "32a71bc0-4354-4b0f-a5a6-d1804e6d64b2"
      },
      "execution_count": null,
      "outputs": [
        {
          "output_type": "execute_result",
          "data": {
            "text/plain": [
              "{'METEOR': 0.578906225724212,\n",
              " 'WER': 0.8124326641731866,\n",
              " 'WIL': 0.8135979986556472}"
            ]
          },
          "metadata": {},
          "execution_count": 17
        }
      ]
    },
    {
      "cell_type": "code",
      "source": [
        "bts = wilWerMeteorScore('Bangla_text_summarization')\n",
        "bts"
      ],
      "metadata": {
        "colab": {
          "base_uri": "https://localhost:8080/"
        },
        "id": "HE0_XJ5u3QVk",
        "outputId": "bc8686c8-2e24-4edc-c2db-7db5c65358f9"
      },
      "execution_count": null,
      "outputs": [
        {
          "output_type": "execute_result",
          "data": {
            "text/plain": [
              "{'METEOR': 0.024636148121141094,\n",
              " 'WER': 0.9958052396441807,\n",
              " 'WIL': 0.9996059475560369}"
            ]
          },
          "metadata": {},
          "execution_count": 18
        }
      ]
    },
    {
      "cell_type": "code",
      "source": [
        "def getScore(m, x):\n",
        "    strs = x\n",
        "    return m[strs]"
      ],
      "metadata": {
        "id": "RVBqF8uy3Rlv"
      },
      "execution_count": null,
      "outputs": []
    },
    {
      "cell_type": "code",
      "source": [
        "import pandas as pd\n",
        "\n",
        "data = {'columns':['WIL', 'METEOR', 'WER'],\n",
        "        'givenSummary':[getScore(gs, 'WIL'), getScore(gs, 'METEOR'), getScore(gs, 'WER')],\n",
        "        'BestSummary':[getScore(bs, 'WIL'), getScore(bs, 'METEOR'), getScore(bs, 'WER')],\n",
        "        'mT5_multilingual_XLSum':[getScore(mx, 'WIL'), getScore(mx, 'METEOR'), getScore(mx, 'WER')],\n",
        "        'mT5_m2m_crossSum':[getScore(mc, 'WIL'), getScore(mc, 'METEOR'), getScore(mc, 'WER')],\n",
        "        'scibert_scivocab_uncased':[getScore(sci, 'WIL'), getScore(sci, 'METEOR'), getScore(sci, 'WER')],\n",
        "        'Bangla_text_summarization':[getScore(bts, 'WIL'), getScore(bts, 'METEOR'), getScore(bts, 'WER')]}\n",
        "\n",
        "threeScoreDf = pd.DataFrame(data)\n",
        "threeScoreDf_ = threeScoreDf\n",
        "threeScoreDf = threeScoreDf.reset_index(drop=True).T\n",
        "threeScoreDf = threeScoreDf.rename(columns=threeScoreDf.iloc[0]).drop(threeScoreDf.index[0])\n",
        "threeScoreDf.reset_index(inplace=True)\n",
        "threeScoreDf = threeScoreDf.rename(columns = {'index':'Summary'})\n",
        "threeScoreDf"
      ],
      "metadata": {
        "id": "7VM8Pm383SAh",
        "colab": {
          "base_uri": "https://localhost:8080/",
          "height": 237
        },
        "outputId": "2b074f7a-084c-48d1-e854-7ab0cbfa40b1"
      },
      "execution_count": null,
      "outputs": [
        {
          "output_type": "execute_result",
          "data": {
            "text/plain": [
              "                     Summary       WIL    METEOR       WER\n",
              "0               givenSummary  0.992759  0.195505  0.982496\n",
              "1                BestSummary  0.958352  0.346928  0.946981\n",
              "2     mT5_multilingual_XLSum  0.982752  0.319601  0.969699\n",
              "3           mT5_m2m_crossSum  0.984901  0.295658  0.971971\n",
              "4   scibert_scivocab_uncased  0.813598  0.578906  0.812433\n",
              "5  Bangla_text_summarization  0.999606  0.024636  0.995805"
            ],
            "text/html": [
              "\n",
              "  <div id=\"df-e9fcf78a-b3e9-44f0-8acc-38cbbc99fd2d\">\n",
              "    <div class=\"colab-df-container\">\n",
              "      <div>\n",
              "<style scoped>\n",
              "    .dataframe tbody tr th:only-of-type {\n",
              "        vertical-align: middle;\n",
              "    }\n",
              "\n",
              "    .dataframe tbody tr th {\n",
              "        vertical-align: top;\n",
              "    }\n",
              "\n",
              "    .dataframe thead th {\n",
              "        text-align: right;\n",
              "    }\n",
              "</style>\n",
              "<table border=\"1\" class=\"dataframe\">\n",
              "  <thead>\n",
              "    <tr style=\"text-align: right;\">\n",
              "      <th></th>\n",
              "      <th>Summary</th>\n",
              "      <th>WIL</th>\n",
              "      <th>METEOR</th>\n",
              "      <th>WER</th>\n",
              "    </tr>\n",
              "  </thead>\n",
              "  <tbody>\n",
              "    <tr>\n",
              "      <th>0</th>\n",
              "      <td>givenSummary</td>\n",
              "      <td>0.992759</td>\n",
              "      <td>0.195505</td>\n",
              "      <td>0.982496</td>\n",
              "    </tr>\n",
              "    <tr>\n",
              "      <th>1</th>\n",
              "      <td>BestSummary</td>\n",
              "      <td>0.958352</td>\n",
              "      <td>0.346928</td>\n",
              "      <td>0.946981</td>\n",
              "    </tr>\n",
              "    <tr>\n",
              "      <th>2</th>\n",
              "      <td>mT5_multilingual_XLSum</td>\n",
              "      <td>0.982752</td>\n",
              "      <td>0.319601</td>\n",
              "      <td>0.969699</td>\n",
              "    </tr>\n",
              "    <tr>\n",
              "      <th>3</th>\n",
              "      <td>mT5_m2m_crossSum</td>\n",
              "      <td>0.984901</td>\n",
              "      <td>0.295658</td>\n",
              "      <td>0.971971</td>\n",
              "    </tr>\n",
              "    <tr>\n",
              "      <th>4</th>\n",
              "      <td>scibert_scivocab_uncased</td>\n",
              "      <td>0.813598</td>\n",
              "      <td>0.578906</td>\n",
              "      <td>0.812433</td>\n",
              "    </tr>\n",
              "    <tr>\n",
              "      <th>5</th>\n",
              "      <td>Bangla_text_summarization</td>\n",
              "      <td>0.999606</td>\n",
              "      <td>0.024636</td>\n",
              "      <td>0.995805</td>\n",
              "    </tr>\n",
              "  </tbody>\n",
              "</table>\n",
              "</div>\n",
              "      <button class=\"colab-df-convert\" onclick=\"convertToInteractive('df-e9fcf78a-b3e9-44f0-8acc-38cbbc99fd2d')\"\n",
              "              title=\"Convert this dataframe to an interactive table.\"\n",
              "              style=\"display:none;\">\n",
              "        \n",
              "  <svg xmlns=\"http://www.w3.org/2000/svg\" height=\"24px\"viewBox=\"0 0 24 24\"\n",
              "       width=\"24px\">\n",
              "    <path d=\"M0 0h24v24H0V0z\" fill=\"none\"/>\n",
              "    <path d=\"M18.56 5.44l.94 2.06.94-2.06 2.06-.94-2.06-.94-.94-2.06-.94 2.06-2.06.94zm-11 1L8.5 8.5l.94-2.06 2.06-.94-2.06-.94L8.5 2.5l-.94 2.06-2.06.94zm10 10l.94 2.06.94-2.06 2.06-.94-2.06-.94-.94-2.06-.94 2.06-2.06.94z\"/><path d=\"M17.41 7.96l-1.37-1.37c-.4-.4-.92-.59-1.43-.59-.52 0-1.04.2-1.43.59L10.3 9.45l-7.72 7.72c-.78.78-.78 2.05 0 2.83L4 21.41c.39.39.9.59 1.41.59.51 0 1.02-.2 1.41-.59l7.78-7.78 2.81-2.81c.8-.78.8-2.07 0-2.86zM5.41 20L4 18.59l7.72-7.72 1.47 1.35L5.41 20z\"/>\n",
              "  </svg>\n",
              "      </button>\n",
              "      \n",
              "  <style>\n",
              "    .colab-df-container {\n",
              "      display:flex;\n",
              "      flex-wrap:wrap;\n",
              "      gap: 12px;\n",
              "    }\n",
              "\n",
              "    .colab-df-convert {\n",
              "      background-color: #E8F0FE;\n",
              "      border: none;\n",
              "      border-radius: 50%;\n",
              "      cursor: pointer;\n",
              "      display: none;\n",
              "      fill: #1967D2;\n",
              "      height: 32px;\n",
              "      padding: 0 0 0 0;\n",
              "      width: 32px;\n",
              "    }\n",
              "\n",
              "    .colab-df-convert:hover {\n",
              "      background-color: #E2EBFA;\n",
              "      box-shadow: 0px 1px 2px rgba(60, 64, 67, 0.3), 0px 1px 3px 1px rgba(60, 64, 67, 0.15);\n",
              "      fill: #174EA6;\n",
              "    }\n",
              "\n",
              "    [theme=dark] .colab-df-convert {\n",
              "      background-color: #3B4455;\n",
              "      fill: #D2E3FC;\n",
              "    }\n",
              "\n",
              "    [theme=dark] .colab-df-convert:hover {\n",
              "      background-color: #434B5C;\n",
              "      box-shadow: 0px 1px 3px 1px rgba(0, 0, 0, 0.15);\n",
              "      filter: drop-shadow(0px 1px 2px rgba(0, 0, 0, 0.3));\n",
              "      fill: #FFFFFF;\n",
              "    }\n",
              "  </style>\n",
              "\n",
              "      <script>\n",
              "        const buttonEl =\n",
              "          document.querySelector('#df-e9fcf78a-b3e9-44f0-8acc-38cbbc99fd2d button.colab-df-convert');\n",
              "        buttonEl.style.display =\n",
              "          google.colab.kernel.accessAllowed ? 'block' : 'none';\n",
              "\n",
              "        async function convertToInteractive(key) {\n",
              "          const element = document.querySelector('#df-e9fcf78a-b3e9-44f0-8acc-38cbbc99fd2d');\n",
              "          const dataTable =\n",
              "            await google.colab.kernel.invokeFunction('convertToInteractive',\n",
              "                                                     [key], {});\n",
              "          if (!dataTable) return;\n",
              "\n",
              "          const docLinkHtml = 'Like what you see? Visit the ' +\n",
              "            '<a target=\"_blank\" href=https://colab.research.google.com/notebooks/data_table.ipynb>data table notebook</a>'\n",
              "            + ' to learn more about interactive tables.';\n",
              "          element.innerHTML = '';\n",
              "          dataTable['output_type'] = 'display_data';\n",
              "          await google.colab.output.renderOutput(dataTable, element);\n",
              "          const docLink = document.createElement('div');\n",
              "          docLink.innerHTML = docLinkHtml;\n",
              "          element.appendChild(docLink);\n",
              "        }\n",
              "      </script>\n",
              "    </div>\n",
              "  </div>\n",
              "  "
            ]
          },
          "metadata": {},
          "execution_count": 20
        }
      ]
    },
    {
      "cell_type": "code",
      "source": [
        "import matplotlib.pyplot as plt\n",
        "\n",
        "# plotting graph\n",
        "threeScoreDf.plot(x=\"Summary\",\n",
        "               y=['WIL', 'METEOR', 'WER'],\n",
        "               kind=\"bar\", figsize=(25, 12))\n",
        "\n",
        "plt.suptitle(\"Three Score of the summaries in Barplot\\n\\n\\n\\n\\n\\n\")\n",
        "plt.ylabel(\"Score\")"
      ],
      "metadata": {
        "id": "SOlK-bnN4GXC",
        "colab": {
          "base_uri": "https://localhost:8080/",
          "height": 789
        },
        "outputId": "e89cd738-cd66-4ab8-e21f-ea44002f4079"
      },
      "execution_count": null,
      "outputs": [
        {
          "output_type": "execute_result",
          "data": {
            "text/plain": [
              "Text(0, 0.5, 'Score')"
            ]
          },
          "metadata": {},
          "execution_count": 23
        },
        {
          "output_type": "display_data",
          "data": {
            "text/plain": [
              "<Figure size 2500x1200 with 1 Axes>"
            ],
            "image/png": "[encoded data removed]"
          },
          "metadata": {}
        }
      ]
    },
    {
      "cell_type": "markdown",
      "source": [
        "#### wilWerMeteor Comparing with Given Text Dataset II"
      ],
      "metadata": {
        "id": "pu9vGoVS4usC"
      }
    },
    {
      "cell_type": "code",
      "source": [
        "meteor = MeteorScore(alpha=0.5, beta=0.5, gamma=0.5)\n",
        "\n",
        "def wilWerMeteorScore(columnName):\n",
        "    SummaryEv = finalDF2.filter(['text', columnName], axis=1)\n",
        "\n",
        "    lenS = SummaryEv.shape[0]\n",
        "    wer_score = 0\n",
        "    meteor_score = 0\n",
        "    wil_score = 0\n",
        "\n",
        "    for i in range(lenS):\n",
        "        wer_result = jiwer.wer(SummaryEv['text'][i], SummaryEv[columnName][i])\n",
        "        meteor_result = meteor.meteor_score(SummaryEv[columnName][i], SummaryEv['text'][i])\n",
        "        wil_result = jiwer.wil(SummaryEv['text'][i], SummaryEv[columnName][i])\n",
        "\n",
        "        wer_score = wer_score + wer_result\n",
        "        meteor_score = meteor_score + meteor_result\n",
        "        wil_score = wil_score + wil_result\n",
        "\n",
        "    wilWerMeteor_score = {'METEOR': meteor_score/lenS,\n",
        "                    'WER': wer_score/lenS,\n",
        "                    'WIL': wil_score/lenS}\n",
        "\n",
        "    return wilWerMeteor_score\n",
        "    # return spice_score/lenS"
      ],
      "metadata": {
        "id": "sYpv_Qa64usS"
      },
      "execution_count": 38,
      "outputs": []
    },
    {
      "cell_type": "code",
      "source": [
        "gs = wilWerMeteorScore('givenSummary')\n",
        "gs"
      ],
      "metadata": {
        "colab": {
          "base_uri": "https://localhost:8080/"
        },
        "outputId": "e2bc3410-7c41-4038-d1c5-ef33a5718361",
        "id": "p-0roQKz4usT"
      },
      "execution_count": 39,
      "outputs": [
        {
          "output_type": "execute_result",
          "data": {
            "text/plain": [
              "{'METEOR': 0.27803803485716283,\n",
              " 'WER': 0.9754128785177173,\n",
              " 'WIL': 0.9822329353309625}"
            ]
          },
          "metadata": {},
          "execution_count": 39
        }
      ]
    },
    {
      "cell_type": "code",
      "source": [
        "bs = wilWerMeteorScore('BestSummary')\n",
        "bs"
      ],
      "metadata": {
        "colab": {
          "base_uri": "https://localhost:8080/"
        },
        "outputId": "58707898-2e73-4d7b-8721-278b7fd772d4",
        "id": "wbTNzayy4usT"
      },
      "execution_count": 40,
      "outputs": [
        {
          "output_type": "execute_result",
          "data": {
            "text/plain": [
              "{'METEOR': 0.36087555833414053,\n",
              " 'WER': 0.901497190515997,\n",
              " 'WIL': 0.9254502045726201}"
            ]
          },
          "metadata": {},
          "execution_count": 40
        }
      ]
    },
    {
      "cell_type": "code",
      "source": [
        "mx = wilWerMeteorScore('mT5_multilingual_XLSum')\n",
        "mx"
      ],
      "metadata": {
        "colab": {
          "base_uri": "https://localhost:8080/"
        },
        "outputId": "89847227-89ca-4a94-c8e5-1294e9d53e2b",
        "id": "M7VxcxRA4usT"
      },
      "execution_count": 41,
      "outputs": [
        {
          "output_type": "execute_result",
          "data": {
            "text/plain": [
              "{'METEOR': 0.3323836852139316,\n",
              " 'WER': 0.9278564925715936,\n",
              " 'WIL': 0.9504914066436816}"
            ]
          },
          "metadata": {},
          "execution_count": 41
        }
      ]
    },
    {
      "cell_type": "code",
      "source": [
        "mc = wilWerMeteorScore('mT5_m2m_crossSum')\n",
        "mc"
      ],
      "metadata": {
        "colab": {
          "base_uri": "https://localhost:8080/"
        },
        "outputId": "bc73ba7b-c563-47f9-ebd7-ebd854eb161c",
        "id": "tmGXuGv64usU"
      },
      "execution_count": 42,
      "outputs": [
        {
          "output_type": "execute_result",
          "data": {
            "text/plain": [
              "{'METEOR': 0.326079333294802,\n",
              " 'WER': 0.9307227571867803,\n",
              " 'WIL': 0.9544542745375211}"
            ]
          },
          "metadata": {},
          "execution_count": 42
        }
      ]
    },
    {
      "cell_type": "code",
      "source": [
        "sci = wilWerMeteorScore('scibert_scivocab_uncased')\n",
        "sci"
      ],
      "metadata": {
        "colab": {
          "base_uri": "https://localhost:8080/"
        },
        "outputId": "3592ab51-a447-4709-f1d1-ea8611668ec9",
        "id": "FHdWVkRl4usU"
      },
      "execution_count": 43,
      "outputs": [
        {
          "output_type": "execute_result",
          "data": {
            "text/plain": [
              "{'METEOR': 0.48930256345325185,\n",
              " 'WER': 0.7950660066418229,\n",
              " 'WIL': 0.8220367374527348}"
            ]
          },
          "metadata": {},
          "execution_count": 43
        }
      ]
    },
    {
      "cell_type": "code",
      "source": [
        "bts = wilWerMeteorScore('Bangla_text_summarization')\n",
        "bts"
      ],
      "metadata": {
        "colab": {
          "base_uri": "https://localhost:8080/"
        },
        "outputId": "c56e1f3c-ff7b-4087-f526-1a7a6a44ecd1",
        "id": "xr8VgmWW4usV"
      },
      "execution_count": 44,
      "outputs": [
        {
          "output_type": "execute_result",
          "data": {
            "text/plain": [
              "{'METEOR': 0.03242690257906231,\n",
              " 'WER': 0.9890360779589568,\n",
              " 'WIL': 0.9986840816464203}"
            ]
          },
          "metadata": {},
          "execution_count": 44
        }
      ]
    },
    {
      "cell_type": "code",
      "source": [
        "def getScore(m, x):\n",
        "    strs = x\n",
        "    return m[strs]"
      ],
      "metadata": {
        "id": "RdC8KFz-4usV"
      },
      "execution_count": 45,
      "outputs": []
    },
    {
      "cell_type": "code",
      "source": [
        "import pandas as pd\n",
        "\n",
        "data = {'columns':['WIL', 'METEOR', 'WER'],\n",
        "        'givenSummary':[getScore(gs, 'WIL'), getScore(gs, 'METEOR'), getScore(gs, 'WER')],\n",
        "        'BestSummary':[getScore(bs, 'WIL'), getScore(bs, 'METEOR'), getScore(bs, 'WER')],\n",
        "        'mT5_multilingual_XLSum':[getScore(mx, 'WIL'), getScore(mx, 'METEOR'), getScore(mx, 'WER')],\n",
        "        'mT5_m2m_crossSum':[getScore(mc, 'WIL'), getScore(mc, 'METEOR'), getScore(mc, 'WER')],\n",
        "        'scibert_scivocab_uncased':[getScore(sci, 'WIL'), getScore(sci, 'METEOR'), getScore(sci, 'WER')],\n",
        "        'Bangla_text_summarization':[getScore(bts, 'WIL'), getScore(bts, 'METEOR'), getScore(bts, 'WER')]}\n",
        "\n",
        "threeScoreDf = pd.DataFrame(data)\n",
        "threeScoreDf_ = threeScoreDf\n",
        "threeScoreDf = threeScoreDf.reset_index(drop=True).T\n",
        "threeScoreDf = threeScoreDf.rename(columns=threeScoreDf.iloc[0]).drop(threeScoreDf.index[0])\n",
        "threeScoreDf.reset_index(inplace=True)\n",
        "threeScoreDf = threeScoreDf.rename(columns = {'index':'Summary'})\n",
        "threeScoreDf"
      ],
      "metadata": {
        "colab": {
          "base_uri": "https://localhost:8080/",
          "height": 0
        },
        "outputId": "a0faa688-506e-4d22-ff69-1f445ddf07b6",
        "id": "NDbwkVL14usV"
      },
      "execution_count": 46,
      "outputs": [
        {
          "output_type": "execute_result",
          "data": {
            "text/plain": [
              "                     Summary       WIL    METEOR       WER\n",
              "0               givenSummary  0.982233  0.278038  0.975413\n",
              "1                BestSummary   0.92545  0.360876  0.901497\n",
              "2     mT5_multilingual_XLSum  0.950491  0.332384  0.927856\n",
              "3           mT5_m2m_crossSum  0.954454  0.326079  0.930723\n",
              "4   scibert_scivocab_uncased  0.822037  0.489303  0.795066\n",
              "5  Bangla_text_summarization  0.998684  0.032427  0.989036"
            ],
            "text/html": [
              "\n",
              "\n",
              "  <div id=\"df-221b9958-ab09-406b-aa21-7a99bc5f8eb4\">\n",
              "    <div class=\"colab-df-container\">\n",
              "      <div>\n",
              "<style scoped>\n",
              "    .dataframe tbody tr th:only-of-type {\n",
              "        vertical-align: middle;\n",
              "    }\n",
              "\n",
              "    .dataframe tbody tr th {\n",
              "        vertical-align: top;\n",
              "    }\n",
              "\n",
              "    .dataframe thead th {\n",
              "        text-align: right;\n",
              "    }\n",
              "</style>\n",
              "<table border=\"1\" class=\"dataframe\">\n",
              "  <thead>\n",
              "    <tr style=\"text-align: right;\">\n",
              "      <th></th>\n",
              "      <th>Summary</th>\n",
              "      <th>WIL</th>\n",
              "      <th>METEOR</th>\n",
              "      <th>WER</th>\n",
              "    </tr>\n",
              "  </thead>\n",
              "  <tbody>\n",
              "    <tr>\n",
              "      <th>0</th>\n",
              "      <td>givenSummary</td>\n",
              "      <td>0.982233</td>\n",
              "      <td>0.278038</td>\n",
              "      <td>0.975413</td>\n",
              "    </tr>\n",
              "    <tr>\n",
              "      <th>1</th>\n",
              "      <td>BestSummary</td>\n",
              "      <td>0.92545</td>\n",
              "      <td>0.360876</td>\n",
              "      <td>0.901497</td>\n",
              "    </tr>\n",
              "    <tr>\n",
              "      <th>2</th>\n",
              "      <td>mT5_multilingual_XLSum</td>\n",
              "      <td>0.950491</td>\n",
              "      <td>0.332384</td>\n",
              "      <td>0.927856</td>\n",
              "    </tr>\n",
              "    <tr>\n",
              "      <th>3</th>\n",
              "      <td>mT5_m2m_crossSum</td>\n",
              "      <td>0.954454</td>\n",
              "      <td>0.326079</td>\n",
              "      <td>0.930723</td>\n",
              "    </tr>\n",
              "    <tr>\n",
              "      <th>4</th>\n",
              "      <td>scibert_scivocab_uncased</td>\n",
              "      <td>0.822037</td>\n",
              "      <td>0.489303</td>\n",
              "      <td>0.795066</td>\n",
              "    </tr>\n",
              "    <tr>\n",
              "      <th>5</th>\n",
              "      <td>Bangla_text_summarization</td>\n",
              "      <td>0.998684</td>\n",
              "      <td>0.032427</td>\n",
              "      <td>0.989036</td>\n",
              "    </tr>\n",
              "  </tbody>\n",
              "</table>\n",
              "</div>\n",
              "      <button class=\"colab-df-convert\" onclick=\"convertToInteractive('df-221b9958-ab09-406b-aa21-7a99bc5f8eb4')\"\n",
              "              title=\"Convert this dataframe to an interactive table.\"\n",
              "              style=\"display:none;\">\n",
              "\n",
              "  <svg xmlns=\"http://www.w3.org/2000/svg\" height=\"24px\"viewBox=\"0 0 24 24\"\n",
              "       width=\"24px\">\n",
              "    <path d=\"M0 0h24v24H0V0z\" fill=\"none\"/>\n",
              "    <path d=\"M18.56 5.44l.94 2.06.94-2.06 2.06-.94-2.06-.94-.94-2.06-.94 2.06-2.06.94zm-11 1L8.5 8.5l.94-2.06 2.06-.94-2.06-.94L8.5 2.5l-.94 2.06-2.06.94zm10 10l.94 2.06.94-2.06 2.06-.94-2.06-.94-.94-2.06-.94 2.06-2.06.94z\"/><path d=\"M17.41 7.96l-1.37-1.37c-.4-.4-.92-.59-1.43-.59-.52 0-1.04.2-1.43.59L10.3 9.45l-7.72 7.72c-.78.78-.78 2.05 0 2.83L4 21.41c.39.39.9.59 1.41.59.51 0 1.02-.2 1.41-.59l7.78-7.78 2.81-2.81c.8-.78.8-2.07 0-2.86zM5.41 20L4 18.59l7.72-7.72 1.47 1.35L5.41 20z\"/>\n",
              "  </svg>\n",
              "      </button>\n",
              "\n",
              "\n",
              "\n",
              "    <div id=\"df-6b20838e-2c22-4350-b5bf-1bfd21a3f0b1\">\n",
              "      <button class=\"colab-df-quickchart\" onclick=\"quickchart('df-6b20838e-2c22-4350-b5bf-1bfd21a3f0b1')\"\n",
              "              title=\"Suggest charts.\"\n",
              "              style=\"display:none;\">\n",
              "\n",
              "<svg xmlns=\"http://www.w3.org/2000/svg\" height=\"24px\"viewBox=\"0 0 24 24\"\n",
              "     width=\"24px\">\n",
              "    <g>\n",
              "        <path d=\"M19 3H5c-1.1 0-2 .9-2 2v14c0 1.1.9 2 2 2h14c1.1 0 2-.9 2-2V5c0-1.1-.9-2-2-2zM9 17H7v-7h2v7zm4 0h-2V7h2v10zm4 0h-2v-4h2v4z\"/>\n",
              "    </g>\n",
              "</svg>\n",
              "      </button>\n",
              "    </div>\n",
              "\n",
              "<style>\n",
              "  .colab-df-quickchart {\n",
              "    background-color: #E8F0FE;\n",
              "    border: none;\n",
              "    border-radius: 50%;\n",
              "    cursor: pointer;\n",
              "    display: none;\n",
              "    fill: #1967D2;\n",
              "    height: 32px;\n",
              "    padding: 0 0 0 0;\n",
              "    width: 32px;\n",
              "  }\n",
              "\n",
              "  .colab-df-quickchart:hover {\n",
              "    background-color: #E2EBFA;\n",
              "    box-shadow: 0px 1px 2px rgba(60, 64, 67, 0.3), 0px 1px 3px 1px rgba(60, 64, 67, 0.15);\n",
              "    fill: #174EA6;\n",
              "  }\n",
              "\n",
              "  [theme=dark] .colab-df-quickchart {\n",
              "    background-color: #3B4455;\n",
              "    fill: #D2E3FC;\n",
              "  }\n",
              "\n",
              "  [theme=dark] .colab-df-quickchart:hover {\n",
              "    background-color: #434B5C;\n",
              "    box-shadow: 0px 1px 3px 1px rgba(0, 0, 0, 0.15);\n",
              "    filter: drop-shadow(0px 1px 2px rgba(0, 0, 0, 0.3));\n",
              "    fill: #FFFFFF;\n",
              "  }\n",
              "</style>\n",
              "\n",
              "    <script>\n",
              "      async function quickchart(key) {\n",
              "        const containerElement = document.querySelector('#' + key);\n",
              "        const charts = await google.colab.kernel.invokeFunction(\n",
              "            'suggestCharts', [key], {});\n",
              "      }\n",
              "    </script>\n",
              "\n",
              "      <script>\n",
              "\n",
              "function displayQuickchartButton(domScope) {\n",
              "  let quickchartButtonEl =\n",
              "    domScope.querySelector('#df-6b20838e-2c22-4350-b5bf-1bfd21a3f0b1 button.colab-df-quickchart');\n",
              "  quickchartButtonEl.style.display =\n",
              "    google.colab.kernel.accessAllowed ? 'block' : 'none';\n",
              "}\n",
              "\n",
              "        displayQuickchartButton(document);\n",
              "      </script>\n",
              "      <style>\n",
              "    .colab-df-container {\n",
              "      display:flex;\n",
              "      flex-wrap:wrap;\n",
              "      gap: 12px;\n",
              "    }\n",
              "\n",
              "    .colab-df-convert {\n",
              "      background-color: #E8F0FE;\n",
              "      border: none;\n",
              "      border-radius: 50%;\n",
              "      cursor: pointer;\n",
              "      display: none;\n",
              "      fill: #1967D2;\n",
              "      height: 32px;\n",
              "      padding: 0 0 0 0;\n",
              "      width: 32px;\n",
              "    }\n",
              "\n",
              "    .colab-df-convert:hover {\n",
              "      background-color: #E2EBFA;\n",
              "      box-shadow: 0px 1px 2px rgba(60, 64, 67, 0.3), 0px 1px 3px 1px rgba(60, 64, 67, 0.15);\n",
              "      fill: #174EA6;\n",
              "    }\n",
              "\n",
              "    [theme=dark] .colab-df-convert {\n",
              "      background-color: #3B4455;\n",
              "      fill: #D2E3FC;\n",
              "    }\n",
              "\n",
              "    [theme=dark] .colab-df-convert:hover {\n",
              "      background-color: #434B5C;\n",
              "      box-shadow: 0px 1px 3px 1px rgba(0, 0, 0, 0.15);\n",
              "      filter: drop-shadow(0px 1px 2px rgba(0, 0, 0, 0.3));\n",
              "      fill: #FFFFFF;\n",
              "    }\n",
              "  </style>\n",
              "\n",
              "      <script>\n",
              "        const buttonEl =\n",
              "          document.querySelector('#df-221b9958-ab09-406b-aa21-7a99bc5f8eb4 button.colab-df-convert');\n",
              "        buttonEl.style.display =\n",
              "          google.colab.kernel.accessAllowed ? 'block' : 'none';\n",
              "\n",
              "        async function convertToInteractive(key) {\n",
              "          const element = document.querySelector('#df-221b9958-ab09-406b-aa21-7a99bc5f8eb4');\n",
              "          const dataTable =\n",
              "            await google.colab.kernel.invokeFunction('convertToInteractive',\n",
              "                                                     [key], {});\n",
              "          if (!dataTable) return;\n",
              "\n",
              "          const docLinkHtml = 'Like what you see? Visit the ' +\n",
              "            '<a target=\"_blank\" href=https://colab.research.google.com/notebooks/data_table.ipynb>data table notebook</a>'\n",
              "            + ' to learn more about interactive tables.';\n",
              "          element.innerHTML = '';\n",
              "          dataTable['output_type'] = 'display_data';\n",
              "          await google.colab.output.renderOutput(dataTable, element);\n",
              "          const docLink = document.createElement('div');\n",
              "          docLink.innerHTML = docLinkHtml;\n",
              "          element.appendChild(docLink);\n",
              "        }\n",
              "      </script>\n",
              "    </div>\n",
              "  </div>\n"
            ]
          },
          "metadata": {},
          "execution_count": 46
        }
      ]
    },
    {
      "cell_type": "code",
      "source": [
        "import matplotlib.pyplot as plt\n",
        "\n",
        "# plotting graph\n",
        "threeScoreDf.plot(x=\"Summary\",\n",
        "               y=['WIL', 'METEOR', 'WER'],\n",
        "               kind=\"bar\", figsize=(25, 12))\n",
        "\n",
        "plt.suptitle(\"Three Score of the summaries in Barplot\\n\\n\\n\\n\\n\\n\")\n",
        "plt.ylabel(\"Score\")"
      ],
      "metadata": {
        "colab": {
          "base_uri": "https://localhost:8080/",
          "height": 0
        },
        "outputId": "77d11e87-cd50-42c2-88e1-bb01c1c8d795",
        "id": "qNMvxSlZ4usW"
      },
      "execution_count": 47,
      "outputs": [
        {
          "output_type": "execute_result",
          "data": {
            "text/plain": [
              "Text(0, 0.5, 'Score')"
            ]
          },
          "metadata": {},
          "execution_count": 47
        },
        {
          "output_type": "display_data",
          "data": {
            "text/plain": [
              "<Figure size 2500x1200 with 1 Axes>"
            ],
            "image/png": "[encoded data removed]"
          },
          "metadata": {}
        }
      ]
    },
    {
      "cell_type": "markdown",
      "source": [
        "#### wilWerMeteor Comparing with Given Summary"
      ],
      "metadata": {
        "id": "ftZEaCqC3jTN"
      }
    },
    {
      "cell_type": "code",
      "source": [
        "meteor = MeteorScore(alpha=0.5, beta=0.5, gamma=0.5)\n",
        "\n",
        "def wilWerMeteorScore(columnName):\n",
        "    SummaryEv = finalDF.filter(['givenSummary', columnName], axis=1)\n",
        "\n",
        "    lenS = SummaryEv.shape[0]\n",
        "    wer_score = 0\n",
        "    meteor_score = 0\n",
        "    wil_score = 0\n",
        "\n",
        "    for i in range(lenS):\n",
        "        wer_result = jiwer.wer(SummaryEv['givenSummary'][i], SummaryEv[columnName][i])\n",
        "        meteor_result = meteor.meteor_score(SummaryEv[columnName][i], SummaryEv['givenSummary'][i])\n",
        "        wil_result = jiwer.wil(SummaryEv['givenSummary'][i], SummaryEv[columnName][i])\n",
        "\n",
        "        wer_score = wer_score + wer_result\n",
        "        meteor_score = meteor_score + meteor_result\n",
        "        wil_score = wil_score + wil_result\n",
        "\n",
        "    wilWerMeteor_score = {'METEOR': meteor_score/lenS,\n",
        "                    'WER': wer_score/lenS,\n",
        "                    'WIL': wil_score/lenS}\n",
        "\n",
        "    return wilWerMeteor_score\n",
        "    # return spice_score/lenS"
      ],
      "metadata": {
        "id": "yVC1T2B23jTO"
      },
      "execution_count": null,
      "outputs": []
    },
    {
      "cell_type": "code",
      "source": [
        "bs = wilWerMeteorScore('BestSummary')\n",
        "bs"
      ],
      "metadata": {
        "colab": {
          "base_uri": "https://localhost:8080/"
        },
        "outputId": "fd997059-10ae-4e39-b7df-27860ec5e5de",
        "id": "E3zB1znt3jTO"
      },
      "execution_count": null,
      "outputs": [
        {
          "output_type": "execute_result",
          "data": {
            "text/plain": [
              "{'METEOR': 0.1890327502801996,\n",
              " 'WER': 1.736189212798372,\n",
              " 'WIL': 0.9510634198454103}"
            ]
          },
          "metadata": {},
          "execution_count": 25
        }
      ]
    },
    {
      "cell_type": "code",
      "source": [
        "mx = wilWerMeteorScore('mT5_multilingual_XLSum')\n",
        "mx"
      ],
      "metadata": {
        "colab": {
          "base_uri": "https://localhost:8080/"
        },
        "outputId": "64326344-09dc-40fe-fa71-5d099d970164",
        "id": "v97e_TLm3jTO"
      },
      "execution_count": null,
      "outputs": [
        {
          "output_type": "execute_result",
          "data": {
            "text/plain": [
              "{'METEOR': 0.1819200220398466,\n",
              " 'WER': 1.2571487646750221,\n",
              " 'WIL': 0.955314751908462}"
            ]
          },
          "metadata": {},
          "execution_count": 26
        }
      ]
    },
    {
      "cell_type": "code",
      "source": [
        "mc = wilWerMeteorScore('mT5_m2m_crossSum')\n",
        "mc"
      ],
      "metadata": {
        "colab": {
          "base_uri": "https://localhost:8080/"
        },
        "outputId": "c1dc565e-d27c-4acc-ad75-7eacc27df812",
        "id": "4Ctk060w3jTO"
      },
      "execution_count": null,
      "outputs": [
        {
          "output_type": "execute_result",
          "data": {
            "text/plain": [
              "{'METEOR': 0.14289479769877236,\n",
              " 'WER': 1.2828062884171088,\n",
              " 'WIL': 0.970279137138471}"
            ]
          },
          "metadata": {},
          "execution_count": 27
        }
      ]
    },
    {
      "cell_type": "code",
      "source": [
        "sci = wilWerMeteorScore('scibert_scivocab_uncased')\n",
        "sci"
      ],
      "metadata": {
        "colab": {
          "base_uri": "https://localhost:8080/"
        },
        "outputId": "cb072f12-d569-49a5-df8e-bc7a92242fba",
        "id": "IC6WdCUn3jTO"
      },
      "execution_count": null,
      "outputs": [
        {
          "output_type": "execute_result",
          "data": {
            "text/plain": [
              "{'METEOR': 0.10834127721257635,\n",
              " 'WER': 5.173476591222463,\n",
              " 'WIL': 0.9903313038301899}"
            ]
          },
          "metadata": {},
          "execution_count": 28
        }
      ]
    },
    {
      "cell_type": "code",
      "source": [
        "bts = wilWerMeteorScore('Bangla_text_summarization')\n",
        "bts"
      ],
      "metadata": {
        "colab": {
          "base_uri": "https://localhost:8080/"
        },
        "outputId": "e70163d0-8bfa-4336-b7ec-eb41f2ee3e67",
        "id": "9_50dcaH3jTO"
      },
      "execution_count": null,
      "outputs": [
        {
          "output_type": "execute_result",
          "data": {
            "text/plain": [
              "{'METEOR': 0.006765494804034188,\n",
              " 'WER': 1.9540425725608415,\n",
              " 'WIL': 0.9997754518579295}"
            ]
          },
          "metadata": {},
          "execution_count": 29
        }
      ]
    },
    {
      "cell_type": "code",
      "source": [
        "def getScore(m, x):\n",
        "    strs = x\n",
        "    return m[strs]"
      ],
      "metadata": {
        "id": "S0tbMqBA3jTP"
      },
      "execution_count": null,
      "outputs": []
    },
    {
      "cell_type": "code",
      "source": [
        "import pandas as pd\n",
        "\n",
        "data = {'columns':['WIL', 'METEOR', 'WER'],\n",
        "        'BestSummary':[getScore(bs, 'WIL'), getScore(bs, 'METEOR'), getScore(bs, 'WER')],\n",
        "        'mT5_multilingual_XLSum':[getScore(mx, 'WIL'), getScore(mx, 'METEOR'), getScore(mx, 'WER')],\n",
        "        'mT5_m2m_crossSum':[getScore(mc, 'WIL'), getScore(mc, 'METEOR'), getScore(mc, 'WER')],\n",
        "        'scibert_scivocab_uncased':[getScore(sci, 'WIL'), getScore(sci, 'METEOR'), getScore(sci, 'WER')],\n",
        "        'Bangla_text_summarization':[getScore(bts, 'WIL'), getScore(bts, 'METEOR'), getScore(bts, 'WER')]}\n",
        "\n",
        "threeScoreDf = pd.DataFrame(data)\n",
        "threeScoreDf_ = threeScoreDf\n",
        "threeScoreDf = threeScoreDf.reset_index(drop=True).T\n",
        "threeScoreDf = threeScoreDf.rename(columns=threeScoreDf.iloc[0]).drop(threeScoreDf.index[0])\n",
        "threeScoreDf.reset_index(inplace=True)\n",
        "threeScoreDf = threeScoreDf.rename(columns = {'index':'Summary'})\n",
        "threeScoreDf"
      ],
      "metadata": {
        "colab": {
          "base_uri": "https://localhost:8080/",
          "height": 206
        },
        "id": "gpdMfMe_3jTP",
        "outputId": "89e6f590-993f-4461-f80f-3296013652d9"
      },
      "execution_count": null,
      "outputs": [
        {
          "output_type": "execute_result",
          "data": {
            "text/plain": [
              "                     Summary       WIL    METEOR       WER\n",
              "0                BestSummary  0.951063  0.189033  1.736189\n",
              "1     mT5_multilingual_XLSum  0.955315   0.18192  1.257149\n",
              "2           mT5_m2m_crossSum  0.970279  0.142895  1.282806\n",
              "3   scibert_scivocab_uncased  0.990331  0.108341  5.173477\n",
              "4  Bangla_text_summarization  0.999775  0.006765  1.954043"
            ],
            "text/html": [
              "\n",
              "  <div id=\"df-d221e186-6c06-446e-bd4f-5653a12b31d2\">\n",
              "    <div class=\"colab-df-container\">\n",
              "      <div>\n",
              "<style scoped>\n",
              "    .dataframe tbody tr th:only-of-type {\n",
              "        vertical-align: middle;\n",
              "    }\n",
              "\n",
              "    .dataframe tbody tr th {\n",
              "        vertical-align: top;\n",
              "    }\n",
              "\n",
              "    .dataframe thead th {\n",
              "        text-align: right;\n",
              "    }\n",
              "</style>\n",
              "<table border=\"1\" class=\"dataframe\">\n",
              "  <thead>\n",
              "    <tr style=\"text-align: right;\">\n",
              "      <th></th>\n",
              "      <th>Summary</th>\n",
              "      <th>WIL</th>\n",
              "      <th>METEOR</th>\n",
              "      <th>WER</th>\n",
              "    </tr>\n",
              "  </thead>\n",
              "  <tbody>\n",
              "    <tr>\n",
              "      <th>0</th>\n",
              "      <td>BestSummary</td>\n",
              "      <td>0.951063</td>\n",
              "      <td>0.189033</td>\n",
              "      <td>1.736189</td>\n",
              "    </tr>\n",
              "    <tr>\n",
              "      <th>1</th>\n",
              "      <td>mT5_multilingual_XLSum</td>\n",
              "      <td>0.955315</td>\n",
              "      <td>0.18192</td>\n",
              "      <td>1.257149</td>\n",
              "    </tr>\n",
              "    <tr>\n",
              "      <th>2</th>\n",
              "      <td>mT5_m2m_crossSum</td>\n",
              "      <td>0.970279</td>\n",
              "      <td>0.142895</td>\n",
              "      <td>1.282806</td>\n",
              "    </tr>\n",
              "    <tr>\n",
              "      <th>3</th>\n",
              "      <td>scibert_scivocab_uncased</td>\n",
              "      <td>0.990331</td>\n",
              "      <td>0.108341</td>\n",
              "      <td>5.173477</td>\n",
              "    </tr>\n",
              "    <tr>\n",
              "      <th>4</th>\n",
              "      <td>Bangla_text_summarization</td>\n",
              "      <td>0.999775</td>\n",
              "      <td>0.006765</td>\n",
              "      <td>1.954043</td>\n",
              "    </tr>\n",
              "  </tbody>\n",
              "</table>\n",
              "</div>\n",
              "      <button class=\"colab-df-convert\" onclick=\"convertToInteractive('df-d221e186-6c06-446e-bd4f-5653a12b31d2')\"\n",
              "              title=\"Convert this dataframe to an interactive table.\"\n",
              "              style=\"display:none;\">\n",
              "        \n",
              "  <svg xmlns=\"http://www.w3.org/2000/svg\" height=\"24px\"viewBox=\"0 0 24 24\"\n",
              "       width=\"24px\">\n",
              "    <path d=\"M0 0h24v24H0V0z\" fill=\"none\"/>\n",
              "    <path d=\"M18.56 5.44l.94 2.06.94-2.06 2.06-.94-2.06-.94-.94-2.06-.94 2.06-2.06.94zm-11 1L8.5 8.5l.94-2.06 2.06-.94-2.06-.94L8.5 2.5l-.94 2.06-2.06.94zm10 10l.94 2.06.94-2.06 2.06-.94-2.06-.94-.94-2.06-.94 2.06-2.06.94z\"/><path d=\"M17.41 7.96l-1.37-1.37c-.4-.4-.92-.59-1.43-.59-.52 0-1.04.2-1.43.59L10.3 9.45l-7.72 7.72c-.78.78-.78 2.05 0 2.83L4 21.41c.39.39.9.59 1.41.59.51 0 1.02-.2 1.41-.59l7.78-7.78 2.81-2.81c.8-.78.8-2.07 0-2.86zM5.41 20L4 18.59l7.72-7.72 1.47 1.35L5.41 20z\"/>\n",
              "  </svg>\n",
              "      </button>\n",
              "      \n",
              "  <style>\n",
              "    .colab-df-container {\n",
              "      display:flex;\n",
              "      flex-wrap:wrap;\n",
              "      gap: 12px;\n",
              "    }\n",
              "\n",
              "    .colab-df-convert {\n",
              "      background-color: #E8F0FE;\n",
              "      border: none;\n",
              "      border-radius: 50%;\n",
              "      cursor: pointer;\n",
              "      display: none;\n",
              "      fill: #1967D2;\n",
              "      height: 32px;\n",
              "      padding: 0 0 0 0;\n",
              "      width: 32px;\n",
              "    }\n",
              "\n",
              "    .colab-df-convert:hover {\n",
              "      background-color: #E2EBFA;\n",
              "      box-shadow: 0px 1px 2px rgba(60, 64, 67, 0.3), 0px 1px 3px 1px rgba(60, 64, 67, 0.15);\n",
              "      fill: #174EA6;\n",
              "    }\n",
              "\n",
              "    [theme=dark] .colab-df-convert {\n",
              "      background-color: #3B4455;\n",
              "      fill: #D2E3FC;\n",
              "    }\n",
              "\n",
              "    [theme=dark] .colab-df-convert:hover {\n",
              "      background-color: #434B5C;\n",
              "      box-shadow: 0px 1px 3px 1px rgba(0, 0, 0, 0.15);\n",
              "      filter: drop-shadow(0px 1px 2px rgba(0, 0, 0, 0.3));\n",
              "      fill: #FFFFFF;\n",
              "    }\n",
              "  </style>\n",
              "\n",
              "      <script>\n",
              "        const buttonEl =\n",
              "          document.querySelector('#df-d221e186-6c06-446e-bd4f-5653a12b31d2 button.colab-df-convert');\n",
              "        buttonEl.style.display =\n",
              "          google.colab.kernel.accessAllowed ? 'block' : 'none';\n",
              "\n",
              "        async function convertToInteractive(key) {\n",
              "          const element = document.querySelector('#df-d221e186-6c06-446e-bd4f-5653a12b31d2');\n",
              "          const dataTable =\n",
              "            await google.colab.kernel.invokeFunction('convertToInteractive',\n",
              "                                                     [key], {});\n",
              "          if (!dataTable) return;\n",
              "\n",
              "          const docLinkHtml = 'Like what you see? Visit the ' +\n",
              "            '<a target=\"_blank\" href=https://colab.research.google.com/notebooks/data_table.ipynb>data table notebook</a>'\n",
              "            + ' to learn more about interactive tables.';\n",
              "          element.innerHTML = '';\n",
              "          dataTable['output_type'] = 'display_data';\n",
              "          await google.colab.output.renderOutput(dataTable, element);\n",
              "          const docLink = document.createElement('div');\n",
              "          docLink.innerHTML = docLinkHtml;\n",
              "          element.appendChild(docLink);\n",
              "        }\n",
              "      </script>\n",
              "    </div>\n",
              "  </div>\n",
              "  "
            ]
          },
          "metadata": {},
          "execution_count": 31
        }
      ]
    },
    {
      "cell_type": "code",
      "source": [
        "import matplotlib.pyplot as plt\n",
        "\n",
        "# plotting graph\n",
        "threeScoreDf.plot(x=\"Summary\",\n",
        "               y=['WIL', 'METEOR', 'WER'],\n",
        "               kind=\"bar\", figsize=(25, 12))\n",
        "\n",
        "plt.suptitle(\"Three Score of the summaries in Barplot\\n\\n\\n\\n\\n\\n\")\n",
        "plt.ylabel(\"Score\")"
      ],
      "metadata": {
        "colab": {
          "base_uri": "https://localhost:8080/",
          "height": 794
        },
        "id": "k6KbXkbN3jTP",
        "outputId": "7fb2770c-8702-4787-891b-2b0bd1237786"
      },
      "execution_count": null,
      "outputs": [
        {
          "output_type": "execute_result",
          "data": {
            "text/plain": [
              "Text(0, 0.5, 'Score')"
            ]
          },
          "metadata": {},
          "execution_count": 32
        },
        {
          "output_type": "display_data",
          "data": {
            "text/plain": [
              "<Figure size 2500x1200 with 1 Axes>"
            ],
            "image/png": "[encoded data removed]"
          },
          "metadata": {}
        }
      ]
    },
    {
      "cell_type": "markdown",
      "source": [
        "#### wilWerMeteor Comparing with Given Summary Dataset II"
      ],
      "metadata": {
        "id": "um4yNloN4dmn"
      }
    },
    {
      "cell_type": "code",
      "source": [
        "meteor = MeteorScore(alpha=0.5, beta=0.5, gamma=0.5)\n",
        "\n",
        "def wilWerMeteorScore(columnName):\n",
        "    SummaryEv = finalDF2.filter(['givenSummary', columnName], axis=1)\n",
        "\n",
        "    lenS = SummaryEv.shape[0]\n",
        "    wer_score = 0\n",
        "    meteor_score = 0\n",
        "    wil_score = 0\n",
        "\n",
        "    for i in range(lenS):\n",
        "        wer_result = jiwer.wer(SummaryEv['givenSummary'][i], SummaryEv[columnName][i])\n",
        "        meteor_result = meteor.meteor_score(SummaryEv[columnName][i], SummaryEv['givenSummary'][i])\n",
        "        wil_result = jiwer.wil(SummaryEv['givenSummary'][i], SummaryEv[columnName][i])\n",
        "\n",
        "        wer_score = wer_score + wer_result\n",
        "        meteor_score = meteor_score + meteor_result\n",
        "        wil_score = wil_score + wil_result\n",
        "\n",
        "    wilWerMeteor_score = {'METEOR': meteor_score/lenS,\n",
        "                    'WER': wer_score/lenS,\n",
        "                    'WIL': wil_score/lenS}\n",
        "\n",
        "    return wilWerMeteor_score"
      ],
      "metadata": {
        "id": "K92RaBUl4dm4"
      },
      "execution_count": 29,
      "outputs": []
    },
    {
      "cell_type": "code",
      "source": [
        "bs = wilWerMeteorScore('BestSummary')\n",
        "bs"
      ],
      "metadata": {
        "colab": {
          "base_uri": "https://localhost:8080/"
        },
        "outputId": "ecf4c40f-6ca9-400b-c441-919679753ec7",
        "id": "Okk-m-NA4dm5"
      },
      "execution_count": 30,
      "outputs": [
        {
          "output_type": "execute_result",
          "data": {
            "text/plain": [
              "{'METEOR': 0.1918176265097392,\n",
              " 'WER': 4.027306002090917,\n",
              " 'WIL': 0.9452240269811664}"
            ]
          },
          "metadata": {},
          "execution_count": 30
        }
      ]
    },
    {
      "cell_type": "code",
      "source": [
        "mx = wilWerMeteorScore('mT5_multilingual_XLSum')\n",
        "mx"
      ],
      "metadata": {
        "colab": {
          "base_uri": "https://localhost:8080/"
        },
        "outputId": "07615593-27b1-46c7-dac7-ad8aefcd5edc",
        "id": "USlPnOIh4dm5"
      },
      "execution_count": 31,
      "outputs": [
        {
          "output_type": "execute_result",
          "data": {
            "text/plain": [
              "{'METEOR': 0.16411418926532143,\n",
              " 'WER': 3.195035312342285,\n",
              " 'WIL': 0.952194889657823}"
            ]
          },
          "metadata": {},
          "execution_count": 31
        }
      ]
    },
    {
      "cell_type": "code",
      "source": [
        "mc = wilWerMeteorScore('mT5_m2m_crossSum')\n",
        "mc"
      ],
      "metadata": {
        "colab": {
          "base_uri": "https://localhost:8080/"
        },
        "outputId": "bed5a70a-775f-4a89-e1b1-2951026bafca",
        "id": "BDhRMsDf4dm5"
      },
      "execution_count": 32,
      "outputs": [
        {
          "output_type": "execute_result",
          "data": {
            "text/plain": [
              "{'METEOR': 0.16304342408799613,\n",
              " 'WER': 3.1392475447273096,\n",
              " 'WIL': 0.9536280680519884}"
            ]
          },
          "metadata": {},
          "execution_count": 32
        }
      ]
    },
    {
      "cell_type": "code",
      "source": [
        "sci = wilWerMeteorScore('scibert_scivocab_uncased')\n",
        "sci"
      ],
      "metadata": {
        "colab": {
          "base_uri": "https://localhost:8080/"
        },
        "outputId": "8c51921b-850d-44f4-f725-08d913484800",
        "id": "2NE3XXVz4dm6"
      },
      "execution_count": 33,
      "outputs": [
        {
          "output_type": "execute_result",
          "data": {
            "text/plain": [
              "{'METEOR': 0.18516975257169566,\n",
              " 'WER': 7.823954938490722,\n",
              " 'WIL': 0.9629925360778967}"
            ]
          },
          "metadata": {},
          "execution_count": 33
        }
      ]
    },
    {
      "cell_type": "code",
      "source": [
        "bts = wilWerMeteorScore('Bangla_text_summarization')\n",
        "bts"
      ],
      "metadata": {
        "colab": {
          "base_uri": "https://localhost:8080/"
        },
        "outputId": "05ab51e6-56f5-4db7-9b5a-4adffef04eec",
        "id": "_WtQmC1K4dm6"
      },
      "execution_count": 34,
      "outputs": [
        {
          "output_type": "execute_result",
          "data": {
            "text/plain": [
              "{'METEOR': 0.033457857555010594,\n",
              " 'WER': 5.256959000233301,\n",
              " 'WIL': 0.9960887788995362}"
            ]
          },
          "metadata": {},
          "execution_count": 34
        }
      ]
    },
    {
      "cell_type": "code",
      "source": [
        "def getScore(m, x):\n",
        "    strs = x\n",
        "    return m[strs]"
      ],
      "metadata": {
        "id": "htXwVqpf4dm7"
      },
      "execution_count": 35,
      "outputs": []
    },
    {
      "cell_type": "code",
      "source": [
        "import pandas as pd\n",
        "\n",
        "data = {'columns':['WIL', 'METEOR', 'WER'],\n",
        "        'BestSummary':[getScore(bs, 'WIL'), getScore(bs, 'METEOR'), getScore(bs, 'WER')],\n",
        "        'mT5_multilingual_XLSum':[getScore(mx, 'WIL'), getScore(mx, 'METEOR'), getScore(mx, 'WER')],\n",
        "        'mT5_m2m_crossSum':[getScore(mc, 'WIL'), getScore(mc, 'METEOR'), getScore(mc, 'WER')],\n",
        "        'scibert_scivocab_uncased':[getScore(sci, 'WIL'), getScore(sci, 'METEOR'), getScore(sci, 'WER')],\n",
        "        'Bangla_text_summarization':[getScore(bts, 'WIL'), getScore(bts, 'METEOR'), getScore(bts, 'WER')]}\n",
        "\n",
        "threeScoreDf = pd.DataFrame(data)\n",
        "threeScoreDf_ = threeScoreDf\n",
        "threeScoreDf = threeScoreDf.reset_index(drop=True).T\n",
        "threeScoreDf = threeScoreDf.rename(columns=threeScoreDf.iloc[0]).drop(threeScoreDf.index[0])\n",
        "threeScoreDf.reset_index(inplace=True)\n",
        "threeScoreDf = threeScoreDf.rename(columns = {'index':'Summary'})\n",
        "threeScoreDf"
      ],
      "metadata": {
        "colab": {
          "base_uri": "https://localhost:8080/",
          "height": 206
        },
        "outputId": "8df6d793-c780-446f-e3c7-cc534c612d49",
        "id": "j7Z-VgaY4dm7"
      },
      "execution_count": 36,
      "outputs": [
        {
          "output_type": "execute_result",
          "data": {
            "text/plain": [
              "                     Summary       WIL    METEOR       WER\n",
              "0                BestSummary  0.945224  0.191818  4.027306\n",
              "1     mT5_multilingual_XLSum  0.952195  0.164114  3.195035\n",
              "2           mT5_m2m_crossSum  0.953628  0.163043  3.139248\n",
              "3   scibert_scivocab_uncased  0.962993   0.18517  7.823955\n",
              "4  Bangla_text_summarization  0.996089  0.033458  5.256959"
            ],
            "text/html": [
              "\n",
              "\n",
              "  <div id=\"df-64b0437c-e674-419b-9a42-a18b49adf7ab\">\n",
              "    <div class=\"colab-df-container\">\n",
              "      <div>\n",
              "<style scoped>\n",
              "    .dataframe tbody tr th:only-of-type {\n",
              "        vertical-align: middle;\n",
              "    }\n",
              "\n",
              "    .dataframe tbody tr th {\n",
              "        vertical-align: top;\n",
              "    }\n",
              "\n",
              "    .dataframe thead th {\n",
              "        text-align: right;\n",
              "    }\n",
              "</style>\n",
              "<table border=\"1\" class=\"dataframe\">\n",
              "  <thead>\n",
              "    <tr style=\"text-align: right;\">\n",
              "      <th></th>\n",
              "      <th>Summary</th>\n",
              "      <th>WIL</th>\n",
              "      <th>METEOR</th>\n",
              "      <th>WER</th>\n",
              "    </tr>\n",
              "  </thead>\n",
              "  <tbody>\n",
              "    <tr>\n",
              "      <th>0</th>\n",
              "      <td>BestSummary</td>\n",
              "      <td>0.945224</td>\n",
              "      <td>0.191818</td>\n",
              "      <td>4.027306</td>\n",
              "    </tr>\n",
              "    <tr>\n",
              "      <th>1</th>\n",
              "      <td>mT5_multilingual_XLSum</td>\n",
              "      <td>0.952195</td>\n",
              "      <td>0.164114</td>\n",
              "      <td>3.195035</td>\n",
              "    </tr>\n",
              "    <tr>\n",
              "      <th>2</th>\n",
              "      <td>mT5_m2m_crossSum</td>\n",
              "      <td>0.953628</td>\n",
              "      <td>0.163043</td>\n",
              "      <td>3.139248</td>\n",
              "    </tr>\n",
              "    <tr>\n",
              "      <th>3</th>\n",
              "      <td>scibert_scivocab_uncased</td>\n",
              "      <td>0.962993</td>\n",
              "      <td>0.18517</td>\n",
              "      <td>7.823955</td>\n",
              "    </tr>\n",
              "    <tr>\n",
              "      <th>4</th>\n",
              "      <td>Bangla_text_summarization</td>\n",
              "      <td>0.996089</td>\n",
              "      <td>0.033458</td>\n",
              "      <td>5.256959</td>\n",
              "    </tr>\n",
              "  </tbody>\n",
              "</table>\n",
              "</div>\n",
              "      <button class=\"colab-df-convert\" onclick=\"convertToInteractive('df-64b0437c-e674-419b-9a42-a18b49adf7ab')\"\n",
              "              title=\"Convert this dataframe to an interactive table.\"\n",
              "              style=\"display:none;\">\n",
              "\n",
              "  <svg xmlns=\"http://www.w3.org/2000/svg\" height=\"24px\"viewBox=\"0 0 24 24\"\n",
              "       width=\"24px\">\n",
              "    <path d=\"M0 0h24v24H0V0z\" fill=\"none\"/>\n",
              "    <path d=\"M18.56 5.44l.94 2.06.94-2.06 2.06-.94-2.06-.94-.94-2.06-.94 2.06-2.06.94zm-11 1L8.5 8.5l.94-2.06 2.06-.94-2.06-.94L8.5 2.5l-.94 2.06-2.06.94zm10 10l.94 2.06.94-2.06 2.06-.94-2.06-.94-.94-2.06-.94 2.06-2.06.94z\"/><path d=\"M17.41 7.96l-1.37-1.37c-.4-.4-.92-.59-1.43-.59-.52 0-1.04.2-1.43.59L10.3 9.45l-7.72 7.72c-.78.78-.78 2.05 0 2.83L4 21.41c.39.39.9.59 1.41.59.51 0 1.02-.2 1.41-.59l7.78-7.78 2.81-2.81c.8-.78.8-2.07 0-2.86zM5.41 20L4 18.59l7.72-7.72 1.47 1.35L5.41 20z\"/>\n",
              "  </svg>\n",
              "      </button>\n",
              "\n",
              "\n",
              "\n",
              "    <div id=\"df-1a4c816f-e6e1-44bf-9007-640b4860f71a\">\n",
              "      <button class=\"colab-df-quickchart\" onclick=\"quickchart('df-1a4c816f-e6e1-44bf-9007-640b4860f71a')\"\n",
              "              title=\"Suggest charts.\"\n",
              "              style=\"display:none;\">\n",
              "\n",
              "<svg xmlns=\"http://www.w3.org/2000/svg\" height=\"24px\"viewBox=\"0 0 24 24\"\n",
              "     width=\"24px\">\n",
              "    <g>\n",
              "        <path d=\"M19 3H5c-1.1 0-2 .9-2 2v14c0 1.1.9 2 2 2h14c1.1 0 2-.9 2-2V5c0-1.1-.9-2-2-2zM9 17H7v-7h2v7zm4 0h-2V7h2v10zm4 0h-2v-4h2v4z\"/>\n",
              "    </g>\n",
              "</svg>\n",
              "      </button>\n",
              "    </div>\n",
              "\n",
              "<style>\n",
              "  .colab-df-quickchart {\n",
              "    background-color: #E8F0FE;\n",
              "    border: none;\n",
              "    border-radius: 50%;\n",
              "    cursor: pointer;\n",
              "    display: none;\n",
              "    fill: #1967D2;\n",
              "    height: 32px;\n",
              "    padding: 0 0 0 0;\n",
              "    width: 32px;\n",
              "  }\n",
              "\n",
              "  .colab-df-quickchart:hover {\n",
              "    background-color: #E2EBFA;\n",
              "    box-shadow: 0px 1px 2px rgba(60, 64, 67, 0.3), 0px 1px 3px 1px rgba(60, 64, 67, 0.15);\n",
              "    fill: #174EA6;\n",
              "  }\n",
              "\n",
              "  [theme=dark] .colab-df-quickchart {\n",
              "    background-color: #3B4455;\n",
              "    fill: #D2E3FC;\n",
              "  }\n",
              "\n",
              "  [theme=dark] .colab-df-quickchart:hover {\n",
              "    background-color: #434B5C;\n",
              "    box-shadow: 0px 1px 3px 1px rgba(0, 0, 0, 0.15);\n",
              "    filter: drop-shadow(0px 1px 2px rgba(0, 0, 0, 0.3));\n",
              "    fill: #FFFFFF;\n",
              "  }\n",
              "</style>\n",
              "\n",
              "    <script>\n",
              "      async function quickchart(key) {\n",
              "        const containerElement = document.querySelector('#' + key);\n",
              "        const charts = await google.colab.kernel.invokeFunction(\n",
              "            'suggestCharts', [key], {});\n",
              "      }\n",
              "    </script>\n",
              "\n",
              "      <script>\n",
              "\n",
              "function displayQuickchartButton(domScope) {\n",
              "  let quickchartButtonEl =\n",
              "    domScope.querySelector('#df-1a4c816f-e6e1-44bf-9007-640b4860f71a button.colab-df-quickchart');\n",
              "  quickchartButtonEl.style.display =\n",
              "    google.colab.kernel.accessAllowed ? 'block' : 'none';\n",
              "}\n",
              "\n",
              "        displayQuickchartButton(document);\n",
              "      </script>\n",
              "      <style>\n",
              "    .colab-df-container {\n",
              "      display:flex;\n",
              "      flex-wrap:wrap;\n",
              "      gap: 12px;\n",
              "    }\n",
              "\n",
              "    .colab-df-convert {\n",
              "      background-color: #E8F0FE;\n",
              "      border: none;\n",
              "      border-radius: 50%;\n",
              "      cursor: pointer;\n",
              "      display: none;\n",
              "      fill: #1967D2;\n",
              "      height: 32px;\n",
              "      padding: 0 0 0 0;\n",
              "      width: 32px;\n",
              "    }\n",
              "\n",
              "    .colab-df-convert:hover {\n",
              "      background-color: #E2EBFA;\n",
              "      box-shadow: 0px 1px 2px rgba(60, 64, 67, 0.3), 0px 1px 3px 1px rgba(60, 64, 67, 0.15);\n",
              "      fill: #174EA6;\n",
              "    }\n",
              "\n",
              "    [theme=dark] .colab-df-convert {\n",
              "      background-color: #3B4455;\n",
              "      fill: #D2E3FC;\n",
              "    }\n",
              "\n",
              "    [theme=dark] .colab-df-convert:hover {\n",
              "      background-color: #434B5C;\n",
              "      box-shadow: 0px 1px 3px 1px rgba(0, 0, 0, 0.15);\n",
              "      filter: drop-shadow(0px 1px 2px rgba(0, 0, 0, 0.3));\n",
              "      fill: #FFFFFF;\n",
              "    }\n",
              "  </style>\n",
              "\n",
              "      <script>\n",
              "        const buttonEl =\n",
              "          document.querySelector('#df-64b0437c-e674-419b-9a42-a18b49adf7ab button.colab-df-convert');\n",
              "        buttonEl.style.display =\n",
              "          google.colab.kernel.accessAllowed ? 'block' : 'none';\n",
              "\n",
              "        async function convertToInteractive(key) {\n",
              "          const element = document.querySelector('#df-64b0437c-e674-419b-9a42-a18b49adf7ab');\n",
              "          const dataTable =\n",
              "            await google.colab.kernel.invokeFunction('convertToInteractive',\n",
              "                                                     [key], {});\n",
              "          if (!dataTable) return;\n",
              "\n",
              "          const docLinkHtml = 'Like what you see? Visit the ' +\n",
              "            '<a target=\"_blank\" href=https://colab.research.google.com/notebooks/data_table.ipynb>data table notebook</a>'\n",
              "            + ' to learn more about interactive tables.';\n",
              "          element.innerHTML = '';\n",
              "          dataTable['output_type'] = 'display_data';\n",
              "          await google.colab.output.renderOutput(dataTable, element);\n",
              "          const docLink = document.createElement('div');\n",
              "          docLink.innerHTML = docLinkHtml;\n",
              "          element.appendChild(docLink);\n",
              "        }\n",
              "      </script>\n",
              "    </div>\n",
              "  </div>\n"
            ]
          },
          "metadata": {},
          "execution_count": 36
        }
      ]
    },
    {
      "cell_type": "code",
      "source": [
        "import matplotlib.pyplot as plt\n",
        "\n",
        "# plotting graph\n",
        "threeScoreDf.plot(x=\"Summary\",\n",
        "               y=['WIL', 'METEOR', 'WER'],\n",
        "               kind=\"bar\", figsize=(25, 12))\n",
        "\n",
        "plt.suptitle(\"Three Score of the summaries in Barplot\\n\\n\\n\\n\\n\\n\")\n",
        "plt.ylabel(\"Score\")"
      ],
      "metadata": {
        "colab": {
          "base_uri": "https://localhost:8080/",
          "height": 642
        },
        "outputId": "448d4632-dd16-4b98-9da4-aab7b1d78136",
        "id": "rnVK0tED4dm8"
      },
      "execution_count": 37,
      "outputs": [
        {
          "output_type": "execute_result",
          "data": {
            "text/plain": [
              "Text(0, 0.5, 'Score')"
            ]
          },
          "metadata": {},
          "execution_count": 37
        },
        {
          "output_type": "display_data",
          "data": {
            "text/plain": [
              "<Figure size 2500x1200 with 1 Axes>"
            ],
            "image/png": "[encoded data removed]"
          },
          "metadata": {}
        }
      ]
    }
  ],
  "metadata": {
    "colab": {
      "collapsed_sections": [
        "OlCvn0ueq0EF",
        "pL4zJA__qEg1",
        "7hYGtfZCibVI"
      ],
      "provenance": [],
      "toc_visible": true,
      "include_colab_link": true
    },
    "gpuClass": "standard",
    "kernelspec": {
      "display_name": "Python 3",
      "name": "python3"
    },
    "language_info": {
      "name": "python"
    },
    "widgets": {
      "application/vnd.jupyter.widget-state+json": {
        "0e540ed57cc7485eb520fbbdaaeacf7f": {
          "model_module": "@jupyter-widgets/controls",
          "model_name": "HBoxModel",
          "model_module_version": "1.5.0",
          "state": {
            "_dom_classes": [],
            "_model_module": "@jupyter-widgets/controls",
            "_model_module_version": "1.5.0",
            "_model_name": "HBoxModel",
            "_view_count": null,
            "_view_module": "@jupyter-widgets/controls",
            "_view_module_version": "1.5.0",
            "_view_name": "HBoxView",
            "box_style": "",
            "children": [
              "IPY_MODEL_60cf3ab82c064067bcb0b680b54c5957",
              "IPY_MODEL_c8e98b1f6ae74a66b7a62b4a5aa4ee65",
              "IPY_MODEL_7333230c08ef4bd0888101adde66b35b"
            ],
            "layout": "IPY_MODEL_ade5aeb4935f48c5ba53871c3c684884"
          }
        },
        "60cf3ab82c064067bcb0b680b54c5957": {
          "model_module": "@jupyter-widgets/controls",
          "model_name": "HTMLModel",
          "model_module_version": "1.5.0",
          "state": {
            "_dom_classes": [],
            "_model_module": "@jupyter-widgets/controls",
            "_model_module_version": "1.5.0",
            "_model_name": "HTMLModel",
            "_view_count": null,
            "_view_module": "@jupyter-widgets/controls",
            "_view_module_version": "1.5.0",
            "_view_name": "HTMLView",
            "description": "",
            "description_tooltip": null,
            "layout": "IPY_MODEL_03550136eddc4732824be259c363f12f",
            "placeholder": "​",
            "style": "IPY_MODEL_07e2f0c9a6484ef7b3f7df8ac2dfc894",
            "value": "Downloading (…)okenizer_config.json: 100%"
          }
        },
        "c8e98b1f6ae74a66b7a62b4a5aa4ee65": {
          "model_module": "@jupyter-widgets/controls",
          "model_name": "FloatProgressModel",
          "model_module_version": "1.5.0",
          "state": {
            "_dom_classes": [],
            "_model_module": "@jupyter-widgets/controls",
            "_model_module_version": "1.5.0",
            "_model_name": "FloatProgressModel",
            "_view_count": null,
            "_view_module": "@jupyter-widgets/controls",
            "_view_module_version": "1.5.0",
            "_view_name": "ProgressView",
            "bar_style": "success",
            "description": "",
            "description_tooltip": null,
            "layout": "IPY_MODEL_548c61cf5a864a0a8484d05782bb29b7",
            "max": 29,
            "min": 0,
            "orientation": "horizontal",
            "style": "IPY_MODEL_317acbb91264455282429ff56b303ddd",
            "value": 29
          }
        },
        "7333230c08ef4bd0888101adde66b35b": {
          "model_module": "@jupyter-widgets/controls",
          "model_name": "HTMLModel",
          "model_module_version": "1.5.0",
          "state": {
            "_dom_classes": [],
            "_model_module": "@jupyter-widgets/controls",
            "_model_module_version": "1.5.0",
            "_model_name": "HTMLModel",
            "_view_count": null,
            "_view_module": "@jupyter-widgets/controls",
            "_view_module_version": "1.5.0",
            "_view_name": "HTMLView",
            "description": "",
            "description_tooltip": null,
            "layout": "IPY_MODEL_60fc7441a58140fca8a2853f43bf24ee",
            "placeholder": "​",
            "style": "IPY_MODEL_7bacb3fc03924a09bffe9e603b1d3b35",
            "value": " 29.0/29.0 [00:00&lt;00:00, 454B/s]"
          }
        },
        "ade5aeb4935f48c5ba53871c3c684884": {
          "model_module": "@jupyter-widgets/base",
          "model_name": "LayoutModel",
          "model_module_version": "1.2.0",
          "state": {
            "_model_module": "@jupyter-widgets/base",
            "_model_module_version": "1.2.0",
            "_model_name": "LayoutModel",
            "_view_count": null,
            "_view_module": "@jupyter-widgets/base",
            "_view_module_version": "1.2.0",
            "_view_name": "LayoutView",
            "align_content": null,
            "align_items": null,
            "align_self": null,
            "border": null,
            "bottom": null,
            "display": null,
            "flex": null,
            "flex_flow": null,
            "grid_area": null,
            "grid_auto_columns": null,
            "grid_auto_flow": null,
            "grid_auto_rows": null,
            "grid_column": null,
            "grid_gap": null,
            "grid_row": null,
            "grid_template_areas": null,
            "grid_template_columns": null,
            "grid_template_rows": null,
            "height": null,
            "justify_content": null,
            "justify_items": null,
            "left": null,
            "margin": null,
            "max_height": null,
            "max_width": null,
            "min_height": null,
            "min_width": null,
            "object_fit": null,
            "object_position": null,
            "order": null,
            "overflow": null,
            "overflow_x": null,
            "overflow_y": null,
            "padding": null,
            "right": null,
            "top": null,
            "visibility": null,
            "width": null
          }
        },
        "03550136eddc4732824be259c363f12f": {
          "model_module": "@jupyter-widgets/base",
          "model_name": "LayoutModel",
          "model_module_version": "1.2.0",
          "state": {
            "_model_module": "@jupyter-widgets/base",
            "_model_module_version": "1.2.0",
            "_model_name": "LayoutModel",
            "_view_count": null,
            "_view_module": "@jupyter-widgets/base",
            "_view_module_version": "1.2.0",
            "_view_name": "LayoutView",
            "align_content": null,
            "align_items": null,
            "align_self": null,
            "border": null,
            "bottom": null,
            "display": null,
            "flex": null,
            "flex_flow": null,
            "grid_area": null,
            "grid_auto_columns": null,
            "grid_auto_flow": null,
            "grid_auto_rows": null,
            "grid_column": null,
            "grid_gap": null,
            "grid_row": null,
            "grid_template_areas": null,
            "grid_template_columns": null,
            "grid_template_rows": null,
            "height": null,
            "justify_content": null,
            "justify_items": null,
            "left": null,
            "margin": null,
            "max_height": null,
            "max_width": null,
            "min_height": null,
            "min_width": null,
            "object_fit": null,
            "object_position": null,
            "order": null,
            "overflow": null,
            "overflow_x": null,
            "overflow_y": null,
            "padding": null,
            "right": null,
            "top": null,
            "visibility": null,
            "width": null
          }
        },
        "07e2f0c9a6484ef7b3f7df8ac2dfc894": {
          "model_module": "@jupyter-widgets/controls",
          "model_name": "DescriptionStyleModel",
          "model_module_version": "1.5.0",
          "state": {
            "_model_module": "@jupyter-widgets/controls",
            "_model_module_version": "1.5.0",
            "_model_name": "DescriptionStyleModel",
            "_view_count": null,
            "_view_module": "@jupyter-widgets/base",
            "_view_module_version": "1.2.0",
            "_view_name": "StyleView",
            "description_width": ""
          }
        },
        "548c61cf5a864a0a8484d05782bb29b7": {
          "model_module": "@jupyter-widgets/base",
          "model_name": "LayoutModel",
          "model_module_version": "1.2.0",
          "state": {
            "_model_module": "@jupyter-widgets/base",
            "_model_module_version": "1.2.0",
            "_model_name": "LayoutModel",
            "_view_count": null,
            "_view_module": "@jupyter-widgets/base",
            "_view_module_version": "1.2.0",
            "_view_name": "LayoutView",
            "align_content": null,
            "align_items": null,
            "align_self": null,
            "border": null,
            "bottom": null,
            "display": null,
            "flex": null,
            "flex_flow": null,
            "grid_area": null,
            "grid_auto_columns": null,
            "grid_auto_flow": null,
            "grid_auto_rows": null,
            "grid_column": null,
            "grid_gap": null,
            "grid_row": null,
            "grid_template_areas": null,
            "grid_template_columns": null,
            "grid_template_rows": null,
            "height": null,
            "justify_content": null,
            "justify_items": null,
            "left": null,
            "margin": null,
            "max_height": null,
            "max_width": null,
            "min_height": null,
            "min_width": null,
            "object_fit": null,
            "object_position": null,
            "order": null,
            "overflow": null,
            "overflow_x": null,
            "overflow_y": null,
            "padding": null,
            "right": null,
            "top": null,
            "visibility": null,
            "width": null
          }
        },
        "317acbb91264455282429ff56b303ddd": {
          "model_module": "@jupyter-widgets/controls",
          "model_name": "ProgressStyleModel",
          "model_module_version": "1.5.0",
          "state": {
            "_model_module": "@jupyter-widgets/controls",
            "_model_module_version": "1.5.0",
            "_model_name": "ProgressStyleModel",
            "_view_count": null,
            "_view_module": "@jupyter-widgets/base",
            "_view_module_version": "1.2.0",
            "_view_name": "StyleView",
            "bar_color": null,
            "description_width": ""
          }
        },
        "60fc7441a58140fca8a2853f43bf24ee": {
          "model_module": "@jupyter-widgets/base",
          "model_name": "LayoutModel",
          "model_module_version": "1.2.0",
          "state": {
            "_model_module": "@jupyter-widgets/base",
            "_model_module_version": "1.2.0",
            "_model_name": "LayoutModel",
            "_view_count": null,
            "_view_module": "@jupyter-widgets/base",
            "_view_module_version": "1.2.0",
            "_view_name": "LayoutView",
            "align_content": null,
            "align_items": null,
            "align_self": null,
            "border": null,
            "bottom": null,
            "display": null,
            "flex": null,
            "flex_flow": null,
            "grid_area": null,
            "grid_auto_columns": null,
            "grid_auto_flow": null,
            "grid_auto_rows": null,
            "grid_column": null,
            "grid_gap": null,
            "grid_row": null,
            "grid_template_areas": null,
            "grid_template_columns": null,
            "grid_template_rows": null,
            "height": null,
            "justify_content": null,
            "justify_items": null,
            "left": null,
            "margin": null,
            "max_height": null,
            "max_width": null,
            "min_height": null,
            "min_width": null,
            "object_fit": null,
            "object_position": null,
            "order": null,
            "overflow": null,
            "overflow_x": null,
            "overflow_y": null,
            "padding": null,
            "right": null,
            "top": null,
            "visibility": null,
            "width": null
          }
        },
        "7bacb3fc03924a09bffe9e603b1d3b35": {
          "model_module": "@jupyter-widgets/controls",
          "model_name": "DescriptionStyleModel",
          "model_module_version": "1.5.0",
          "state": {
            "_model_module": "@jupyter-widgets/controls",
            "_model_module_version": "1.5.0",
            "_model_name": "DescriptionStyleModel",
            "_view_count": null,
            "_view_module": "@jupyter-widgets/base",
            "_view_module_version": "1.2.0",
            "_view_name": "StyleView",
            "description_width": ""
          }
        },
        "1e0c398edcb445949a9aa34232f7d274": {
          "model_module": "@jupyter-widgets/controls",
          "model_name": "HBoxModel",
          "model_module_version": "1.5.0",
          "state": {
            "_dom_classes": [],
            "_model_module": "@jupyter-widgets/controls",
            "_model_module_version": "1.5.0",
            "_model_name": "HBoxModel",
            "_view_count": null,
            "_view_module": "@jupyter-widgets/controls",
            "_view_module_version": "1.5.0",
            "_view_name": "HBoxView",
            "box_style": "",
            "children": [
              "IPY_MODEL_6b39048722084e14b607184340f875df",
              "IPY_MODEL_79561c711e214da1b677e28556a9a743",
              "IPY_MODEL_dc5b750dd9b643cea6bc5e778162045a"
            ],
            "layout": "IPY_MODEL_d89bc4faa0f649bea6043427d0754df9"
          }
        },
        "6b39048722084e14b607184340f875df": {
          "model_module": "@jupyter-widgets/controls",
          "model_name": "HTMLModel",
          "model_module_version": "1.5.0",
          "state": {
            "_dom_classes": [],
            "_model_module": "@jupyter-widgets/controls",
            "_model_module_version": "1.5.0",
            "_model_name": "HTMLModel",
            "_view_count": null,
            "_view_module": "@jupyter-widgets/controls",
            "_view_module_version": "1.5.0",
            "_view_name": "HTMLView",
            "description": "",
            "description_tooltip": null,
            "layout": "IPY_MODEL_3a29047098234d93a6cb660b3e64d7bb",
            "placeholder": "​",
            "style": "IPY_MODEL_941ad181f62a4e99ba3c13a7e1dbf3b8",
            "value": "Downloading (…)lve/main/config.json: 100%"
          }
        },
        "79561c711e214da1b677e28556a9a743": {
          "model_module": "@jupyter-widgets/controls",
          "model_name": "FloatProgressModel",
          "model_module_version": "1.5.0",
          "state": {
            "_dom_classes": [],
            "_model_module": "@jupyter-widgets/controls",
            "_model_module_version": "1.5.0",
            "_model_name": "FloatProgressModel",
            "_view_count": null,
            "_view_module": "@jupyter-widgets/controls",
            "_view_module_version": "1.5.0",
            "_view_name": "ProgressView",
            "bar_style": "success",
            "description": "",
            "description_tooltip": null,
            "layout": "IPY_MODEL_7899042fec96485c8c5115d7c15b2fe1",
            "max": 625,
            "min": 0,
            "orientation": "horizontal",
            "style": "IPY_MODEL_fb12b013ec62451d9e8c99e665b0b50a",
            "value": 625
          }
        },
        "dc5b750dd9b643cea6bc5e778162045a": {
          "model_module": "@jupyter-widgets/controls",
          "model_name": "HTMLModel",
          "model_module_version": "1.5.0",
          "state": {
            "_dom_classes": [],
            "_model_module": "@jupyter-widgets/controls",
            "_model_module_version": "1.5.0",
            "_model_name": "HTMLModel",
            "_view_count": null,
            "_view_module": "@jupyter-widgets/controls",
            "_view_module_version": "1.5.0",
            "_view_name": "HTMLView",
            "description": "",
            "description_tooltip": null,
            "layout": "IPY_MODEL_49862b7e0dbe4b41a92f48ddf60c1685",
            "placeholder": "​",
            "style": "IPY_MODEL_08156461c9fb4d808da1f7afa6f2185c",
            "value": " 625/625 [00:00&lt;00:00, 17.5kB/s]"
          }
        },
        "d89bc4faa0f649bea6043427d0754df9": {
          "model_module": "@jupyter-widgets/base",
          "model_name": "LayoutModel",
          "model_module_version": "1.2.0",
          "state": {
            "_model_module": "@jupyter-widgets/base",
            "_model_module_version": "1.2.0",
            "_model_name": "LayoutModel",
            "_view_count": null,
            "_view_module": "@jupyter-widgets/base",
            "_view_module_version": "1.2.0",
            "_view_name": "LayoutView",
            "align_content": null,
            "align_items": null,
            "align_self": null,
            "border": null,
            "bottom": null,
            "display": null,
            "flex": null,
            "flex_flow": null,
            "grid_area": null,
            "grid_auto_columns": null,
            "grid_auto_flow": null,
            "grid_auto_rows": null,
            "grid_column": null,
            "grid_gap": null,
            "grid_row": null,
            "grid_template_areas": null,
            "grid_template_columns": null,
            "grid_template_rows": null,
            "height": null,
            "justify_content": null,
            "justify_items": null,
            "left": null,
            "margin": null,
            "max_height": null,
            "max_width": null,
            "min_height": null,
            "min_width": null,
            "object_fit": null,
            "object_position": null,
            "order": null,
            "overflow": null,
            "overflow_x": null,
            "overflow_y": null,
            "padding": null,
            "right": null,
            "top": null,
            "visibility": null,
            "width": null
          }
        },
        "3a29047098234d93a6cb660b3e64d7bb": {
          "model_module": "@jupyter-widgets/base",
          "model_name": "LayoutModel",
          "model_module_version": "1.2.0",
          "state": {
            "_model_module": "@jupyter-widgets/base",
            "_model_module_version": "1.2.0",
            "_model_name": "LayoutModel",
            "_view_count": null,
            "_view_module": "@jupyter-widgets/base",
            "_view_module_version": "1.2.0",
            "_view_name": "LayoutView",
            "align_content": null,
            "align_items": null,
            "align_self": null,
            "border": null,
            "bottom": null,
            "display": null,
            "flex": null,
            "flex_flow": null,
            "grid_area": null,
            "grid_auto_columns": null,
            "grid_auto_flow": null,
            "grid_auto_rows": null,
            "grid_column": null,
            "grid_gap": null,
            "grid_row": null,
            "grid_template_areas": null,
            "grid_template_columns": null,
            "grid_template_rows": null,
            "height": null,
            "justify_content": null,
            "justify_items": null,
            "left": null,
            "margin": null,
            "max_height": null,
            "max_width": null,
            "min_height": null,
            "min_width": null,
            "object_fit": null,
            "object_position": null,
            "order": null,
            "overflow": null,
            "overflow_x": null,
            "overflow_y": null,
            "padding": null,
            "right": null,
            "top": null,
            "visibility": null,
            "width": null
          }
        },
        "941ad181f62a4e99ba3c13a7e1dbf3b8": {
          "model_module": "@jupyter-widgets/controls",
          "model_name": "DescriptionStyleModel",
          "model_module_version": "1.5.0",
          "state": {
            "_model_module": "@jupyter-widgets/controls",
            "_model_module_version": "1.5.0",
            "_model_name": "DescriptionStyleModel",
            "_view_count": null,
            "_view_module": "@jupyter-widgets/base",
            "_view_module_version": "1.2.0",
            "_view_name": "StyleView",
            "description_width": ""
          }
        },
        "7899042fec96485c8c5115d7c15b2fe1": {
          "model_module": "@jupyter-widgets/base",
          "model_name": "LayoutModel",
          "model_module_version": "1.2.0",
          "state": {
            "_model_module": "@jupyter-widgets/base",
            "_model_module_version": "1.2.0",
            "_model_name": "LayoutModel",
            "_view_count": null,
            "_view_module": "@jupyter-widgets/base",
            "_view_module_version": "1.2.0",
            "_view_name": "LayoutView",
            "align_content": null,
            "align_items": null,
            "align_self": null,
            "border": null,
            "bottom": null,
            "display": null,
            "flex": null,
            "flex_flow": null,
            "grid_area": null,
            "grid_auto_columns": null,
            "grid_auto_flow": null,
            "grid_auto_rows": null,
            "grid_column": null,
            "grid_gap": null,
            "grid_row": null,
            "grid_template_areas": null,
            "grid_template_columns": null,
            "grid_template_rows": null,
            "height": null,
            "justify_content": null,
            "justify_items": null,
            "left": null,
            "margin": null,
            "max_height": null,
            "max_width": null,
            "min_height": null,
            "min_width": null,
            "object_fit": null,
            "object_position": null,
            "order": null,
            "overflow": null,
            "overflow_x": null,
            "overflow_y": null,
            "padding": null,
            "right": null,
            "top": null,
            "visibility": null,
            "width": null
          }
        },
        "fb12b013ec62451d9e8c99e665b0b50a": {
          "model_module": "@jupyter-widgets/controls",
          "model_name": "ProgressStyleModel",
          "model_module_version": "1.5.0",
          "state": {
            "_model_module": "@jupyter-widgets/controls",
            "_model_module_version": "1.5.0",
            "_model_name": "ProgressStyleModel",
            "_view_count": null,
            "_view_module": "@jupyter-widgets/base",
            "_view_module_version": "1.2.0",
            "_view_name": "StyleView",
            "bar_color": null,
            "description_width": ""
          }
        },
        "49862b7e0dbe4b41a92f48ddf60c1685": {
          "model_module": "@jupyter-widgets/base",
          "model_name": "LayoutModel",
          "model_module_version": "1.2.0",
          "state": {
            "_model_module": "@jupyter-widgets/base",
            "_model_module_version": "1.2.0",
            "_model_name": "LayoutModel",
            "_view_count": null,
            "_view_module": "@jupyter-widgets/base",
            "_view_module_version": "1.2.0",
            "_view_name": "LayoutView",
            "align_content": null,
            "align_items": null,
            "align_self": null,
            "border": null,
            "bottom": null,
            "display": null,
            "flex": null,
            "flex_flow": null,
            "grid_area": null,
            "grid_auto_columns": null,
            "grid_auto_flow": null,
            "grid_auto_rows": null,
            "grid_column": null,
            "grid_gap": null,
            "grid_row": null,
            "grid_template_areas": null,
            "grid_template_columns": null,
            "grid_template_rows": null,
            "height": null,
            "justify_content": null,
            "justify_items": null,
            "left": null,
            "margin": null,
            "max_height": null,
            "max_width": null,
            "min_height": null,
            "min_width": null,
            "object_fit": null,
            "object_position": null,
            "order": null,
            "overflow": null,
            "overflow_x": null,
            "overflow_y": null,
            "padding": null,
            "right": null,
            "top": null,
            "visibility": null,
            "width": null
          }
        },
        "08156461c9fb4d808da1f7afa6f2185c": {
          "model_module": "@jupyter-widgets/controls",
          "model_name": "DescriptionStyleModel",
          "model_module_version": "1.5.0",
          "state": {
            "_model_module": "@jupyter-widgets/controls",
            "_model_module_version": "1.5.0",
            "_model_name": "DescriptionStyleModel",
            "_view_count": null,
            "_view_module": "@jupyter-widgets/base",
            "_view_module_version": "1.2.0",
            "_view_name": "StyleView",
            "description_width": ""
          }
        },
        "980dcf29658a4441be5f1ca8e576d11c": {
          "model_module": "@jupyter-widgets/controls",
          "model_name": "HBoxModel",
          "model_module_version": "1.5.0",
          "state": {
            "_dom_classes": [],
            "_model_module": "@jupyter-widgets/controls",
            "_model_module_version": "1.5.0",
            "_model_name": "HBoxModel",
            "_view_count": null,
            "_view_module": "@jupyter-widgets/controls",
            "_view_module_version": "1.5.0",
            "_view_name": "HBoxView",
            "box_style": "",
            "children": [
              "IPY_MODEL_a315e921099e4330a2e8959a2e88ce93",
              "IPY_MODEL_39c0b3bb62a74b168ede7a6d650ab429",
              "IPY_MODEL_5898783559c3427b9b65070fa17c5c0a"
            ],
            "layout": "IPY_MODEL_d50fae0ca14d4d619af51c10f8091a8a"
          }
        },
        "a315e921099e4330a2e8959a2e88ce93": {
          "model_module": "@jupyter-widgets/controls",
          "model_name": "HTMLModel",
          "model_module_version": "1.5.0",
          "state": {
            "_dom_classes": [],
            "_model_module": "@jupyter-widgets/controls",
            "_model_module_version": "1.5.0",
            "_model_name": "HTMLModel",
            "_view_count": null,
            "_view_module": "@jupyter-widgets/controls",
            "_view_module_version": "1.5.0",
            "_view_name": "HTMLView",
            "description": "",
            "description_tooltip": null,
            "layout": "IPY_MODEL_7ce5535e97704387973a01d2ce841855",
            "placeholder": "​",
            "style": "IPY_MODEL_c98c8bd27c0f44949728dc5ee7d2e1a3",
            "value": "Downloading (…)solve/main/vocab.txt: 100%"
          }
        },
        "39c0b3bb62a74b168ede7a6d650ab429": {
          "model_module": "@jupyter-widgets/controls",
          "model_name": "FloatProgressModel",
          "model_module_version": "1.5.0",
          "state": {
            "_dom_classes": [],
            "_model_module": "@jupyter-widgets/controls",
            "_model_module_version": "1.5.0",
            "_model_name": "FloatProgressModel",
            "_view_count": null,
            "_view_module": "@jupyter-widgets/controls",
            "_view_module_version": "1.5.0",
            "_view_name": "ProgressView",
            "bar_style": "success",
            "description": "",
            "description_tooltip": null,
            "layout": "IPY_MODEL_a8ddadb65694412182054c924643a518",
            "max": 995526,
            "min": 0,
            "orientation": "horizontal",
            "style": "IPY_MODEL_4b692896d83c446ab4e5c1b55f730736",
            "value": 995526
          }
        },
        "5898783559c3427b9b65070fa17c5c0a": {
          "model_module": "@jupyter-widgets/controls",
          "model_name": "HTMLModel",
          "model_module_version": "1.5.0",
          "state": {
            "_dom_classes": [],
            "_model_module": "@jupyter-widgets/controls",
            "_model_module_version": "1.5.0",
            "_model_name": "HTMLModel",
            "_view_count": null,
            "_view_module": "@jupyter-widgets/controls",
            "_view_module_version": "1.5.0",
            "_view_name": "HTMLView",
            "description": "",
            "description_tooltip": null,
            "layout": "IPY_MODEL_a6f851a4ffe643bba0f9f164a9c48130",
            "placeholder": "​",
            "style": "IPY_MODEL_2bcedbb1da8a4d10bcc31c2d97f9ccd6",
            "value": " 996k/996k [00:00&lt;00:00, 7.56MB/s]"
          }
        },
        "d50fae0ca14d4d619af51c10f8091a8a": {
          "model_module": "@jupyter-widgets/base",
          "model_name": "LayoutModel",
          "model_module_version": "1.2.0",
          "state": {
            "_model_module": "@jupyter-widgets/base",
            "_model_module_version": "1.2.0",
            "_model_name": "LayoutModel",
            "_view_count": null,
            "_view_module": "@jupyter-widgets/base",
            "_view_module_version": "1.2.0",
            "_view_name": "LayoutView",
            "align_content": null,
            "align_items": null,
            "align_self": null,
            "border": null,
            "bottom": null,
            "display": null,
            "flex": null,
            "flex_flow": null,
            "grid_area": null,
            "grid_auto_columns": null,
            "grid_auto_flow": null,
            "grid_auto_rows": null,
            "grid_column": null,
            "grid_gap": null,
            "grid_row": null,
            "grid_template_areas": null,
            "grid_template_columns": null,
            "grid_template_rows": null,
            "height": null,
            "justify_content": null,
            "justify_items": null,
            "left": null,
            "margin": null,
            "max_height": null,
            "max_width": null,
            "min_height": null,
            "min_width": null,
            "object_fit": null,
            "object_position": null,
            "order": null,
            "overflow": null,
            "overflow_x": null,
            "overflow_y": null,
            "padding": null,
            "right": null,
            "top": null,
            "visibility": null,
            "width": null
          }
        },
        "7ce5535e97704387973a01d2ce841855": {
          "model_module": "@jupyter-widgets/base",
          "model_name": "LayoutModel",
          "model_module_version": "1.2.0",
          "state": {
            "_model_module": "@jupyter-widgets/base",
            "_model_module_version": "1.2.0",
            "_model_name": "LayoutModel",
            "_view_count": null,
            "_view_module": "@jupyter-widgets/base",
            "_view_module_version": "1.2.0",
            "_view_name": "LayoutView",
            "align_content": null,
            "align_items": null,
            "align_self": null,
            "border": null,
            "bottom": null,
            "display": null,
            "flex": null,
            "flex_flow": null,
            "grid_area": null,
            "grid_auto_columns": null,
            "grid_auto_flow": null,
            "grid_auto_rows": null,
            "grid_column": null,
            "grid_gap": null,
            "grid_row": null,
            "grid_template_areas": null,
            "grid_template_columns": null,
            "grid_template_rows": null,
            "height": null,
            "justify_content": null,
            "justify_items": null,
            "left": null,
            "margin": null,
            "max_height": null,
            "max_width": null,
            "min_height": null,
            "min_width": null,
            "object_fit": null,
            "object_position": null,
            "order": null,
            "overflow": null,
            "overflow_x": null,
            "overflow_y": null,
            "padding": null,
            "right": null,
            "top": null,
            "visibility": null,
            "width": null
          }
        },
        "c98c8bd27c0f44949728dc5ee7d2e1a3": {
          "model_module": "@jupyter-widgets/controls",
          "model_name": "DescriptionStyleModel",
          "model_module_version": "1.5.0",
          "state": {
            "_model_module": "@jupyter-widgets/controls",
            "_model_module_version": "1.5.0",
            "_model_name": "DescriptionStyleModel",
            "_view_count": null,
            "_view_module": "@jupyter-widgets/base",
            "_view_module_version": "1.2.0",
            "_view_name": "StyleView",
            "description_width": ""
          }
        },
        "a8ddadb65694412182054c924643a518": {
          "model_module": "@jupyter-widgets/base",
          "model_name": "LayoutModel",
          "model_module_version": "1.2.0",
          "state": {
            "_model_module": "@jupyter-widgets/base",
            "_model_module_version": "1.2.0",
            "_model_name": "LayoutModel",
            "_view_count": null,
            "_view_module": "@jupyter-widgets/base",
            "_view_module_version": "1.2.0",
            "_view_name": "LayoutView",
            "align_content": null,
            "align_items": null,
            "align_self": null,
            "border": null,
            "bottom": null,
            "display": null,
            "flex": null,
            "flex_flow": null,
            "grid_area": null,
            "grid_auto_columns": null,
            "grid_auto_flow": null,
            "grid_auto_rows": null,
            "grid_column": null,
            "grid_gap": null,
            "grid_row": null,
            "grid_template_areas": null,
            "grid_template_columns": null,
            "grid_template_rows": null,
            "height": null,
            "justify_content": null,
            "justify_items": null,
            "left": null,
            "margin": null,
            "max_height": null,
            "max_width": null,
            "min_height": null,
            "min_width": null,
            "object_fit": null,
            "object_position": null,
            "order": null,
            "overflow": null,
            "overflow_x": null,
            "overflow_y": null,
            "padding": null,
            "right": null,
            "top": null,
            "visibility": null,
            "width": null
          }
        },
        "4b692896d83c446ab4e5c1b55f730736": {
          "model_module": "@jupyter-widgets/controls",
          "model_name": "ProgressStyleModel",
          "model_module_version": "1.5.0",
          "state": {
            "_model_module": "@jupyter-widgets/controls",
            "_model_module_version": "1.5.0",
            "_model_name": "ProgressStyleModel",
            "_view_count": null,
            "_view_module": "@jupyter-widgets/base",
            "_view_module_version": "1.2.0",
            "_view_name": "StyleView",
            "bar_color": null,
            "description_width": ""
          }
        },
        "a6f851a4ffe643bba0f9f164a9c48130": {
          "model_module": "@jupyter-widgets/base",
          "model_name": "LayoutModel",
          "model_module_version": "1.2.0",
          "state": {
            "_model_module": "@jupyter-widgets/base",
            "_model_module_version": "1.2.0",
            "_model_name": "LayoutModel",
            "_view_count": null,
            "_view_module": "@jupyter-widgets/base",
            "_view_module_version": "1.2.0",
            "_view_name": "LayoutView",
            "align_content": null,
            "align_items": null,
            "align_self": null,
            "border": null,
            "bottom": null,
            "display": null,
            "flex": null,
            "flex_flow": null,
            "grid_area": null,
            "grid_auto_columns": null,
            "grid_auto_flow": null,
            "grid_auto_rows": null,
            "grid_column": null,
            "grid_gap": null,
            "grid_row": null,
            "grid_template_areas": null,
            "grid_template_columns": null,
            "grid_template_rows": null,
            "height": null,
            "justify_content": null,
            "justify_items": null,
            "left": null,
            "margin": null,
            "max_height": null,
            "max_width": null,
            "min_height": null,
            "min_width": null,
            "object_fit": null,
            "object_position": null,
            "order": null,
            "overflow": null,
            "overflow_x": null,
            "overflow_y": null,
            "padding": null,
            "right": null,
            "top": null,
            "visibility": null,
            "width": null
          }
        },
        "2bcedbb1da8a4d10bcc31c2d97f9ccd6": {
          "model_module": "@jupyter-widgets/controls",
          "model_name": "DescriptionStyleModel",
          "model_module_version": "1.5.0",
          "state": {
            "_model_module": "@jupyter-widgets/controls",
            "_model_module_version": "1.5.0",
            "_model_name": "DescriptionStyleModel",
            "_view_count": null,
            "_view_module": "@jupyter-widgets/base",
            "_view_module_version": "1.2.0",
            "_view_name": "StyleView",
            "description_width": ""
          }
        },
        "7fb55ca1e94a4348bad867a423c90329": {
          "model_module": "@jupyter-widgets/controls",
          "model_name": "HBoxModel",
          "model_module_version": "1.5.0",
          "state": {
            "_dom_classes": [],
            "_model_module": "@jupyter-widgets/controls",
            "_model_module_version": "1.5.0",
            "_model_name": "HBoxModel",
            "_view_count": null,
            "_view_module": "@jupyter-widgets/controls",
            "_view_module_version": "1.5.0",
            "_view_name": "HBoxView",
            "box_style": "",
            "children": [
              "IPY_MODEL_b5df13bf9f454d4984e7dca40de5497b",
              "IPY_MODEL_21f87c0a659e4b70ab14db4deb47919d",
              "IPY_MODEL_caa0bf25f57f42a1a7acef4a12d4248d"
            ],
            "layout": "IPY_MODEL_303777af495d42b2a8f9cfd91e8d9998"
          }
        },
        "b5df13bf9f454d4984e7dca40de5497b": {
          "model_module": "@jupyter-widgets/controls",
          "model_name": "HTMLModel",
          "model_module_version": "1.5.0",
          "state": {
            "_dom_classes": [],
            "_model_module": "@jupyter-widgets/controls",
            "_model_module_version": "1.5.0",
            "_model_name": "HTMLModel",
            "_view_count": null,
            "_view_module": "@jupyter-widgets/controls",
            "_view_module_version": "1.5.0",
            "_view_name": "HTMLView",
            "description": "",
            "description_tooltip": null,
            "layout": "IPY_MODEL_512590b9d4564d2e89a692fe158dc32f",
            "placeholder": "​",
            "style": "IPY_MODEL_9f2a40534e424b5186d3fd68b3830d6e",
            "value": "Downloading model.safetensors: 100%"
          }
        },
        "21f87c0a659e4b70ab14db4deb47919d": {
          "model_module": "@jupyter-widgets/controls",
          "model_name": "FloatProgressModel",
          "model_module_version": "1.5.0",
          "state": {
            "_dom_classes": [],
            "_model_module": "@jupyter-widgets/controls",
            "_model_module_version": "1.5.0",
            "_model_name": "FloatProgressModel",
            "_view_count": null,
            "_view_module": "@jupyter-widgets/controls",
            "_view_module_version": "1.5.0",
            "_view_name": "ProgressView",
            "bar_style": "success",
            "description": "",
            "description_tooltip": null,
            "layout": "IPY_MODEL_512df821fae64f75ab850b75abb7dc4b",
            "max": 714290682,
            "min": 0,
            "orientation": "horizontal",
            "style": "IPY_MODEL_4850efa0c8b544ccb7a376ee0dc9b25b",
            "value": 714290682
          }
        },
        "caa0bf25f57f42a1a7acef4a12d4248d": {
          "model_module": "@jupyter-widgets/controls",
          "model_name": "HTMLModel",
          "model_module_version": "1.5.0",
          "state": {
            "_dom_classes": [],
            "_model_module": "@jupyter-widgets/controls",
            "_model_module_version": "1.5.0",
            "_model_name": "HTMLModel",
            "_view_count": null,
            "_view_module": "@jupyter-widgets/controls",
            "_view_module_version": "1.5.0",
            "_view_name": "HTMLView",
            "description": "",
            "description_tooltip": null,
            "layout": "IPY_MODEL_6cbdd1b34dc7425797a5138af2f192e9",
            "placeholder": "​",
            "style": "IPY_MODEL_a8986721d15344bfb7518daf53985f83",
            "value": " 714M/714M [00:08&lt;00:00, 75.7MB/s]"
          }
        },
        "303777af495d42b2a8f9cfd91e8d9998": {
          "model_module": "@jupyter-widgets/base",
          "model_name": "LayoutModel",
          "model_module_version": "1.2.0",
          "state": {
            "_model_module": "@jupyter-widgets/base",
            "_model_module_version": "1.2.0",
            "_model_name": "LayoutModel",
            "_view_count": null,
            "_view_module": "@jupyter-widgets/base",
            "_view_module_version": "1.2.0",
            "_view_name": "LayoutView",
            "align_content": null,
            "align_items": null,
            "align_self": null,
            "border": null,
            "bottom": null,
            "display": null,
            "flex": null,
            "flex_flow": null,
            "grid_area": null,
            "grid_auto_columns": null,
            "grid_auto_flow": null,
            "grid_auto_rows": null,
            "grid_column": null,
            "grid_gap": null,
            "grid_row": null,
            "grid_template_areas": null,
            "grid_template_columns": null,
            "grid_template_rows": null,
            "height": null,
            "justify_content": null,
            "justify_items": null,
            "left": null,
            "margin": null,
            "max_height": null,
            "max_width": null,
            "min_height": null,
            "min_width": null,
            "object_fit": null,
            "object_position": null,
            "order": null,
            "overflow": null,
            "overflow_x": null,
            "overflow_y": null,
            "padding": null,
            "right": null,
            "top": null,
            "visibility": null,
            "width": null
          }
        },
        "512590b9d4564d2e89a692fe158dc32f": {
          "model_module": "@jupyter-widgets/base",
          "model_name": "LayoutModel",
          "model_module_version": "1.2.0",
          "state": {
            "_model_module": "@jupyter-widgets/base",
            "_model_module_version": "1.2.0",
            "_model_name": "LayoutModel",
            "_view_count": null,
            "_view_module": "@jupyter-widgets/base",
            "_view_module_version": "1.2.0",
            "_view_name": "LayoutView",
            "align_content": null,
            "align_items": null,
            "align_self": null,
            "border": null,
            "bottom": null,
            "display": null,
            "flex": null,
            "flex_flow": null,
            "grid_area": null,
            "grid_auto_columns": null,
            "grid_auto_flow": null,
            "grid_auto_rows": null,
            "grid_column": null,
            "grid_gap": null,
            "grid_row": null,
            "grid_template_areas": null,
            "grid_template_columns": null,
            "grid_template_rows": null,
            "height": null,
            "justify_content": null,
            "justify_items": null,
            "left": null,
            "margin": null,
            "max_height": null,
            "max_width": null,
            "min_height": null,
            "min_width": null,
            "object_fit": null,
            "object_position": null,
            "order": null,
            "overflow": null,
            "overflow_x": null,
            "overflow_y": null,
            "padding": null,
            "right": null,
            "top": null,
            "visibility": null,
            "width": null
          }
        },
        "9f2a40534e424b5186d3fd68b3830d6e": {
          "model_module": "@jupyter-widgets/controls",
          "model_name": "DescriptionStyleModel",
          "model_module_version": "1.5.0",
          "state": {
            "_model_module": "@jupyter-widgets/controls",
            "_model_module_version": "1.5.0",
            "_model_name": "DescriptionStyleModel",
            "_view_count": null,
            "_view_module": "@jupyter-widgets/base",
            "_view_module_version": "1.2.0",
            "_view_name": "StyleView",
            "description_width": ""
          }
        },
        "512df821fae64f75ab850b75abb7dc4b": {
          "model_module": "@jupyter-widgets/base",
          "model_name": "LayoutModel",
          "model_module_version": "1.2.0",
          "state": {
            "_model_module": "@jupyter-widgets/base",
            "_model_module_version": "1.2.0",
            "_model_name": "LayoutModel",
            "_view_count": null,
            "_view_module": "@jupyter-widgets/base",
            "_view_module_version": "1.2.0",
            "_view_name": "LayoutView",
            "align_content": null,
            "align_items": null,
            "align_self": null,
            "border": null,
            "bottom": null,
            "display": null,
            "flex": null,
            "flex_flow": null,
            "grid_area": null,
            "grid_auto_columns": null,
            "grid_auto_flow": null,
            "grid_auto_rows": null,
            "grid_column": null,
            "grid_gap": null,
            "grid_row": null,
            "grid_template_areas": null,
            "grid_template_columns": null,
            "grid_template_rows": null,
            "height": null,
            "justify_content": null,
            "justify_items": null,
            "left": null,
            "margin": null,
            "max_height": null,
            "max_width": null,
            "min_height": null,
            "min_width": null,
            "object_fit": null,
            "object_position": null,
            "order": null,
            "overflow": null,
            "overflow_x": null,
            "overflow_y": null,
            "padding": null,
            "right": null,
            "top": null,
            "visibility": null,
            "width": null
          }
        },
        "4850efa0c8b544ccb7a376ee0dc9b25b": {
          "model_module": "@jupyter-widgets/controls",
          "model_name": "ProgressStyleModel",
          "model_module_version": "1.5.0",
          "state": {
            "_model_module": "@jupyter-widgets/controls",
            "_model_module_version": "1.5.0",
            "_model_name": "ProgressStyleModel",
            "_view_count": null,
            "_view_module": "@jupyter-widgets/base",
            "_view_module_version": "1.2.0",
            "_view_name": "StyleView",
            "bar_color": null,
            "description_width": ""
          }
        },
        "6cbdd1b34dc7425797a5138af2f192e9": {
          "model_module": "@jupyter-widgets/base",
          "model_name": "LayoutModel",
          "model_module_version": "1.2.0",
          "state": {
            "_model_module": "@jupyter-widgets/base",
            "_model_module_version": "1.2.0",
            "_model_name": "LayoutModel",
            "_view_count": null,
            "_view_module": "@jupyter-widgets/base",
            "_view_module_version": "1.2.0",
            "_view_name": "LayoutView",
            "align_content": null,
            "align_items": null,
            "align_self": null,
            "border": null,
            "bottom": null,
            "display": null,
            "flex": null,
            "flex_flow": null,
            "grid_area": null,
            "grid_auto_columns": null,
            "grid_auto_flow": null,
            "grid_auto_rows": null,
            "grid_column": null,
            "grid_gap": null,
            "grid_row": null,
            "grid_template_areas": null,
            "grid_template_columns": null,
            "grid_template_rows": null,
            "height": null,
            "justify_content": null,
            "justify_items": null,
            "left": null,
            "margin": null,
            "max_height": null,
            "max_width": null,
            "min_height": null,
            "min_width": null,
            "object_fit": null,
            "object_position": null,
            "order": null,
            "overflow": null,
            "overflow_x": null,
            "overflow_y": null,
            "padding": null,
            "right": null,
            "top": null,
            "visibility": null,
            "width": null
          }
        },
        "a8986721d15344bfb7518daf53985f83": {
          "model_module": "@jupyter-widgets/controls",
          "model_name": "DescriptionStyleModel",
          "model_module_version": "1.5.0",
          "state": {
            "_model_module": "@jupyter-widgets/controls",
            "_model_module_version": "1.5.0",
            "_model_name": "DescriptionStyleModel",
            "_view_count": null,
            "_view_module": "@jupyter-widgets/base",
            "_view_module_version": "1.2.0",
            "_view_name": "StyleView",
            "description_width": ""
          }
        }
      }
    }
  },
  "nbformat": 4,
  "nbformat_minor": 0
}
