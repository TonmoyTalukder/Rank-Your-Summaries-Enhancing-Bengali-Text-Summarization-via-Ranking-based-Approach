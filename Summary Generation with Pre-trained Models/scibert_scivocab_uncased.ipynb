{
  "cells": [
    {
      "cell_type": "markdown",
      "metadata": {
        "id": "view-in-github",
        "colab_type": "text"
      },
      "source": [
        "<a href=\"https://colab.research.google.com/github/TonmoyTalukder/Rank-Your-Summaries-Enhancing-Bengali-Text-Summarization-via-Ranking-based-Approach/blob/main/Summary%20Generation%20with%20Pre-trained%20Models/scibert_scivocab_uncased.ipynb\" target=\"_parent\"><img src=\"https://colab.research.google.com/assets/colab-badge.svg\" alt=\"Open In Colab\"/></a>"
      ]
    },
    {
      "cell_type": "code",
      "execution_count": null,
      "metadata": {
        "colab": {
          "base_uri": "https://localhost:8080/"
        },
        "id": "LZjWe98TmRda",
        "outputId": "d2bff8c6-b2a8-4931-bc1b-99d55f8853cf"
      },
      "outputs": [
        {
          "output_type": "stream",
          "name": "stdout",
          "text": [
            "Mounted at /content/drive\n"
          ]
        }
      ],
      "source": [
        "from google.colab import drive\n",
        "drive.mount('/content/drive')"
      ]
    },
    {
      "cell_type": "markdown",
      "metadata": {
        "id": "tCEpHmsEREg4"
      },
      "source": [
        "# Dataset Loading"
      ]
    },
    {
      "cell_type": "markdown",
      "source": [
        "## Dataset I"
      ],
      "metadata": {
        "id": "7O0cuiT03bI1"
      }
    },
    {
      "cell_type": "code",
      "execution_count": null,
      "metadata": {
        "id": "kbmN3mCAnFXr"
      },
      "outputs": [],
      "source": [
        "#install dataset\n",
        "!pip install datasets"
      ]
    },
    {
      "cell_type": "code",
      "execution_count": null,
      "metadata": {
        "id": "BXVqHQBSnL6f"
      },
      "outputs": [],
      "source": [
        "from datasets import load_dataset\n",
        "from pprint import pprint"
      ]
    },
    {
      "cell_type": "code",
      "execution_count": null,
      "metadata": {
        "id": "-AbYFphgnUgD"
      },
      "outputs": [],
      "source": [
        "traindf = load_dataset('csebuetnlp/xlsum', 'bengali', split='train')"
      ]
    },
    {
      "cell_type": "code",
      "execution_count": null,
      "metadata": {
        "colab": {
          "base_uri": "https://localhost:8080/"
        },
        "id": "XqpZPkUTuCy7",
        "outputId": "7804522c-f527-4fcc-d507-c35030d03e44"
      },
      "outputs": [
        {
          "output_type": "stream",
          "name": "stderr",
          "text": [
            "WARNING:datasets.builder:Found cached dataset xlsum (/root/.cache/huggingface/datasets/csebuetnlp___xlsum/bengali/2.0.0/518ab0af76048660bcc2240ca6e8692a977c80e384ffb18fdddebaca6daebdce)\n"
          ]
        }
      ],
      "source": [
        "testdf = load_dataset('csebuetnlp/xlsum', 'bengali', split='test')"
      ]
    },
    {
      "cell_type": "code",
      "execution_count": null,
      "metadata": {
        "colab": {
          "base_uri": "https://localhost:8080/"
        },
        "id": "IqDFBAkduQjG",
        "outputId": "9a2f4cbb-4419-404f-bb77-aa1420025cb7"
      },
      "outputs": [
        {
          "output_type": "stream",
          "name": "stderr",
          "text": [
            "WARNING:datasets.builder:Found cached dataset xlsum (/root/.cache/huggingface/datasets/csebuetnlp___xlsum/bengali/2.0.0/518ab0af76048660bcc2240ca6e8692a977c80e384ffb18fdddebaca6daebdce)\n"
          ]
        }
      ],
      "source": [
        "valdf = load_dataset('csebuetnlp/xlsum', 'bengali', split='validation')"
      ]
    },
    {
      "cell_type": "code",
      "execution_count": null,
      "metadata": {
        "id": "JCLOr4JGnkD6"
      },
      "outputs": [],
      "source": [
        "print(\"Dataset length: \", len(traindf))\n",
        "print(\"\\n First item dataset[0]: \")\n",
        "pprint(traindf[1])"
      ]
    },
    {
      "cell_type": "code",
      "execution_count": null,
      "metadata": {
        "colab": {
          "base_uri": "https://localhost:8080/"
        },
        "id": "mXSSbpgNqCZ_",
        "outputId": "40bcfd9c-a57c-49a5-d8ab-d4a95a70c9a3"
      },
      "outputs": [
        {
          "output_type": "stream",
          "name": "stdout",
          "text": [
            "9356\n",
            "<class 'str'>\n"
          ]
        }
      ],
      "source": [
        "pprint(len(traindf[0]['text']))\n",
        "pprint(type(traindf[0]['text']))"
      ]
    },
    {
      "cell_type": "code",
      "execution_count": null,
      "metadata": {
        "colab": {
          "base_uri": "https://localhost:8080/",
          "height": 337
        },
        "id": "ddAt1geNLTiY",
        "outputId": "51696f77-b608-424f-c6b8-eda4d0d5add0"
      },
      "outputs": [
        {
          "output_type": "execute_result",
          "data": {
            "text/plain": [
              "              id                                        url  \\\n",
              "0  news-54690291  https://www.bbc.com/bengali/news-54690291   \n",
              "1  news-50797621  https://www.bbc.com/bengali/news-50797621   \n",
              "2  news-46678346  https://www.bbc.com/bengali/news-46678346   \n",
              "3  news-51860832  https://www.bbc.com/bengali/news-51860832   \n",
              "4       56310420       https://www.bbc.com/bengali/56310420   \n",
              "\n",
              "                                               title  \\\n",
              "0  দুর্গাপূজার সময়ে যেভাবে শোক পালন করেন 'মহিষাস...   \n",
              "1  রাশিয়ায় ক্ষমতার ২০ বছর যেভাবে কেটেছে ভ্লাদিম...   \n",
              "2  সংসদ নির্বাচন: বরিশালে ছয়টি আসন কিন্তু সবার দ...   \n",
              "3  সর্বকালের সর্বশ্রেষ্ঠ বাঙালি: বিবিসি বাংলার জর...   \n",
              "4  ৭ই মার্চের ভাষণ: ৫০ বছর আগে রেসকোর্স ময়দানে উ...   \n",
              "\n",
              "                                             summary  \\\n",
              "0  হিন্দু বাঙালীরা যে সময়ে তাদের সবথেকে বড় উৎসব...   \n",
              "1  ভ্লাদিমির পুতিন তাঁর ক্ষমতায় থাকার ২০ বছর পূর...   \n",
              "2  বাংলাদেশের দক্ষিণাঞ্চলীয় জেলা বরিশাল এখন তুমু...   \n",
              "3  দু'হাজার চার সালে বিবিসি বাংলা একটি 'শ্রোতা জর...   \n",
              "4  'ভাষণ শুরু আগে মাথার উপর দিয়ে বিমান আর হেলিকপ...   \n",
              "\n",
              "                                                text  \n",
              "0  দুর্গাপুজায় মহিষাসুর বধ্যে মধ্য দিয়ে অশুভর ও...  \n",
              "1  গত ২০ বছরে তিনি রাশিয়ার প্রেসিডেন্ট এবং প্রধা...  \n",
              "2  বরিশাল সদরে চলছে নির্বাচনী প্রচার প্রচারণা। যদ...  \n",
              "3  রবীন্দ্রনাথ ঠাকুর রবীন্দ্রনাথ ঠাকুর বাঙালির কা...  \n",
              "4  আর কুমিল্লা থেকে বাস ভাড়া করে অনেকের সাথে নিজ...  "
            ],
            "text/html": [
              "\n",
              "  <div id=\"df-899378b3-b6e2-4c31-ab25-cb6df64766ce\">\n",
              "    <div class=\"colab-df-container\">\n",
              "      <div>\n",
              "<style scoped>\n",
              "    .dataframe tbody tr th:only-of-type {\n",
              "        vertical-align: middle;\n",
              "    }\n",
              "\n",
              "    .dataframe tbody tr th {\n",
              "        vertical-align: top;\n",
              "    }\n",
              "\n",
              "    .dataframe thead th {\n",
              "        text-align: right;\n",
              "    }\n",
              "</style>\n",
              "<table border=\"1\" class=\"dataframe\">\n",
              "  <thead>\n",
              "    <tr style=\"text-align: right;\">\n",
              "      <th></th>\n",
              "      <th>id</th>\n",
              "      <th>url</th>\n",
              "      <th>title</th>\n",
              "      <th>summary</th>\n",
              "      <th>text</th>\n",
              "    </tr>\n",
              "  </thead>\n",
              "  <tbody>\n",
              "    <tr>\n",
              "      <th>0</th>\n",
              "      <td>news-54690291</td>\n",
              "      <td>https://www.bbc.com/bengali/news-54690291</td>\n",
              "      <td>দুর্গাপূজার সময়ে যেভাবে শোক পালন করেন 'মহিষাস...</td>\n",
              "      <td>হিন্দু বাঙালীরা যে সময়ে তাদের সবথেকে বড় উৎসব...</td>\n",
              "      <td>দুর্গাপুজায় মহিষাসুর বধ্যে মধ্য দিয়ে অশুভর ও...</td>\n",
              "    </tr>\n",
              "    <tr>\n",
              "      <th>1</th>\n",
              "      <td>news-50797621</td>\n",
              "      <td>https://www.bbc.com/bengali/news-50797621</td>\n",
              "      <td>রাশিয়ায় ক্ষমতার ২০ বছর যেভাবে কেটেছে ভ্লাদিম...</td>\n",
              "      <td>ভ্লাদিমির পুতিন তাঁর ক্ষমতায় থাকার ২০ বছর পূর...</td>\n",
              "      <td>গত ২০ বছরে তিনি রাশিয়ার প্রেসিডেন্ট এবং প্রধা...</td>\n",
              "    </tr>\n",
              "    <tr>\n",
              "      <th>2</th>\n",
              "      <td>news-46678346</td>\n",
              "      <td>https://www.bbc.com/bengali/news-46678346</td>\n",
              "      <td>সংসদ নির্বাচন: বরিশালে ছয়টি আসন কিন্তু সবার দ...</td>\n",
              "      <td>বাংলাদেশের দক্ষিণাঞ্চলীয় জেলা বরিশাল এখন তুমু...</td>\n",
              "      <td>বরিশাল সদরে চলছে নির্বাচনী প্রচার প্রচারণা। যদ...</td>\n",
              "    </tr>\n",
              "    <tr>\n",
              "      <th>3</th>\n",
              "      <td>news-51860832</td>\n",
              "      <td>https://www.bbc.com/bengali/news-51860832</td>\n",
              "      <td>সর্বকালের সর্বশ্রেষ্ঠ বাঙালি: বিবিসি বাংলার জর...</td>\n",
              "      <td>দু'হাজার চার সালে বিবিসি বাংলা একটি 'শ্রোতা জর...</td>\n",
              "      <td>রবীন্দ্রনাথ ঠাকুর রবীন্দ্রনাথ ঠাকুর বাঙালির কা...</td>\n",
              "    </tr>\n",
              "    <tr>\n",
              "      <th>4</th>\n",
              "      <td>56310420</td>\n",
              "      <td>https://www.bbc.com/bengali/56310420</td>\n",
              "      <td>৭ই মার্চের ভাষণ: ৫০ বছর আগে রেসকোর্স ময়দানে উ...</td>\n",
              "      <td>'ভাষণ শুরু আগে মাথার উপর দিয়ে বিমান আর হেলিকপ...</td>\n",
              "      <td>আর কুমিল্লা থেকে বাস ভাড়া করে অনেকের সাথে নিজ...</td>\n",
              "    </tr>\n",
              "  </tbody>\n",
              "</table>\n",
              "</div>\n",
              "      <button class=\"colab-df-convert\" onclick=\"convertToInteractive('df-899378b3-b6e2-4c31-ab25-cb6df64766ce')\"\n",
              "              title=\"Convert this dataframe to an interactive table.\"\n",
              "              style=\"display:none;\">\n",
              "        \n",
              "  <svg xmlns=\"http://www.w3.org/2000/svg\" height=\"24px\"viewBox=\"0 0 24 24\"\n",
              "       width=\"24px\">\n",
              "    <path d=\"M0 0h24v24H0V0z\" fill=\"none\"/>\n",
              "    <path d=\"M18.56 5.44l.94 2.06.94-2.06 2.06-.94-2.06-.94-.94-2.06-.94 2.06-2.06.94zm-11 1L8.5 8.5l.94-2.06 2.06-.94-2.06-.94L8.5 2.5l-.94 2.06-2.06.94zm10 10l.94 2.06.94-2.06 2.06-.94-2.06-.94-.94-2.06-.94 2.06-2.06.94z\"/><path d=\"M17.41 7.96l-1.37-1.37c-.4-.4-.92-.59-1.43-.59-.52 0-1.04.2-1.43.59L10.3 9.45l-7.72 7.72c-.78.78-.78 2.05 0 2.83L4 21.41c.39.39.9.59 1.41.59.51 0 1.02-.2 1.41-.59l7.78-7.78 2.81-2.81c.8-.78.8-2.07 0-2.86zM5.41 20L4 18.59l7.72-7.72 1.47 1.35L5.41 20z\"/>\n",
              "  </svg>\n",
              "      </button>\n",
              "      \n",
              "  <style>\n",
              "    .colab-df-container {\n",
              "      display:flex;\n",
              "      flex-wrap:wrap;\n",
              "      gap: 12px;\n",
              "    }\n",
              "\n",
              "    .colab-df-convert {\n",
              "      background-color: #E8F0FE;\n",
              "      border: none;\n",
              "      border-radius: 50%;\n",
              "      cursor: pointer;\n",
              "      display: none;\n",
              "      fill: #1967D2;\n",
              "      height: 32px;\n",
              "      padding: 0 0 0 0;\n",
              "      width: 32px;\n",
              "    }\n",
              "\n",
              "    .colab-df-convert:hover {\n",
              "      background-color: #E2EBFA;\n",
              "      box-shadow: 0px 1px 2px rgba(60, 64, 67, 0.3), 0px 1px 3px 1px rgba(60, 64, 67, 0.15);\n",
              "      fill: #174EA6;\n",
              "    }\n",
              "\n",
              "    [theme=dark] .colab-df-convert {\n",
              "      background-color: #3B4455;\n",
              "      fill: #D2E3FC;\n",
              "    }\n",
              "\n",
              "    [theme=dark] .colab-df-convert:hover {\n",
              "      background-color: #434B5C;\n",
              "      box-shadow: 0px 1px 3px 1px rgba(0, 0, 0, 0.15);\n",
              "      filter: drop-shadow(0px 1px 2px rgba(0, 0, 0, 0.3));\n",
              "      fill: #FFFFFF;\n",
              "    }\n",
              "  </style>\n",
              "\n",
              "      <script>\n",
              "        const buttonEl =\n",
              "          document.querySelector('#df-899378b3-b6e2-4c31-ab25-cb6df64766ce button.colab-df-convert');\n",
              "        buttonEl.style.display =\n",
              "          google.colab.kernel.accessAllowed ? 'block' : 'none';\n",
              "\n",
              "        async function convertToInteractive(key) {\n",
              "          const element = document.querySelector('#df-899378b3-b6e2-4c31-ab25-cb6df64766ce');\n",
              "          const dataTable =\n",
              "            await google.colab.kernel.invokeFunction('convertToInteractive',\n",
              "                                                     [key], {});\n",
              "          if (!dataTable) return;\n",
              "\n",
              "          const docLinkHtml = 'Like what you see? Visit the ' +\n",
              "            '<a target=\"_blank\" href=https://colab.research.google.com/notebooks/data_table.ipynb>data table notebook</a>'\n",
              "            + ' to learn more about interactive tables.';\n",
              "          element.innerHTML = '';\n",
              "          dataTable['output_type'] = 'display_data';\n",
              "          await google.colab.output.renderOutput(dataTable, element);\n",
              "          const docLink = document.createElement('div');\n",
              "          docLink.innerHTML = docLinkHtml;\n",
              "          element.appendChild(docLink);\n",
              "        }\n",
              "      </script>\n",
              "    </div>\n",
              "  </div>\n",
              "  "
            ]
          },
          "metadata": {},
          "execution_count": 10
        }
      ],
      "source": [
        "import pandas as pd\n",
        "\n",
        "df = pd.DataFrame(traindf)\n",
        "\n",
        "df.head()"
      ]
    },
    {
      "cell_type": "code",
      "execution_count": null,
      "metadata": {
        "id": "P2xztHLbuIRs"
      },
      "outputs": [],
      "source": [
        "testdf = pd.DataFrame(testdf)\n",
        "\n",
        "testdf"
      ]
    },
    {
      "cell_type": "code",
      "execution_count": null,
      "metadata": {
        "id": "W92gt_EOuY_M"
      },
      "outputs": [],
      "source": [
        "valdf = pd.DataFrame(valdf)\n",
        "\n",
        "valdf"
      ]
    },
    {
      "cell_type": "code",
      "execution_count": null,
      "metadata": {
        "id": "rZYvL_0dWUX4"
      },
      "outputs": [],
      "source": [
        "df.head(10)"
      ]
    },
    {
      "cell_type": "code",
      "execution_count": null,
      "metadata": {
        "id": "JAcMz-kr2EXa"
      },
      "outputs": [],
      "source": [
        "df['text'][2]"
      ]
    },
    {
      "cell_type": "code",
      "execution_count": null,
      "metadata": {
        "colab": {
          "base_uri": "https://localhost:8080/"
        },
        "id": "Wh8qEbTQ9BAL",
        "outputId": "36e508c3-beb4-4d18-b428-edb78c552458"
      },
      "outputs": [
        {
          "output_type": "execute_result",
          "data": {
            "text/plain": [
              "8102"
            ]
          },
          "metadata": {},
          "execution_count": 15
        }
      ],
      "source": [
        "rows = df.shape[0]\n",
        "rows"
      ]
    },
    {
      "cell_type": "code",
      "execution_count": null,
      "metadata": {
        "colab": {
          "base_uri": "https://localhost:8080/"
        },
        "id": "fdsfmiQ3seYW",
        "outputId": "899602bf-a3ff-4196-bd9d-61b8d9712c1b"
      },
      "outputs": [
        {
          "output_type": "stream",
          "name": "stdout",
          "text": [
            "<class 'pandas.core.frame.DataFrame'>\n",
            "RangeIndex: 8102 entries, 0 to 8101\n",
            "Data columns (total 5 columns):\n",
            " #   Column   Non-Null Count  Dtype \n",
            "---  ------   --------------  ----- \n",
            " 0   id       8102 non-null   object\n",
            " 1   url      8102 non-null   object\n",
            " 2   title    8102 non-null   object\n",
            " 3   summary  8102 non-null   object\n",
            " 4   text     8102 non-null   object\n",
            "dtypes: object(5)\n",
            "memory usage: 316.6+ KB\n"
          ]
        }
      ],
      "source": [
        "df.info()"
      ]
    },
    {
      "cell_type": "code",
      "execution_count": null,
      "metadata": {
        "colab": {
          "base_uri": "https://localhost:8080/",
          "height": 219
        },
        "id": "tM9JleHUtr_0",
        "outputId": "8dc2572c-dea9-440c-fd2d-85187b8a2b75"
      },
      "outputs": [
        {
          "output_type": "execute_result",
          "data": {
            "text/plain": [
              "                   id                                        url  \\\n",
              "count            8102                                       8102   \n",
              "unique           8102                                       8102   \n",
              "top     news-54690291  https://www.bbc.com/bengali/news-54690291   \n",
              "freq                1                                          1   \n",
              "\n",
              "                                          title  \\\n",
              "count                                      8102   \n",
              "unique                                     8101   \n",
              "top     বাংলাদেশে শিশু ধর্ষণের ঘটনা বাড়ছে কেন?   \n",
              "freq                                          2   \n",
              "\n",
              "                                                  summary  \\\n",
              "count                                                8102   \n",
              "unique                                               8098   \n",
              "top     বাংলাদেশে পরবর্তী প্রধান নির্বাচন কমিশনার হিসে...   \n",
              "freq                                                    2   \n",
              "\n",
              "                                                     text  \n",
              "count                                                8102  \n",
              "unique                                               8102  \n",
              "top     দুর্গাপুজায় মহিষাসুর বধ্যে মধ্য দিয়ে অশুভর ও...  \n",
              "freq                                                    1  "
            ],
            "text/html": [
              "\n",
              "  <div id=\"df-1c03c9a6-7fea-4c76-8df5-fa567fdbd44a\">\n",
              "    <div class=\"colab-df-container\">\n",
              "      <div>\n",
              "<style scoped>\n",
              "    .dataframe tbody tr th:only-of-type {\n",
              "        vertical-align: middle;\n",
              "    }\n",
              "\n",
              "    .dataframe tbody tr th {\n",
              "        vertical-align: top;\n",
              "    }\n",
              "\n",
              "    .dataframe thead th {\n",
              "        text-align: right;\n",
              "    }\n",
              "</style>\n",
              "<table border=\"1\" class=\"dataframe\">\n",
              "  <thead>\n",
              "    <tr style=\"text-align: right;\">\n",
              "      <th></th>\n",
              "      <th>id</th>\n",
              "      <th>url</th>\n",
              "      <th>title</th>\n",
              "      <th>summary</th>\n",
              "      <th>text</th>\n",
              "    </tr>\n",
              "  </thead>\n",
              "  <tbody>\n",
              "    <tr>\n",
              "      <th>count</th>\n",
              "      <td>8102</td>\n",
              "      <td>8102</td>\n",
              "      <td>8102</td>\n",
              "      <td>8102</td>\n",
              "      <td>8102</td>\n",
              "    </tr>\n",
              "    <tr>\n",
              "      <th>unique</th>\n",
              "      <td>8102</td>\n",
              "      <td>8102</td>\n",
              "      <td>8101</td>\n",
              "      <td>8098</td>\n",
              "      <td>8102</td>\n",
              "    </tr>\n",
              "    <tr>\n",
              "      <th>top</th>\n",
              "      <td>news-54690291</td>\n",
              "      <td>https://www.bbc.com/bengali/news-54690291</td>\n",
              "      <td>বাংলাদেশে শিশু ধর্ষণের ঘটনা বাড়ছে কেন?</td>\n",
              "      <td>বাংলাদেশে পরবর্তী প্রধান নির্বাচন কমিশনার হিসে...</td>\n",
              "      <td>দুর্গাপুজায় মহিষাসুর বধ্যে মধ্য দিয়ে অশুভর ও...</td>\n",
              "    </tr>\n",
              "    <tr>\n",
              "      <th>freq</th>\n",
              "      <td>1</td>\n",
              "      <td>1</td>\n",
              "      <td>2</td>\n",
              "      <td>2</td>\n",
              "      <td>1</td>\n",
              "    </tr>\n",
              "  </tbody>\n",
              "</table>\n",
              "</div>\n",
              "      <button class=\"colab-df-convert\" onclick=\"convertToInteractive('df-1c03c9a6-7fea-4c76-8df5-fa567fdbd44a')\"\n",
              "              title=\"Convert this dataframe to an interactive table.\"\n",
              "              style=\"display:none;\">\n",
              "        \n",
              "  <svg xmlns=\"http://www.w3.org/2000/svg\" height=\"24px\"viewBox=\"0 0 24 24\"\n",
              "       width=\"24px\">\n",
              "    <path d=\"M0 0h24v24H0V0z\" fill=\"none\"/>\n",
              "    <path d=\"M18.56 5.44l.94 2.06.94-2.06 2.06-.94-2.06-.94-.94-2.06-.94 2.06-2.06.94zm-11 1L8.5 8.5l.94-2.06 2.06-.94-2.06-.94L8.5 2.5l-.94 2.06-2.06.94zm10 10l.94 2.06.94-2.06 2.06-.94-2.06-.94-.94-2.06-.94 2.06-2.06.94z\"/><path d=\"M17.41 7.96l-1.37-1.37c-.4-.4-.92-.59-1.43-.59-.52 0-1.04.2-1.43.59L10.3 9.45l-7.72 7.72c-.78.78-.78 2.05 0 2.83L4 21.41c.39.39.9.59 1.41.59.51 0 1.02-.2 1.41-.59l7.78-7.78 2.81-2.81c.8-.78.8-2.07 0-2.86zM5.41 20L4 18.59l7.72-7.72 1.47 1.35L5.41 20z\"/>\n",
              "  </svg>\n",
              "      </button>\n",
              "      \n",
              "  <style>\n",
              "    .colab-df-container {\n",
              "      display:flex;\n",
              "      flex-wrap:wrap;\n",
              "      gap: 12px;\n",
              "    }\n",
              "\n",
              "    .colab-df-convert {\n",
              "      background-color: #E8F0FE;\n",
              "      border: none;\n",
              "      border-radius: 50%;\n",
              "      cursor: pointer;\n",
              "      display: none;\n",
              "      fill: #1967D2;\n",
              "      height: 32px;\n",
              "      padding: 0 0 0 0;\n",
              "      width: 32px;\n",
              "    }\n",
              "\n",
              "    .colab-df-convert:hover {\n",
              "      background-color: #E2EBFA;\n",
              "      box-shadow: 0px 1px 2px rgba(60, 64, 67, 0.3), 0px 1px 3px 1px rgba(60, 64, 67, 0.15);\n",
              "      fill: #174EA6;\n",
              "    }\n",
              "\n",
              "    [theme=dark] .colab-df-convert {\n",
              "      background-color: #3B4455;\n",
              "      fill: #D2E3FC;\n",
              "    }\n",
              "\n",
              "    [theme=dark] .colab-df-convert:hover {\n",
              "      background-color: #434B5C;\n",
              "      box-shadow: 0px 1px 3px 1px rgba(0, 0, 0, 0.15);\n",
              "      filter: drop-shadow(0px 1px 2px rgba(0, 0, 0, 0.3));\n",
              "      fill: #FFFFFF;\n",
              "    }\n",
              "  </style>\n",
              "\n",
              "      <script>\n",
              "        const buttonEl =\n",
              "          document.querySelector('#df-1c03c9a6-7fea-4c76-8df5-fa567fdbd44a button.colab-df-convert');\n",
              "        buttonEl.style.display =\n",
              "          google.colab.kernel.accessAllowed ? 'block' : 'none';\n",
              "\n",
              "        async function convertToInteractive(key) {\n",
              "          const element = document.querySelector('#df-1c03c9a6-7fea-4c76-8df5-fa567fdbd44a');\n",
              "          const dataTable =\n",
              "            await google.colab.kernel.invokeFunction('convertToInteractive',\n",
              "                                                     [key], {});\n",
              "          if (!dataTable) return;\n",
              "\n",
              "          const docLinkHtml = 'Like what you see? Visit the ' +\n",
              "            '<a target=\"_blank\" href=https://colab.research.google.com/notebooks/data_table.ipynb>data table notebook</a>'\n",
              "            + ' to learn more about interactive tables.';\n",
              "          element.innerHTML = '';\n",
              "          dataTable['output_type'] = 'display_data';\n",
              "          await google.colab.output.renderOutput(dataTable, element);\n",
              "          const docLink = document.createElement('div');\n",
              "          docLink.innerHTML = docLinkHtml;\n",
              "          element.appendChild(docLink);\n",
              "        }\n",
              "      </script>\n",
              "    </div>\n",
              "  </div>\n",
              "  "
            ]
          },
          "metadata": {},
          "execution_count": 17
        }
      ],
      "source": [
        "df.describe()"
      ]
    },
    {
      "cell_type": "markdown",
      "metadata": {
        "id": "8gShmjaSuISg"
      },
      "source": [
        "## Dataset II"
      ]
    },
    {
      "cell_type": "code",
      "execution_count": null,
      "metadata": {
        "colab": {
          "base_uri": "https://localhost:8080/",
          "height": 206
        },
        "outputId": "c984853a-c283-4223-d33f-80392c8a684d",
        "id": "YDm1a5G4uISz"
      },
      "outputs": [
        {
          "output_type": "execute_result",
          "data": {
            "text/plain": [
              "     category                                            summary  \\\n",
              "0  technology         অ্যাপসে মিলবে ঢাকাসহ তিন জেলা আদালতের তথ্য   \n",
              "1  bangladesh  বিজ্ঞান ও প্রকৌশলে মার্কিন সর্বোচ্চ সম্মাননা...   \n",
              "2  bangladesh  বিকল্প শিশুখাদ্য গ্রহণে শিশুর মৃত্যু হলে শাস্ত...   \n",
              "3  bangladesh       ট্রেনে কাটা পড়ে সাবেক সিভিল সার্জনের মৃত্যু   \n",
              "4  bangladesh  যাত্রাবাড়ীতে চুলা জ্বালাতে গিয়ে দুই কর্মচারী ...   \n",
              "\n",
              "                                                text  \n",
              "0  ঢাকা মহানগর ও ঢাকা জেলা আদালত, কিশোরগঞ্জ ও রাঙ...  \n",
              "1  যুক্তরাষ্ট্রে বিজ্ঞান ও প্রকৌশলে পেশা শুরুর প...  \n",
              "2  বিকল্প শিশুখাদ্য ও বাণিজ্যিকভাবে উত্পাদিত শিশু...  \n",
              "3  বগুড়ার আদমদীঘির সান্তাহারে গতকাল শনিবার ট্রেন...  \n",
              "4  যাত্রাবাড়ীর একটি রেস্তোরাঁয় গতকাল বুধবার ভোর...  "
            ],
            "text/html": [
              "\n",
              "  <div id=\"df-3ff9101f-5fde-4a0d-9fd6-48acfeda0d70\">\n",
              "    <div class=\"colab-df-container\">\n",
              "      <div>\n",
              "<style scoped>\n",
              "    .dataframe tbody tr th:only-of-type {\n",
              "        vertical-align: middle;\n",
              "    }\n",
              "\n",
              "    .dataframe tbody tr th {\n",
              "        vertical-align: top;\n",
              "    }\n",
              "\n",
              "    .dataframe thead th {\n",
              "        text-align: right;\n",
              "    }\n",
              "</style>\n",
              "<table border=\"1\" class=\"dataframe\">\n",
              "  <thead>\n",
              "    <tr style=\"text-align: right;\">\n",
              "      <th></th>\n",
              "      <th>category</th>\n",
              "      <th>summary</th>\n",
              "      <th>text</th>\n",
              "    </tr>\n",
              "  </thead>\n",
              "  <tbody>\n",
              "    <tr>\n",
              "      <th>0</th>\n",
              "      <td>technology</td>\n",
              "      <td>অ্যাপসে মিলবে ঢাকাসহ তিন জেলা আদালতের তথ্য</td>\n",
              "      <td>ঢাকা মহানগর ও ঢাকা জেলা আদালত, কিশোরগঞ্জ ও রাঙ...</td>\n",
              "    </tr>\n",
              "    <tr>\n",
              "      <th>1</th>\n",
              "      <td>bangladesh</td>\n",
              "      <td>বিজ্ঞান ও প্রকৌশলে মার্কিন সর্বোচ্চ সম্মাননা...</td>\n",
              "      <td>যুক্তরাষ্ট্রে বিজ্ঞান ও প্রকৌশলে পেশা শুরুর প...</td>\n",
              "    </tr>\n",
              "    <tr>\n",
              "      <th>2</th>\n",
              "      <td>bangladesh</td>\n",
              "      <td>বিকল্প শিশুখাদ্য গ্রহণে শিশুর মৃত্যু হলে শাস্ত...</td>\n",
              "      <td>বিকল্প শিশুখাদ্য ও বাণিজ্যিকভাবে উত্পাদিত শিশু...</td>\n",
              "    </tr>\n",
              "    <tr>\n",
              "      <th>3</th>\n",
              "      <td>bangladesh</td>\n",
              "      <td>ট্রেনে কাটা পড়ে সাবেক সিভিল সার্জনের মৃত্যু</td>\n",
              "      <td>বগুড়ার আদমদীঘির সান্তাহারে গতকাল শনিবার ট্রেন...</td>\n",
              "    </tr>\n",
              "    <tr>\n",
              "      <th>4</th>\n",
              "      <td>bangladesh</td>\n",
              "      <td>যাত্রাবাড়ীতে চুলা জ্বালাতে গিয়ে দুই কর্মচারী ...</td>\n",
              "      <td>যাত্রাবাড়ীর একটি রেস্তোরাঁয় গতকাল বুধবার ভোর...</td>\n",
              "    </tr>\n",
              "  </tbody>\n",
              "</table>\n",
              "</div>\n",
              "      <button class=\"colab-df-convert\" onclick=\"convertToInteractive('df-3ff9101f-5fde-4a0d-9fd6-48acfeda0d70')\"\n",
              "              title=\"Convert this dataframe to an interactive table.\"\n",
              "              style=\"display:none;\">\n",
              "        \n",
              "  <svg xmlns=\"http://www.w3.org/2000/svg\" height=\"24px\"viewBox=\"0 0 24 24\"\n",
              "       width=\"24px\">\n",
              "    <path d=\"M0 0h24v24H0V0z\" fill=\"none\"/>\n",
              "    <path d=\"M18.56 5.44l.94 2.06.94-2.06 2.06-.94-2.06-.94-.94-2.06-.94 2.06-2.06.94zm-11 1L8.5 8.5l.94-2.06 2.06-.94-2.06-.94L8.5 2.5l-.94 2.06-2.06.94zm10 10l.94 2.06.94-2.06 2.06-.94-2.06-.94-.94-2.06-.94 2.06-2.06.94z\"/><path d=\"M17.41 7.96l-1.37-1.37c-.4-.4-.92-.59-1.43-.59-.52 0-1.04.2-1.43.59L10.3 9.45l-7.72 7.72c-.78.78-.78 2.05 0 2.83L4 21.41c.39.39.9.59 1.41.59.51 0 1.02-.2 1.41-.59l7.78-7.78 2.81-2.81c.8-.78.8-2.07 0-2.86zM5.41 20L4 18.59l7.72-7.72 1.47 1.35L5.41 20z\"/>\n",
              "  </svg>\n",
              "      </button>\n",
              "      \n",
              "  <style>\n",
              "    .colab-df-container {\n",
              "      display:flex;\n",
              "      flex-wrap:wrap;\n",
              "      gap: 12px;\n",
              "    }\n",
              "\n",
              "    .colab-df-convert {\n",
              "      background-color: #E8F0FE;\n",
              "      border: none;\n",
              "      border-radius: 50%;\n",
              "      cursor: pointer;\n",
              "      display: none;\n",
              "      fill: #1967D2;\n",
              "      height: 32px;\n",
              "      padding: 0 0 0 0;\n",
              "      width: 32px;\n",
              "    }\n",
              "\n",
              "    .colab-df-convert:hover {\n",
              "      background-color: #E2EBFA;\n",
              "      box-shadow: 0px 1px 2px rgba(60, 64, 67, 0.3), 0px 1px 3px 1px rgba(60, 64, 67, 0.15);\n",
              "      fill: #174EA6;\n",
              "    }\n",
              "\n",
              "    [theme=dark] .colab-df-convert {\n",
              "      background-color: #3B4455;\n",
              "      fill: #D2E3FC;\n",
              "    }\n",
              "\n",
              "    [theme=dark] .colab-df-convert:hover {\n",
              "      background-color: #434B5C;\n",
              "      box-shadow: 0px 1px 3px 1px rgba(0, 0, 0, 0.15);\n",
              "      filter: drop-shadow(0px 1px 2px rgba(0, 0, 0, 0.3));\n",
              "      fill: #FFFFFF;\n",
              "    }\n",
              "  </style>\n",
              "\n",
              "      <script>\n",
              "        const buttonEl =\n",
              "          document.querySelector('#df-3ff9101f-5fde-4a0d-9fd6-48acfeda0d70 button.colab-df-convert');\n",
              "        buttonEl.style.display =\n",
              "          google.colab.kernel.accessAllowed ? 'block' : 'none';\n",
              "\n",
              "        async function convertToInteractive(key) {\n",
              "          const element = document.querySelector('#df-3ff9101f-5fde-4a0d-9fd6-48acfeda0d70');\n",
              "          const dataTable =\n",
              "            await google.colab.kernel.invokeFunction('convertToInteractive',\n",
              "                                                     [key], {});\n",
              "          if (!dataTable) return;\n",
              "\n",
              "          const docLinkHtml = 'Like what you see? Visit the ' +\n",
              "            '<a target=\"_blank\" href=https://colab.research.google.com/notebooks/data_table.ipynb>data table notebook</a>'\n",
              "            + ' to learn more about interactive tables.';\n",
              "          element.innerHTML = '';\n",
              "          dataTable['output_type'] = 'display_data';\n",
              "          await google.colab.output.renderOutput(dataTable, element);\n",
              "          const docLink = document.createElement('div');\n",
              "          docLink.innerHTML = docLinkHtml;\n",
              "          element.appendChild(docLink);\n",
              "        }\n",
              "      </script>\n",
              "    </div>\n",
              "  </div>\n",
              "  "
            ]
          },
          "metadata": {},
          "execution_count": 2
        }
      ],
      "source": [
        "import pandas as pd\n",
        "\n",
        "df = pd.read_csv('/content/drive/MyDrive/SCDataset/Final/text_summarization.csv')\n",
        "\n",
        "df.head()"
      ]
    },
    {
      "cell_type": "code",
      "execution_count": null,
      "metadata": {
        "colab": {
          "base_uri": "https://localhost:8080/",
          "height": 363
        },
        "outputId": "57f628ac-84e7-4126-a547-0cff6a1a1eca",
        "id": "WH7X2AD2uIS0"
      },
      "outputs": [
        {
          "output_type": "execute_result",
          "data": {
            "text/plain": [
              "     category                                            summary  \\\n",
              "0  technology         অ্যাপসে মিলবে ঢাকাসহ তিন জেলা আদালতের তথ্য   \n",
              "1  bangladesh  বিজ্ঞান ও প্রকৌশলে মার্কিন সর্বোচ্চ সম্মাননা...   \n",
              "2  bangladesh  বিকল্প শিশুখাদ্য গ্রহণে শিশুর মৃত্যু হলে শাস্ত...   \n",
              "3  bangladesh       ট্রেনে কাটা পড়ে সাবেক সিভিল সার্জনের মৃত্যু   \n",
              "4  bangladesh  যাত্রাবাড়ীতে চুলা জ্বালাতে গিয়ে দুই কর্মচারী ...   \n",
              "5  bangladesh   ‘বাল্যবিবাহমুক্ত’ জেলা ঘোষণা চলছে নিয়ম না মেনেই   \n",
              "6      sports  পাকিস্তানি ক্রিকেটারদের দুটির বেশি টি-টোয়েন্টি...   \n",
              "7  bangladesh  চাটখিল উপজেলা ভাইস চেয়ারম্যান সন্ত্রাসী হামলার...   \n",
              "8  bangladesh  ব্যবসায়ীদের চাপে জরিমানা কমাতে বাধ্য হলেন বিচারক   \n",
              "9  bangladesh       নাইকো দুর্নীতি মামলায় আপিল করলেন খালেদা জিয়া   \n",
              "\n",
              "                                                text  \n",
              "0  ঢাকা মহানগর ও ঢাকা জেলা আদালত, কিশোরগঞ্জ ও রাঙ...  \n",
              "1  যুক্তরাষ্ট্রে বিজ্ঞান ও প্রকৌশলে পেশা শুরুর প...  \n",
              "2  বিকল্প শিশুখাদ্য ও বাণিজ্যিকভাবে উত্পাদিত শিশু...  \n",
              "3  বগুড়ার আদমদীঘির সান্তাহারে গতকাল শনিবার ট্রেন...  \n",
              "4  যাত্রাবাড়ীর একটি রেস্তোরাঁয় গতকাল বুধবার ভোর...  \n",
              "5  পর্যাপ্ত তথ্য-উপাত্ত হাতে নিয়েই কোনো জেলা বা...  \n",
              "6  বাংলাদেশ প্রিমিয়ার লিগে গতবার প্রতি ম্যাচে পাঁ...  \n",
              "7  লক্ষ্মীপুরের পোদ্দার বাজারে সন্ত্রাসী হামলার শ...  \n",
              "8  নিষিদ্ধ পলিথিন ব্যবসায় জড়িত থাকায় এক ব্যবসা...  \n",
              "9  নাইকো দুর্নীতি মামলায় হাইকোর্টের দেওয়া রায়ের ব...  "
            ],
            "text/html": [
              "\n",
              "  <div id=\"df-3f0aef77-242e-41c7-b3e6-4ff1a4a9b0f6\">\n",
              "    <div class=\"colab-df-container\">\n",
              "      <div>\n",
              "<style scoped>\n",
              "    .dataframe tbody tr th:only-of-type {\n",
              "        vertical-align: middle;\n",
              "    }\n",
              "\n",
              "    .dataframe tbody tr th {\n",
              "        vertical-align: top;\n",
              "    }\n",
              "\n",
              "    .dataframe thead th {\n",
              "        text-align: right;\n",
              "    }\n",
              "</style>\n",
              "<table border=\"1\" class=\"dataframe\">\n",
              "  <thead>\n",
              "    <tr style=\"text-align: right;\">\n",
              "      <th></th>\n",
              "      <th>category</th>\n",
              "      <th>summary</th>\n",
              "      <th>text</th>\n",
              "    </tr>\n",
              "  </thead>\n",
              "  <tbody>\n",
              "    <tr>\n",
              "      <th>0</th>\n",
              "      <td>technology</td>\n",
              "      <td>অ্যাপসে মিলবে ঢাকাসহ তিন জেলা আদালতের তথ্য</td>\n",
              "      <td>ঢাকা মহানগর ও ঢাকা জেলা আদালত, কিশোরগঞ্জ ও রাঙ...</td>\n",
              "    </tr>\n",
              "    <tr>\n",
              "      <th>1</th>\n",
              "      <td>bangladesh</td>\n",
              "      <td>বিজ্ঞান ও প্রকৌশলে মার্কিন সর্বোচ্চ সম্মাননা...</td>\n",
              "      <td>যুক্তরাষ্ট্রে বিজ্ঞান ও প্রকৌশলে পেশা শুরুর প...</td>\n",
              "    </tr>\n",
              "    <tr>\n",
              "      <th>2</th>\n",
              "      <td>bangladesh</td>\n",
              "      <td>বিকল্প শিশুখাদ্য গ্রহণে শিশুর মৃত্যু হলে শাস্ত...</td>\n",
              "      <td>বিকল্প শিশুখাদ্য ও বাণিজ্যিকভাবে উত্পাদিত শিশু...</td>\n",
              "    </tr>\n",
              "    <tr>\n",
              "      <th>3</th>\n",
              "      <td>bangladesh</td>\n",
              "      <td>ট্রেনে কাটা পড়ে সাবেক সিভিল সার্জনের মৃত্যু</td>\n",
              "      <td>বগুড়ার আদমদীঘির সান্তাহারে গতকাল শনিবার ট্রেন...</td>\n",
              "    </tr>\n",
              "    <tr>\n",
              "      <th>4</th>\n",
              "      <td>bangladesh</td>\n",
              "      <td>যাত্রাবাড়ীতে চুলা জ্বালাতে গিয়ে দুই কর্মচারী ...</td>\n",
              "      <td>যাত্রাবাড়ীর একটি রেস্তোরাঁয় গতকাল বুধবার ভোর...</td>\n",
              "    </tr>\n",
              "    <tr>\n",
              "      <th>5</th>\n",
              "      <td>bangladesh</td>\n",
              "      <td>‘বাল্যবিবাহমুক্ত’ জেলা ঘোষণা চলছে নিয়ম না মেনেই</td>\n",
              "      <td>পর্যাপ্ত তথ্য-উপাত্ত হাতে নিয়েই কোনো জেলা বা...</td>\n",
              "    </tr>\n",
              "    <tr>\n",
              "      <th>6</th>\n",
              "      <td>sports</td>\n",
              "      <td>পাকিস্তানি ক্রিকেটারদের দুটির বেশি টি-টোয়েন্টি...</td>\n",
              "      <td>বাংলাদেশ প্রিমিয়ার লিগে গতবার প্রতি ম্যাচে পাঁ...</td>\n",
              "    </tr>\n",
              "    <tr>\n",
              "      <th>7</th>\n",
              "      <td>bangladesh</td>\n",
              "      <td>চাটখিল উপজেলা ভাইস চেয়ারম্যান সন্ত্রাসী হামলার...</td>\n",
              "      <td>লক্ষ্মীপুরের পোদ্দার বাজারে সন্ত্রাসী হামলার শ...</td>\n",
              "    </tr>\n",
              "    <tr>\n",
              "      <th>8</th>\n",
              "      <td>bangladesh</td>\n",
              "      <td>ব্যবসায়ীদের চাপে জরিমানা কমাতে বাধ্য হলেন বিচারক</td>\n",
              "      <td>নিষিদ্ধ পলিথিন ব্যবসায় জড়িত থাকায় এক ব্যবসা...</td>\n",
              "    </tr>\n",
              "    <tr>\n",
              "      <th>9</th>\n",
              "      <td>bangladesh</td>\n",
              "      <td>নাইকো দুর্নীতি মামলায় আপিল করলেন খালেদা জিয়া</td>\n",
              "      <td>নাইকো দুর্নীতি মামলায় হাইকোর্টের দেওয়া রায়ের ব...</td>\n",
              "    </tr>\n",
              "  </tbody>\n",
              "</table>\n",
              "</div>\n",
              "      <button class=\"colab-df-convert\" onclick=\"convertToInteractive('df-3f0aef77-242e-41c7-b3e6-4ff1a4a9b0f6')\"\n",
              "              title=\"Convert this dataframe to an interactive table.\"\n",
              "              style=\"display:none;\">\n",
              "        \n",
              "  <svg xmlns=\"http://www.w3.org/2000/svg\" height=\"24px\"viewBox=\"0 0 24 24\"\n",
              "       width=\"24px\">\n",
              "    <path d=\"M0 0h24v24H0V0z\" fill=\"none\"/>\n",
              "    <path d=\"M18.56 5.44l.94 2.06.94-2.06 2.06-.94-2.06-.94-.94-2.06-.94 2.06-2.06.94zm-11 1L8.5 8.5l.94-2.06 2.06-.94-2.06-.94L8.5 2.5l-.94 2.06-2.06.94zm10 10l.94 2.06.94-2.06 2.06-.94-2.06-.94-.94-2.06-.94 2.06-2.06.94z\"/><path d=\"M17.41 7.96l-1.37-1.37c-.4-.4-.92-.59-1.43-.59-.52 0-1.04.2-1.43.59L10.3 9.45l-7.72 7.72c-.78.78-.78 2.05 0 2.83L4 21.41c.39.39.9.59 1.41.59.51 0 1.02-.2 1.41-.59l7.78-7.78 2.81-2.81c.8-.78.8-2.07 0-2.86zM5.41 20L4 18.59l7.72-7.72 1.47 1.35L5.41 20z\"/>\n",
              "  </svg>\n",
              "      </button>\n",
              "      \n",
              "  <style>\n",
              "    .colab-df-container {\n",
              "      display:flex;\n",
              "      flex-wrap:wrap;\n",
              "      gap: 12px;\n",
              "    }\n",
              "\n",
              "    .colab-df-convert {\n",
              "      background-color: #E8F0FE;\n",
              "      border: none;\n",
              "      border-radius: 50%;\n",
              "      cursor: pointer;\n",
              "      display: none;\n",
              "      fill: #1967D2;\n",
              "      height: 32px;\n",
              "      padding: 0 0 0 0;\n",
              "      width: 32px;\n",
              "    }\n",
              "\n",
              "    .colab-df-convert:hover {\n",
              "      background-color: #E2EBFA;\n",
              "      box-shadow: 0px 1px 2px rgba(60, 64, 67, 0.3), 0px 1px 3px 1px rgba(60, 64, 67, 0.15);\n",
              "      fill: #174EA6;\n",
              "    }\n",
              "\n",
              "    [theme=dark] .colab-df-convert {\n",
              "      background-color: #3B4455;\n",
              "      fill: #D2E3FC;\n",
              "    }\n",
              "\n",
              "    [theme=dark] .colab-df-convert:hover {\n",
              "      background-color: #434B5C;\n",
              "      box-shadow: 0px 1px 3px 1px rgba(0, 0, 0, 0.15);\n",
              "      filter: drop-shadow(0px 1px 2px rgba(0, 0, 0, 0.3));\n",
              "      fill: #FFFFFF;\n",
              "    }\n",
              "  </style>\n",
              "\n",
              "      <script>\n",
              "        const buttonEl =\n",
              "          document.querySelector('#df-3f0aef77-242e-41c7-b3e6-4ff1a4a9b0f6 button.colab-df-convert');\n",
              "        buttonEl.style.display =\n",
              "          google.colab.kernel.accessAllowed ? 'block' : 'none';\n",
              "\n",
              "        async function convertToInteractive(key) {\n",
              "          const element = document.querySelector('#df-3f0aef77-242e-41c7-b3e6-4ff1a4a9b0f6');\n",
              "          const dataTable =\n",
              "            await google.colab.kernel.invokeFunction('convertToInteractive',\n",
              "                                                     [key], {});\n",
              "          if (!dataTable) return;\n",
              "\n",
              "          const docLinkHtml = 'Like what you see? Visit the ' +\n",
              "            '<a target=\"_blank\" href=https://colab.research.google.com/notebooks/data_table.ipynb>data table notebook</a>'\n",
              "            + ' to learn more about interactive tables.';\n",
              "          element.innerHTML = '';\n",
              "          dataTable['output_type'] = 'display_data';\n",
              "          await google.colab.output.renderOutput(dataTable, element);\n",
              "          const docLink = document.createElement('div');\n",
              "          docLink.innerHTML = docLinkHtml;\n",
              "          element.appendChild(docLink);\n",
              "        }\n",
              "      </script>\n",
              "    </div>\n",
              "  </div>\n",
              "  "
            ]
          },
          "metadata": {},
          "execution_count": 3
        }
      ],
      "source": [
        "df.head(10)"
      ]
    },
    {
      "cell_type": "code",
      "execution_count": null,
      "metadata": {
        "colab": {
          "base_uri": "https://localhost:8080/"
        },
        "outputId": "711c01e9-cc33-416a-f2e6-5c333feeb345",
        "id": "7gpPtZX6uIS0"
      },
      "outputs": [
        {
          "output_type": "execute_result",
          "data": {
            "text/plain": [
              "80331"
            ]
          },
          "metadata": {},
          "execution_count": 4
        }
      ],
      "source": [
        "rows = df.shape[0]\n",
        "rows"
      ]
    },
    {
      "cell_type": "markdown",
      "metadata": {
        "id": "-ykO0r0QqfmC"
      },
      "source": [
        "# Install and Imports"
      ]
    },
    {
      "cell_type": "code",
      "execution_count": null,
      "metadata": {
        "id": "MbxOD4BNRWW5"
      },
      "outputs": [],
      "source": [
        "!pip install sentencepiece\n",
        "!pip install transformers\n",
        "!pip install git+https://github.com/csebuetnlp/normalizer\n",
        "\n",
        "import re\n",
        "from transformers import AutoTokenizer, AutoModelForSeq2SeqLM\n",
        "\n",
        "from normalizer import normalize # pip install git+https://github.com/csebuetnlp/normalizer\n",
        "\n",
        "\n",
        "from transformers import XLMProphetNetForConditionalGeneration, XLMProphetNetTokenizer\n",
        "\n",
        "\n",
        "from transformers import MBartForConditionalGeneration, AutoModelForSeq2SeqLM\n",
        "from transformers import AlbertTokenizer, AutoTokenizer"
      ]
    },
    {
      "cell_type": "code",
      "execution_count": null,
      "metadata": {
        "id": "2sM5a2SAzvTY"
      },
      "outputs": [],
      "source": [
        "!pip install bert-extractive-summarizer"
      ]
    },
    {
      "cell_type": "code",
      "execution_count": null,
      "metadata": {
        "id": "a2exAWfIQFtb"
      },
      "outputs": [],
      "source": [
        "import torch\n",
        "device = torch.device(\"cuda\") if torch.cuda.is_available() else torch.device(\"cpu\")"
      ]
    },
    {
      "cell_type": "markdown",
      "metadata": {
        "id": "OPRLrnRJqSmL"
      },
      "source": [
        "### Functions"
      ]
    },
    {
      "cell_type": "code",
      "execution_count": null,
      "metadata": {
        "id": "AJYnAWJnfTu2"
      },
      "outputs": [],
      "source": [
        "def cleanText(text2clean):\n",
        "    empty_string = \"\"\n",
        "\n",
        "    space = chr(32)\n",
        "    flag  = 0\n",
        "\n",
        "    for i in range(len(text2clean)):\n",
        "        if text2clean[i] != \"'\" and text2clean[i] != \"\\n\":\n",
        "            if text2clean[i] == space and flag == 0:\n",
        "                flag = 1\n",
        "                empty_string = empty_string + text2clean[i]\n",
        "            elif text2clean[i] != space:\n",
        "                empty_string = empty_string + text2clean[i]\n",
        "                flag = 0\n",
        "    return empty_string"
      ]
    },
    {
      "cell_type": "markdown",
      "metadata": {
        "id": "nguNkNX0mk6x"
      },
      "source": [
        "# Model Loading 6: allenai/scibert_scivocab_uncased"
      ]
    },
    {
      "cell_type": "markdown",
      "metadata": {
        "id": "Mcae-iKOmk6x"
      },
      "source": [
        "### Model Setup"
      ]
    },
    {
      "cell_type": "code",
      "execution_count": null,
      "metadata": {
        "id": "DW7KfT4Vmk6x"
      },
      "outputs": [],
      "source": [
        "from transformers import *\n",
        "\n",
        "# Load model, model config and tokenizer via Transformers\n",
        "custom_config = AutoConfig.from_pretrained('allenai/scibert_scivocab_uncased')\n",
        "custom_config.output_hidden_states=True\n",
        "custom_tokenizer = AutoTokenizer.from_pretrained('allenai/scibert_scivocab_uncased')\n",
        "custom_model = AutoModel.from_pretrained('allenai/scibert_scivocab_uncased', config=custom_config)\n",
        "\n",
        "from summarizer import Summarizer"
      ]
    },
    {
      "cell_type": "code",
      "execution_count": null,
      "metadata": {
        "id": "8ehmzt4qmk6y"
      },
      "outputs": [],
      "source": [
        "model6 = Summarizer(custom_model=custom_model, custom_tokenizer=custom_tokenizer)"
      ]
    },
    {
      "cell_type": "code",
      "execution_count": null,
      "metadata": {
        "id": "arnRh4UE0A7P"
      },
      "outputs": [],
      "source": [
        "# df['text'][2]"
      ]
    },
    {
      "cell_type": "code",
      "source": [
        "# testText = 'বাঁহাতি স্পিনে আফগানিস্তানের ব্যাটিং লাইন-আপ প্রায় একাই ধসিয়ে দিলেন বাঁহাতি স্পিনার মাহফুজুর রহমান। রান তাড়ায় বাংলাদেশ অনূর্ধ্ব-১৯ দলের জয়ের লক্ষ্যটা থাকল দেড় শরও নিচে। এরপর সাবলীল ব্যাটিংয়ে ব্যাটসম্যানরা দলকে লক্ষ্যে পৌঁছে দিলেন সহজেই। আবুধাবিতে আজ আফগানিস্তানের বিপক্ষে ৬ উইকেটের জয়ে ত্রিদেশীয় অনূর্ধ্ব-১৯ টুর্নামেন্টে চ্যাম্পিয়ন হয়েছে বাংলাদেশ যুব দল। প্রথমে ব্যাট করতে নামা আফগানিস্তান মাহফুজের স্পিন ঘূর্ণিতে ৩৭ ওভারে ১৪৩ রানে অলআউট হয়। রান তাড়ায় ২৩.২ ওভারে ৪ উইকেট হারিয়ে লক্ষ্যে পৌঁছে যায় বাংলাদেশ। বাংলাদেশ, আফগানিস্তান ও শ্রীলঙ্কার যুব দলকে নিয়ে আয়োজিত ত্রিদেশীয় টুর্নামেন্টটি শুরু হয় গত ১৮ মার্চ। ডাবল-রাউন্ড পদ্ধতির টুর্নামেন্টে প্রথম দুই ম্যাচেই হেরে গিয়েছিল বাংলাদেশ। এর পর টানা দুই জয় তুলে ফাইনালে জায়গা করে আহরার আমিনের দল। আফগানিস্তান ফাইনালে ওঠে চার ম্যাচের তিনটিতে জিতে। আবুধাবির টোলেরেন্স স্টেডিয়ামে অনুষ্ঠিত ফাইনালে অবশ্য আফগানদের ওড়ার সুযোগই দেয়নি বাংলাদেশ। ৫ ওভারে ২৮ রান তোলা উদ্বোধনী জুটি ভাঙেন বাঁহাতি পেসার মারুফ মৃধা। মাহফুজের স্পিন-ঘূর্ণির আঘাত শুরু ওয়াফিউল্লাহ তারাখিলকে বোল্ড করে। ৫ চারে ৩৬ বলে ২৭ রান করে যান তারাখিল। আফগানিস্তানে ইনিংসে এর চেয়ে বেশি রান করেছেন শুধু হারুন খান। নয় নম্বরে আউট হওয়া এই ব্যাটসম্যান ৬২ বলে খেলে যান ৬৫ রানের ইনিংস। তার আগেই আফগান ব্যাটিং লাইন-আপে ধস নামান মাহফুজ। ১০ ওভার হাত ঘুরিয়ে ১ মেডেনসহ ২৯ রানে তুলে নেন ৬ উইকেট। টুর্নামেন্টে সব মিলিয়ে ১০ উইকেট নিলেন ১৭ বছর বয়সী এই বাঁহাতি। আরেক বাঁহাতি রাফিউজ্জামান নেন ৩৩ রানে ২ উইকেট। রান তাড়ায় চতুর্থ ওভারেই ওপেনার আশিকুজ্জামানকে হারায় বাংলাদেশ। তার আগেই ডানহাতি এ উইকেটকিপার-ব্যাটসম্যান তিন চারে ১৩ বলে ১৭ রান করেন। তিনে নামা জিশান আলমও ছিলেন আক্রমণাত্মক- ৭টি বাউন্ডারিতে করেন ১৯ বলে ৩৫ রান। তৃতীয় উইকেট জুটিতে চৌধুরী মোহাম্মদ রিজওয়ান (৪৩) ও আরিফুল ইসলাম (২২) মিলে ৫৩ রান যোগ করলে সহজ জয়ের দিকে এগিয়ে যায় বাংলাদেশ। একপর্যায়ে দুজনই আউট হলেও জয় এসেছে সহজেই।'\n",
        "\n",
        "testText = 'সারা জীবন যে মানুষটার সঙ্গে কাটাতে হবে, সবার আগে তো তাকে জানা চাই। তবে শেষ এক মাসের ধকল যেন আর নেওয়া যায় না। উপভোগ তো দূরের কথা, কোনোমতে বিয়েটা শেষ করতে পারলেই যেন বাঁচেন। আর যাঁদের ‘অ্যারেঞ্জ ম্যারেজ’, তাঁদের অবস্থাটা তাহলে বুঝুন। আয়োজন ছোট হোক বা বড়, বর-কনের ওপর চাপ পড়েই। বিয়ের পর মধুচন্দ্রিমার আবির্ভাব তাই আশীর্বাদের মতো। কিন্তু টয়ার ভাষায়, ‌‘ওটাকে ছোট্ট হানিমুন বলতে পারেন। এবার হয়তো আমরা দেশের বাইরে কোথাও যাব, সেটাকেই হানিমুন ট্রিপ বলব।’ দুজনেই নিজেদের মতো করে প্রকাশ করতে চান নিজেকে। ‘কোনো কারণে একজন রেগে গেলে, আরেকজন চুপ থাকুন। আরাম করা, একে অপরকে সময় দেওয়া - অনেকটাই যেন বাধ্যতামূলক কাজ এই সময়। তিন-চার দিনের এই বিশেষ সময়টা নানা জায়গায় ছোটাছুটি করে নষ্ট না করাই ভালো।’ স্বামী-স্ত্রী দুজনেই যখন ঘুরতে পছন্দ করেন, তখন অনেকটাই সহজ হয়ে যায় ভ্রমণ। সার্ফিং, স্কুবা ডাইভিং,জঙ্গলের মধ্যে হেঁটে বেড়ানো - কত কী যে করেছেন। পোশাকের রং হিসেবে বেছে নিতে বললেন লাল, নীল, হলুদ আর সাদা। জঙ্গলে বা চা-বাগানে বেশি ভালো লাগবে সাদা রঙের পোশাক। কারণ, এতে একে অপরকে খুঁজে নিতে পারবেন যথার্থভাবে। এ জন্য দায়ী মুলত দুটি কারণ, কম ঘুম আর রোদে থাকা।'\n",
        "\n",
        "article_text = normalize(testText)\n",
        "\n",
        "summary = model6(article_text, max_length=76)\n",
        "\n",
        "print(summary)"
      ],
      "metadata": {
        "id": "1xdVCHTNmpS6"
      },
      "execution_count": null,
      "outputs": []
    },
    {
      "cell_type": "markdown",
      "metadata": {
        "id": "PvFiipdumk6y"
      },
      "source": [
        "### Run dataset over the Model"
      ]
    },
    {
      "cell_type": "code",
      "source": [
        "sciDF = pd.read_csv(\"/content/drive/MyDrive/SCDataset/scibert_scivocab_uncased_Combined_v.csv\")\n",
        "sciDF= sciDF.drop(['Unnamed: 0', 'Unnamed: 0.1'], axis=1)\n",
        "newRows = sciDF.shape[0]\n",
        "sciDF"
      ],
      "metadata": {
        "colab": {
          "base_uri": "https://localhost:8080/",
          "height": 554
        },
        "id": "dGtP3nJLD99q",
        "outputId": "df2c1702-5285-48a2-aa74-9dab916a6807"
      },
      "execution_count": null,
      "outputs": [
        {
          "output_type": "execute_result",
          "data": {
            "text/plain": [
              "                                                  title  \\\n",
              "0     দুর্গাপূজার সময়ে যেভাবে শোক পালন করেন 'মহিষাস...   \n",
              "1     রাশিয়ায় ক্ষমতার ২০ বছর যেভাবে কেটেছে ভ্লাদিম...   \n",
              "2     সংসদ নির্বাচন: বরিশালে ছয়টি আসন কিন্তু সবার দ...   \n",
              "3     সর্বকালের সর্বশ্রেষ্ঠ বাঙালি: বিবিসি বাংলার জর...   \n",
              "4     ৭ই মার্চের ভাষণ: ৫০ বছর আগে রেসকোর্স ময়দানে উ...   \n",
              "...                                                 ...   \n",
              "8097  ট্রাম্পের বোধশক্তি যাচাইয়ের টেস্টে পাশ করবেন তো?   \n",
              "8098  মঙ্গল গ্রহে প্রাণের অস্তিত্ব সম্পর্কে যা জানা ...   \n",
              "8099  কীভাবে বুঝবেন আপনার সন্তান কিশোর গ্যাং কালচারে...   \n",
              "8100            সৌদি আরব - ইরান দ্বন্দ্ব: কে কার বন্ধু?   \n",
              "8101           'আমি তো সেদিন পুলিশের হাতে জিম্মি ছিলাম'   \n",
              "\n",
              "                                                   text  \\\n",
              "0     দুর্গাপুজায় মহিষাসুর বধ্যে মধ্য দিয়ে অশুভর ও...   \n",
              "1     গত ২০ বছরে তিনি রাশিয়ার প্রেসিডেন্ট এবং প্রধা...   \n",
              "2     বরিশাল সদরে চলছে নির্বাচনী প্রচার প্রচারণা। যদ...   \n",
              "3     রবীন্দ্রনাথ ঠাকুর রবীন্দ্রনাথ ঠাকুর বাঙালির কা...   \n",
              "4     আর কুমিল্লা থেকে বাস ভাড়া করে অনেকের সাথে নিজ...   \n",
              "...                                                 ...   \n",
              "8097  ডোনাল্ড ট্রাম্প 'ডোনাল্ড ট্রাম্পের বোধশক্তি ঠি...   \n",
              "8098  মঙ্গলগ্রহে তরল পানি থাকার প্রমাণ খুঁজে পেয়েছে...   \n",
              "8099  বরগুনায় রিফাত শরীফ নামের এক যুবককে প্রকাশ্যে ...   \n",
              "8100  স্যেদি যুবরাজ মোহাম্মদ বিন সালমান ও ইরানের প্র...   \n",
              "8101  বাংলাদেশে পুলিশের ভাবমূর্তি এখনো একটি দুর্নীতি...   \n",
              "\n",
              "                                           givenSummary  \\\n",
              "0     হিন্দু বাঙালীরা যে সময়ে তাদের সবথেকে বড় উৎসব...   \n",
              "1     ভ্লাদিমির পুতিন তাঁর ক্ষমতায় থাকার ২০ বছর পূর...   \n",
              "2     বাংলাদেশের দক্ষিণাঞ্চলীয় জেলা বরিশাল এখন তুমু...   \n",
              "3     দু'হাজার চার সালে বিবিসি বাংলা একটি 'শ্রোতা জর...   \n",
              "4     'ভাষণ শুরু আগে মাথার উপর দিয়ে বিমান আর হেলিকপ...   \n",
              "...                                                 ...   \n",
              "8097                                         আরো পড়ুন:   \n",
              "8098                                         আরো পড়ুন:   \n",
              "8099                                           ঘটনা এক:   \n",
              "8100                                           সৌদি আরব   \n",
              "8101                                     কেস-স্টাডি ১ :   \n",
              "\n",
              "                               scibert_scivocab_uncased  \n",
              "0     দুর্গাপুজায় মহিষাসুর বধ্যে মধ্য দিয়ে অশুভর ও...  \n",
              "1     গত ২০ বছরে তিনি রাশিয়ার প্রেসিডেন্ট এবং প্রধা...  \n",
              "2     যদিও প্রায় সব আসনেই প্রচার প্রচারণা বেশি চোখে...  \n",
              "3     বাংলা সাহিত্যের তিনি একজন উজ্জ্বল নক্ষত্র এবং ...  \n",
              "4     আর কুমিল্লা থেকে বাস ভাড়া করে অনেকের সাথে নিজ...  \n",
              "...                                                 ...  \n",
              "8097                                                NaN  \n",
              "8098  তাদের বিশ্বাস, এটি একটি হৃদ এবং সেটি রাডার ব্য...  \n",
              "8099  বরগুনায় রিফাত শরীফ নামের এক যুবককে প্রকাশ্যে ...  \n",
              "8100  স্যেদি যুবরাজ মোহাম্মদ বিন সালমান ও ইরানের প্র...  \n",
              "8101  বাংলাদেশে পুলিশের ভাবমূর্তি এখনো একটি দুর্নীতি...  \n",
              "\n",
              "[8102 rows x 4 columns]"
            ],
            "text/html": [
              "\n",
              "  <div id=\"df-b3b4693b-0f59-4132-8770-9233ee4716df\">\n",
              "    <div class=\"colab-df-container\">\n",
              "      <div>\n",
              "<style scoped>\n",
              "    .dataframe tbody tr th:only-of-type {\n",
              "        vertical-align: middle;\n",
              "    }\n",
              "\n",
              "    .dataframe tbody tr th {\n",
              "        vertical-align: top;\n",
              "    }\n",
              "\n",
              "    .dataframe thead th {\n",
              "        text-align: right;\n",
              "    }\n",
              "</style>\n",
              "<table border=\"1\" class=\"dataframe\">\n",
              "  <thead>\n",
              "    <tr style=\"text-align: right;\">\n",
              "      <th></th>\n",
              "      <th>title</th>\n",
              "      <th>text</th>\n",
              "      <th>givenSummary</th>\n",
              "      <th>scibert_scivocab_uncased</th>\n",
              "    </tr>\n",
              "  </thead>\n",
              "  <tbody>\n",
              "    <tr>\n",
              "      <th>0</th>\n",
              "      <td>দুর্গাপূজার সময়ে যেভাবে শোক পালন করেন 'মহিষাস...</td>\n",
              "      <td>দুর্গাপুজায় মহিষাসুর বধ্যে মধ্য দিয়ে অশুভর ও...</td>\n",
              "      <td>হিন্দু বাঙালীরা যে সময়ে তাদের সবথেকে বড় উৎসব...</td>\n",
              "      <td>দুর্গাপুজায় মহিষাসুর বধ্যে মধ্য দিয়ে অশুভর ও...</td>\n",
              "    </tr>\n",
              "    <tr>\n",
              "      <th>1</th>\n",
              "      <td>রাশিয়ায় ক্ষমতার ২০ বছর যেভাবে কেটেছে ভ্লাদিম...</td>\n",
              "      <td>গত ২০ বছরে তিনি রাশিয়ার প্রেসিডেন্ট এবং প্রধা...</td>\n",
              "      <td>ভ্লাদিমির পুতিন তাঁর ক্ষমতায় থাকার ২০ বছর পূর...</td>\n",
              "      <td>গত ২০ বছরে তিনি রাশিয়ার প্রেসিডেন্ট এবং প্রধা...</td>\n",
              "    </tr>\n",
              "    <tr>\n",
              "      <th>2</th>\n",
              "      <td>সংসদ নির্বাচন: বরিশালে ছয়টি আসন কিন্তু সবার দ...</td>\n",
              "      <td>বরিশাল সদরে চলছে নির্বাচনী প্রচার প্রচারণা। যদ...</td>\n",
              "      <td>বাংলাদেশের দক্ষিণাঞ্চলীয় জেলা বরিশাল এখন তুমু...</td>\n",
              "      <td>যদিও প্রায় সব আসনেই প্রচার প্রচারণা বেশি চোখে...</td>\n",
              "    </tr>\n",
              "    <tr>\n",
              "      <th>3</th>\n",
              "      <td>সর্বকালের সর্বশ্রেষ্ঠ বাঙালি: বিবিসি বাংলার জর...</td>\n",
              "      <td>রবীন্দ্রনাথ ঠাকুর রবীন্দ্রনাথ ঠাকুর বাঙালির কা...</td>\n",
              "      <td>দু'হাজার চার সালে বিবিসি বাংলা একটি 'শ্রোতা জর...</td>\n",
              "      <td>বাংলা সাহিত্যের তিনি একজন উজ্জ্বল নক্ষত্র এবং ...</td>\n",
              "    </tr>\n",
              "    <tr>\n",
              "      <th>4</th>\n",
              "      <td>৭ই মার্চের ভাষণ: ৫০ বছর আগে রেসকোর্স ময়দানে উ...</td>\n",
              "      <td>আর কুমিল্লা থেকে বাস ভাড়া করে অনেকের সাথে নিজ...</td>\n",
              "      <td>'ভাষণ শুরু আগে মাথার উপর দিয়ে বিমান আর হেলিকপ...</td>\n",
              "      <td>আর কুমিল্লা থেকে বাস ভাড়া করে অনেকের সাথে নিজ...</td>\n",
              "    </tr>\n",
              "    <tr>\n",
              "      <th>...</th>\n",
              "      <td>...</td>\n",
              "      <td>...</td>\n",
              "      <td>...</td>\n",
              "      <td>...</td>\n",
              "    </tr>\n",
              "    <tr>\n",
              "      <th>8097</th>\n",
              "      <td>ট্রাম্পের বোধশক্তি যাচাইয়ের টেস্টে পাশ করবেন তো?</td>\n",
              "      <td>ডোনাল্ড ট্রাম্প 'ডোনাল্ড ট্রাম্পের বোধশক্তি ঠি...</td>\n",
              "      <td>আরো পড়ুন:</td>\n",
              "      <td>NaN</td>\n",
              "    </tr>\n",
              "    <tr>\n",
              "      <th>8098</th>\n",
              "      <td>মঙ্গল গ্রহে প্রাণের অস্তিত্ব সম্পর্কে যা জানা ...</td>\n",
              "      <td>মঙ্গলগ্রহে তরল পানি থাকার প্রমাণ খুঁজে পেয়েছে...</td>\n",
              "      <td>আরো পড়ুন:</td>\n",
              "      <td>তাদের বিশ্বাস, এটি একটি হৃদ এবং সেটি রাডার ব্য...</td>\n",
              "    </tr>\n",
              "    <tr>\n",
              "      <th>8099</th>\n",
              "      <td>কীভাবে বুঝবেন আপনার সন্তান কিশোর গ্যাং কালচারে...</td>\n",
              "      <td>বরগুনায় রিফাত শরীফ নামের এক যুবককে প্রকাশ্যে ...</td>\n",
              "      <td>ঘটনা এক:</td>\n",
              "      <td>বরগুনায় রিফাত শরীফ নামের এক যুবককে প্রকাশ্যে ...</td>\n",
              "    </tr>\n",
              "    <tr>\n",
              "      <th>8100</th>\n",
              "      <td>সৌদি আরব - ইরান দ্বন্দ্ব: কে কার বন্ধু?</td>\n",
              "      <td>স্যেদি যুবরাজ মোহাম্মদ বিন সালমান ও ইরানের প্র...</td>\n",
              "      <td>সৌদি আরব</td>\n",
              "      <td>স্যেদি যুবরাজ মোহাম্মদ বিন সালমান ও ইরানের প্র...</td>\n",
              "    </tr>\n",
              "    <tr>\n",
              "      <th>8101</th>\n",
              "      <td>'আমি তো সেদিন পুলিশের হাতে জিম্মি ছিলাম'</td>\n",
              "      <td>বাংলাদেশে পুলিশের ভাবমূর্তি এখনো একটি দুর্নীতি...</td>\n",
              "      <td>কেস-স্টাডি ১ :</td>\n",
              "      <td>বাংলাদেশে পুলিশের ভাবমূর্তি এখনো একটি দুর্নীতি...</td>\n",
              "    </tr>\n",
              "  </tbody>\n",
              "</table>\n",
              "<p>8102 rows × 4 columns</p>\n",
              "</div>\n",
              "      <button class=\"colab-df-convert\" onclick=\"convertToInteractive('df-b3b4693b-0f59-4132-8770-9233ee4716df')\"\n",
              "              title=\"Convert this dataframe to an interactive table.\"\n",
              "              style=\"display:none;\">\n",
              "        \n",
              "  <svg xmlns=\"http://www.w3.org/2000/svg\" height=\"24px\"viewBox=\"0 0 24 24\"\n",
              "       width=\"24px\">\n",
              "    <path d=\"M0 0h24v24H0V0z\" fill=\"none\"/>\n",
              "    <path d=\"M18.56 5.44l.94 2.06.94-2.06 2.06-.94-2.06-.94-.94-2.06-.94 2.06-2.06.94zm-11 1L8.5 8.5l.94-2.06 2.06-.94-2.06-.94L8.5 2.5l-.94 2.06-2.06.94zm10 10l.94 2.06.94-2.06 2.06-.94-2.06-.94-.94-2.06-.94 2.06-2.06.94z\"/><path d=\"M17.41 7.96l-1.37-1.37c-.4-.4-.92-.59-1.43-.59-.52 0-1.04.2-1.43.59L10.3 9.45l-7.72 7.72c-.78.78-.78 2.05 0 2.83L4 21.41c.39.39.9.59 1.41.59.51 0 1.02-.2 1.41-.59l7.78-7.78 2.81-2.81c.8-.78.8-2.07 0-2.86zM5.41 20L4 18.59l7.72-7.72 1.47 1.35L5.41 20z\"/>\n",
              "  </svg>\n",
              "      </button>\n",
              "      \n",
              "  <style>\n",
              "    .colab-df-container {\n",
              "      display:flex;\n",
              "      flex-wrap:wrap;\n",
              "      gap: 12px;\n",
              "    }\n",
              "\n",
              "    .colab-df-convert {\n",
              "      background-color: #E8F0FE;\n",
              "      border: none;\n",
              "      border-radius: 50%;\n",
              "      cursor: pointer;\n",
              "      display: none;\n",
              "      fill: #1967D2;\n",
              "      height: 32px;\n",
              "      padding: 0 0 0 0;\n",
              "      width: 32px;\n",
              "    }\n",
              "\n",
              "    .colab-df-convert:hover {\n",
              "      background-color: #E2EBFA;\n",
              "      box-shadow: 0px 1px 2px rgba(60, 64, 67, 0.3), 0px 1px 3px 1px rgba(60, 64, 67, 0.15);\n",
              "      fill: #174EA6;\n",
              "    }\n",
              "\n",
              "    [theme=dark] .colab-df-convert {\n",
              "      background-color: #3B4455;\n",
              "      fill: #D2E3FC;\n",
              "    }\n",
              "\n",
              "    [theme=dark] .colab-df-convert:hover {\n",
              "      background-color: #434B5C;\n",
              "      box-shadow: 0px 1px 3px 1px rgba(0, 0, 0, 0.15);\n",
              "      filter: drop-shadow(0px 1px 2px rgba(0, 0, 0, 0.3));\n",
              "      fill: #FFFFFF;\n",
              "    }\n",
              "  </style>\n",
              "\n",
              "      <script>\n",
              "        const buttonEl =\n",
              "          document.querySelector('#df-b3b4693b-0f59-4132-8770-9233ee4716df button.colab-df-convert');\n",
              "        buttonEl.style.display =\n",
              "          google.colab.kernel.accessAllowed ? 'block' : 'none';\n",
              "\n",
              "        async function convertToInteractive(key) {\n",
              "          const element = document.querySelector('#df-b3b4693b-0f59-4132-8770-9233ee4716df');\n",
              "          const dataTable =\n",
              "            await google.colab.kernel.invokeFunction('convertToInteractive',\n",
              "                                                     [key], {});\n",
              "          if (!dataTable) return;\n",
              "\n",
              "          const docLinkHtml = 'Like what you see? Visit the ' +\n",
              "            '<a target=\"_blank\" href=https://colab.research.google.com/notebooks/data_table.ipynb>data table notebook</a>'\n",
              "            + ' to learn more about interactive tables.';\n",
              "          element.innerHTML = '';\n",
              "          dataTable['output_type'] = 'display_data';\n",
              "          await google.colab.output.renderOutput(dataTable, element);\n",
              "          const docLink = document.createElement('div');\n",
              "          docLink.innerHTML = docLinkHtml;\n",
              "          element.appendChild(docLink);\n",
              "        }\n",
              "      </script>\n",
              "    </div>\n",
              "  </div>\n",
              "  "
            ]
          },
          "metadata": {},
          "execution_count": 99
        }
      ]
    },
    {
      "cell_type": "code",
      "source": [
        " custom = [378, 544, 1043, 2879, 2922, 4082, 6086, 6850, 7168, 8097]\n",
        " custom[0]"
      ],
      "metadata": {
        "colab": {
          "base_uri": "https://localhost:8080/"
        },
        "id": "diJ1n0_EFHcg",
        "outputId": "84cfdecb-c337-4ddb-d07d-4df77308ccfd"
      },
      "execution_count": null,
      "outputs": [
        {
          "output_type": "execute_result",
          "data": {
            "text/plain": [
              "378"
            ]
          },
          "metadata": {},
          "execution_count": 100
        }
      ]
    },
    {
      "cell_type": "code",
      "source": [
        "sciDF['text'][custom[0]]"
      ],
      "metadata": {
        "id": "pwAZTMtgFQj7"
      },
      "execution_count": null,
      "outputs": []
    },
    {
      "cell_type": "code",
      "source": [
        "art = \"সুবীর ভৌমিক, বিবিসি সিকিমে রাজা ও রানীর সাথে সত্যজিত রায়৻ (ছবি: সিকিম টাইমস্‌) প্রয়াত সত্যজিত রায়ের ছেলে সন্দীপ রায় সরকারি এই সিদ্ধান্তের কথা নিশ্চিত করেছেন৻ উৎফুল্ল সন্দীপ রায় বলেন, তিনি আশা করছেন দ্রুত দর্শকরা তার বাবার তৈরী এই প্রামাণ্য চলচ্চিত্রটি দেখতে পাবেন৻ চলচ্চিত্রটি তৈরির সময়কার স্মৃতি হাতড়ে সন্দীপ রায় বলেন, শ্যুটিংয়ের সময় ক্যামেরা এবং জিনিসপত্র নিয়ে সিকিমে পাহাড়ে ওঠানামার কথা তার চোখের সামনে ভাসছে৻ সিকিমের ওপর তৈরি এই প্রামাণ্য চলচ্চিত্রটি তৈরি শেষ হয়েছিলো ১৯৭৩ সালের দিকে৻ সিকিম সেসময় একটি স্বাধীন রাজতন্ত্র ছিলো৻ তাঁর দেশে পর্যটকদের আকর্ষণ করতে তৎকালীন রাজা পালডেন থনডুপ নামগিয়্যাল সত্যজিত রায়কে এই প্রামাণ্য চলচ্চিত্রটি তৈরির দায়িত্ব দিয়েছিলেন৻ সন্দীপ রায় জানান, রাজা নামগিয়্যালের আমেরিকান স্ত্রী হোপ কুকের সাথে তার বাবার বন্ধুত্ব ছিলো, এবং সেই সূত্রেই রাজার সাথে যোগাযোগ৻ চলচ্চিত্র নির্মাতা হিসেবে খ্যাতি পাওয়ার পর সত্যজিত রায় যে দুটো প্রামাণ্য চলচ্চিত্র তৈরি করেছিলেন, ‘সিকিম‘ ছিলো তারই একটি৻ অন্যটি ছিলো কবি রবীন্দ্রনাথ ঠাকুরের উপর৻ শট নিয়ে ক্ষুব্ধ রাজা সিকিমের রাজা নামগিয়্যাল ও রানী কুক৻ (ছবি: সিকিম টাইমস্‌) সিকিম তৈরি হওয়ার পর এর একটি শট নিয়ে রাজা এবং তার আমেরিকান স্ত্রী তীব্র আপত্তি তুলেছিলেন৻ রাজধানী গ্যাংটকে রাজকীয় একটি ভোজসভার পর ফেলে দেয়া খাবার নিয়ে প্রাসাদের বাইরে দরিদ্র মানুষের কাড়াকাড়ির এক দৃশ্যে ক্ষুব্ধ রাজা শটটি বাদ দিতে বলেন সত্যজিত রায়কে৻ সন্দীপ রায় জানান, তার বাবা শটটি বাদ দিয়ে চলচ্চিত্রটি চূড়ান্ত করার পরপরই সিকিমের রাজনৈতিক পট আমূল বদলে যায়৻ ১৯৭৫ সালে সিকিম ভারতের সাথে যুক্ত হয়৻ সেসময় যে কোন ধরণের বিতর্ক এড়াতে ভারত সরকার সত্যজিত রায়ের এই প্রামাণ্য চলচ্চিত্রটির ওপর নিষেধজ্ঞা আরোপ করে৻ প্রায় চার দশক বাদে নিষেধাজ্ঞা ওঠার পর কবে কোথায় চলচ্চিত্রটি প্রথমবারের মত দেখা যাবে তা এখনো পরিস্কার নয়৻ ভারত সরকারের চলচ্চিত্র বিভাগের একজন কর্মকর্তা জানিয়েছেন তাদের নিজস্ব নেটওয়ার্কের মাধ্যমে এটি দেখানোর চেষ্টা হতে পারে৻ জানা গেছে, সিকিমের একটি প্রিন্ট আমেরিকাতে এবং আরেকটি ব্রিটিশ ফিল্ম ইনিস্টিউটে রক্ষিত আছে৻\""
      ],
      "metadata": {
        "id": "HDaZY9jFGx5s"
      },
      "execution_count": null,
      "outputs": []
    },
    {
      "cell_type": "code",
      "source": [
        "brt = \"- কীভাবে বুঝবেন শিশুর অতিরিক্ত খাবার দরকার? - শুরুতে শিশুদের কী ধরণের খাবার দেয়া উচিত? - শিশুকে কি ডিম খাওয়ানো যাবে? - শিশুর খাবার কীভাবে তৈরি করবেন? - খিচুড়ি কীভাবে খাওয়াবেন? - জুস, আইসক্রিম কখন দেবেন? - শিশুকে কতটুকু খাবার, কখন দেবেন? - কী কী খাবার এড়িয়ে যাবেন? এসব প্রশ্নের উত্তর জানতে ভিডিওটি পুরোটি দেখুন।\""
      ],
      "metadata": {
        "id": "dr70ivAeHIvz"
      },
      "execution_count": null,
      "outputs": []
    },
    {
      "cell_type": "code",
      "execution_count": null,
      "metadata": {
        "id": "6mYKyzklmk6y"
      },
      "outputs": [],
      "source": [
        "# Create empty DataFrame\n",
        "genDf = pd.DataFrame(columns = [\"title\", \"text\", \"givenSummary\", \"scibert_scivocab_uncased\"])\n",
        "\n",
        "custom = [378, 544, 1043, 2879, 2922, 4082, 6086, 6850, 7168, 8097]\n",
        "\n",
        "# Load over the dataset\n",
        "for j in range(len(custom)):\n",
        "    # if i < 1000:\n",
        "    # if i > 999 and i < 2000:\n",
        "    # if i > 1999 and i < 3000:\n",
        "    # if i > 2999 and i < 4000:\n",
        "    # if i > 3999 and i < 5000:\n",
        "    # if i > 4999 and i < 6000:\n",
        "    # if i > 5999 and i < 7000:\n",
        "    # if i > 6999 and i < 8000:\n",
        "    if i > 7999:\n",
        "    i = custom[j]\n",
        "    article_text = normalize(myNorm(sciDF['text'][i]))\n",
        "\n",
        "    summary = model6(article_text, max_length=400)\n",
        "\n",
        "    # sciDF.loc[i] = [sciDF['title'][i], sciDF['text'][i], sciDF['summary'][i], summary]\n",
        "    sciDF.at[[i],'scibert_scivocab_uncased']=summary\n",
        "\n",
        "    print(i, '  ', summary)\n",
        "    # break\n",
        "\n",
        "\n",
        "#genDf.to_csv('/content/drive/MyDrive/SCDataset/scibert_scivocab_uncased/scibert_scivocab_uncased_v1000.csv')\n",
        "# genDf.to_csv('/content/drive/MyDrive/SCDataset/scibert_scivocab_uncased/scibert_scivocab_uncased_v2000.csv')\n",
        "# genDf.to_csv('/content/drive/MyDrive/SCDataset/scibert_scivocab_uncased/scibert_scivocab_uncased_v3000.csv')\n",
        "# genDf.to_csv('/content/drive/MyDrive/SCDataset/scibert_scivocab_uncased/scibert_scivocab_uncased_v4000.csv')\n",
        "# genDf.to_csv('/content/drive/MyDrive/SCDataset/scibert_scivocab_uncased/scibert_scivocab_uncased_v5000.csv')\n",
        "# genDf.to_csv('/content/drive/MyDrive/SCDataset/scibert_scivocab_uncased/scibert_scivocab_uncased_v6000.csv')\n",
        "# genDf.to_csv('/content/drive/MyDrive/SCDataset/scibert_scivocab_uncased/scibert_scivocab_uncased_v7000.csv')\n",
        "# genDf.to_csv('/content/drive/MyDrive/SCDataset/scibert_scivocab_uncased/scibert_scivocab_uncased_v8000.csv')\n",
        "genDf.to_csv('/content/drive/MyDrive/SCDataset/scibert_scivocab_uncased/scibert_scivocab_uncased_v8KPlus.csv')"
      ]
    },
    {
      "cell_type": "code",
      "source": [],
      "metadata": {
        "id": "1oXDIvjoMnvn"
      },
      "execution_count": null,
      "outputs": []
    },
    {
      "cell_type": "markdown",
      "metadata": {
        "id": "MSWvMXtcltlK"
      },
      "source": [
        "## Concat Splitted Dataset"
      ]
    },
    {
      "cell_type": "code",
      "execution_count": null,
      "metadata": {
        "id": "sPRM2ojSltlK"
      },
      "outputs": [],
      "source": [
        "df0 = pd.read_csv(\"/content/drive/MyDrive/SCDataset/scibert_scivocab_uncased/scibert_scivocab_uncased_v1000.csv\")\n",
        "df1 = pd.read_csv(\"/content/drive/MyDrive/SCDataset/scibert_scivocab_uncased/scibert_scivocab_uncased_v2000.csv\")\n",
        "df2 = pd.read_csv(\"/content/drive/MyDrive/SCDataset/scibert_scivocab_uncased/scibert_scivocab_uncased_v3000.csv\")\n",
        "df3 = pd.read_csv(\"/content/drive/MyDrive/SCDataset/scibert_scivocab_uncased/scibert_scivocab_uncased_v4000.csv\")\n",
        "df4 = pd.read_csv(\"/content/drive/MyDrive/SCDataset/scibert_scivocab_uncased/scibert_scivocab_uncased_v5000.csv\")\n",
        "df5 = pd.read_csv(\"/content/drive/MyDrive/SCDataset/scibert_scivocab_uncased/scibert_scivocab_uncased_v6000.csv\")\n",
        "df6 = pd.read_csv(\"/content/drive/MyDrive/SCDataset/scibert_scivocab_uncased/scibert_scivocab_uncased_v7000.csv\")\n",
        "df7 = pd.read_csv(\"/content/drive/MyDrive/SCDataset/scibert_scivocab_uncased/scibert_scivocab_uncased_v8000.csv\")\n",
        "df8 = pd.read_csv(\"/content/drive/MyDrive/SCDataset/scibert_scivocab_uncased/scibert_scivocab_uncased_v8KPlus.csv\")\n",
        "\n",
        "\n",
        "frames = [df0, df1, df2, df3, df4, df5, df6, df7, df8]\n",
        "genDfCombined = pd.concat(frames)\n",
        "genDfCombined.to_csv('/content/drive/MyDrive/SCDataset/scibert_scivocab_uncased_Combined_v.csv', index=False)\n",
        "sciDF.to_csv('/content/drive/MyDrive/SCDataset/scibert_scivocab_uncased_Combined_v.csv', index=False)"
      ]
    },
    {
      "cell_type": "code",
      "source": [
        "sciDF.info()"
      ],
      "metadata": {
        "colab": {
          "base_uri": "https://localhost:8080/"
        },
        "id": "geHr1WoUNNTg",
        "outputId": "1bc92559-a5c2-42e8-af4c-a76ebab4237c"
      },
      "execution_count": null,
      "outputs": [
        {
          "output_type": "stream",
          "name": "stdout",
          "text": [
            "<class 'pandas.core.frame.DataFrame'>\n",
            "RangeIndex: 8102 entries, 0 to 8101\n",
            "Data columns (total 4 columns):\n",
            " #   Column                    Non-Null Count  Dtype \n",
            "---  ------                    --------------  ----- \n",
            " 0   title                     8102 non-null   object\n",
            " 1   text                      8102 non-null   object\n",
            " 2   givenSummary              8102 non-null   object\n",
            " 3   scibert_scivocab_uncased  8102 non-null   object\n",
            "dtypes: object(4)\n",
            "memory usage: 253.3+ KB\n"
          ]
        }
      ]
    },
    {
      "cell_type": "code",
      "source": [
        "sciDF[sciDF['scibert_scivocab_uncased'].isnull()].index.tolist()"
      ],
      "metadata": {
        "id": "lYjpOd4FNX01"
      },
      "execution_count": null,
      "outputs": []
    }
  ],
  "metadata": {
    "colab": {
      "provenance": [],
      "toc_visible": true,
      "include_colab_link": true
    },
    "kernelspec": {
      "display_name": "Python 3",
      "name": "python3"
    },
    "language_info": {
      "name": "python"
    }
  },
  "nbformat": 4,
  "nbformat_minor": 0
}